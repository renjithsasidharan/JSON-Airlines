{
  "nbformat": 4,
  "nbformat_minor": 0,
  "metadata": {
    "accelerator": "GPU",
    "colab": {
      "name": "transformer_combo.ipynb",
      "provenance": [],
      "collapsed_sections": [],
      "include_colab_link": true
    },
    "kernelspec": {
      "display_name": "Python 3",
      "language": "python",
      "name": "python3"
    },
    "language_info": {
      "codemirror_mode": {
        "name": "ipython",
        "version": 3
      },
      "file_extension": ".py",
      "mimetype": "text/x-python",
      "name": "python",
      "nbconvert_exporter": "python",
      "pygments_lexer": "ipython3",
      "version": "3.6.10"
    },
    "pycharm": {
      "stem_cell": {
        "cell_type": "raw",
        "metadata": {
          "collapsed": false
        },
        "source": []
      }
    },
    "toc": {
      "base_numbering": 1,
      "nav_menu": {
        "height": "359px",
        "width": "160px"
      },
      "number_sections": true,
      "sideBar": true,
      "skip_h1_title": false,
      "title_cell": "Table of Contents",
      "title_sidebar": "Contents",
      "toc_cell": false,
      "toc_position": {},
      "toc_section_display": true,
      "toc_window_display": true
    },
    "widgets": {
      "application/vnd.jupyter.widget-state+json": {
        "303799afa5e449008b0cee8aaf4f594d": {
          "model_module": "@jupyter-widgets/controls",
          "model_name": "HBoxModel",
          "state": {
            "_view_name": "HBoxView",
            "_dom_classes": [],
            "_model_name": "HBoxModel",
            "_view_module": "@jupyter-widgets/controls",
            "_model_module_version": "1.5.0",
            "_view_count": null,
            "_view_module_version": "1.5.0",
            "box_style": "",
            "layout": "IPY_MODEL_3db39f9896674cccaf8e887ed86429a7",
            "_model_module": "@jupyter-widgets/controls",
            "children": [
              "IPY_MODEL_1be5f6ff8d614fccb0d0852e4b98937b",
              "IPY_MODEL_48f38c0c4a4a40f59e2bb666ac60b260"
            ]
          }
        },
        "3db39f9896674cccaf8e887ed86429a7": {
          "model_module": "@jupyter-widgets/base",
          "model_name": "LayoutModel",
          "state": {
            "_view_name": "LayoutView",
            "grid_template_rows": null,
            "right": null,
            "justify_content": null,
            "_view_module": "@jupyter-widgets/base",
            "overflow": null,
            "_model_module_version": "1.2.0",
            "_view_count": null,
            "flex_flow": null,
            "width": null,
            "min_width": null,
            "border": null,
            "align_items": null,
            "bottom": null,
            "_model_module": "@jupyter-widgets/base",
            "top": null,
            "grid_column": null,
            "overflow_y": null,
            "overflow_x": null,
            "grid_auto_flow": null,
            "grid_area": null,
            "grid_template_columns": null,
            "flex": null,
            "_model_name": "LayoutModel",
            "justify_items": null,
            "grid_row": null,
            "max_height": null,
            "align_content": null,
            "visibility": null,
            "align_self": null,
            "height": null,
            "min_height": null,
            "padding": null,
            "grid_auto_rows": null,
            "grid_gap": null,
            "max_width": null,
            "order": null,
            "_view_module_version": "1.2.0",
            "grid_template_areas": null,
            "object_position": null,
            "object_fit": null,
            "grid_auto_columns": null,
            "margin": null,
            "display": null,
            "left": null
          }
        },
        "1be5f6ff8d614fccb0d0852e4b98937b": {
          "model_module": "@jupyter-widgets/controls",
          "model_name": "FloatProgressModel",
          "state": {
            "_view_name": "ProgressView",
            "style": "IPY_MODEL_bf518af2ff5b49dcab27b6c22afc0225",
            "_dom_classes": [],
            "description": "100%",
            "_model_name": "FloatProgressModel",
            "bar_style": "",
            "max": 2000,
            "_view_module": "@jupyter-widgets/controls",
            "_model_module_version": "1.5.0",
            "value": 2000,
            "_view_count": null,
            "_view_module_version": "1.5.0",
            "orientation": "horizontal",
            "min": 0,
            "description_tooltip": null,
            "_model_module": "@jupyter-widgets/controls",
            "layout": "IPY_MODEL_af8d9a20fa464a6dbf716582957ffc8e"
          }
        },
        "48f38c0c4a4a40f59e2bb666ac60b260": {
          "model_module": "@jupyter-widgets/controls",
          "model_name": "HTMLModel",
          "state": {
            "_view_name": "HTMLView",
            "style": "IPY_MODEL_edf7928d9c1e42a1b17f895a43fe8aac",
            "_dom_classes": [],
            "description": "",
            "_model_name": "HTMLModel",
            "placeholder": "​",
            "_view_module": "@jupyter-widgets/controls",
            "_model_module_version": "1.5.0",
            "value": " 2000/2000 [30:21&lt;00:00,  1.13it/s]",
            "_view_count": null,
            "_view_module_version": "1.5.0",
            "description_tooltip": null,
            "_model_module": "@jupyter-widgets/controls",
            "layout": "IPY_MODEL_2db29f5a3f43416299ccbc8362d70959"
          }
        },
        "bf518af2ff5b49dcab27b6c22afc0225": {
          "model_module": "@jupyter-widgets/controls",
          "model_name": "ProgressStyleModel",
          "state": {
            "_view_name": "StyleView",
            "_model_name": "ProgressStyleModel",
            "description_width": "initial",
            "_view_module": "@jupyter-widgets/base",
            "_model_module_version": "1.5.0",
            "_view_count": null,
            "_view_module_version": "1.2.0",
            "bar_color": null,
            "_model_module": "@jupyter-widgets/controls"
          }
        },
        "af8d9a20fa464a6dbf716582957ffc8e": {
          "model_module": "@jupyter-widgets/base",
          "model_name": "LayoutModel",
          "state": {
            "_view_name": "LayoutView",
            "grid_template_rows": null,
            "right": null,
            "justify_content": null,
            "_view_module": "@jupyter-widgets/base",
            "overflow": null,
            "_model_module_version": "1.2.0",
            "_view_count": null,
            "flex_flow": null,
            "width": null,
            "min_width": null,
            "border": null,
            "align_items": null,
            "bottom": null,
            "_model_module": "@jupyter-widgets/base",
            "top": null,
            "grid_column": null,
            "overflow_y": null,
            "overflow_x": null,
            "grid_auto_flow": null,
            "grid_area": null,
            "grid_template_columns": null,
            "flex": null,
            "_model_name": "LayoutModel",
            "justify_items": null,
            "grid_row": null,
            "max_height": null,
            "align_content": null,
            "visibility": null,
            "align_self": null,
            "height": null,
            "min_height": null,
            "padding": null,
            "grid_auto_rows": null,
            "grid_gap": null,
            "max_width": null,
            "order": null,
            "_view_module_version": "1.2.0",
            "grid_template_areas": null,
            "object_position": null,
            "object_fit": null,
            "grid_auto_columns": null,
            "margin": null,
            "display": null,
            "left": null
          }
        },
        "edf7928d9c1e42a1b17f895a43fe8aac": {
          "model_module": "@jupyter-widgets/controls",
          "model_name": "DescriptionStyleModel",
          "state": {
            "_view_name": "StyleView",
            "_model_name": "DescriptionStyleModel",
            "description_width": "",
            "_view_module": "@jupyter-widgets/base",
            "_model_module_version": "1.5.0",
            "_view_count": null,
            "_view_module_version": "1.2.0",
            "_model_module": "@jupyter-widgets/controls"
          }
        },
        "2db29f5a3f43416299ccbc8362d70959": {
          "model_module": "@jupyter-widgets/base",
          "model_name": "LayoutModel",
          "state": {
            "_view_name": "LayoutView",
            "grid_template_rows": null,
            "right": null,
            "justify_content": null,
            "_view_module": "@jupyter-widgets/base",
            "overflow": null,
            "_model_module_version": "1.2.0",
            "_view_count": null,
            "flex_flow": null,
            "width": null,
            "min_width": null,
            "border": null,
            "align_items": null,
            "bottom": null,
            "_model_module": "@jupyter-widgets/base",
            "top": null,
            "grid_column": null,
            "overflow_y": null,
            "overflow_x": null,
            "grid_auto_flow": null,
            "grid_area": null,
            "grid_template_columns": null,
            "flex": null,
            "_model_name": "LayoutModel",
            "justify_items": null,
            "grid_row": null,
            "max_height": null,
            "align_content": null,
            "visibility": null,
            "align_self": null,
            "height": null,
            "min_height": null,
            "padding": null,
            "grid_auto_rows": null,
            "grid_gap": null,
            "max_width": null,
            "order": null,
            "_view_module_version": "1.2.0",
            "grid_template_areas": null,
            "object_position": null,
            "object_fit": null,
            "grid_auto_columns": null,
            "margin": null,
            "display": null,
            "left": null
          }
        }
      }
    }
  },
  "cells": [
    {
      "cell_type": "markdown",
      "metadata": {
        "id": "view-in-github",
        "colab_type": "text"
      },
      "source": [
        "<a href=\"https://colab.research.google.com/github/renjithsasidharan/JSON-Airlines/blob/master/transformer_combo.ipynb\" target=\"_parent\"><img src=\"https://colab.research.google.com/assets/colab-badge.svg\" alt=\"Open In Colab\"/></a>"
      ]
    },
    {
      "cell_type": "code",
      "metadata": {
        "colab_type": "code",
        "id": "bWfG3BLaOcjN",
        "outputId": "401dd066-9386-46bf-c450-75f33f5045d8",
        "colab": {
          "base_uri": "https://localhost:8080/",
          "height": 122
        }
      },
      "source": [
        "from google.colab import drive\n",
        "drive.mount('/content/drive', force_remount=True)"
      ],
      "execution_count": 1,
      "outputs": [
        {
          "output_type": "stream",
          "text": [
            "Go to this URL in a browser: https://accounts.google.com/o/oauth2/auth?client_id=947318989803-6bn6qk8qdgf4n4g3pfee6491hc0brc4i.apps.googleusercontent.com&redirect_uri=urn%3aietf%3awg%3aoauth%3a2.0%3aoob&response_type=code&scope=email%20https%3a%2f%2fwww.googleapis.com%2fauth%2fdocs.test%20https%3a%2f%2fwww.googleapis.com%2fauth%2fdrive%20https%3a%2f%2fwww.googleapis.com%2fauth%2fdrive.photos.readonly%20https%3a%2f%2fwww.googleapis.com%2fauth%2fpeopleapi.readonly\n",
            "\n",
            "Enter your authorization code:\n",
            "··········\n",
            "Mounted at /content/drive\n"
          ],
          "name": "stdout"
        }
      ]
    },
    {
      "cell_type": "code",
      "metadata": {
        "colab_type": "code",
        "id": "0zJjX6ljOYHW",
        "outputId": "81548120-8c6d-4470-e09b-cc93f585f49c",
        "colab": {
          "base_uri": "https://localhost:8080/",
          "height": 952
        }
      },
      "source": [
        "!unzip ./drive/My\\ Drive/training_data/er_transformer/training_14_as_12_seq_nums.zip\n",
        "!cp -r ./training_14_as_12_seq_nums/* ./"
      ],
      "execution_count": 2,
      "outputs": [
        {
          "output_type": "stream",
          "text": [
            "Archive:  ./drive/My Drive/training_data/er_transformer/training_14_as_12_seq_nums.zip\n",
            "   creating: training_14_as_12_seq_nums/\n",
            "  inflating: training_14_as_12_seq_nums/transformer_dates.py  \n",
            "  inflating: training_14_as_12_seq_nums/eval.tsv  \n",
            "  inflating: training_14_as_12_seq_nums/ocr_text.py  \n",
            "  inflating: training_14_as_12_seq_nums/.DS_Store  \n",
            "   creating: __MACOSX/\n",
            "   creating: __MACOSX/training_14_as_12_seq_nums/\n",
            "  inflating: __MACOSX/training_14_as_12_seq_nums/._.DS_Store  \n",
            "  inflating: training_14_as_12_seq_nums/train.tsv.ocr.subwords  \n",
            "  inflating: training_14_as_12_seq_nums/transformer_dates.ipynb  \n",
            "  inflating: training_14_as_12_seq_nums/create_eval_data.py  \n",
            "  inflating: __MACOSX/training_14_as_12_seq_nums/._create_eval_data.py  \n",
            "  inflating: training_14_as_12_seq_nums/train.tsv  \n",
            "  inflating: training_14_as_12_seq_nums/create_training_data_test.py  \n",
            "  inflating: training_14_as_12_seq_nums/config.json  \n",
            "  inflating: training_14_as_12_seq_nums/augmentation.py  \n",
            "  inflating: __MACOSX/training_14_as_12_seq_nums/._augmentation.py  \n",
            "   creating: training_14_as_12_seq_nums/checkpoints/\n",
            "   creating: training_14_as_12_seq_nums/checkpoints/train/\n",
            "  inflating: training_14_as_12_seq_nums/checkpoints/train/.DS_Store  \n",
            "   creating: __MACOSX/training_14_as_12_seq_nums/checkpoints/\n",
            "   creating: __MACOSX/training_14_as_12_seq_nums/checkpoints/train/\n",
            "  inflating: __MACOSX/training_14_as_12_seq_nums/checkpoints/train/._.DS_Store  \n",
            "  inflating: __MACOSX/training_14_as_12_seq_nums/checkpoints/._train  \n",
            "  inflating: __MACOSX/training_14_as_12_seq_nums/._checkpoints  \n",
            "   creating: training_14_as_12_seq_nums/__pycache__/\n",
            "  inflating: training_14_as_12_seq_nums/__pycache__/augmentation.cpython-37.pyc  \n",
            "  inflating: training_14_as_12_seq_nums/__pycache__/augmentation.cpython-36.pyc  \n",
            "  inflating: training_14_as_12_seq_nums/__pycache__/training_helper.cpython-36.pyc  \n",
            "  inflating: training_14_as_12_seq_nums/__pycache__/ocr_text.cpython-37.pyc  \n",
            "  inflating: training_14_as_12_seq_nums/__pycache__/ocr_text.cpython-36.pyc  \n",
            "  inflating: training_14_as_12_seq_nums/currency_classes.json  \n",
            "  inflating: training_14_as_12_seq_nums/data.json  \n",
            "  inflating: training_14_as_12_seq_nums/abbyy_ocr.ipynb  \n",
            "  inflating: training_14_as_12_seq_nums/train.tsv.date.subwords  \n",
            "  inflating: __MACOSX/training_14_as_12_seq_nums/._train.tsv.date.subwords  \n",
            "  inflating: training_14_as_12_seq_nums/.rsyncignore  \n",
            "  inflating: training_14_as_12_seq_nums/test.tsv  \n",
            "  inflating: training_14_as_12_seq_nums/transformer_dates_amounts.ipynb  \n",
            "  inflating: __MACOSX/training_14_as_12_seq_nums/._transformer_dates_amounts.ipynb  \n",
            "  inflating: training_14_as_12_seq_nums/combo.weights.12.h5  \n",
            "  inflating: __MACOSX/training_14_as_12_seq_nums/._combo.weights.12.h5  \n",
            "  inflating: training_14_as_12_seq_nums/country_classes.json  \n",
            "   creating: training_14_as_12_seq_nums/.ipynb_checkpoints/\n",
            "  inflating: training_14_as_12_seq_nums/.ipynb_checkpoints/transformer_combo-checkpoint.ipynb  \n",
            "  inflating: training_14_as_12_seq_nums/.ipynb_checkpoints/abbyy_ocr-checkpoint.ipynb  \n",
            "  inflating: training_14_as_12_seq_nums/.ipynb_checkpoints/transformer_dates-checkpoint.ipynb  \n",
            "  inflating: training_14_as_12_seq_nums/.ipynb_checkpoints/transformer_dates_amounts-checkpoint.ipynb  \n",
            "   creating: training_14_as_12_seq_nums/.vscode/\n",
            "  inflating: training_14_as_12_seq_nums/.vscode/launch.json  \n",
            "  inflating: training_14_as_12_seq_nums/create_training_data.py  \n",
            "  inflating: training_14_as_12_seq_nums/transformer_combo.ipynb  \n",
            "  inflating: __MACOSX/training_14_as_12_seq_nums/._transformer_combo.ipynb  \n",
            "  inflating: training_14_as_12_seq_nums/analyze_logs.py  \n"
          ],
          "name": "stdout"
        }
      ]
    },
    {
      "cell_type": "code",
      "metadata": {
        "colab_type": "code",
        "id": "bJieQZPgCrdG",
        "colab": {}
      },
      "source": [
        "!rm -rf ./checkpoints/train/*"
      ],
      "execution_count": 0,
      "outputs": []
    },
    {
      "cell_type": "code",
      "metadata": {
        "id": "Q66QCGEuxO16",
        "colab_type": "code",
        "colab": {
          "base_uri": "https://localhost:8080/",
          "height": 122
        },
        "outputId": "18e3836a-8b24-4cf6-aea3-3ac43f9f2530"
      },
      "source": [
        "!pip install -q pyonmttok"
      ],
      "execution_count": 5,
      "outputs": [
        {
          "output_type": "stream",
          "text": [
            "Collecting pyonmttok\n",
            "\u001b[?25l  Downloading https://files.pythonhosted.org/packages/08/20/3c57198ffe690b580fbf23d33d5000eb411862e60e4bb6853b61dc989187/pyonmttok-1.18.3-cp36-cp36m-manylinux1_x86_64.whl (2.2MB)\n",
            "\u001b[K     |████████████████████████████████| 2.2MB 4.9MB/s \n",
            "\u001b[?25hInstalling collected packages: pyonmttok\n",
            "Successfully installed pyonmttok-1.18.3\n"
          ],
          "name": "stdout"
        }
      ]
    },
    {
      "cell_type": "markdown",
      "metadata": {
        "colab_type": "text",
        "id": "J0Qjg6vuaHNt"
      },
      "source": [
        "# Transformer model for language understanding"
      ]
    },
    {
      "cell_type": "code",
      "metadata": {
        "ExecuteTime": {
          "end_time": "2019-11-10T06:32:21.831641Z",
          "start_time": "2019-11-10T06:32:19.420135Z"
        },
        "colab_type": "code",
        "id": "JjJJyJTZYebt",
        "pycharm": {
          "is_executing": false
        },
        "colab": {}
      },
      "source": [
        "from __future__ import absolute_import, division, print_function, unicode_literals\n",
        "\n",
        "try:\n",
        "  %tensorflow_version 2.x\n",
        "except Exception:\n",
        "  pass\n",
        "import tensorflow_datasets as tfds\n",
        "import tensorflow as tf\n",
        "\n",
        "import json\n",
        "import time\n",
        "import os\n",
        "import re\n",
        "import numpy as np\n",
        "import matplotlib.pyplot as plt\n",
        "import pyonmttok\n",
        "import pandas as pd\n"
      ],
      "execution_count": 0,
      "outputs": []
    },
    {
      "cell_type": "code",
      "metadata": {
        "ExecuteTime": {
          "end_time": "2019-11-10T06:32:21.837459Z",
          "start_time": "2019-11-10T06:32:21.833884Z"
        },
        "colab_type": "code",
        "id": "y7hAaZD7uYZa",
        "outputId": "ddc383e7-28e3-437b-fb10-b8e71b6f8ece",
        "pycharm": {
          "is_executing": false
        },
        "colab": {
          "base_uri": "https://localhost:8080/",
          "height": 34
        }
      },
      "source": [
        "print(tf.__version__)"
      ],
      "execution_count": 8,
      "outputs": [
        {
          "output_type": "stream",
          "text": [
            "2.2.0\n"
          ],
          "name": "stdout"
        }
      ]
    },
    {
      "cell_type": "markdown",
      "metadata": {
        "colab_type": "text",
        "id": "fd1NWMxjfsDd"
      },
      "source": [
        "## Setup input pipeline"
      ]
    },
    {
      "cell_type": "code",
      "metadata": {
        "ExecuteTime": {
          "end_time": "2019-11-10T06:32:21.842399Z",
          "start_time": "2019-11-10T06:32:21.839958Z"
        },
        "colab_type": "code",
        "id": "w4cXX4eKuYZh",
        "pycharm": {
          "is_executing": false
        },
        "colab": {}
      },
      "source": [
        "train_file_path='./train.tsv'\n",
        "test_file_path='./test.tsv'"
      ],
      "execution_count": 0,
      "outputs": []
    },
    {
      "cell_type": "code",
      "metadata": {
        "id": "0yD_0WyRpgQY",
        "colab_type": "code",
        "colab": {}
      },
      "source": [
        "def load_currency_classes():\n",
        "    with open('currency_classes.json') as f:\n",
        "        currency_classes = json.load(f)\n",
        "    return currency_classes\n",
        "\n",
        "def load_country_classes():\n",
        "    with open('country_classes.json') as f:\n",
        "        country_classes = json.load(f)\n",
        "    return country_classes\n",
        "\n",
        "\n",
        "def encode_label(label, classes):\n",
        "    label_encoded = np.zeros(len(classes))\n",
        "    label_encoded[classes.index(label)] = 1\n",
        "    return label_encoded"
      ],
      "execution_count": 0,
      "outputs": []
    },
    {
      "cell_type": "code",
      "metadata": {
        "id": "YzwDutTMxFMJ",
        "colab_type": "code",
        "colab": {}
      },
      "source": [
        "def preprocess(x):\n",
        "    t, _ = tokenizer_pre.tokenize(x)\n",
        "    return \" \".join(t)\n",
        "\n",
        "tokenizer_pre = pyonmttok.Tokenizer(\"aggressive\", joiner_annotate=True, segment_numbers=True)"
      ],
      "execution_count": 0,
      "outputs": []
    },
    {
      "cell_type": "code",
      "metadata": {
        "ExecuteTime": {
          "end_time": "2019-11-10T06:32:23.718935Z",
          "start_time": "2019-11-10T06:32:21.844334Z"
        },
        "colab_type": "code",
        "id": "89PSUjtfuYZj",
        "pycharm": {
          "is_executing": false
        },
        "colab": {}
      },
      "source": [
        "\n",
        "currency_classes = load_currency_classes()\n",
        "country_classes = load_country_classes()\n",
        "\n",
        "training_df = pd.read_csv(train_file_path,\n",
        "                          sep='\\t',\n",
        "                          float_precision='round_trip',\n",
        "                          dtype={'amount': str,\n",
        "                                 'date': str,\n",
        "                                 'country': str,\n",
        "                                 'currency': str,\n",
        "                                 'ocr_text': object})\n",
        "\n",
        "testing_df = pd.read_csv(test_file_path,\n",
        "                          sep='\\t',\n",
        "                          dtype={'amount': str,\n",
        "                                 'date': str,\n",
        "                                 'country': str,\n",
        "                                 'currency': str,\n",
        "                                 'ocr_text': object})\n",
        "\n",
        "training_df[\"ocr_text\"] = training_df[\"ocr_text\"].apply(lambda x: x.lower())\n",
        "testing_df[\"ocr_text\"] = testing_df[\"ocr_text\"].apply(lambda x: x.lower())\n",
        "\n",
        "training_df[\"ocr_text\"] = training_df[\"ocr_text\"].apply(lambda x: preprocess(x))\n",
        "training_df[\"amount\"] = training_df[\"amount\"].apply(lambda x: preprocess(x))\n",
        "training_df[\"date\"] = training_df[\"date\"].apply(lambda x: preprocess(x))\n",
        "testing_df[\"ocr_text\"] = testing_df[\"ocr_text\"].apply(lambda x: preprocess(x))\n",
        "testing_df[\"amount\"] = testing_df[\"amount\"].apply(lambda x: preprocess(x))\n",
        "testing_df[\"date\"] = testing_df[\"date\"].apply(lambda x: preprocess(x))\n",
        "\n",
        "training_examples = (\n",
        "    tf.data.Dataset.from_tensor_slices(\n",
        "        (\n",
        "            tf.cast(training_df['ocr_text'].values, tf.string),\n",
        "            tf.cast(training_df['amount'].values, tf.string),\n",
        "            tf.cast(training_df['date'].values, tf.string),\n",
        "            tf.cast(training_df['country'].apply(lambda x: country_classes.index(x)).values, tf.int32)\n",
        "        )\n",
        "    )\n",
        ")\n",
        "\n",
        "\n",
        "val_examples = (\n",
        "    tf.data.Dataset.from_tensor_slices(\n",
        "        (\n",
        "            tf.cast(testing_df['ocr_text'].values, tf.string),\n",
        "            tf.cast(testing_df['amount'].values, tf.string),\n",
        "            tf.cast(testing_df['date'].values, tf.string),\n",
        "            tf.cast(testing_df['country'].apply(lambda x: country_classes.index(x)).values, tf.int32)\n",
        "        )\n",
        "    )\n",
        ")\n"
      ],
      "execution_count": 0,
      "outputs": []
    },
    {
      "cell_type": "code",
      "metadata": {
        "id": "hQ8M43tSjMkx",
        "colab_type": "code",
        "colab": {}
      },
      "source": [
        "NUM_COUNTRY_CLASSES = len(country_classes)\n",
        "NUM_CURRENCY_CLASSES = len(currency_classes)"
      ],
      "execution_count": 0,
      "outputs": []
    },
    {
      "cell_type": "markdown",
      "metadata": {
        "colab_type": "text",
        "id": "RCEKotqosGfq"
      },
      "source": [
        "Create a custom subwords tokenizer from the training dataset. "
      ]
    },
    {
      "cell_type": "code",
      "metadata": {
        "ExecuteTime": {
          "end_time": "2019-11-10T06:32:23.812888Z",
          "start_time": "2019-11-10T06:32:23.720666Z"
        },
        "colab_type": "code",
        "id": "KVBg5Q8tBk5z",
        "outputId": "8b7f2c3a-9c1d-45a0-e245-9791c8e6bdcc",
        "pycharm": {
          "is_executing": false
        },
        "colab": {
          "base_uri": "https://localhost:8080/",
          "height": 68
        }
      },
      "source": [
        "print(\"{}.ocr.subwords\".format(train_file_path))\n",
        "if os.path.isfile(\"{}.ocr.subwords\".format(train_file_path)):\n",
        "  print('Loading input tokenizer from disk')\n",
        "  tokenizer_ocr = tfds.features.text.SubwordTextEncoder.load_from_file(train_file_path + \".ocr\")\n",
        "else:\n",
        "  print('Creating new tokenizer from training set')\n",
        "  tokenizer_ocr = tfds.features.text.SubwordTextEncoder.build_from_corpus(\n",
        "      (ocr.numpy() for ocr, _, _, _ in training_examples), target_vocab_size=2**13)\n",
        "  tokenizer_ocr.save_to_file(train_file_path + \".ocr\")\n",
        "print(tokenizer_ocr.vocab_size)"
      ],
      "execution_count": 16,
      "outputs": [
        {
          "output_type": "stream",
          "text": [
            "./train.tsv.ocr.subwords\n",
            "Loading input tokenizer from disk\n",
            "32835\n"
          ],
          "name": "stdout"
        }
      ]
    },
    {
      "cell_type": "code",
      "metadata": {
        "ExecuteTime": {
          "end_time": "2019-11-10T06:32:42.021201Z",
          "start_time": "2019-11-10T06:32:23.814923Z"
        },
        "colab_type": "code",
        "id": "-jxOS89-uYZp",
        "pycharm": {
          "is_executing": false
        },
        "colab": {}
      },
      "source": [
        "tokenizer_date = tfds.features.text.SubwordTextEncoder.build_from_corpus(\n",
        "    (date.numpy() for _, _, date, _ in training_examples), target_vocab_size=2**9)\n",
        "tokenizer_date.save_to_file(train_file_path + \".date\")"
      ],
      "execution_count": 0,
      "outputs": []
    },
    {
      "cell_type": "code",
      "metadata": {
        "colab_type": "code",
        "id": "u0mYFVU5OMVe",
        "colab": {}
      },
      "source": [
        "tokenizer_amount = tfds.features.text.SubwordTextEncoder.build_from_corpus(\n",
        "    (amount.numpy() for _, amount, _, _ in training_examples), target_vocab_size=2**9)\n",
        "tokenizer_amount.save_to_file(train_file_path + \".amount\")"
      ],
      "execution_count": 0,
      "outputs": []
    },
    {
      "cell_type": "code",
      "metadata": {
        "colab_type": "code",
        "id": "YlV1E42iCVzg",
        "colab": {}
      },
      "source": [
        "tokenizer_amount = tokenizer_ocr"
      ],
      "execution_count": 0,
      "outputs": []
    },
    {
      "cell_type": "code",
      "metadata": {
        "ExecuteTime": {
          "end_time": "2019-11-10T06:32:42.026527Z",
          "start_time": "2019-11-10T06:32:42.023029Z"
        },
        "colab_type": "code",
        "id": "VTiBw2AsOMVg",
        "outputId": "c6f62bce-1bf7-4cdb-db7b-797d673e169b",
        "pycharm": {
          "is_executing": false
        },
        "colab": {
          "base_uri": "https://localhost:8080/",
          "height": 68
        }
      },
      "source": [
        "date_str = \"13/11/2019\"\n",
        "print('Original date {}'.format(date_str))\n",
        "print('Tokenized date {}'.format(tokenizer_date.encode(date_str)))\n",
        "print('Tokens {}'.format([tokenizer_date.decode([x]) for x in tokenizer_date.encode(date_str)]))"
      ],
      "execution_count": 20,
      "outputs": [
        {
          "output_type": "stream",
          "text": [
            "Original date 13/11/2019\n",
            "Tokenized date [52, 54, 50, 52, 52, 50, 53, 51, 52, 60]\n",
            "Tokens ['1', '3', '/', '1', '1', '/', '2', '0', '1', '9']\n"
          ],
          "name": "stdout"
        }
      ]
    },
    {
      "cell_type": "code",
      "metadata": {
        "colab_type": "code",
        "id": "MxO2Zpl8OMVj",
        "outputId": "aa5f2b6f-aad9-4e34-d81f-06b7faf18fa4",
        "colab": {
          "base_uri": "https://localhost:8080/",
          "height": 68
        }
      },
      "source": [
        "amount_str = \"2185.90\"\n",
        "print('Original amount {}'.format(amount_str))\n",
        "print('Tokenized amount {}'.format(tokenizer_amount.encode(amount_str)))\n",
        "print('Tokens {}'.format([tokenizer_amount.decode([x]) for x in tokenizer_amount.encode(amount_str)]))"
      ],
      "execution_count": 21,
      "outputs": [
        {
          "output_type": "stream",
          "text": [
            "Original amount 2185.90\n",
            "Tokenized amount [32629, 32628, 32635, 32632, 32625, 32636, 32627]\n",
            "Tokens ['2', '1', '8', '5', '.', '9', '0']\n"
          ],
          "name": "stdout"
        }
      ]
    },
    {
      "cell_type": "code",
      "metadata": {
        "ExecuteTime": {
          "end_time": "2019-11-10T06:32:42.035344Z",
          "start_time": "2019-11-10T06:32:42.029953Z"
        },
        "colab_type": "code",
        "id": "4DYWukNFkGQN",
        "outputId": "1d3f4e8f-4018-4eb8-e649-833766143aa8",
        "pycharm": {
          "is_executing": false
        },
        "colab": {
          "base_uri": "https://localhost:8080/",
          "height": 88
        }
      },
      "source": [
        "sample_string = 'The target date is 13.11.2019 and amount is 199.55'\n",
        "\n",
        "tokenized_string = tokenizer_ocr.encode(sample_string)\n",
        "print ('Tokenized string is {}'.format(tokenized_string))\n",
        "\n",
        "original_string = tokenizer_ocr.decode(tokenized_string)\n",
        "print ('The original string: {}'.format(original_string))\n",
        "\n",
        "print('Tokens {}'.format([tokenizer_ocr.decode([x]) for x in tokenizer_ocr.encode(original_string)]))\n",
        "\n",
        "assert original_string == sample_string"
      ],
      "execution_count": 22,
      "outputs": [
        {
          "output_type": "stream",
          "text": [
            "Tokenized string is [32663, 1102, 20511, 93, 94, 233, 32628, 32630, 32625, 32628, 32628, 32625, 32629, 32627, 32628, 14, 209, 219, 233, 32628, 32636, 32636, 32625, 32632, 32632]\n",
            "The original string: The target date is 13.11.2019 and amount is 199.55\n",
            "Tokens ['T', 'he ', 'targ', 'et ', 'date ', 'is ', '1', '3', '.', '1', '1', '.', '2', '0', '1', '9 ', 'and ', 'amount ', 'is ', '1', '9', '9', '.', '5', '5']\n"
          ],
          "name": "stdout"
        }
      ]
    },
    {
      "cell_type": "code",
      "metadata": {
        "ExecuteTime": {
          "end_time": "2019-11-10T06:32:42.042778Z",
          "start_time": "2019-11-10T06:32:42.038651Z"
        },
        "colab_type": "code",
        "id": "sfY5_rr-CnVF",
        "outputId": "cb74fbf7-45ea-4fed-92e5-389acd97a5ab",
        "pycharm": {
          "is_executing": false
        },
        "colab": {
          "base_uri": "https://localhost:8080/",
          "height": 68
        }
      },
      "source": [
        "print(tokenizer_amount.vocab_size)\n",
        "print(tokenizer_date.vocab_size)\n",
        "print(tokenizer_ocr.vocab_size)"
      ],
      "execution_count": 23,
      "outputs": [
        {
          "output_type": "stream",
          "text": [
            "32835\n",
            "259\n",
            "32835\n"
          ],
          "name": "stdout"
        }
      ]
    },
    {
      "cell_type": "markdown",
      "metadata": {
        "colab_type": "text",
        "id": "o9KJWJjrsZ4Y"
      },
      "source": [
        "The tokenizer encodes the string by breaking it into subwords if the word is not in its dictionary."
      ]
    },
    {
      "cell_type": "code",
      "metadata": {
        "ExecuteTime": {
          "end_time": "2019-11-10T06:32:42.051074Z",
          "start_time": "2019-11-10T06:32:42.045507Z"
        },
        "colab_type": "code",
        "id": "bf2ntBxjkqK6",
        "outputId": "5047e88d-7f20-4070-809d-c49b8054c733",
        "pycharm": {
          "is_executing": false
        },
        "colab": {
          "base_uri": "https://localhost:8080/",
          "height": 442
        }
      },
      "source": [
        "for ts in tokenized_string:\n",
        "  print ('{} ----> {}'.format(ts, tokenizer_ocr.decode([ts])))"
      ],
      "execution_count": 24,
      "outputs": [
        {
          "output_type": "stream",
          "text": [
            "32663 ----> T\n",
            "1102 ----> he \n",
            "20511 ----> targ\n",
            "93 ----> et \n",
            "94 ----> date \n",
            "233 ----> is \n",
            "32628 ----> 1\n",
            "32630 ----> 3\n",
            "32625 ----> .\n",
            "32628 ----> 1\n",
            "32628 ----> 1\n",
            "32625 ----> .\n",
            "32629 ----> 2\n",
            "32627 ----> 0\n",
            "32628 ----> 1\n",
            "14 ----> 9 \n",
            "209 ----> and \n",
            "219 ----> amount \n",
            "233 ----> is \n",
            "32628 ----> 1\n",
            "32636 ----> 9\n",
            "32636 ----> 9\n",
            "32625 ----> .\n",
            "32632 ----> 5\n",
            "32632 ----> 5\n"
          ],
          "name": "stdout"
        }
      ]
    },
    {
      "cell_type": "code",
      "metadata": {
        "ExecuteTime": {
          "end_time": "2019-11-10T06:32:42.056061Z",
          "start_time": "2019-11-10T06:32:42.053148Z"
        },
        "colab_type": "code",
        "id": "bcRp7VcQ5m6g",
        "pycharm": {
          "is_executing": false
        },
        "colab": {}
      },
      "source": [
        "BUFFER_SIZE = 20000\n",
        "BATCH_SIZE = 64"
      ],
      "execution_count": 0,
      "outputs": []
    },
    {
      "cell_type": "markdown",
      "metadata": {
        "colab_type": "text",
        "id": "kGi4PoVakxdc"
      },
      "source": [
        "Add a start and end token to the input and target. "
      ]
    },
    {
      "cell_type": "code",
      "metadata": {
        "ExecuteTime": {
          "end_time": "2019-11-10T06:32:42.062005Z",
          "start_time": "2019-11-10T06:32:42.057738Z"
        },
        "colab_type": "code",
        "id": "UZwnPr4R055s",
        "pycharm": {
          "is_executing": false
        },
        "colab": {}
      },
      "source": [
        "def encode(ocr_param, amount_param, date_param, country_param, num_country_classes):\n",
        "  ocr = [tokenizer_ocr.vocab_size] + tokenizer_ocr.encode(\n",
        "      ocr_param.numpy()) + [tokenizer_ocr.vocab_size+1]\n",
        "\n",
        "  date = [tokenizer_date.vocab_size] + tokenizer_date.encode(\n",
        "      date_param.numpy()) + [tokenizer_date.vocab_size+1]\n",
        "    \n",
        "  amount = [tokenizer_amount.vocab_size] + tokenizer_amount.encode(\n",
        "      amount_param.numpy()) + [tokenizer_amount.vocab_size+1]\n",
        "    \n",
        "  country = tf.one_hot(country_param, num_country_classes)\n",
        "  \n",
        "  return ocr, amount, date, country"
      ],
      "execution_count": 0,
      "outputs": []
    },
    {
      "cell_type": "markdown",
      "metadata": {
        "colab_type": "text",
        "id": "6JrGp5Gek6Ql"
      },
      "source": [
        "Note: To keep this example small and relatively fast, drop examples with a length of over 40 tokens."
      ]
    },
    {
      "cell_type": "code",
      "metadata": {
        "ExecuteTime": {
          "end_time": "2019-11-10T06:32:42.067042Z",
          "start_time": "2019-11-10T06:32:42.064342Z"
        },
        "colab_type": "code",
        "id": "2QEgbjntk6Yf",
        "pycharm": {
          "is_executing": false
        },
        "colab": {}
      },
      "source": [
        "MAX_LENGTH = 800"
      ],
      "execution_count": 0,
      "outputs": []
    },
    {
      "cell_type": "code",
      "metadata": {
        "ExecuteTime": {
          "end_time": "2019-11-10T06:32:42.072228Z",
          "start_time": "2019-11-10T06:32:42.069216Z"
        },
        "colab_type": "code",
        "id": "c081xPGv1CPI",
        "pycharm": {
          "is_executing": false
        },
        "colab": {}
      },
      "source": [
        "def filter_max_length(x, y1, y2, y3, max_length=MAX_LENGTH):\n",
        "  return tf.logical_and(tf.logical_and(tf.size(x) <= max_length,\n",
        "                        tf.size(y1) <= max_length), tf.size(y2) <= max_length)"
      ],
      "execution_count": 0,
      "outputs": []
    },
    {
      "cell_type": "markdown",
      "metadata": {
        "colab_type": "text",
        "id": "Tx1sFbR-9fRs"
      },
      "source": [
        "Operations inside `.map()` run in graph mode and receive a graph tensor that do not have a numpy attribute. The `tokenizer` expects a string or Unicode symbol to encode it into integers. Hence, you need to run the encoding inside a `tf.py_function`, which receives an eager tensor having a numpy attribute that contains the string value."
      ]
    },
    {
      "cell_type": "code",
      "metadata": {
        "ExecuteTime": {
          "end_time": "2019-11-10T06:32:42.077875Z",
          "start_time": "2019-11-10T06:32:42.074724Z"
        },
        "colab_type": "code",
        "id": "Mah1cS-P70Iz",
        "pycharm": {
          "is_executing": false
        },
        "colab": {}
      },
      "source": [
        "def tf_encode(ocr, amount, date, country):\n",
        "  num_country_classes = len(country_classes)  \n",
        "  return tf.py_function(encode,\n",
        "                        [ocr, amount, date, country, num_country_classes],\n",
        "                        [tf.int64, tf.int64, tf.int64, tf.float32])"
      ],
      "execution_count": 0,
      "outputs": []
    },
    {
      "cell_type": "code",
      "metadata": {
        "ExecuteTime": {
          "end_time": "2019-11-10T06:32:42.088195Z",
          "start_time": "2019-11-10T06:32:42.079882Z"
        },
        "colab_type": "code",
        "id": "8iWeIrANuYZ9",
        "outputId": "1aacb48f-df2c-4480-951b-110322e34bd2",
        "pycharm": {
          "is_executing": false
        },
        "colab": {
          "base_uri": "https://localhost:8080/",
          "height": 34
        }
      },
      "source": [
        "training_examples"
      ],
      "execution_count": 30,
      "outputs": [
        {
          "output_type": "execute_result",
          "data": {
            "text/plain": [
              "<TensorSliceDataset shapes: ((), (), (), ()), types: (tf.string, tf.string, tf.string, tf.int32)>"
            ]
          },
          "metadata": {
            "tags": []
          },
          "execution_count": 30
        }
      ]
    },
    {
      "cell_type": "code",
      "metadata": {
        "ExecuteTime": {
          "end_time": "2019-11-10T06:32:42.368141Z",
          "start_time": "2019-11-10T06:32:42.089872Z"
        },
        "colab_type": "code",
        "id": "9mk9AZdZ5bcS",
        "pycharm": {
          "is_executing": false
        },
        "colab": {}
      },
      "source": [
        "train_dataset = training_examples \\\n",
        "                .map(tf_encode) \\\n",
        "                .filter(filter_max_length) \\\n",
        "                .cache() \\\n",
        "                .shuffle(BUFFER_SIZE) \\\n",
        "                .padded_batch(BATCH_SIZE, padded_shapes=([-1], [-1], [-1], [-1])) \\\n",
        "                .prefetch(tf.data.experimental.AUTOTUNE) \\\n",
        "\n",
        "valid_dataset = val_examples \\\n",
        "                .map(tf_encode) \\\n",
        "                .filter(filter_max_length) \\\n",
        "                .padded_batch(BATCH_SIZE, padded_shapes=([-1], [-1], [-1], [-1]))"
      ],
      "execution_count": 0,
      "outputs": []
    },
    {
      "cell_type": "markdown",
      "metadata": {
        "colab_type": "text",
        "id": "nBQuibYA4n0n"
      },
      "source": [
        "## Positional encoding\n",
        "\n",
        "Since this model doesn't contain any recurrence or convolution, positional encoding is added to give the model some information about the relative position of the words in the sentence. \n",
        "\n",
        "The positional encoding vector is added to the embedding vector. Embeddings represent a token in a d-dimensional space where tokens with similar meaning will be closer to each other. But the embeddings do not encode the relative position of words in a sentence. So after adding the positional encoding, words will be closer to each other based on the *similarity of their meaning and their position in the sentence*, in the d-dimensional space.\n",
        "\n",
        "See the notebook on [positional encoding](https://github.com/tensorflow/examples/blob/master/community/en/position_encoding.ipynb) to learn more about it. The formula for calculating the positional encoding is as follows:\n",
        "\n",
        "$$\\Large{PE_{(pos, 2i)} = sin(pos / 10000^{2i / d_{model}})} $$\n",
        "$$\\Large{PE_{(pos, 2i+1)} = cos(pos / 10000^{2i / d_{model}})} $$"
      ]
    },
    {
      "cell_type": "code",
      "metadata": {
        "ExecuteTime": {
          "end_time": "2019-11-10T06:32:42.372964Z",
          "start_time": "2019-11-10T06:32:42.369990Z"
        },
        "colab_type": "code",
        "id": "WhIOZjMNKujn",
        "pycharm": {
          "is_executing": false
        },
        "colab": {}
      },
      "source": [
        "def get_angles(pos, i, d_model):\n",
        "  angle_rates = 1 / np.power(10000, (2 * (i//2)) / np.float32(d_model))\n",
        "  return pos * angle_rates"
      ],
      "execution_count": 0,
      "outputs": []
    },
    {
      "cell_type": "code",
      "metadata": {
        "ExecuteTime": {
          "end_time": "2019-11-10T06:32:42.379237Z",
          "start_time": "2019-11-10T06:32:42.374655Z"
        },
        "colab_type": "code",
        "id": "1Rz82wEs5biZ",
        "pycharm": {
          "is_executing": false
        },
        "colab": {}
      },
      "source": [
        "def positional_encoding(position, d_model):\n",
        "  angle_rads = get_angles(np.arange(position)[:, np.newaxis],\n",
        "                          np.arange(d_model)[np.newaxis, :],\n",
        "                          d_model)\n",
        "  \n",
        "  # apply sin to even indices in the array; 2i\n",
        "  angle_rads[:, 0::2] = np.sin(angle_rads[:, 0::2])\n",
        "  \n",
        "  # apply cos to odd indices in the array; 2i+1\n",
        "  angle_rads[:, 1::2] = np.cos(angle_rads[:, 1::2])\n",
        "    \n",
        "  pos_encoding = angle_rads[np.newaxis, ...]\n",
        "    \n",
        "  return tf.cast(pos_encoding, dtype=tf.float32)"
      ],
      "execution_count": 0,
      "outputs": []
    },
    {
      "cell_type": "code",
      "metadata": {
        "ExecuteTime": {
          "end_time": "2019-11-10T06:32:42.622473Z",
          "start_time": "2019-11-10T06:32:42.381024Z"
        },
        "colab_type": "code",
        "id": "1kLCla68EloE",
        "outputId": "52da4a78-f894-4e53-da03-69414ddec070",
        "pycharm": {
          "is_executing": false
        },
        "colab": {
          "base_uri": "https://localhost:8080/",
          "height": 300
        }
      },
      "source": [
        "pos_encoding = positional_encoding(50, 512)\n",
        "print (pos_encoding.shape)\n",
        "\n",
        "plt.pcolormesh(pos_encoding[0], cmap='RdBu')\n",
        "plt.xlabel('Depth')\n",
        "plt.xlim((0, 512))\n",
        "plt.ylabel('Position')\n",
        "plt.colorbar()\n",
        "plt.show()"
      ],
      "execution_count": 34,
      "outputs": [
        {
          "output_type": "stream",
          "text": [
            "(1, 50, 512)\n"
          ],
          "name": "stdout"
        },
        {
          "output_type": "display_data",
          "data": {
            "image/png": "[encoded data removed]",
            "text/plain": [
              "<Figure size 432x288 with 2 Axes>"
            ]
          },
          "metadata": {
            "tags": [],
            "needs_background": "light"
          }
        }
      ]
    },
    {
      "cell_type": "markdown",
      "metadata": {
        "colab_type": "text",
        "id": "a_b4ou4TYqUN"
      },
      "source": [
        "## Masking"
      ]
    },
    {
      "cell_type": "markdown",
      "metadata": {
        "colab_type": "text",
        "id": "s42Uydjkv0hF"
      },
      "source": [
        "Mask all the pad tokens in the batch of sequence. It ensures that the model does not treat padding as the input. The mask indicates where pad value `0` is present: it outputs a `1` at those locations, and a `0` otherwise."
      ]
    },
    {
      "cell_type": "code",
      "metadata": {
        "ExecuteTime": {
          "end_time": "2019-11-10T06:32:42.627869Z",
          "start_time": "2019-11-10T06:32:42.624456Z"
        },
        "colab_type": "code",
        "id": "U2i8-e1s8ti9",
        "pycharm": {
          "is_executing": false
        },
        "colab": {}
      },
      "source": [
        "def create_padding_mask(seq):\n",
        "  seq = tf.cast(tf.math.equal(seq, 0), tf.float32)\n",
        "  \n",
        "  # add extra dimensions to add the padding\n",
        "  # to the attention logits.\n",
        "  return seq[:, tf.newaxis, tf.newaxis, :]  # (batch_size, 1, 1, seq_len)"
      ],
      "execution_count": 0,
      "outputs": []
    },
    {
      "cell_type": "code",
      "metadata": {
        "ExecuteTime": {
          "end_time": "2019-11-10T06:32:42.635845Z",
          "start_time": "2019-11-10T06:32:42.629584Z"
        },
        "colab_type": "code",
        "id": "A7BYeBCNvi7n",
        "outputId": "d639082d-ce68-45aa-c1c4-493591342e4c",
        "pycharm": {
          "is_executing": false
        },
        "colab": {
          "base_uri": "https://localhost:8080/",
          "height": 153
        }
      },
      "source": [
        "x = tf.constant([[7, 6, 0, 0, 1], [1, 2, 3, 0, 0], [0, 0, 0, 4, 5]])\n",
        "create_padding_mask(x)"
      ],
      "execution_count": 36,
      "outputs": [
        {
          "output_type": "execute_result",
          "data": {
            "text/plain": [
              "<tf.Tensor: shape=(3, 1, 1, 5), dtype=float32, numpy=\n",
              "array([[[[0., 0., 1., 1., 0.]]],\n",
              "\n",
              "\n",
              "       [[[0., 0., 0., 1., 1.]]],\n",
              "\n",
              "\n",
              "       [[[1., 1., 1., 0., 0.]]]], dtype=float32)>"
            ]
          },
          "metadata": {
            "tags": []
          },
          "execution_count": 36
        }
      ]
    },
    {
      "cell_type": "markdown",
      "metadata": {
        "colab_type": "text",
        "id": "Z0hzukDBgVom"
      },
      "source": [
        "The look-ahead mask is used to mask the future tokens in a sequence. In other words, the mask indicates which entries should not be used.\n",
        "\n",
        "This means that to predict the third word, only the first and second word will be used. Similarly to predict the fourth word, only the first, second and the third word will be used and so on."
      ]
    },
    {
      "cell_type": "code",
      "metadata": {
        "ExecuteTime": {
          "end_time": "2019-11-10T06:32:42.643086Z",
          "start_time": "2019-11-10T06:32:42.639838Z"
        },
        "colab_type": "code",
        "id": "dVxS8OPI9uI0",
        "pycharm": {
          "is_executing": false
        },
        "colab": {}
      },
      "source": [
        "def create_look_ahead_mask(size):\n",
        "  mask = 1 - tf.linalg.band_part(tf.ones((size, size)), -1, 0)\n",
        "  return mask  # (seq_len, seq_len)"
      ],
      "execution_count": 0,
      "outputs": []
    },
    {
      "cell_type": "code",
      "metadata": {
        "ExecuteTime": {
          "start_time": "2019-11-10T06:32:19.481Z"
        },
        "colab_type": "code",
        "id": "yxKGuXxaBeeE",
        "outputId": "592d5003-1ab6-4385-cc4e-094ba0e3376b",
        "pycharm": {
          "is_executing": false
        },
        "colab": {
          "base_uri": "https://localhost:8080/",
          "height": 85
        }
      },
      "source": [
        "x = tf.random.uniform((1, 3))\n",
        "temp = create_look_ahead_mask(x.shape[1])\n",
        "temp"
      ],
      "execution_count": 38,
      "outputs": [
        {
          "output_type": "execute_result",
          "data": {
            "text/plain": [
              "<tf.Tensor: shape=(3, 3), dtype=float32, numpy=\n",
              "array([[0., 1., 1.],\n",
              "       [0., 0., 1.],\n",
              "       [0., 0., 0.]], dtype=float32)>"
            ]
          },
          "metadata": {
            "tags": []
          },
          "execution_count": 38
        }
      ]
    },
    {
      "cell_type": "markdown",
      "metadata": {
        "colab_type": "text",
        "id": "xluDl5cXYy4y"
      },
      "source": [
        "## Scaled dot product attention"
      ]
    },
    {
      "cell_type": "markdown",
      "metadata": {
        "colab_type": "text",
        "id": "vsxEE_-Wa1gF"
      },
      "source": [
        "<img src=\"https://www.tensorflow.org/images/tutorials/transformer/scaled_attention.png\" width=\"500\" alt=\"scaled_dot_product_attention\">\n",
        "\n",
        "The attention function used by the transformer takes three inputs: Q (query), K (key), V (value). The equation used to calculate the attention weights is:\n",
        "\n",
        "$$\\Large{Attention(Q, K, V) = softmax_k(\\frac{QK^T}{\\sqrt{d_k}}) V} $$\n",
        "\n",
        "The dot-product attention is scaled by a factor of square root of the depth. This is done because for large values of depth, the dot product grows large in magnitude pushing the softmax function where it has small gradients resulting in a very hard softmax. \n",
        "\n",
        "For example, consider that `Q` and `K` have a mean of 0 and variance of 1. Their matrix multiplication will have a mean of 0 and variance of `dk`. Hence, *square root of `dk`* is used for scaling (and not any other number) because the matmul of `Q` and `K` should have a mean of 0 and variance of 1, and you get a gentler softmax.\n",
        "\n",
        "The mask is multiplied with -1e9 (close to negative infinity). This is done because the mask is summed with the scaled matrix multiplication of Q and K and is applied immediately before a softmax. The goal is to zero out these cells, and large negative inputs to softmax are near zero in the output."
      ]
    },
    {
      "cell_type": "code",
      "metadata": {
        "ExecuteTime": {
          "start_time": "2019-11-10T06:32:19.485Z"
        },
        "colab_type": "code",
        "id": "LazzUq3bJ5SH",
        "pycharm": {
          "is_executing": false
        },
        "colab": {}
      },
      "source": [
        "def scaled_dot_product_attention(q, k, v, mask):\n",
        "  \"\"\"Calculate the attention weights.\n",
        "  q, k, v must have matching leading dimensions.\n",
        "  k, v must have matching penultimate dimension, i.e.: seq_len_k = seq_len_v.\n",
        "  The mask has different shapes depending on its type(padding or look ahead) \n",
        "  but it must be broadcastable for addition.\n",
        "  \n",
        "  Args:\n",
        "    q: query shape == (..., seq_len_q, depth)\n",
        "    k: key shape == (..., seq_len_k, depth)\n",
        "    v: value shape == (..., seq_len_v, depth_v)\n",
        "    mask: Float tensor with shape broadcastable \n",
        "          to (..., seq_len_q, seq_len_k). Defaults to None.\n",
        "    \n",
        "  Returns:\n",
        "    output, attention_weights\n",
        "  \"\"\"\n",
        "\n",
        "  matmul_qk = tf.matmul(q, k, transpose_b=True)  # (..., seq_len_q, seq_len_k)\n",
        "  \n",
        "  # scale matmul_qk\n",
        "  dk = tf.cast(tf.shape(k)[-1], tf.float32)\n",
        "  scaled_attention_logits = matmul_qk / tf.math.sqrt(dk)\n",
        "\n",
        "  # add the mask to the scaled tensor.\n",
        "  if mask is not None:\n",
        "    scaled_attention_logits += (mask * -1e9)  \n",
        "\n",
        "  # softmax is normalized on the last axis (seq_len_k) so that the scores\n",
        "  # add up to 1.\n",
        "  attention_weights = tf.nn.softmax(scaled_attention_logits, axis=-1)  # (..., seq_len_q, seq_len_k)\n",
        "\n",
        "  output = tf.matmul(attention_weights, v)  # (..., seq_len_q, depth_v)\n",
        "\n",
        "  return output, attention_weights"
      ],
      "execution_count": 0,
      "outputs": []
    },
    {
      "cell_type": "markdown",
      "metadata": {
        "colab_type": "text",
        "id": "FiqETnhCkoXh"
      },
      "source": [
        "As the softmax normalization is done on K, its values decide the amount of importance given to Q.\n",
        "\n",
        "The output represents the multiplication of the attention weights and the V (value) vector. This ensures that the words you want to focus on are kept as-is and the irrelevant words are flushed out."
      ]
    },
    {
      "cell_type": "code",
      "metadata": {
        "ExecuteTime": {
          "start_time": "2019-11-10T06:32:19.488Z"
        },
        "colab_type": "code",
        "id": "n90YjClyInFy",
        "pycharm": {
          "is_executing": false
        },
        "colab": {}
      },
      "source": [
        "def print_out(q, k, v):\n",
        "  temp_out, temp_attn = scaled_dot_product_attention(\n",
        "      q, k, v, None)\n",
        "  print ('Attention weights are:')\n",
        "  print (temp_attn)\n",
        "  print ('Output is:')\n",
        "  print (temp_out)"
      ],
      "execution_count": 0,
      "outputs": []
    },
    {
      "cell_type": "code",
      "metadata": {
        "ExecuteTime": {
          "start_time": "2019-11-10T06:32:19.491Z"
        },
        "colab_type": "code",
        "id": "yAzUAf2DPlNt",
        "outputId": "30a152a1-f4c0-4728-cbe0-a1a6b9a63c1b",
        "pycharm": {
          "is_executing": false
        },
        "colab": {
          "base_uri": "https://localhost:8080/",
          "height": 85
        }
      },
      "source": [
        "np.set_printoptions(suppress=True)\n",
        "\n",
        "temp_k = tf.constant([[10,0,0],\n",
        "                      [0,10,0],\n",
        "                      [0,0,10],\n",
        "                      [0,0,10]], dtype=tf.float32)  # (4, 3)\n",
        "\n",
        "temp_v = tf.constant([[   1,0],\n",
        "                      [  10,0],\n",
        "                      [ 100,5],\n",
        "                      [1000,6]], dtype=tf.float32)  # (4, 2)\n",
        "\n",
        "# This `query` aligns with the second `key`,\n",
        "# so the second `value` is returned.\n",
        "temp_q = tf.constant([[0, 10, 0]], dtype=tf.float32)  # (1, 3)\n",
        "print_out(temp_q, temp_k, temp_v)"
      ],
      "execution_count": 41,
      "outputs": [
        {
          "output_type": "stream",
          "text": [
            "Attention weights are:\n",
            "tf.Tensor([[0. 1. 0. 0.]], shape=(1, 4), dtype=float32)\n",
            "Output is:\n",
            "tf.Tensor([[10.  0.]], shape=(1, 2), dtype=float32)\n"
          ],
          "name": "stdout"
        }
      ]
    },
    {
      "cell_type": "code",
      "metadata": {
        "ExecuteTime": {
          "start_time": "2019-11-10T06:32:19.494Z"
        },
        "colab_type": "code",
        "id": "zg6k-fGhgXra",
        "outputId": "1c864669-b2d0-44a5-a962-db82efc7b06e",
        "pycharm": {
          "is_executing": false
        },
        "colab": {
          "base_uri": "https://localhost:8080/",
          "height": 85
        }
      },
      "source": [
        "# This query aligns with a repeated key (third and fourth), \n",
        "# so all associated values get averaged.\n",
        "temp_q = tf.constant([[0, 0, 10]], dtype=tf.float32)  # (1, 3)\n",
        "print_out(temp_q, temp_k, temp_v)"
      ],
      "execution_count": 42,
      "outputs": [
        {
          "output_type": "stream",
          "text": [
            "Attention weights are:\n",
            "tf.Tensor([[0.  0.  0.5 0.5]], shape=(1, 4), dtype=float32)\n",
            "Output is:\n",
            "tf.Tensor([[550.    5.5]], shape=(1, 2), dtype=float32)\n"
          ],
          "name": "stdout"
        }
      ]
    },
    {
      "cell_type": "code",
      "metadata": {
        "ExecuteTime": {
          "start_time": "2019-11-10T06:32:19.496Z"
        },
        "colab_type": "code",
        "id": "UAq3YOzUgXhb",
        "outputId": "a3d4ebef-9ee4-46cd-b754-37354c95f6e1",
        "pycharm": {
          "is_executing": false
        },
        "colab": {
          "base_uri": "https://localhost:8080/",
          "height": 85
        }
      },
      "source": [
        "# This query aligns equally with the first and second key, \n",
        "# so their values get averaged.\n",
        "temp_q = tf.constant([[10, 10, 0]], dtype=tf.float32)  # (1, 3)\n",
        "print_out(temp_q, temp_k, temp_v)"
      ],
      "execution_count": 43,
      "outputs": [
        {
          "output_type": "stream",
          "text": [
            "Attention weights are:\n",
            "tf.Tensor([[0.5 0.5 0.  0. ]], shape=(1, 4), dtype=float32)\n",
            "Output is:\n",
            "tf.Tensor([[5.5 0. ]], shape=(1, 2), dtype=float32)\n"
          ],
          "name": "stdout"
        }
      ]
    },
    {
      "cell_type": "markdown",
      "metadata": {
        "colab_type": "text",
        "id": "aOz-4_XIhaTP"
      },
      "source": [
        "Pass all the queries together."
      ]
    },
    {
      "cell_type": "code",
      "metadata": {
        "ExecuteTime": {
          "start_time": "2019-11-10T06:32:19.499Z"
        },
        "colab_type": "code",
        "id": "6dlU8Tm-hYrF",
        "outputId": "bf33e85d-a61e-4de5-bf9c-13a8dbb5ea01",
        "pycharm": {
          "is_executing": false
        },
        "colab": {
          "base_uri": "https://localhost:8080/",
          "height": 187
        }
      },
      "source": [
        "temp_q = tf.constant([[0, 0, 10], [0, 10, 0], [10, 10, 0]], dtype=tf.float32)  # (3, 3)\n",
        "print_out(temp_q, temp_k, temp_v)"
      ],
      "execution_count": 44,
      "outputs": [
        {
          "output_type": "stream",
          "text": [
            "Attention weights are:\n",
            "tf.Tensor(\n",
            "[[0.  0.  0.5 0.5]\n",
            " [0.  1.  0.  0. ]\n",
            " [0.5 0.5 0.  0. ]], shape=(3, 4), dtype=float32)\n",
            "Output is:\n",
            "tf.Tensor(\n",
            "[[550.    5.5]\n",
            " [ 10.    0. ]\n",
            " [  5.5   0. ]], shape=(3, 2), dtype=float32)\n"
          ],
          "name": "stdout"
        }
      ]
    },
    {
      "cell_type": "markdown",
      "metadata": {
        "colab_type": "text",
        "id": "kmzGPEy64qmA"
      },
      "source": [
        "## Multi-head attention"
      ]
    },
    {
      "cell_type": "markdown",
      "metadata": {
        "colab_type": "text",
        "id": "fz5BMC8Kaoqo"
      },
      "source": [
        "<img src=\"https://www.tensorflow.org/images/tutorials/transformer/multi_head_attention.png\" width=\"500\" alt=\"multi-head attention\">\n",
        "\n",
        "\n",
        "Multi-head attention consists of four parts:\n",
        "*    Linear layers and split into heads.\n",
        "*    Scaled dot-product attention.\n",
        "*    Concatenation of heads.\n",
        "*    Final linear layer."
      ]
    },
    {
      "cell_type": "markdown",
      "metadata": {
        "colab_type": "text",
        "id": "JPmbr6F1C-v_"
      },
      "source": [
        "Each multi-head attention block gets three inputs; Q (query), K (key), V (value). These are put through linear (Dense) layers and split up into multiple heads. \n",
        "\n",
        "The `scaled_dot_product_attention` defined above is applied to each head (broadcasted for efficiency). An appropriate mask must be used in the attention step.  The attention output for each head is then concatenated (using `tf.transpose`, and `tf.reshape`) and put through a final `Dense` layer.\n",
        "\n",
        "Instead of one single attention head, Q, K, and V are split into multiple heads because it allows the model to jointly attend to information at different positions from different representational spaces. After the split each head has a reduced dimensionality, so the total computation cost is the same as a single head attention with full dimensionality."
      ]
    },
    {
      "cell_type": "code",
      "metadata": {
        "ExecuteTime": {
          "start_time": "2019-11-10T06:32:19.503Z"
        },
        "colab_type": "code",
        "id": "BSV3PPKsYecw",
        "pycharm": {
          "is_executing": false
        },
        "colab": {}
      },
      "source": [
        "class MultiHeadAttention(tf.keras.layers.Layer):\n",
        "  def __init__(self, d_model, num_heads):\n",
        "    super(MultiHeadAttention, self).__init__()\n",
        "    self.num_heads = num_heads\n",
        "    self.d_model = d_model\n",
        "    \n",
        "    assert d_model % self.num_heads == 0\n",
        "    \n",
        "    self.depth = d_model // self.num_heads\n",
        "    \n",
        "    self.wq = tf.keras.layers.Dense(d_model)\n",
        "    self.wk = tf.keras.layers.Dense(d_model)\n",
        "    self.wv = tf.keras.layers.Dense(d_model)\n",
        "    \n",
        "    self.dense = tf.keras.layers.Dense(d_model)\n",
        "        \n",
        "  def split_heads(self, x, batch_size):\n",
        "    \"\"\"Split the last dimension into (num_heads, depth).\n",
        "    Transpose the result such that the shape is (batch_size, num_heads, seq_len, depth)\n",
        "    \"\"\"\n",
        "    x = tf.reshape(x, (batch_size, -1, self.num_heads, self.depth))\n",
        "    return tf.transpose(x, perm=[0, 2, 1, 3])\n",
        "    \n",
        "  def call(self, v, k, q, mask):\n",
        "    batch_size = tf.shape(q)[0]\n",
        "    \n",
        "    q = self.wq(q)  # (batch_size, seq_len, d_model)\n",
        "    k = self.wk(k)  # (batch_size, seq_len, d_model)\n",
        "    v = self.wv(v)  # (batch_size, seq_len, d_model)\n",
        "    \n",
        "    q = self.split_heads(q, batch_size)  # (batch_size, num_heads, seq_len_q, depth)\n",
        "    k = self.split_heads(k, batch_size)  # (batch_size, num_heads, seq_len_k, depth)\n",
        "    v = self.split_heads(v, batch_size)  # (batch_size, num_heads, seq_len_v, depth)\n",
        "    \n",
        "    # scaled_attention.shape == (batch_size, num_heads, seq_len_q, depth)\n",
        "    # attention_weights.shape == (batch_size, num_heads, seq_len_q, seq_len_k)\n",
        "    scaled_attention, attention_weights = scaled_dot_product_attention(\n",
        "        q, k, v, mask)\n",
        "    \n",
        "    scaled_attention = tf.transpose(scaled_attention, perm=[0, 2, 1, 3])  # (batch_size, seq_len_q, num_heads, depth)\n",
        "\n",
        "    concat_attention = tf.reshape(scaled_attention, \n",
        "                                  (batch_size, -1, self.d_model))  # (batch_size, seq_len_q, d_model)\n",
        "\n",
        "    output = self.dense(concat_attention)  # (batch_size, seq_len_q, d_model)\n",
        "        \n",
        "    return output, attention_weights"
      ],
      "execution_count": 0,
      "outputs": []
    },
    {
      "cell_type": "markdown",
      "metadata": {
        "colab_type": "text",
        "id": "0D8FJue5lDyZ"
      },
      "source": [
        "Create a `MultiHeadAttention` layer to try out. At each location in the sequence, `y`, the `MultiHeadAttention` runs all 8 attention heads across all other locations in the sequence, returning a new vector of the same length at each location."
      ]
    },
    {
      "cell_type": "code",
      "metadata": {
        "ExecuteTime": {
          "start_time": "2019-11-10T06:32:19.507Z"
        },
        "colab_type": "code",
        "id": "Hu94p-_-2_BX",
        "outputId": "1bb04d09-e0b8-41a1-fb58-c642c74ca73b",
        "pycharm": {
          "is_executing": false
        },
        "colab": {
          "base_uri": "https://localhost:8080/",
          "height": 34
        }
      },
      "source": [
        "temp_mha = MultiHeadAttention(d_model=512, num_heads=8)\n",
        "y = tf.random.uniform((1, 60, 512))  # (batch_size, encoder_sequence, d_model)\n",
        "out, attn = temp_mha(y, k=y, q=y, mask=None)\n",
        "out.shape, attn.shape"
      ],
      "execution_count": 46,
      "outputs": [
        {
          "output_type": "execute_result",
          "data": {
            "text/plain": [
              "(TensorShape([1, 60, 512]), TensorShape([1, 8, 60, 60]))"
            ]
          },
          "metadata": {
            "tags": []
          },
          "execution_count": 46
        }
      ]
    },
    {
      "cell_type": "markdown",
      "metadata": {
        "colab_type": "text",
        "id": "RdDqGayx67vv"
      },
      "source": [
        "## Point wise feed forward network"
      ]
    },
    {
      "cell_type": "markdown",
      "metadata": {
        "colab_type": "text",
        "id": "gBqzJXGfHK3X"
      },
      "source": [
        "Point wise feed forward network consists of two fully-connected layers with a ReLU activation in between."
      ]
    },
    {
      "cell_type": "code",
      "metadata": {
        "ExecuteTime": {
          "start_time": "2019-11-10T06:32:19.511Z"
        },
        "colab_type": "code",
        "id": "ET7xLt0yCT6Z",
        "pycharm": {
          "is_executing": false
        },
        "colab": {}
      },
      "source": [
        "def point_wise_feed_forward_network(d_model, dff):\n",
        "  return tf.keras.Sequential([\n",
        "      tf.keras.layers.Dense(dff, activation='relu'),  # (batch_size, seq_len, dff)\n",
        "      tf.keras.layers.Dense(d_model)  # (batch_size, seq_len, d_model)\n",
        "  ])"
      ],
      "execution_count": 0,
      "outputs": []
    },
    {
      "cell_type": "code",
      "metadata": {
        "ExecuteTime": {
          "start_time": "2019-11-10T06:32:19.514Z"
        },
        "colab_type": "code",
        "id": "mytb1lPyOHLB",
        "outputId": "97fd43d3-f4dc-423f-93a3-92d6c331e3a6",
        "pycharm": {
          "is_executing": false
        },
        "colab": {
          "base_uri": "https://localhost:8080/",
          "height": 34
        }
      },
      "source": [
        "sample_ffn = point_wise_feed_forward_network(512, 2048)\n",
        "sample_ffn(tf.random.uniform((64, 50, 512))).shape"
      ],
      "execution_count": 48,
      "outputs": [
        {
          "output_type": "execute_result",
          "data": {
            "text/plain": [
              "TensorShape([64, 50, 512])"
            ]
          },
          "metadata": {
            "tags": []
          },
          "execution_count": 48
        }
      ]
    },
    {
      "cell_type": "markdown",
      "metadata": {
        "colab_type": "text",
        "id": "7e7hKcxn6-zd"
      },
      "source": [
        "## Encoder and decoder"
      ]
    },
    {
      "cell_type": "markdown",
      "metadata": {
        "colab_type": "text",
        "id": "yScbC0MUH8dS"
      },
      "source": [
        "<img src=\"https://www.tensorflow.org/images/tutorials/transformer/transformer.png\" width=\"600\" alt=\"transformer\">"
      ]
    },
    {
      "cell_type": "markdown",
      "metadata": {
        "colab_type": "text",
        "id": "MfYJG-Kvgwy2"
      },
      "source": [
        "The transformer model follows the same general pattern as a standard [sequence to sequence with attention model](nmt_with_attention.ipynb). \n",
        "\n",
        "* The input sentence is passed through `N` encoder layers that generates an output for each word/token in the sequence.\n",
        "* The decoder attends on the encoder's output and its own input (self-attention) to predict the next word. "
      ]
    },
    {
      "cell_type": "markdown",
      "metadata": {
        "colab_type": "text",
        "id": "QFv-FNYUmvpn"
      },
      "source": [
        "### Encoder layer\n",
        "\n",
        "Each encoder layer consists of sublayers:\n",
        "\n",
        "1.   Multi-head attention (with padding mask) \n",
        "2.    Point wise feed forward networks. \n",
        "\n",
        "Each of these sublayers has a residual connection around it followed by a layer normalization. Residual connections help in avoiding the vanishing gradient problem in deep networks.\n",
        "\n",
        "The output of each sublayer is `LayerNorm(x + Sublayer(x))`. The normalization is done on the `d_model` (last) axis. There are N encoder layers in the transformer."
      ]
    },
    {
      "cell_type": "code",
      "metadata": {
        "ExecuteTime": {
          "start_time": "2019-11-10T06:32:19.519Z"
        },
        "colab_type": "code",
        "id": "ncyS-Ms3i2x_",
        "pycharm": {
          "is_executing": false
        },
        "colab": {}
      },
      "source": [
        "class EncoderLayer(tf.keras.layers.Layer):\n",
        "  def __init__(self, d_model, num_heads, dff, rate=0.1):\n",
        "    super(EncoderLayer, self).__init__()\n",
        "\n",
        "    self.mha = MultiHeadAttention(d_model, num_heads)\n",
        "    self.ffn = point_wise_feed_forward_network(d_model, dff)\n",
        "\n",
        "    self.layernorm1 = tf.keras.layers.LayerNormalization(epsilon=1e-6)\n",
        "    self.layernorm2 = tf.keras.layers.LayerNormalization(epsilon=1e-6)\n",
        "    \n",
        "    self.dropout1 = tf.keras.layers.Dropout(rate)\n",
        "    self.dropout2 = tf.keras.layers.Dropout(rate)\n",
        "    \n",
        "  def call(self, x, training, mask):\n",
        "\n",
        "    attn_output, _ = self.mha(x, x, x, mask)  # (batch_size, input_seq_len, d_model)\n",
        "    attn_output = self.dropout1(attn_output, training=training)\n",
        "    out1 = self.layernorm1(x + attn_output)  # (batch_size, input_seq_len, d_model)\n",
        "    \n",
        "    ffn_output = self.ffn(out1)  # (batch_size, input_seq_len, d_model)\n",
        "    ffn_output = self.dropout2(ffn_output, training=training)\n",
        "    out2 = self.layernorm2(out1 + ffn_output)  # (batch_size, input_seq_len, d_model)\n",
        "    \n",
        "    return out2"
      ],
      "execution_count": 0,
      "outputs": []
    },
    {
      "cell_type": "code",
      "metadata": {
        "ExecuteTime": {
          "start_time": "2019-11-10T06:32:19.521Z"
        },
        "colab_type": "code",
        "id": "AzZRXdO0mI48",
        "outputId": "d6f1d397-1f99-42cc-a17b-85fdd153c583",
        "pycharm": {
          "is_executing": false
        },
        "colab": {
          "base_uri": "https://localhost:8080/",
          "height": 34
        }
      },
      "source": [
        "sample_encoder_layer = EncoderLayer(512, 8, 2048)\n",
        "\n",
        "sample_encoder_layer_output = sample_encoder_layer(\n",
        "    tf.random.uniform((64, 43, 512)), False, None)\n",
        "\n",
        "sample_encoder_layer_output.shape  # (batch_size, input_seq_len, d_model)"
      ],
      "execution_count": 50,
      "outputs": [
        {
          "output_type": "execute_result",
          "data": {
            "text/plain": [
              "TensorShape([64, 43, 512])"
            ]
          },
          "metadata": {
            "tags": []
          },
          "execution_count": 50
        }
      ]
    },
    {
      "cell_type": "markdown",
      "metadata": {
        "colab_type": "text",
        "id": "6LO_48Owmx_o"
      },
      "source": [
        "### Decoder layer\n",
        "\n",
        "Each decoder layer consists of sublayers:\n",
        "\n",
        "1.   Masked multi-head attention (with look ahead mask and padding mask)\n",
        "2.   Multi-head attention (with padding mask). V (value) and K (key) receive the *encoder output* as inputs. Q (query) receives the *output from the masked multi-head attention sublayer.*\n",
        "3.   Point wise feed forward networks\n",
        "\n",
        "Each of these sublayers has a residual connection around it followed by a layer normalization. The output of each sublayer is `LayerNorm(x + Sublayer(x))`. The normalization is done on the `d_model` (last) axis.\n",
        "\n",
        "There are N decoder layers in the transformer.\n",
        "\n",
        "As Q receives the output from decoder's first attention block, and K receives the encoder output, the attention weights represent the importance given to the decoder's input based on the encoder's output. In other words, the decoder predicts the next word by looking at the encoder output and self-attending to its own output. See the demonstration above in the scaled dot product attention section."
      ]
    },
    {
      "cell_type": "code",
      "metadata": {
        "ExecuteTime": {
          "start_time": "2019-11-10T06:32:19.524Z"
        },
        "colab_type": "code",
        "id": "9SoX0-vd1hue",
        "pycharm": {
          "is_executing": false
        },
        "colab": {}
      },
      "source": [
        "class DecoderLayer(tf.keras.layers.Layer):\n",
        "  def __init__(self, d_model, num_heads, dff, rate=0.1):\n",
        "    super(DecoderLayer, self).__init__()\n",
        "\n",
        "    self.mha1 = MultiHeadAttention(d_model, num_heads)\n",
        "    self.mha2 = MultiHeadAttention(d_model, num_heads)\n",
        "\n",
        "    self.ffn = point_wise_feed_forward_network(d_model, dff)\n",
        " \n",
        "    self.layernorm1 = tf.keras.layers.LayerNormalization(epsilon=1e-6)\n",
        "    self.layernorm2 = tf.keras.layers.LayerNormalization(epsilon=1e-6)\n",
        "    self.layernorm3 = tf.keras.layers.LayerNormalization(epsilon=1e-6)\n",
        "    \n",
        "    self.dropout1 = tf.keras.layers.Dropout(rate)\n",
        "    self.dropout2 = tf.keras.layers.Dropout(rate)\n",
        "    self.dropout3 = tf.keras.layers.Dropout(rate)\n",
        "    \n",
        "    \n",
        "  def call(self, x, enc_output, training, \n",
        "           look_ahead_mask, padding_mask):\n",
        "    # enc_output.shape == (batch_size, input_seq_len, d_model)\n",
        "\n",
        "    attn1, attn_weights_block1 = self.mha1(x, x, x, look_ahead_mask)  # (batch_size, target_seq_len, d_model)\n",
        "    attn1 = self.dropout1(attn1, training=training)\n",
        "    out1 = self.layernorm1(attn1 + x)\n",
        "    \n",
        "    attn2, attn_weights_block2 = self.mha2(\n",
        "        enc_output, enc_output, out1, padding_mask)  # (batch_size, target_seq_len, d_model)\n",
        "    attn2 = self.dropout2(attn2, training=training)\n",
        "    out2 = self.layernorm2(attn2 + out1)  # (batch_size, target_seq_len, d_model)\n",
        "    \n",
        "    ffn_output = self.ffn(out2)  # (batch_size, target_seq_len, d_model)\n",
        "    ffn_output = self.dropout3(ffn_output, training=training)\n",
        "    out3 = self.layernorm3(ffn_output + out2)  # (batch_size, target_seq_len, d_model)\n",
        "    \n",
        "    return out3, attn_weights_block1, attn_weights_block2"
      ],
      "execution_count": 0,
      "outputs": []
    },
    {
      "cell_type": "code",
      "metadata": {
        "ExecuteTime": {
          "start_time": "2019-11-10T06:32:19.527Z"
        },
        "colab_type": "code",
        "id": "Ne2Bqx8k71l0",
        "outputId": "0d2b9ee8-bb29-4368-8cb0-51750220c68d",
        "pycharm": {
          "is_executing": false
        },
        "colab": {
          "base_uri": "https://localhost:8080/",
          "height": 34
        }
      },
      "source": [
        "sample_decoder_layer = DecoderLayer(512, 8, 2048)\n",
        "\n",
        "sample_decoder_layer_output, _, _ = sample_decoder_layer(\n",
        "    tf.random.uniform((64, 50, 512)), sample_encoder_layer_output, \n",
        "    False, None, None)\n",
        "\n",
        "sample_decoder_layer_output.shape  # (batch_size, target_seq_len, d_model)"
      ],
      "execution_count": 52,
      "outputs": [
        {
          "output_type": "execute_result",
          "data": {
            "text/plain": [
              "TensorShape([64, 50, 512])"
            ]
          },
          "metadata": {
            "tags": []
          },
          "execution_count": 52
        }
      ]
    },
    {
      "cell_type": "markdown",
      "metadata": {
        "colab_type": "text",
        "id": "SE1H51Ajm0q1"
      },
      "source": [
        "### Encoder\n",
        "\n",
        "The `Encoder` consists of:\n",
        "1.   Input Embedding\n",
        "2.   Positional Encoding\n",
        "3.   N encoder layers\n",
        "\n",
        "The input is put through an embedding which is summed with the positional encoding. The output of this summation is the input to the encoder layers. The output of the encoder is the input to the decoder."
      ]
    },
    {
      "cell_type": "code",
      "metadata": {
        "ExecuteTime": {
          "start_time": "2019-11-10T06:32:19.530Z"
        },
        "colab_type": "code",
        "id": "jpEox7gJ8FCI",
        "pycharm": {
          "is_executing": false
        },
        "colab": {}
      },
      "source": [
        "class Encoder(tf.keras.layers.Layer):\n",
        "  def __init__(self, num_layers, d_model, num_heads, dff, input_vocab_size,\n",
        "               maximum_position_encoding, rate=0.1):\n",
        "    super(Encoder, self).__init__()\n",
        "\n",
        "    self.d_model = d_model\n",
        "    self.num_layers = num_layers\n",
        "    \n",
        "    self.embedding = tf.keras.layers.Embedding(input_vocab_size, d_model)\n",
        "    self.pos_encoding = positional_encoding(maximum_position_encoding, \n",
        "                                            self.d_model)\n",
        "    \n",
        "    \n",
        "    self.enc_layers = [EncoderLayer(d_model, num_heads, dff, rate) \n",
        "                       for _ in range(num_layers)]\n",
        "  \n",
        "    self.dropout = tf.keras.layers.Dropout(rate)\n",
        "        \n",
        "  def call(self, x, training, mask):\n",
        "\n",
        "    seq_len = tf.shape(x)[1]\n",
        "    \n",
        "    # adding embedding and position encoding.\n",
        "    x = self.embedding(x)  # (batch_size, input_seq_len, d_model)\n",
        "    x *= tf.math.sqrt(tf.cast(self.d_model, tf.float32))\n",
        "    x += self.pos_encoding[:, :seq_len, :]\n",
        "\n",
        "    x = self.dropout(x, training=training)\n",
        "    \n",
        "    for i in range(self.num_layers):\n",
        "      x = self.enc_layers[i](x, training, mask)\n",
        "    \n",
        "    return x  # (batch_size, input_seq_len, d_model)"
      ],
      "execution_count": 0,
      "outputs": []
    },
    {
      "cell_type": "code",
      "metadata": {
        "ExecuteTime": {
          "start_time": "2019-11-10T06:32:19.533Z"
        },
        "colab_type": "code",
        "id": "8QG9nueFQKXx",
        "outputId": "819a4b28-bb77-4163-9110-8b55af970e17",
        "pycharm": {
          "is_executing": false
        },
        "colab": {
          "base_uri": "https://localhost:8080/",
          "height": 34
        }
      },
      "source": [
        "sample_encoder = Encoder(num_layers=2, d_model=512, num_heads=8, \n",
        "                         dff=2048, input_vocab_size=8500,\n",
        "                         maximum_position_encoding=10000)\n",
        "\n",
        "sample_encoder_output = sample_encoder(tf.random.uniform((64, 62)), \n",
        "                                       training=False, mask=None)\n",
        "\n",
        "print (sample_encoder_output.shape)  # (batch_size, input_seq_len, d_model)"
      ],
      "execution_count": 54,
      "outputs": [
        {
          "output_type": "stream",
          "text": [
            "(64, 62, 512)\n"
          ],
          "name": "stdout"
        }
      ]
    },
    {
      "cell_type": "markdown",
      "metadata": {
        "colab_type": "text",
        "id": "p-uO6ls8m2O5"
      },
      "source": [
        "### Decoder"
      ]
    },
    {
      "cell_type": "markdown",
      "metadata": {
        "colab_type": "text",
        "id": "ZtT7PKzrXkNr"
      },
      "source": [
        " The `Decoder` consists of:\n",
        "1.   Output Embedding\n",
        "2.   Positional Encoding\n",
        "3.   N decoder layers\n",
        "\n",
        "The target is put through an embedding which is summed with the positional encoding. The output of this summation is the input to the decoder layers. The output of the decoder is the input to the final linear layer."
      ]
    },
    {
      "cell_type": "code",
      "metadata": {
        "ExecuteTime": {
          "start_time": "2019-11-10T06:32:19.537Z"
        },
        "colab_type": "code",
        "id": "d5_d5-PLQXwY",
        "pycharm": {
          "is_executing": false
        },
        "colab": {}
      },
      "source": [
        "class Decoder(tf.keras.layers.Layer):\n",
        "  def __init__(self, num_layers, d_model, num_heads, dff, target_vocab_size,\n",
        "               maximum_position_encoding, rate=0.1):\n",
        "    super(Decoder, self).__init__()\n",
        "\n",
        "    self.d_model = d_model\n",
        "    self.num_layers = num_layers\n",
        "    \n",
        "    self.embedding = tf.keras.layers.Embedding(target_vocab_size, d_model)\n",
        "\n",
        "    self.pos_encoding = positional_encoding(maximum_position_encoding, d_model)\n",
        "    \n",
        "    self.dec_layers = [DecoderLayer(d_model, num_heads, dff, rate) \n",
        "                       for _ in range(num_layers)]\n",
        "    self.dropout = tf.keras.layers.Dropout(rate)\n",
        "    \n",
        "  def call(self, x, enc_output, training, \n",
        "           look_ahead_mask, padding_mask):\n",
        "\n",
        "    seq_len = tf.shape(x)[1]\n",
        "    attention_weights = {}\n",
        "    \n",
        "    x = self.embedding(x)  # (batch_size, target_seq_len, d_model)\n",
        "    x *= tf.math.sqrt(tf.cast(self.d_model, tf.float32))\n",
        "    x += self.pos_encoding[:, :seq_len, :]\n",
        "    \n",
        "    x = self.dropout(x, training=training)\n",
        "\n",
        "    for i in range(self.num_layers):\n",
        "      x, block1, block2 = self.dec_layers[i](x, enc_output, training,\n",
        "                                             look_ahead_mask, padding_mask)\n",
        "      \n",
        "      attention_weights['decoder_layer{}_block1'.format(i+1)] = block1\n",
        "      attention_weights['decoder_layer{}_block2'.format(i+1)] = block2\n",
        "    \n",
        "    # x.shape == (batch_size, target_seq_len, d_model)\n",
        "    return x, attention_weights"
      ],
      "execution_count": 0,
      "outputs": []
    },
    {
      "cell_type": "code",
      "metadata": {
        "ExecuteTime": {
          "start_time": "2019-11-10T06:32:19.540Z"
        },
        "colab_type": "code",
        "id": "a1jXoAMRZyvu",
        "outputId": "aee20668-b407-447b-f96b-d06d3cfc3676",
        "pycharm": {
          "is_executing": false
        },
        "colab": {
          "base_uri": "https://localhost:8080/",
          "height": 34
        }
      },
      "source": [
        "sample_decoder = Decoder(num_layers=2, d_model=512, num_heads=8, \n",
        "                         dff=2048, target_vocab_size=8000,\n",
        "                         maximum_position_encoding=5000)\n",
        "\n",
        "output, attn = sample_decoder(tf.random.uniform((64, 26)), \n",
        "                              enc_output=sample_encoder_output, \n",
        "                              training=False, look_ahead_mask=None, \n",
        "                              padding_mask=None)\n",
        "\n",
        "output.shape, attn['decoder_layer2_block2'].shape"
      ],
      "execution_count": 56,
      "outputs": [
        {
          "output_type": "execute_result",
          "data": {
            "text/plain": [
              "(TensorShape([64, 26, 512]), TensorShape([64, 8, 26, 62]))"
            ]
          },
          "metadata": {
            "tags": []
          },
          "execution_count": 56
        }
      ]
    },
    {
      "cell_type": "markdown",
      "metadata": {
        "id": "HmFVzdhqpgSR",
        "colab_type": "text"
      },
      "source": [
        "### Classifier"
      ]
    },
    {
      "cell_type": "code",
      "metadata": {
        "id": "BUrwMC03pgSR",
        "colab_type": "code",
        "colab": {}
      },
      "source": [
        "class Classifier(tf.keras.layers.Layer):\n",
        "  def __init__(self, name, num_classes, num_hidden_layers=128, rate=0.1):\n",
        "    super(Classifier, self).__init__()\n",
        "\n",
        "    self.pooling = tf.keras.layers.GlobalAveragePooling1D()\n",
        "    self.dropout = tf.keras.layers.Dropout(rate)\n",
        "    self.hidden_layer = tf.keras.layers.Dense(num_hidden_layers, activation=\"relu\")\n",
        "    self.final_layer = tf.keras.layers.Dense(num_classes, name=name, activation=\"softmax\")\n",
        "\n",
        "  def call(self, enc_output, training):\n",
        "    x = self.pooling(enc_output)\n",
        "    x = self.dropout(x, training=training)\n",
        "    x = self.hidden_layer(x)\n",
        "    y = self.final_layer(x)\n",
        "\n",
        "    return y"
      ],
      "execution_count": 0,
      "outputs": []
    },
    {
      "cell_type": "markdown",
      "metadata": {
        "colab_type": "text",
        "id": "y54xnJnuYgJ7"
      },
      "source": [
        "## Create the Transformer"
      ]
    },
    {
      "cell_type": "markdown",
      "metadata": {
        "colab_type": "text",
        "id": "uERO1y54cOKq"
      },
      "source": [
        "Transformer consists of the encoder, decoder and a final linear layer. The output of the decoder is the input to the linear layer and its output is returned."
      ]
    },
    {
      "cell_type": "code",
      "metadata": {
        "ExecuteTime": {
          "start_time": "2019-11-10T06:32:19.543Z"
        },
        "colab_type": "code",
        "id": "PED3bIpOYkBu",
        "pycharm": {
          "is_executing": false
        },
        "colab": {}
      },
      "source": [
        "class Transformer(tf.keras.Model):\n",
        "  def __init__(self,\n",
        "               num_layers,\n",
        "               d_model,\n",
        "               num_heads,\n",
        "               dff,\n",
        "               input_vocab_size, \n",
        "               target_vocab_size_dt,\n",
        "               target_vocab_size_amt,\n",
        "               pe_input,\n",
        "               pe_target_dt,\n",
        "               pe_target_amt,\n",
        "               num_country_classes,\n",
        "               rate=0.1):\n",
        "    super(Transformer, self).__init__()\n",
        "\n",
        "    self.encoder = Encoder(num_layers, d_model, num_heads, dff, \n",
        "                           input_vocab_size, pe_input, rate)\n",
        "\n",
        "    self.decoder_dt = Decoder(num_layers, d_model, num_heads, dff, \n",
        "                           target_vocab_size_dt, pe_target_dt, rate)\n",
        "    \n",
        "    self.decoder_amt = Decoder(num_layers, d_model, num_heads, dff, \n",
        "                           target_vocab_size_amt, pe_target_amt, rate)\n",
        "    \n",
        "    self.country_classifier = Classifier(name=\"country_classifier\", num_classes=num_country_classes)\n",
        "\n",
        "    self.final_layer_dt = tf.keras.layers.Dense(target_vocab_size_dt)\n",
        "    self.final_layer_amt = tf.keras.layers.Dense(target_vocab_size_amt)\n",
        "    \n",
        "  def call(self,\n",
        "           inp,\n",
        "           tar_dt,\n",
        "           tar_amt,\n",
        "           training,\n",
        "           enc_padding_mask, \n",
        "           look_ahead_mask_dt,\n",
        "           look_ahead_mask_amt,\n",
        "           dec_padding_mask):\n",
        "\n",
        "    enc_output = self.encoder(inp, training, enc_padding_mask)  # (batch_size, inp_seq_len, d_model)\n",
        "    \n",
        "    # dec_output.shape == (batch_size, tar_seq_len, d_model)\n",
        "    dec_output_dt, attention_weights_dt = self.decoder_dt(\n",
        "        tar_dt, enc_output, training, look_ahead_mask_dt, dec_padding_mask)\n",
        "    \n",
        "    dec_output_amt, attention_weights_amt = self.decoder_amt(\n",
        "        tar_amt, enc_output, training, look_ahead_mask_amt, dec_padding_mask)\n",
        "    \n",
        "    final_output_dt = self.final_layer_dt(dec_output_dt)  # (batch_size, tar_seq_len, target_vocab_size)\n",
        "    final_output_amt = self.final_layer_amt(dec_output_amt)\n",
        "    final_output_country = self.country_classifier(enc_output, training)    \n",
        "    \n",
        "    return final_output_dt, attention_weights_dt, final_output_amt, attention_weights_amt, final_output_country"
      ],
      "execution_count": 0,
      "outputs": []
    },
    {
      "cell_type": "code",
      "metadata": {
        "ExecuteTime": {
          "start_time": "2019-11-10T06:32:19.546Z"
        },
        "colab_type": "code",
        "id": "tJ4fbQcIkHW1",
        "outputId": "d75ce35f-4cdc-4cc2-c6c2-77d8b9404c8c",
        "pycharm": {
          "is_executing": false
        },
        "colab": {
          "base_uri": "https://localhost:8080/",
          "height": 68
        }
      },
      "source": [
        "sample_transformer = Transformer(\n",
        "    num_layers=2, d_model=512, num_heads=8, dff=2048, \n",
        "    input_vocab_size=8500,\n",
        "    target_vocab_size_dt=2000,\n",
        "    target_vocab_size_amt=8500, \n",
        "    pe_input=10000,\n",
        "    pe_target_dt=6000,\n",
        "    pe_target_amt=6000,\n",
        "    num_country_classes=150)\n",
        "\n",
        "temp_input = tf.random.uniform((64, 62))\n",
        "temp_target_dt = tf.random.uniform((64, 26))\n",
        "temp_target_amt = tf.random.uniform((64, 32))\n",
        "\n",
        "fn_out_dt, _, fn_out_amt, _,  fn_out_country  = sample_transformer(temp_input,\n",
        "                                                                   temp_target_dt,\n",
        "                                                                   temp_target_amt,\n",
        "                                                                   training=False, \n",
        "                                                                   enc_padding_mask=None, \n",
        "                                                                   look_ahead_mask_dt=None,\n",
        "                                                                   look_ahead_mask_amt=None,\n",
        "                                                                   dec_padding_mask=None)\n",
        "\n",
        "print(fn_out_dt.shape)  # (batch_size, tar_seq_len, target_vocab_size)\n",
        "print(fn_out_amt.shape)\n",
        "print(fn_out_country.shape)"
      ],
      "execution_count": 59,
      "outputs": [
        {
          "output_type": "stream",
          "text": [
            "(64, 26, 2000)\n",
            "(64, 32, 8500)\n",
            "(64, 150)\n"
          ],
          "name": "stdout"
        }
      ]
    },
    {
      "cell_type": "markdown",
      "metadata": {
        "colab_type": "text",
        "id": "wsINyf1VEQLC"
      },
      "source": [
        "## Set hyperparameters"
      ]
    },
    {
      "cell_type": "markdown",
      "metadata": {
        "colab_type": "text",
        "id": "zVjWCxFNcgbt"
      },
      "source": [
        "To keep this example small and relatively fast, the values for *num_layers, d_model, and dff* have been reduced. \n",
        "\n",
        "The values used in the base model of transformer were; *num_layers=6*, *d_model = 512*, *dff = 2048*. See the [paper](https://arxiv.org/abs/1706.03762) for all the other versions of the transformer.\n",
        "\n",
        "Note: By changing the values below, you can get the model that achieved state of the art on many tasks."
      ]
    },
    {
      "cell_type": "code",
      "metadata": {
        "ExecuteTime": {
          "start_time": "2019-11-10T06:32:19.549Z"
        },
        "colab_type": "code",
        "id": "lnJn5SLA2ahP",
        "pycharm": {
          "is_executing": false
        },
        "colab": {}
      },
      "source": [
        "num_layers = 2\n",
        "d_model = 128\n",
        "dff = 512\n",
        "num_heads = 4\n",
        "\n",
        "input_vocab_size = tokenizer_ocr.vocab_size + 2\n",
        "target_vocab_size_dt = tokenizer_date.vocab_size + 2\n",
        "target_vocab_size_amt = tokenizer_amount.vocab_size + 2\n",
        "dropout_rate = 0.1"
      ],
      "execution_count": 0,
      "outputs": []
    },
    {
      "cell_type": "markdown",
      "metadata": {
        "colab_type": "text",
        "id": "xYEGhEOtzn5W"
      },
      "source": [
        "## Optimizer"
      ]
    },
    {
      "cell_type": "markdown",
      "metadata": {
        "colab_type": "text",
        "id": "GOmWW--yP3zx"
      },
      "source": [
        "Use the Adam optimizer with a custom learning rate scheduler according to the formula in the [paper](https://arxiv.org/abs/1706.03762).\n",
        "\n",
        "$$\\Large{lrate = d_{model}^{-0.5} * min(step{\\_}num^{-0.5}, step{\\_}num * warmup{\\_}steps^{-1.5})}$$\n"
      ]
    },
    {
      "cell_type": "code",
      "metadata": {
        "ExecuteTime": {
          "start_time": "2019-11-10T06:32:19.553Z"
        },
        "colab_type": "code",
        "id": "iYQdOO1axwEI",
        "pycharm": {
          "is_executing": false
        },
        "colab": {}
      },
      "source": [
        "class CustomSchedule(tf.keras.optimizers.schedules.LearningRateSchedule):\n",
        "  def __init__(self, d_model, warmup_steps=4000):\n",
        "    super(CustomSchedule, self).__init__()\n",
        "    \n",
        "    self.d_model = d_model\n",
        "    self.d_model = tf.cast(self.d_model, tf.float32)\n",
        "\n",
        "    self.warmup_steps = warmup_steps\n",
        "    \n",
        "  def __call__(self, step):\n",
        "    arg1 = tf.math.rsqrt(step)\n",
        "    arg2 = step * (self.warmup_steps ** -1.5)\n",
        "    \n",
        "    return tf.math.rsqrt(self.d_model) * tf.math.minimum(arg1, arg2)"
      ],
      "execution_count": 0,
      "outputs": []
    },
    {
      "cell_type": "code",
      "metadata": {
        "ExecuteTime": {
          "start_time": "2019-11-10T06:32:19.555Z"
        },
        "colab_type": "code",
        "id": "7r4scdulztRx",
        "pycharm": {
          "is_executing": false
        },
        "colab": {}
      },
      "source": [
        "learning_rate = CustomSchedule(d_model)\n",
        "\n",
        "optimizer = tf.keras.optimizers.Adam(learning_rate, beta_1=0.9, beta_2=0.98, \n",
        "                                     epsilon=1e-9)"
      ],
      "execution_count": 0,
      "outputs": []
    },
    {
      "cell_type": "code",
      "metadata": {
        "ExecuteTime": {
          "start_time": "2019-11-10T06:32:19.558Z"
        },
        "colab_type": "code",
        "id": "f33ZCgvHpPdG",
        "outputId": "2cc5ed09-bcd2-44cb-dfee-7bf679b6a6fe",
        "pycharm": {
          "is_executing": false
        },
        "colab": {
          "base_uri": "https://localhost:8080/",
          "height": 296
        }
      },
      "source": [
        "temp_learning_rate_schedule = CustomSchedule(d_model)\n",
        "\n",
        "plt.plot(temp_learning_rate_schedule(tf.range(40000, dtype=tf.float32)))\n",
        "plt.ylabel(\"Learning Rate\")\n",
        "plt.xlabel(\"Train Step\")"
      ],
      "execution_count": 63,
      "outputs": [
        {
          "output_type": "execute_result",
          "data": {
            "text/plain": [
              "Text(0.5, 0, 'Train Step')"
            ]
          },
          "metadata": {
            "tags": []
          },
          "execution_count": 63
        },
        {
          "output_type": "display_data",
          "data": {
            "image/png": "[encoded data removed]",
            "text/plain": [
              "<Figure size 432x288 with 1 Axes>"
            ]
          },
          "metadata": {
            "tags": [],
            "needs_background": "light"
          }
        }
      ]
    },
    {
      "cell_type": "markdown",
      "metadata": {
        "colab_type": "text",
        "id": "YgkDE7hzo8r5"
      },
      "source": [
        "## Loss and metrics"
      ]
    },
    {
      "cell_type": "markdown",
      "metadata": {
        "colab_type": "text",
        "id": "oxGJtoDuYIHL"
      },
      "source": [
        "Since the target sequences are padded, it is important to apply a padding mask when calculating the loss."
      ]
    },
    {
      "cell_type": "code",
      "metadata": {
        "ExecuteTime": {
          "start_time": "2019-11-10T06:32:19.561Z"
        },
        "colab_type": "code",
        "id": "MlhsJMm0TW_B",
        "pycharm": {
          "is_executing": false
        },
        "colab": {}
      },
      "source": [
        "loss_object_seq = tf.keras.losses.SparseCategoricalCrossentropy(\n",
        "    from_logits=True, reduction='none')\n",
        "\n",
        "loss_object_classifier = tf.keras.losses.CategoricalCrossentropy(\n",
        "    from_logits=False, reduction='none')"
      ],
      "execution_count": 0,
      "outputs": []
    },
    {
      "cell_type": "code",
      "metadata": {
        "ExecuteTime": {
          "start_time": "2019-11-10T06:32:19.564Z"
        },
        "colab_type": "code",
        "id": "67oqVHiT0Eiu",
        "pycharm": {
          "is_executing": false
        },
        "colab": {}
      },
      "source": [
        "def loss_function_seq(real, pred):\n",
        "  mask = tf.math.logical_not(tf.math.equal(real, 0))\n",
        "  loss_ = loss_object_seq(real, pred)\n",
        "\n",
        "  mask = tf.cast(mask, dtype=loss_.dtype)\n",
        "  loss_ *= mask\n",
        "  \n",
        "  return tf.reduce_mean(loss_)\n",
        "\n",
        "def loss_function_classifier(real, pred):\n",
        "  mask = tf.math.logical_not(tf.math.equal(real, 0))\n",
        "  loss_ = loss_object_classifier(real, pred)\n",
        "\n",
        "  mask = tf.cast(mask, dtype=loss_.dtype)\n",
        "  \n",
        "  return tf.reduce_mean(loss_)"
      ],
      "execution_count": 0,
      "outputs": []
    },
    {
      "cell_type": "code",
      "metadata": {
        "ExecuteTime": {
          "start_time": "2019-11-10T06:32:19.566Z"
        },
        "colab_type": "code",
        "id": "phlyxMnm-Tpx",
        "pycharm": {
          "is_executing": false
        },
        "colab": {}
      },
      "source": [
        "train_loss_dt = tf.keras.metrics.Mean(name='train_loss_dt')\n",
        "train_loss_amt = tf.keras.metrics.Mean(name='train_loss_amt')\n",
        "train_loss_country = tf.keras.metrics.Mean(name='train_loss_country')\n",
        "train_accuracy_dt = tf.keras.metrics.SparseCategoricalAccuracy(\n",
        "    name='train_accuracy_dt')\n",
        "train_accuracy_amt = tf.keras.metrics.SparseCategoricalAccuracy(\n",
        "    name='train_accuracy_amt')\n",
        "train_accuracy_country = tf.keras.metrics.CategoricalAccuracy(\n",
        "    name='train_accuracy_country')\n",
        "\n",
        "valid_loss_dt = tf.keras.metrics.Mean(name='valid_loss_dt')\n",
        "valid_loss_amt = tf.keras.metrics.Mean(name='valid_loss_amt')\n",
        "valid_loss_country = tf.keras.metrics.Mean(name='valid_loss_country')\n",
        "valid_accuracy_dt = tf.keras.metrics.SparseCategoricalAccuracy(\n",
        "    name='valid_accuracy_dt')\n",
        "valid_accuracy_amt = tf.keras.metrics.SparseCategoricalAccuracy(\n",
        "    name='valid_accuracy_amt')\n",
        "valid_accuracy_country = tf.keras.metrics.CategoricalAccuracy(\n",
        "    name='valid_accuracy_country')"
      ],
      "execution_count": 0,
      "outputs": []
    },
    {
      "cell_type": "markdown",
      "metadata": {
        "colab_type": "text",
        "id": "aeHumfr7zmMa"
      },
      "source": [
        "## Training and checkpointing"
      ]
    },
    {
      "cell_type": "code",
      "metadata": {
        "ExecuteTime": {
          "start_time": "2019-11-10T06:32:19.569Z"
        },
        "colab_type": "code",
        "id": "UiysUa--4tOU",
        "pycharm": {
          "is_executing": false
        },
        "colab": {}
      },
      "source": [
        "transformer = Transformer(num_layers, d_model, num_heads, dff,\n",
        "                          input_vocab_size,\n",
        "                          target_vocab_size_dt,\n",
        "                          target_vocab_size_amt,\n",
        "                          pe_input=input_vocab_size, \n",
        "                          pe_target_dt=target_vocab_size_dt,\n",
        "                          pe_target_amt=target_vocab_size_amt,\n",
        "                          num_country_classes=len(country_classes),\n",
        "                          rate=dropout_rate)"
      ],
      "execution_count": 0,
      "outputs": []
    },
    {
      "cell_type": "code",
      "metadata": {
        "ExecuteTime": {
          "start_time": "2019-11-10T06:32:19.571Z"
        },
        "colab_type": "code",
        "id": "ZOJUSB1T8GjM",
        "pycharm": {
          "is_executing": false
        },
        "colab": {}
      },
      "source": [
        "def create_masks(inp, tar_dt, tar_amt):\n",
        "  # Encoder padding mask\n",
        "  enc_padding_mask = create_padding_mask(inp)\n",
        "  \n",
        "  # Used in the 2nd attention block in the decoder.\n",
        "  # This padding mask is used to mask the encoder outputs.\n",
        "  dec_padding_mask = create_padding_mask(inp)\n",
        "  \n",
        "  # Used in the 1st attention block in the decoder.\n",
        "  # It is used to pad and mask future tokens in the input received by \n",
        "  # the decoder.\n",
        "  look_ahead_mask_dt = create_look_ahead_mask(tf.shape(tar_dt)[1])\n",
        "  dec_target_padding_mask_dt = create_padding_mask(tar_dt)\n",
        "  combined_mask_dt = tf.maximum(dec_target_padding_mask_dt, look_ahead_mask_dt)\n",
        "\n",
        "  look_ahead_mask_amt = create_look_ahead_mask(tf.shape(tar_amt)[1])\n",
        "  dec_target_padding_mask_amt = create_padding_mask(tar_amt)\n",
        "  combined_mask_amt = tf.maximum(dec_target_padding_mask_amt, look_ahead_mask_amt)\n",
        "  \n",
        "  return enc_padding_mask, combined_mask_dt, dec_padding_mask, combined_mask_amt"
      ],
      "execution_count": 0,
      "outputs": []
    },
    {
      "cell_type": "markdown",
      "metadata": {
        "colab_type": "text",
        "id": "Fzuf06YZp66w"
      },
      "source": [
        "Create the checkpoint path and the checkpoint manager. This will be used to save checkpoints every `n` epochs."
      ]
    },
    {
      "cell_type": "code",
      "metadata": {
        "ExecuteTime": {
          "start_time": "2019-11-10T06:32:19.574Z"
        },
        "colab_type": "code",
        "id": "hNhuYfllndLZ",
        "pycharm": {
          "is_executing": false
        },
        "colab": {}
      },
      "source": [
        "checkpoint_path = \"./checkpoints/train\"\n",
        "\n",
        "ckpt = tf.train.Checkpoint(transformer=transformer,\n",
        "                           optimizer=optimizer)\n",
        "\n",
        "ckpt_manager = tf.train.CheckpointManager(ckpt, checkpoint_path, max_to_keep=5)\n",
        "\n",
        "# if a checkpoint exists, restore the latest checkpoint.\n",
        "if ckpt_manager.latest_checkpoint:\n",
        "  ckpt.restore(ckpt_manager.latest_checkpoint)\n",
        "  print ('Latest checkpoint restored!!')"
      ],
      "execution_count": 0,
      "outputs": []
    },
    {
      "cell_type": "markdown",
      "metadata": {
        "colab_type": "text",
        "id": "0Di_Yaa1gf9r"
      },
      "source": [
        "The target is divided into tar_inp and tar_real. tar_inp is passed as an input to the decoder. `tar_real` is that same input shifted by 1: At each location in `tar_input`, `tar_real` contains the  next token that should be predicted.\n",
        "\n",
        "For example, `sentence` = \"SOS A lion in the jungle is sleeping EOS\"\n",
        "\n",
        "`tar_inp` =  \"SOS A lion in the jungle is sleeping\"\n",
        "\n",
        "`tar_real` = \"A lion in the jungle is sleeping EOS\"\n",
        "\n",
        "The transformer is an auto-regressive model: it makes predictions one part at a time, and uses its output so far to decide what to do next. \n",
        "\n",
        "During training this example uses teacher-forcing (like in the [text generation tutorial](./text_generation.ipynb)). Teacher forcing is passing the true output to the next time step regardless of what the model predicts at the current time step.\n",
        "\n",
        "As the transformer predicts each word, *self-attention* allows it to look at the previous words in the input sequence to better predict the next word.\n",
        "\n",
        "To prevent the model from peaking at the expected output the model uses a look-ahead mask."
      ]
    },
    {
      "cell_type": "code",
      "metadata": {
        "ExecuteTime": {
          "start_time": "2019-11-10T06:32:19.577Z"
        },
        "colab_type": "code",
        "id": "LKpoA6q1sJFj",
        "pycharm": {
          "is_executing": false
        },
        "colab": {}
      },
      "source": [
        "EPOCHS = 10"
      ],
      "execution_count": 0,
      "outputs": []
    },
    {
      "cell_type": "code",
      "metadata": {
        "ExecuteTime": {
          "start_time": "2019-11-10T06:32:19.579Z"
        },
        "colab_type": "code",
        "id": "iJwmp9OE29oj",
        "pycharm": {
          "is_executing": false
        },
        "colab": {}
      },
      "source": [
        "# The @tf.function trace-compiles train_step into a TF graph for faster\n",
        "# execution. The function specializes to the precise shape of the argument\n",
        "# tensors. To avoid re-tracing due to the variable sequence lengths or variable\n",
        "# batch sizes (the last batch is smaller), use input_signature to specify\n",
        "# more generic shapes.\n",
        "\n",
        "train_step_signature = [\n",
        "    tf.TensorSpec(shape=(None, None), dtype=tf.int64),\n",
        "    tf.TensorSpec(shape=(None, None), dtype=tf.int64),\n",
        "    tf.TensorSpec(shape=(None, None), dtype=tf.int64),\n",
        "    tf.TensorSpec(shape=(None, None), dtype=tf.float32),\n",
        "]\n",
        "\n",
        "@tf.function(input_signature=train_step_signature)\n",
        "def train_step(inp, tar_dt, tar_amt, tar_country):\n",
        "  tar_inp_dt = tar_dt[:, :-1]\n",
        "  tar_real_dt = tar_dt[:, 1:]\n",
        "  tar_inp_amt = tar_amt[:, :-1]\n",
        "  tar_real_amt = tar_amt[:, 1:]\n",
        "  \n",
        "  enc_padding_mask, combined_mask_dt, dec_padding_mask, combined_mask_amt = create_masks(inp, tar_inp_dt, tar_inp_amt)\n",
        "\n",
        "  with tf.GradientTape() as tape:\n",
        "    predictions_dt, _, predictions_amt, _, predictions_country = transformer(inp,\n",
        "                                                                             tar_inp_dt,\n",
        "                                                                             tar_inp_amt,\n",
        "                                                                             True, \n",
        "                                                                             enc_padding_mask, \n",
        "                                                                             combined_mask_dt,\n",
        "                                                                             combined_mask_amt,\n",
        "                                                                             dec_padding_mask)\n",
        "    loss_dt = loss_function_seq(tar_real_dt, predictions_dt)\n",
        "    loss_amt = loss_function_seq(tar_real_amt, predictions_amt)\n",
        "    loss_country = loss_function_classifier(tar_country, predictions_country)\n",
        "    loss = loss_dt + loss_amt + loss_country\n",
        "\n",
        "  gradients = tape.gradient(loss, transformer.trainable_variables)    \n",
        "  optimizer.apply_gradients(zip(gradients, transformer.trainable_variables))\n",
        "  \n",
        "  train_loss_dt(loss_dt)\n",
        "  train_loss_amt(loss_amt)\n",
        "  train_loss_country(loss_country)\n",
        "  train_accuracy_dt(tar_real_dt, predictions_dt)\n",
        "  train_accuracy_amt(tar_real_amt, predictions_amt)\n",
        "  train_accuracy_country(tar_country, predictions_country)\n",
        "\n",
        "@tf.function(input_signature=train_step_signature)\n",
        "def valid_epoch(inp, tar_dt, tar_amt, tar_country):\n",
        "  tar_inp_dt = tar_dt[:, :-1]\n",
        "  tar_real_dt = tar_dt[:, 1:]\n",
        "  tar_inp_amt = tar_amt[:, :-1]\n",
        "  tar_real_amt = tar_amt[:, 1:]\n",
        "  \n",
        "  enc_padding_mask, combined_mask_dt, dec_padding_mask, combined_mask_amt = create_masks(inp,\n",
        "                                                                                         tar_inp_dt,\n",
        "                                                                                         tar_inp_amt)\n",
        "  \n",
        "  predictions_dt, _, predictions_amt, _, predictions_country = transformer(inp, \n",
        "                                                                           tar_inp_dt,\n",
        "                                                                           tar_inp_amt, \n",
        "                                                                           False, \n",
        "                                                                           enc_padding_mask, \n",
        "                                                                           combined_mask_dt,\n",
        "                                                                           combined_mask_amt, \n",
        "                                                                           dec_padding_mask)\n",
        "  loss_dt = loss_function_seq(tar_real_dt, predictions_dt)\n",
        "  loss_amt = loss_function_seq(tar_real_amt, predictions_amt)\n",
        "  loss_country = loss_function_classifier(tar_country, predictions_country)\n",
        "  \n",
        "  valid_loss_dt(loss_dt)\n",
        "  valid_loss_amt(loss_amt)\n",
        "  valid_loss_country(loss_country)\n",
        "  valid_accuracy_dt(tar_real_dt, predictions_dt)\n",
        "  valid_accuracy_amt(tar_real_amt, predictions_amt)\n",
        "  valid_accuracy_country(tar_country, predictions_country)"
      ],
      "execution_count": 0,
      "outputs": []
    },
    {
      "cell_type": "markdown",
      "metadata": {
        "colab_type": "text",
        "id": "qM2PDWGDJ_8V"
      },
      "source": [
        "Ocr text is used as the input language and amount is the target language."
      ]
    },
    {
      "cell_type": "code",
      "metadata": {
        "ExecuteTime": {
          "start_time": "2019-11-10T06:32:19.582Z"
        },
        "colab_type": "code",
        "id": "bbvmaKNiznHZ",
        "outputId": "3e261b92-1277-4a89-84f0-9ddd652427d1",
        "pycharm": {
          "is_executing": false
        },
        "colab": {
          "base_uri": "https://localhost:8080/",
          "height": 1000
        }
      },
      "source": [
        "for epoch in range(EPOCHS):\n",
        "  start = time.time()\n",
        "  \n",
        "  train_loss_dt.reset_states()\n",
        "  train_accuracy_dt.reset_states()\n",
        "  train_loss_amt.reset_states()\n",
        "  train_accuracy_amt.reset_states()\n",
        "  train_loss_country.reset_states()\n",
        "  train_accuracy_country.reset_states()\n",
        "\n",
        "  valid_loss_dt.reset_states()\n",
        "  valid_accuracy_dt.reset_states()\n",
        "  valid_loss_amt.reset_states()\n",
        "  valid_accuracy_amt.reset_states()\n",
        "  valid_loss_country.reset_states()\n",
        "  valid_accuracy_country.reset_states()\n",
        "  \n",
        "  # inp -> ocr, tar -> amount, date, country\n",
        "  for (batch, (inp, tar_amt , tar_dt, tar_country)) in enumerate(train_dataset):\n",
        "    train_step(inp, tar_dt, tar_amt, tar_country)\n",
        "    \n",
        "    if batch % 100 == 0:\n",
        "      print (\"\"\"Epoch {} Batch {}  Training Loss Date {:.4f} Training Loss Amount {:.4f} Training Loss Country {:.4f} Accuracy Date {:.4f} Accuracy Amount {:.4f} Accuracy Country {:.4f}\"\"\"\n",
        "             .format(epoch + 1,\n",
        "                      batch,\n",
        "                      train_loss_dt.result(),\n",
        "                      train_loss_amt.result(),\n",
        "                      train_loss_country.result(),\n",
        "                      train_accuracy_dt.result(),\n",
        "                      train_accuracy_amt.result(),\n",
        "                      train_accuracy_country.result()))\n",
        "      \n",
        "  if (epoch + 1) % 1 == 0:\n",
        "    ckpt_save_path = ckpt_manager.save()\n",
        "    print ('Saving checkpoint for epoch {} at {}'.format(epoch+1,\n",
        "                                                         ckpt_save_path))\n",
        "    \n",
        "  print (\"\"\"Epoch {} Training Loss Date {:.4f} Training Loss Amount {:.4f} Training Loss Country {:.4f} Accuracy Date {:.4f} Accuracy Amount {:.4f} Accuracy Country {:.4f}\"\"\"\n",
        "         .format(epoch + 1, \n",
        "                train_loss_dt.result(), \n",
        "                train_loss_amt.result(), \n",
        "                train_loss_country.result(),\n",
        "                train_accuracy_dt.result(),\n",
        "                train_accuracy_amt.result(),\n",
        "                train_accuracy_country.result()))\n",
        "  \n",
        "  for (batch, (inp, tar_amt, tar_dt, tar_country)) in enumerate(valid_dataset):\n",
        "    valid_epoch(inp, tar_dt, tar_amt, tar_country)\n",
        "\n",
        "  print (\"\"\"Epoch {} Validation Loss Date {:.4f} Validation Loss Amount {:.4f} Validation Loss Country {:.4f} Accuracy Date {:.4f} Accuracy Amount {:.4f} Accuracy Country {:.4f}\"\"\"\n",
        "            .format(epoch + 1, \n",
        "                    valid_loss_dt.result(), \n",
        "                    valid_loss_amt.result(), \n",
        "                    valid_loss_country.result(), \n",
        "                    valid_accuracy_dt.result(),\n",
        "                    valid_accuracy_amt.result(),\n",
        "                    valid_accuracy_country.result()))\n",
        "\n",
        "  print ('Time taken for 1 epoch: {:.2f} secs\\n'.format(time.time() - start))"
      ],
      "execution_count": 72,
      "outputs": [
        {
          "output_type": "stream",
          "text": [
            "Epoch 1 Batch 0  Training Loss Date 5.8738 Training Loss Amount 4.6624 Training Loss Country 5.4792 Accuracy Date 0.0029 Accuracy Amount 0.0000 Accuracy Country 0.0156\n",
            "Epoch 1 Batch 100  Training Loss Date 4.5900 Training Loss Amount 6.4253 Training Loss Country 4.6579 Accuracy Date 0.1526 Accuracy Amount 0.0433 Accuracy Country 0.1638\n",
            "Epoch 1 Batch 200  Training Loss Date 3.5191 Training Loss Amount 6.1792 Training Loss Country 3.6521 Accuracy Date 0.2950 Accuracy Amount 0.1068 Accuracy Country 0.3060\n",
            "Epoch 1 Batch 300  Training Loss Date 2.6943 Training Loss Amount 5.6752 Training Loss Country 3.1770 Accuracy Date 0.4414 Accuracy Amount 0.1328 Accuracy Country 0.3589\n",
            "Epoch 1 Batch 400  Training Loss Date 2.1844 Training Loss Amount 4.9964 Training Loss Country 2.8402 Accuracy Date 0.5266 Accuracy Amount 0.1549 Accuracy Country 0.4154\n",
            "Epoch 1 Batch 500  Training Loss Date 1.8579 Training Loss Amount 4.3409 Training Loss Country 2.5704 Accuracy Date 0.5787 Accuracy Amount 0.1835 Accuracy Country 0.4677\n",
            "Epoch 1 Batch 600  Training Loss Date 1.6346 Training Loss Amount 3.8057 Training Loss Country 2.3463 Accuracy Date 0.6139 Accuracy Amount 0.2162 Accuracy Country 0.5113\n",
            "Epoch 1 Batch 700  Training Loss Date 1.4732 Training Loss Amount 3.3695 Training Loss Country 2.1728 Accuracy Date 0.6391 Accuracy Amount 0.2431 Accuracy Country 0.5462\n",
            "Epoch 1 Batch 800  Training Loss Date 1.3511 Training Loss Amount 3.0305 Training Loss Country 2.0263 Accuracy Date 0.6580 Accuracy Amount 0.2643 Accuracy Country 0.5756\n",
            "Epoch 1 Batch 900  Training Loss Date 1.2560 Training Loss Amount 2.7652 Training Loss Country 1.8976 Accuracy Date 0.6726 Accuracy Amount 0.2816 Accuracy Country 0.6016\n",
            "Epoch 1 Batch 1000  Training Loss Date 1.1795 Training Loss Amount 2.5511 Training Loss Country 1.7868 Accuracy Date 0.6843 Accuracy Amount 0.2946 Accuracy Country 0.6240\n",
            "Epoch 1 Batch 1100  Training Loss Date 1.1169 Training Loss Amount 2.3745 Training Loss Country 1.6883 Accuracy Date 0.6940 Accuracy Amount 0.3053 Accuracy Country 0.6450\n",
            "Epoch 1 Batch 1200  Training Loss Date 1.0645 Training Loss Amount 2.2268 Training Loss Country 1.6054 Accuracy Date 0.7020 Accuracy Amount 0.3141 Accuracy Country 0.6628\n",
            "Epoch 1 Batch 1300  Training Loss Date 1.0201 Training Loss Amount 2.1023 Training Loss Country 1.5304 Accuracy Date 0.7090 Accuracy Amount 0.3223 Accuracy Country 0.6787\n",
            "Epoch 1 Batch 1400  Training Loss Date 0.9819 Training Loss Amount 1.9941 Training Loss Country 1.4644 Accuracy Date 0.7149 Accuracy Amount 0.3286 Accuracy Country 0.6927\n",
            "Epoch 1 Batch 1500  Training Loss Date 0.9488 Training Loss Amount 1.9014 Training Loss Country 1.4021 Accuracy Date 0.7200 Accuracy Amount 0.3350 Accuracy Country 0.7060\n",
            "Epoch 1 Batch 1600  Training Loss Date 0.9199 Training Loss Amount 1.8198 Training Loss Country 1.3510 Accuracy Date 0.7244 Accuracy Amount 0.3405 Accuracy Country 0.7170\n",
            "Epoch 1 Batch 1700  Training Loss Date 0.8943 Training Loss Amount 1.7478 Training Loss Country 1.3028 Accuracy Date 0.7284 Accuracy Amount 0.3453 Accuracy Country 0.7272\n",
            "Epoch 1 Batch 1800  Training Loss Date 0.8714 Training Loss Amount 1.6835 Training Loss Country 1.2580 Accuracy Date 0.7320 Accuracy Amount 0.3495 Accuracy Country 0.7367\n",
            "Epoch 1 Batch 1900  Training Loss Date 0.8509 Training Loss Amount 1.6262 Training Loss Country 1.2181 Accuracy Date 0.7354 Accuracy Amount 0.3534 Accuracy Country 0.7450\n",
            "Epoch 1 Batch 2000  Training Loss Date 0.8323 Training Loss Amount 1.5746 Training Loss Country 1.1812 Accuracy Date 0.7384 Accuracy Amount 0.3570 Accuracy Country 0.7527\n",
            "Epoch 1 Batch 2100  Training Loss Date 0.8155 Training Loss Amount 1.5273 Training Loss Country 1.1488 Accuracy Date 0.7411 Accuracy Amount 0.3602 Accuracy Country 0.7594\n",
            "Epoch 1 Batch 2200  Training Loss Date 0.8002 Training Loss Amount 1.4840 Training Loss Country 1.1175 Accuracy Date 0.7436 Accuracy Amount 0.3629 Accuracy Country 0.7661\n",
            "Epoch 1 Batch 2300  Training Loss Date 0.7861 Training Loss Amount 1.4456 Training Loss Country 1.0900 Accuracy Date 0.7459 Accuracy Amount 0.3661 Accuracy Country 0.7720\n",
            "Epoch 1 Batch 2400  Training Loss Date 0.7732 Training Loss Amount 1.4098 Training Loss Country 1.0644 Accuracy Date 0.7480 Accuracy Amount 0.3689 Accuracy Country 0.7772\n",
            "Epoch 1 Batch 2500  Training Loss Date 0.7614 Training Loss Amount 1.3756 Training Loss Country 1.0410 Accuracy Date 0.7499 Accuracy Amount 0.3705 Accuracy Country 0.7822\n",
            "Epoch 1 Batch 2600  Training Loss Date 0.7504 Training Loss Amount 1.3450 Training Loss Country 1.0187 Accuracy Date 0.7517 Accuracy Amount 0.3726 Accuracy Country 0.7867\n",
            "Epoch 1 Batch 2700  Training Loss Date 0.7403 Training Loss Amount 1.3162 Training Loss Country 0.9973 Accuracy Date 0.7533 Accuracy Amount 0.3745 Accuracy Country 0.7912\n",
            "Epoch 1 Batch 2800  Training Loss Date 0.7308 Training Loss Amount 1.2896 Training Loss Country 0.9771 Accuracy Date 0.7549 Accuracy Amount 0.3764 Accuracy Country 0.7954\n",
            "Epoch 1 Batch 2900  Training Loss Date 0.7220 Training Loss Amount 1.2649 Training Loss Country 0.9577 Accuracy Date 0.7563 Accuracy Amount 0.3784 Accuracy Country 0.7995\n",
            "Epoch 1 Batch 3000  Training Loss Date 0.7138 Training Loss Amount 1.2416 Training Loss Country 0.9409 Accuracy Date 0.7577 Accuracy Amount 0.3798 Accuracy Country 0.8028\n",
            "Epoch 1 Batch 3100  Training Loss Date 0.7061 Training Loss Amount 1.2189 Training Loss Country 0.9248 Accuracy Date 0.7589 Accuracy Amount 0.3810 Accuracy Country 0.8062\n",
            "Epoch 1 Batch 3200  Training Loss Date 0.6989 Training Loss Amount 1.1983 Training Loss Country 0.9088 Accuracy Date 0.7601 Accuracy Amount 0.3825 Accuracy Country 0.8096\n",
            "Epoch 1 Batch 3300  Training Loss Date 0.6921 Training Loss Amount 1.1795 Training Loss Country 0.8939 Accuracy Date 0.7612 Accuracy Amount 0.3844 Accuracy Country 0.8126\n",
            "Epoch 1 Batch 3400  Training Loss Date 0.6857 Training Loss Amount 1.1611 Training Loss Country 0.8811 Accuracy Date 0.7622 Accuracy Amount 0.3855 Accuracy Country 0.8153\n",
            "Epoch 1 Batch 3500  Training Loss Date 0.6796 Training Loss Amount 1.1439 Training Loss Country 0.8685 Accuracy Date 0.7632 Accuracy Amount 0.3868 Accuracy Country 0.8180\n",
            "Epoch 1 Batch 3600  Training Loss Date 0.6739 Training Loss Amount 1.1272 Training Loss Country 0.8555 Accuracy Date 0.7642 Accuracy Amount 0.3879 Accuracy Country 0.8206\n",
            "Epoch 1 Batch 3700  Training Loss Date 0.6685 Training Loss Amount 1.1116 Training Loss Country 0.8436 Accuracy Date 0.7651 Accuracy Amount 0.3891 Accuracy Country 0.8231\n",
            "Epoch 1 Batch 3800  Training Loss Date 0.6633 Training Loss Amount 1.0965 Training Loss Country 0.8320 Accuracy Date 0.7660 Accuracy Amount 0.3901 Accuracy Country 0.8255\n",
            "Epoch 1 Batch 3900  Training Loss Date 0.6584 Training Loss Amount 1.0825 Training Loss Country 0.8202 Accuracy Date 0.7669 Accuracy Amount 0.3912 Accuracy Country 0.8280\n",
            "Epoch 1 Batch 4000  Training Loss Date 0.6537 Training Loss Amount 1.0694 Training Loss Country 0.8097 Accuracy Date 0.7677 Accuracy Amount 0.3926 Accuracy Country 0.8301\n",
            "Epoch 1 Batch 4100  Training Loss Date 0.6492 Training Loss Amount 1.0562 Training Loss Country 0.7999 Accuracy Date 0.7685 Accuracy Amount 0.3932 Accuracy Country 0.8323\n",
            "Epoch 1 Batch 4200  Training Loss Date 0.6449 Training Loss Amount 1.0438 Training Loss Country 0.7909 Accuracy Date 0.7692 Accuracy Amount 0.3941 Accuracy Country 0.8342\n",
            "Epoch 1 Batch 4300  Training Loss Date 0.6408 Training Loss Amount 1.0320 Training Loss Country 0.7828 Accuracy Date 0.7700 Accuracy Amount 0.3952 Accuracy Country 0.8359\n",
            "Epoch 1 Batch 4400  Training Loss Date 0.6369 Training Loss Amount 1.0206 Training Loss Country 0.7743 Accuracy Date 0.7707 Accuracy Amount 0.3962 Accuracy Country 0.8378\n",
            "Saving checkpoint for epoch 1 at ./checkpoints/train/ckpt-1\n",
            "Epoch 1 Training Loss Date 0.6360 Training Loss Amount 1.0180 Training Loss Country 0.7725 Accuracy Date 0.7708 Accuracy Amount 0.3963 Accuracy Country 0.8382\n",
            "Epoch 1 Validation Loss Date 0.4680 Validation Loss Amount 0.5204 Validation Loss Country 0.3922 Accuracy Date 0.8014 Accuracy Amount 0.4388 Accuracy Country 0.9174\n",
            "Time taken for 1 epoch: 1853.82 secs\n",
            "\n",
            "Epoch 2 Batch 0  Training Loss Date 0.4870 Training Loss Amount 0.5306 Training Loss Country 0.5158 Accuracy Date 0.7959 Accuracy Amount 0.4531 Accuracy Country 0.9219\n",
            "Epoch 2 Batch 100  Training Loss Date 0.4686 Training Loss Amount 0.5268 Training Loss Country 0.4334 Accuracy Date 0.8008 Accuracy Amount 0.4328 Accuracy Country 0.9141\n",
            "Epoch 2 Batch 200  Training Loss Date 0.4687 Training Loss Amount 0.5373 Training Loss Country 0.4022 Accuracy Date 0.8013 Accuracy Amount 0.4437 Accuracy Country 0.9182\n",
            "Epoch 2 Batch 300  Training Loss Date 0.4679 Training Loss Amount 0.5334 Training Loss Country 0.3932 Accuracy Date 0.8017 Accuracy Amount 0.4425 Accuracy Country 0.9207\n",
            "Epoch 2 Batch 400  Training Loss Date 0.4678 Training Loss Amount 0.5314 Training Loss Country 0.3899 Accuracy Date 0.8015 Accuracy Amount 0.4415 Accuracy Country 0.9221\n",
            "Epoch 2 Batch 500  Training Loss Date 0.4677 Training Loss Amount 0.5304 Training Loss Country 0.3901 Accuracy Date 0.8017 Accuracy Amount 0.4412 Accuracy Country 0.9204\n",
            "Epoch 2 Batch 600  Training Loss Date 0.4672 Training Loss Amount 0.5297 Training Loss Country 0.3913 Accuracy Date 0.8020 Accuracy Amount 0.4404 Accuracy Country 0.9194\n",
            "Epoch 2 Batch 700  Training Loss Date 0.4668 Training Loss Amount 0.5262 Training Loss Country 0.3907 Accuracy Date 0.8021 Accuracy Amount 0.4388 Accuracy Country 0.9195\n",
            "Epoch 2 Batch 800  Training Loss Date 0.4665 Training Loss Amount 0.5266 Training Loss Country 0.3889 Accuracy Date 0.8023 Accuracy Amount 0.4400 Accuracy Country 0.9197\n",
            "Epoch 2 Batch 900  Training Loss Date 0.4662 Training Loss Amount 0.5255 Training Loss Country 0.3877 Accuracy Date 0.8025 Accuracy Amount 0.4408 Accuracy Country 0.9199\n",
            "Epoch 2 Batch 1000  Training Loss Date 0.4657 Training Loss Amount 0.5243 Training Loss Country 0.3868 Accuracy Date 0.8028 Accuracy Amount 0.4410 Accuracy Country 0.9195\n",
            "Epoch 2 Batch 1100  Training Loss Date 0.4651 Training Loss Amount 0.5223 Training Loss Country 0.3836 Accuracy Date 0.8030 Accuracy Amount 0.4406 Accuracy Country 0.9200\n",
            "Epoch 2 Batch 1200  Training Loss Date 0.4647 Training Loss Amount 0.5210 Training Loss Country 0.3818 Accuracy Date 0.8033 Accuracy Amount 0.4405 Accuracy Country 0.9201\n",
            "Epoch 2 Batch 1300  Training Loss Date 0.4642 Training Loss Amount 0.5196 Training Loss Country 0.3808 Accuracy Date 0.8036 Accuracy Amount 0.4404 Accuracy Country 0.9198\n",
            "Epoch 2 Batch 1400  Training Loss Date 0.4637 Training Loss Amount 0.5187 Training Loss Country 0.3819 Accuracy Date 0.8039 Accuracy Amount 0.4409 Accuracy Country 0.9197\n",
            "Epoch 2 Batch 1500  Training Loss Date 0.4634 Training Loss Amount 0.5183 Training Loss Country 0.3808 Accuracy Date 0.8041 Accuracy Amount 0.4417 Accuracy Country 0.9198\n",
            "Epoch 2 Batch 1600  Training Loss Date 0.4629 Training Loss Amount 0.5176 Training Loss Country 0.3777 Accuracy Date 0.8044 Accuracy Amount 0.4422 Accuracy Country 0.9204\n",
            "Epoch 2 Batch 1700  Training Loss Date 0.4624 Training Loss Amount 0.5171 Training Loss Country 0.3771 Accuracy Date 0.8046 Accuracy Amount 0.4431 Accuracy Country 0.9205\n",
            "Epoch 2 Batch 1800  Training Loss Date 0.4620 Training Loss Amount 0.5162 Training Loss Country 0.3750 Accuracy Date 0.8049 Accuracy Amount 0.4436 Accuracy Country 0.9208\n",
            "Epoch 2 Batch 1900  Training Loss Date 0.4617 Training Loss Amount 0.5156 Training Loss Country 0.3725 Accuracy Date 0.8051 Accuracy Amount 0.4442 Accuracy Country 0.9213\n",
            "Epoch 2 Batch 2000  Training Loss Date 0.4612 Training Loss Amount 0.5142 Training Loss Country 0.3717 Accuracy Date 0.8053 Accuracy Amount 0.4441 Accuracy Country 0.9214\n",
            "Epoch 2 Batch 2100  Training Loss Date 0.4608 Training Loss Amount 0.5131 Training Loss Country 0.3700 Accuracy Date 0.8056 Accuracy Amount 0.4445 Accuracy Country 0.9218\n",
            "Epoch 2 Batch 2200  Training Loss Date 0.4605 Training Loss Amount 0.5119 Training Loss Country 0.3692 Accuracy Date 0.8058 Accuracy Amount 0.4446 Accuracy Country 0.9220\n",
            "Epoch 2 Batch 2300  Training Loss Date 0.4601 Training Loss Amount 0.5113 Training Loss Country 0.3686 Accuracy Date 0.8059 Accuracy Amount 0.4451 Accuracy Country 0.9221\n",
            "Epoch 2 Batch 2400  Training Loss Date 0.4597 Training Loss Amount 0.5107 Training Loss Country 0.3663 Accuracy Date 0.8061 Accuracy Amount 0.4458 Accuracy Country 0.9225\n",
            "Epoch 2 Batch 2500  Training Loss Date 0.4593 Training Loss Amount 0.5100 Training Loss Country 0.3652 Accuracy Date 0.8063 Accuracy Amount 0.4461 Accuracy Country 0.9228\n",
            "Epoch 2 Batch 2600  Training Loss Date 0.4590 Training Loss Amount 0.5094 Training Loss Country 0.3639 Accuracy Date 0.8065 Accuracy Amount 0.4464 Accuracy Country 0.9232\n",
            "Epoch 2 Batch 2700  Training Loss Date 0.4586 Training Loss Amount 0.5085 Training Loss Country 0.3633 Accuracy Date 0.8068 Accuracy Amount 0.4467 Accuracy Country 0.9233\n",
            "Epoch 2 Batch 2800  Training Loss Date 0.4582 Training Loss Amount 0.5075 Training Loss Country 0.3623 Accuracy Date 0.8070 Accuracy Amount 0.4469 Accuracy Country 0.9235\n",
            "Epoch 2 Batch 2900  Training Loss Date 0.4579 Training Loss Amount 0.5067 Training Loss Country 0.3605 Accuracy Date 0.8071 Accuracy Amount 0.4470 Accuracy Country 0.9239\n",
            "Epoch 2 Batch 3000  Training Loss Date 0.4576 Training Loss Amount 0.5059 Training Loss Country 0.3591 Accuracy Date 0.8073 Accuracy Amount 0.4474 Accuracy Country 0.9241\n",
            "Epoch 2 Batch 3100  Training Loss Date 0.4572 Training Loss Amount 0.5054 Training Loss Country 0.3582 Accuracy Date 0.8075 Accuracy Amount 0.4480 Accuracy Country 0.9243\n",
            "Epoch 2 Batch 3200  Training Loss Date 0.4568 Training Loss Amount 0.5043 Training Loss Country 0.3570 Accuracy Date 0.8077 Accuracy Amount 0.4482 Accuracy Country 0.9245\n",
            "Epoch 2 Batch 3300  Training Loss Date 0.4565 Training Loss Amount 0.5033 Training Loss Country 0.3556 Accuracy Date 0.8079 Accuracy Amount 0.4484 Accuracy Country 0.9247\n",
            "Epoch 2 Batch 3400  Training Loss Date 0.4561 Training Loss Amount 0.5024 Training Loss Country 0.3551 Accuracy Date 0.8081 Accuracy Amount 0.4486 Accuracy Country 0.9249\n",
            "Epoch 2 Batch 3500  Training Loss Date 0.4558 Training Loss Amount 0.5014 Training Loss Country 0.3536 Accuracy Date 0.8083 Accuracy Amount 0.4486 Accuracy Country 0.9251\n",
            "Epoch 2 Batch 3600  Training Loss Date 0.4554 Training Loss Amount 0.5006 Training Loss Country 0.3518 Accuracy Date 0.8085 Accuracy Amount 0.4491 Accuracy Country 0.9254\n",
            "Epoch 2 Batch 3700  Training Loss Date 0.4551 Training Loss Amount 0.4995 Training Loss Country 0.3512 Accuracy Date 0.8087 Accuracy Amount 0.4489 Accuracy Country 0.9256\n",
            "Epoch 2 Batch 3800  Training Loss Date 0.4547 Training Loss Amount 0.4987 Training Loss Country 0.3502 Accuracy Date 0.8089 Accuracy Amount 0.4491 Accuracy Country 0.9259\n",
            "Epoch 2 Batch 3900  Training Loss Date 0.4543 Training Loss Amount 0.4976 Training Loss Country 0.3492 Accuracy Date 0.8091 Accuracy Amount 0.4490 Accuracy Country 0.9261\n",
            "Epoch 2 Batch 4000  Training Loss Date 0.4539 Training Loss Amount 0.4971 Training Loss Country 0.3483 Accuracy Date 0.8093 Accuracy Amount 0.4492 Accuracy Country 0.9263\n",
            "Epoch 2 Batch 4100  Training Loss Date 0.4535 Training Loss Amount 0.4963 Training Loss Country 0.3473 Accuracy Date 0.8095 Accuracy Amount 0.4494 Accuracy Country 0.9265\n",
            "Epoch 2 Batch 4200  Training Loss Date 0.4532 Training Loss Amount 0.4957 Training Loss Country 0.3462 Accuracy Date 0.8097 Accuracy Amount 0.4497 Accuracy Country 0.9268\n",
            "Epoch 2 Batch 4300  Training Loss Date 0.4527 Training Loss Amount 0.4949 Training Loss Country 0.3449 Accuracy Date 0.8099 Accuracy Amount 0.4499 Accuracy Country 0.9271\n",
            "Epoch 2 Batch 4400  Training Loss Date 0.4523 Training Loss Amount 0.4941 Training Loss Country 0.3441 Accuracy Date 0.8102 Accuracy Amount 0.4502 Accuracy Country 0.9272\n",
            "Saving checkpoint for epoch 2 at ./checkpoints/train/ckpt-2\n",
            "Epoch 2 Training Loss Date 0.4522 Training Loss Amount 0.4941 Training Loss Country 0.3438 Accuracy Date 0.8102 Accuracy Amount 0.4504 Accuracy Country 0.9273\n",
            "Epoch 2 Validation Loss Date 0.4240 Validation Loss Amount 0.4550 Validation Loss Country 0.3468 Accuracy Date 0.8240 Accuracy Amount 0.4596 Accuracy Country 0.9289\n",
            "Time taken for 1 epoch: 1420.21 secs\n",
            "\n",
            "Epoch 3 Batch 0  Training Loss Date 0.4416 Training Loss Amount 0.4198 Training Loss Country 0.1299 Accuracy Date 0.8145 Accuracy Amount 0.4896 Accuracy Country 0.9844\n",
            "Epoch 3 Batch 100  Training Loss Date 0.4334 Training Loss Amount 0.4634 Training Loss Country 0.2985 Accuracy Date 0.8197 Accuracy Amount 0.4538 Accuracy Country 0.9383\n",
            "Epoch 3 Batch 200  Training Loss Date 0.4321 Training Loss Amount 0.4618 Training Loss Country 0.3058 Accuracy Date 0.8203 Accuracy Amount 0.4573 Accuracy Country 0.9357\n",
            "Epoch 3 Batch 300  Training Loss Date 0.4310 Training Loss Amount 0.4642 Training Loss Country 0.3010 Accuracy Date 0.8212 Accuracy Amount 0.4586 Accuracy Country 0.9369\n",
            "Epoch 3 Batch 400  Training Loss Date 0.4300 Training Loss Amount 0.4616 Training Loss Country 0.3058 Accuracy Date 0.8219 Accuracy Amount 0.4559 Accuracy Country 0.9362\n",
            "Epoch 3 Batch 500  Training Loss Date 0.4288 Training Loss Amount 0.4630 Training Loss Country 0.3026 Accuracy Date 0.8223 Accuracy Amount 0.4586 Accuracy Country 0.9358\n",
            "Epoch 3 Batch 600  Training Loss Date 0.4277 Training Loss Amount 0.4614 Training Loss Country 0.3007 Accuracy Date 0.8228 Accuracy Amount 0.4584 Accuracy Country 0.9363\n",
            "Epoch 3 Batch 700  Training Loss Date 0.4268 Training Loss Amount 0.4601 Training Loss Country 0.3014 Accuracy Date 0.8232 Accuracy Amount 0.4579 Accuracy Country 0.9361\n",
            "Epoch 3 Batch 800  Training Loss Date 0.4262 Training Loss Amount 0.4603 Training Loss Country 0.3000 Accuracy Date 0.8235 Accuracy Amount 0.4591 Accuracy Country 0.9366\n",
            "Epoch 3 Batch 900  Training Loss Date 0.4251 Training Loss Amount 0.4597 Training Loss Country 0.2972 Accuracy Date 0.8240 Accuracy Amount 0.4601 Accuracy Country 0.9368\n",
            "Epoch 3 Batch 1000  Training Loss Date 0.4241 Training Loss Amount 0.4599 Training Loss Country 0.2984 Accuracy Date 0.8244 Accuracy Amount 0.4612 Accuracy Country 0.9367\n",
            "Epoch 3 Batch 1100  Training Loss Date 0.4230 Training Loss Amount 0.4592 Training Loss Country 0.2971 Accuracy Date 0.8249 Accuracy Amount 0.4617 Accuracy Country 0.9368\n",
            "Epoch 3 Batch 1200  Training Loss Date 0.4219 Training Loss Amount 0.4578 Training Loss Country 0.2963 Accuracy Date 0.8255 Accuracy Amount 0.4618 Accuracy Country 0.9369\n",
            "Epoch 3 Batch 1300  Training Loss Date 0.4210 Training Loss Amount 0.4570 Training Loss Country 0.2966 Accuracy Date 0.8260 Accuracy Amount 0.4619 Accuracy Country 0.9367\n",
            "Epoch 3 Batch 1400  Training Loss Date 0.4200 Training Loss Amount 0.4572 Training Loss Country 0.2952 Accuracy Date 0.8264 Accuracy Amount 0.4629 Accuracy Country 0.9367\n",
            "Epoch 3 Batch 1500  Training Loss Date 0.4191 Training Loss Amount 0.4565 Training Loss Country 0.2948 Accuracy Date 0.8269 Accuracy Amount 0.4635 Accuracy Country 0.9367\n",
            "Epoch 3 Batch 1600  Training Loss Date 0.4181 Training Loss Amount 0.4554 Training Loss Country 0.2946 Accuracy Date 0.8274 Accuracy Amount 0.4632 Accuracy Country 0.9365\n",
            "Epoch 3 Batch 1700  Training Loss Date 0.4170 Training Loss Amount 0.4542 Training Loss Country 0.2925 Accuracy Date 0.8279 Accuracy Amount 0.4638 Accuracy Country 0.9370\n",
            "Epoch 3 Batch 1800  Training Loss Date 0.4159 Training Loss Amount 0.4533 Training Loss Country 0.2924 Accuracy Date 0.8284 Accuracy Amount 0.4639 Accuracy Country 0.9370\n",
            "Epoch 3 Batch 1900  Training Loss Date 0.4149 Training Loss Amount 0.4524 Training Loss Country 0.2915 Accuracy Date 0.8289 Accuracy Amount 0.4640 Accuracy Country 0.9372\n",
            "Epoch 3 Batch 2000  Training Loss Date 0.4138 Training Loss Amount 0.4518 Training Loss Country 0.2908 Accuracy Date 0.8294 Accuracy Amount 0.4644 Accuracy Country 0.9375\n",
            "Epoch 3 Batch 2100  Training Loss Date 0.4128 Training Loss Amount 0.4509 Training Loss Country 0.2902 Accuracy Date 0.8298 Accuracy Amount 0.4648 Accuracy Country 0.9377\n",
            "Epoch 3 Batch 2200  Training Loss Date 0.4119 Training Loss Amount 0.4499 Training Loss Country 0.2894 Accuracy Date 0.8303 Accuracy Amount 0.4656 Accuracy Country 0.9377\n",
            "Epoch 3 Batch 2300  Training Loss Date 0.4108 Training Loss Amount 0.4488 Training Loss Country 0.2885 Accuracy Date 0.8308 Accuracy Amount 0.4655 Accuracy Country 0.9379\n",
            "Epoch 3 Batch 2400  Training Loss Date 0.4098 Training Loss Amount 0.4480 Training Loss Country 0.2883 Accuracy Date 0.8312 Accuracy Amount 0.4659 Accuracy Country 0.9380\n",
            "Epoch 3 Batch 2500  Training Loss Date 0.4089 Training Loss Amount 0.4473 Training Loss Country 0.2879 Accuracy Date 0.8317 Accuracy Amount 0.4669 Accuracy Country 0.9380\n",
            "Epoch 3 Batch 2600  Training Loss Date 0.4079 Training Loss Amount 0.4464 Training Loss Country 0.2879 Accuracy Date 0.8321 Accuracy Amount 0.4673 Accuracy Country 0.9381\n",
            "Epoch 3 Batch 2700  Training Loss Date 0.4069 Training Loss Amount 0.4455 Training Loss Country 0.2877 Accuracy Date 0.8326 Accuracy Amount 0.4679 Accuracy Country 0.9382\n",
            "Epoch 3 Batch 2800  Training Loss Date 0.4060 Training Loss Amount 0.4444 Training Loss Country 0.2876 Accuracy Date 0.8331 Accuracy Amount 0.4680 Accuracy Country 0.9383\n",
            "Epoch 3 Batch 2900  Training Loss Date 0.4050 Training Loss Amount 0.4435 Training Loss Country 0.2879 Accuracy Date 0.8335 Accuracy Amount 0.4684 Accuracy Country 0.9383\n",
            "Epoch 3 Batch 3000  Training Loss Date 0.4040 Training Loss Amount 0.4423 Training Loss Country 0.2868 Accuracy Date 0.8340 Accuracy Amount 0.4687 Accuracy Country 0.9385\n",
            "Epoch 3 Batch 3100  Training Loss Date 0.4029 Training Loss Amount 0.4409 Training Loss Country 0.2856 Accuracy Date 0.8345 Accuracy Amount 0.4690 Accuracy Country 0.9387\n",
            "Epoch 3 Batch 3200  Training Loss Date 0.4019 Training Loss Amount 0.4399 Training Loss Country 0.2852 Accuracy Date 0.8350 Accuracy Amount 0.4694 Accuracy Country 0.9388\n",
            "Epoch 3 Batch 3300  Training Loss Date 0.4009 Training Loss Amount 0.4391 Training Loss Country 0.2841 Accuracy Date 0.8354 Accuracy Amount 0.4703 Accuracy Country 0.9390\n",
            "Epoch 3 Batch 3400  Training Loss Date 0.3998 Training Loss Amount 0.4380 Training Loss Country 0.2837 Accuracy Date 0.8359 Accuracy Amount 0.4707 Accuracy Country 0.9391\n",
            "Epoch 3 Batch 3500  Training Loss Date 0.3989 Training Loss Amount 0.4369 Training Loss Country 0.2823 Accuracy Date 0.8364 Accuracy Amount 0.4711 Accuracy Country 0.9393\n",
            "Epoch 3 Batch 3600  Training Loss Date 0.3978 Training Loss Amount 0.4358 Training Loss Country 0.2812 Accuracy Date 0.8369 Accuracy Amount 0.4712 Accuracy Country 0.9395\n",
            "Epoch 3 Batch 3700  Training Loss Date 0.3968 Training Loss Amount 0.4347 Training Loss Country 0.2808 Accuracy Date 0.8373 Accuracy Amount 0.4715 Accuracy Country 0.9396\n",
            "Epoch 3 Batch 3800  Training Loss Date 0.3957 Training Loss Amount 0.4333 Training Loss Country 0.2801 Accuracy Date 0.8378 Accuracy Amount 0.4713 Accuracy Country 0.9398\n",
            "Epoch 3 Batch 3900  Training Loss Date 0.3946 Training Loss Amount 0.4326 Training Loss Country 0.2795 Accuracy Date 0.8384 Accuracy Amount 0.4718 Accuracy Country 0.9399\n",
            "Epoch 3 Batch 4000  Training Loss Date 0.3935 Training Loss Amount 0.4316 Training Loss Country 0.2787 Accuracy Date 0.8389 Accuracy Amount 0.4720 Accuracy Country 0.9402\n",
            "Epoch 3 Batch 4100  Training Loss Date 0.3922 Training Loss Amount 0.4305 Training Loss Country 0.2783 Accuracy Date 0.8395 Accuracy Amount 0.4723 Accuracy Country 0.9403\n",
            "Epoch 3 Batch 4200  Training Loss Date 0.3909 Training Loss Amount 0.4294 Training Loss Country 0.2781 Accuracy Date 0.8401 Accuracy Amount 0.4726 Accuracy Country 0.9403\n",
            "Epoch 3 Batch 4300  Training Loss Date 0.3897 Training Loss Amount 0.4284 Training Loss Country 0.2778 Accuracy Date 0.8406 Accuracy Amount 0.4730 Accuracy Country 0.9404\n",
            "Epoch 3 Batch 4400  Training Loss Date 0.3884 Training Loss Amount 0.4272 Training Loss Country 0.2775 Accuracy Date 0.8412 Accuracy Amount 0.4731 Accuracy Country 0.9405\n",
            "Saving checkpoint for epoch 3 at ./checkpoints/train/ckpt-3\n",
            "Epoch 3 Training Loss Date 0.3881 Training Loss Amount 0.4269 Training Loss Country 0.2773 Accuracy Date 0.8414 Accuracy Amount 0.4732 Accuracy Country 0.9405\n",
            "Epoch 3 Validation Loss Date 0.2961 Validation Loss Amount 0.3710 Validation Loss Country 0.3701 Accuracy Date 0.8833 Accuracy Amount 0.4921 Accuracy Country 0.9317\n",
            "Time taken for 1 epoch: 1423.97 secs\n",
            "\n",
            "Epoch 4 Batch 0  Training Loss Date 0.3279 Training Loss Amount 0.3214 Training Loss Country 0.1899 Accuracy Date 0.8691 Accuracy Amount 0.4498 Accuracy Country 0.9531\n",
            "Epoch 4 Batch 100  Training Loss Date 0.3286 Training Loss Amount 0.3763 Training Loss Country 0.2570 Accuracy Date 0.8684 Accuracy Amount 0.4823 Accuracy Country 0.9482\n",
            "Epoch 4 Batch 200  Training Loss Date 0.3260 Training Loss Amount 0.3762 Training Loss Country 0.2702 Accuracy Date 0.8700 Accuracy Amount 0.4868 Accuracy Country 0.9453\n",
            "Epoch 4 Batch 300  Training Loss Date 0.3244 Training Loss Amount 0.3756 Training Loss Country 0.2632 Accuracy Date 0.8710 Accuracy Amount 0.4895 Accuracy Country 0.9459\n",
            "Epoch 4 Batch 400  Training Loss Date 0.3227 Training Loss Amount 0.3780 Training Loss Country 0.2567 Accuracy Date 0.8716 Accuracy Amount 0.4922 Accuracy Country 0.9465\n",
            "Epoch 4 Batch 500  Training Loss Date 0.3215 Training Loss Amount 0.3774 Training Loss Country 0.2589 Accuracy Date 0.8724 Accuracy Amount 0.4932 Accuracy Country 0.9460\n",
            "Epoch 4 Batch 600  Training Loss Date 0.3207 Training Loss Amount 0.3758 Training Loss Country 0.2602 Accuracy Date 0.8726 Accuracy Amount 0.4925 Accuracy Country 0.9456\n",
            "Epoch 4 Batch 700  Training Loss Date 0.3194 Training Loss Amount 0.3752 Training Loss Country 0.2570 Accuracy Date 0.8733 Accuracy Amount 0.4922 Accuracy Country 0.9460\n",
            "Epoch 4 Batch 800  Training Loss Date 0.3180 Training Loss Amount 0.3757 Training Loss Country 0.2556 Accuracy Date 0.8739 Accuracy Amount 0.4933 Accuracy Country 0.9460\n",
            "Epoch 4 Batch 900  Training Loss Date 0.3164 Training Loss Amount 0.3731 Training Loss Country 0.2552 Accuracy Date 0.8746 Accuracy Amount 0.4919 Accuracy Country 0.9460\n",
            "Epoch 4 Batch 1000  Training Loss Date 0.3148 Training Loss Amount 0.3726 Training Loss Country 0.2564 Accuracy Date 0.8753 Accuracy Amount 0.4927 Accuracy Country 0.9457\n",
            "Epoch 4 Batch 1100  Training Loss Date 0.3132 Training Loss Amount 0.3705 Training Loss Country 0.2540 Accuracy Date 0.8760 Accuracy Amount 0.4927 Accuracy Country 0.9460\n",
            "Epoch 4 Batch 1200  Training Loss Date 0.3117 Training Loss Amount 0.3692 Training Loss Country 0.2541 Accuracy Date 0.8767 Accuracy Amount 0.4928 Accuracy Country 0.9461\n",
            "Epoch 4 Batch 1300  Training Loss Date 0.3099 Training Loss Amount 0.3682 Training Loss Country 0.2540 Accuracy Date 0.8775 Accuracy Amount 0.4937 Accuracy Country 0.9462\n",
            "Epoch 4 Batch 1400  Training Loss Date 0.3083 Training Loss Amount 0.3671 Training Loss Country 0.2544 Accuracy Date 0.8782 Accuracy Amount 0.4943 Accuracy Country 0.9461\n",
            "Epoch 4 Batch 1500  Training Loss Date 0.3066 Training Loss Amount 0.3661 Training Loss Country 0.2541 Accuracy Date 0.8789 Accuracy Amount 0.4950 Accuracy Country 0.9459\n",
            "Epoch 4 Batch 1600  Training Loss Date 0.3053 Training Loss Amount 0.3646 Training Loss Country 0.2539 Accuracy Date 0.8796 Accuracy Amount 0.4954 Accuracy Country 0.9459\n",
            "Epoch 4 Batch 1700  Training Loss Date 0.3039 Training Loss Amount 0.3631 Training Loss Country 0.2528 Accuracy Date 0.8803 Accuracy Amount 0.4956 Accuracy Country 0.9464\n",
            "Epoch 4 Batch 1800  Training Loss Date 0.3026 Training Loss Amount 0.3620 Training Loss Country 0.2514 Accuracy Date 0.8808 Accuracy Amount 0.4957 Accuracy Country 0.9465\n",
            "Epoch 4 Batch 1900  Training Loss Date 0.3011 Training Loss Amount 0.3612 Training Loss Country 0.2511 Accuracy Date 0.8815 Accuracy Amount 0.4969 Accuracy Country 0.9466\n",
            "Epoch 4 Batch 2000  Training Loss Date 0.2996 Training Loss Amount 0.3603 Training Loss Country 0.2500 Accuracy Date 0.8821 Accuracy Amount 0.4979 Accuracy Country 0.9467\n",
            "Epoch 4 Batch 2100  Training Loss Date 0.2981 Training Loss Amount 0.3589 Training Loss Country 0.2492 Accuracy Date 0.8828 Accuracy Amount 0.4980 Accuracy Country 0.9469\n",
            "Epoch 4 Batch 2200  Training Loss Date 0.2966 Training Loss Amount 0.3576 Training Loss Country 0.2494 Accuracy Date 0.8834 Accuracy Amount 0.4981 Accuracy Country 0.9469\n",
            "Epoch 4 Batch 2300  Training Loss Date 0.2951 Training Loss Amount 0.3570 Training Loss Country 0.2487 Accuracy Date 0.8840 Accuracy Amount 0.4988 Accuracy Country 0.9470\n",
            "Epoch 4 Batch 2400  Training Loss Date 0.2937 Training Loss Amount 0.3557 Training Loss Country 0.2485 Accuracy Date 0.8847 Accuracy Amount 0.4993 Accuracy Country 0.9469\n",
            "Epoch 4 Batch 2500  Training Loss Date 0.2925 Training Loss Amount 0.3549 Training Loss Country 0.2480 Accuracy Date 0.8852 Accuracy Amount 0.4999 Accuracy Country 0.9472\n",
            "Epoch 4 Batch 2600  Training Loss Date 0.2912 Training Loss Amount 0.3539 Training Loss Country 0.2487 Accuracy Date 0.8858 Accuracy Amount 0.5001 Accuracy Country 0.9469\n",
            "Epoch 4 Batch 2700  Training Loss Date 0.2899 Training Loss Amount 0.3530 Training Loss Country 0.2488 Accuracy Date 0.8863 Accuracy Amount 0.5004 Accuracy Country 0.9468\n",
            "Epoch 4 Batch 2800  Training Loss Date 0.2885 Training Loss Amount 0.3518 Training Loss Country 0.2488 Accuracy Date 0.8869 Accuracy Amount 0.5007 Accuracy Country 0.9468\n",
            "Epoch 4 Batch 2900  Training Loss Date 0.2872 Training Loss Amount 0.3509 Training Loss Country 0.2478 Accuracy Date 0.8875 Accuracy Amount 0.5013 Accuracy Country 0.9470\n",
            "Epoch 4 Batch 3000  Training Loss Date 0.2861 Training Loss Amount 0.3496 Training Loss Country 0.2476 Accuracy Date 0.8880 Accuracy Amount 0.5013 Accuracy Country 0.9471\n",
            "Epoch 4 Batch 3100  Training Loss Date 0.2847 Training Loss Amount 0.3485 Training Loss Country 0.2470 Accuracy Date 0.8886 Accuracy Amount 0.5018 Accuracy Country 0.9471\n",
            "Epoch 4 Batch 3200  Training Loss Date 0.2835 Training Loss Amount 0.3478 Training Loss Country 0.2466 Accuracy Date 0.8891 Accuracy Amount 0.5021 Accuracy Country 0.9472\n",
            "Epoch 4 Batch 3300  Training Loss Date 0.2823 Training Loss Amount 0.3468 Training Loss Country 0.2462 Accuracy Date 0.8896 Accuracy Amount 0.5025 Accuracy Country 0.9473\n",
            "Epoch 4 Batch 3400  Training Loss Date 0.2810 Training Loss Amount 0.3456 Training Loss Country 0.2463 Accuracy Date 0.8901 Accuracy Amount 0.5028 Accuracy Country 0.9473\n",
            "Epoch 4 Batch 3500  Training Loss Date 0.2799 Training Loss Amount 0.3447 Training Loss Country 0.2454 Accuracy Date 0.8906 Accuracy Amount 0.5031 Accuracy Country 0.9475\n",
            "Epoch 4 Batch 3600  Training Loss Date 0.2787 Training Loss Amount 0.3437 Training Loss Country 0.2452 Accuracy Date 0.8911 Accuracy Amount 0.5033 Accuracy Country 0.9475\n",
            "Epoch 4 Batch 3700  Training Loss Date 0.2775 Training Loss Amount 0.3427 Training Loss Country 0.2446 Accuracy Date 0.8916 Accuracy Amount 0.5034 Accuracy Country 0.9476\n",
            "Epoch 4 Batch 3800  Training Loss Date 0.2764 Training Loss Amount 0.3417 Training Loss Country 0.2439 Accuracy Date 0.8921 Accuracy Amount 0.5036 Accuracy Country 0.9477\n",
            "Epoch 4 Batch 3900  Training Loss Date 0.2753 Training Loss Amount 0.3405 Training Loss Country 0.2440 Accuracy Date 0.8926 Accuracy Amount 0.5035 Accuracy Country 0.9477\n",
            "Epoch 4 Batch 4000  Training Loss Date 0.2741 Training Loss Amount 0.3396 Training Loss Country 0.2431 Accuracy Date 0.8931 Accuracy Amount 0.5040 Accuracy Country 0.9479\n",
            "Epoch 4 Batch 4100  Training Loss Date 0.2731 Training Loss Amount 0.3386 Training Loss Country 0.2425 Accuracy Date 0.8936 Accuracy Amount 0.5043 Accuracy Country 0.9480\n",
            "Epoch 4 Batch 4200  Training Loss Date 0.2719 Training Loss Amount 0.3380 Training Loss Country 0.2423 Accuracy Date 0.8941 Accuracy Amount 0.5048 Accuracy Country 0.9481\n",
            "Epoch 4 Batch 4300  Training Loss Date 0.2708 Training Loss Amount 0.3371 Training Loss Country 0.2417 Accuracy Date 0.8945 Accuracy Amount 0.5053 Accuracy Country 0.9482\n",
            "Epoch 4 Batch 4400  Training Loss Date 0.2698 Training Loss Amount 0.3361 Training Loss Country 0.2415 Accuracy Date 0.8949 Accuracy Amount 0.5057 Accuracy Country 0.9483\n",
            "Saving checkpoint for epoch 4 at ./checkpoints/train/ckpt-4\n",
            "Epoch 4 Training Loss Date 0.2695 Training Loss Amount 0.3358 Training Loss Country 0.2412 Accuracy Date 0.8950 Accuracy Amount 0.5057 Accuracy Country 0.9483\n",
            "Epoch 4 Validation Loss Date 0.1973 Validation Loss Amount 0.2691 Validation Loss Country 0.3628 Accuracy Date 0.9261 Accuracy Amount 0.5297 Accuracy Country 0.9342\n",
            "Time taken for 1 epoch: 1417.59 secs\n",
            "\n",
            "Epoch 5 Batch 0  Training Loss Date 0.2174 Training Loss Amount 0.2936 Training Loss Country 0.1347 Accuracy Date 0.9199 Accuracy Amount 0.4621 Accuracy Country 0.9531\n",
            "Epoch 5 Batch 100  Training Loss Date 0.2199 Training Loss Amount 0.2898 Training Loss Country 0.2311 Accuracy Date 0.9154 Accuracy Amount 0.5128 Accuracy Country 0.9503\n",
            "Epoch 5 Batch 200  Training Loss Date 0.2194 Training Loss Amount 0.2883 Training Loss Country 0.2369 Accuracy Date 0.9158 Accuracy Amount 0.5193 Accuracy Country 0.9490\n",
            "Epoch 5 Batch 300  Training Loss Date 0.2184 Training Loss Amount 0.2885 Training Loss Country 0.2386 Accuracy Date 0.9164 Accuracy Amount 0.5193 Accuracy Country 0.9487\n",
            "Epoch 5 Batch 400  Training Loss Date 0.2170 Training Loss Amount 0.2875 Training Loss Country 0.2344 Accuracy Date 0.9171 Accuracy Amount 0.5216 Accuracy Country 0.9500\n",
            "Epoch 5 Batch 500  Training Loss Date 0.2168 Training Loss Amount 0.2881 Training Loss Country 0.2314 Accuracy Date 0.9173 Accuracy Amount 0.5236 Accuracy Country 0.9508\n",
            "Epoch 5 Batch 600  Training Loss Date 0.2166 Training Loss Amount 0.2880 Training Loss Country 0.2279 Accuracy Date 0.9173 Accuracy Amount 0.5242 Accuracy Country 0.9511\n",
            "Epoch 5 Batch 700  Training Loss Date 0.2165 Training Loss Amount 0.2879 Training Loss Country 0.2279 Accuracy Date 0.9173 Accuracy Amount 0.5252 Accuracy Country 0.9514\n",
            "Epoch 5 Batch 800  Training Loss Date 0.2160 Training Loss Amount 0.2856 Training Loss Country 0.2274 Accuracy Date 0.9175 Accuracy Amount 0.5235 Accuracy Country 0.9513\n",
            "Epoch 5 Batch 900  Training Loss Date 0.2154 Training Loss Amount 0.2848 Training Loss Country 0.2266 Accuracy Date 0.9177 Accuracy Amount 0.5235 Accuracy Country 0.9515\n",
            "Epoch 5 Batch 1000  Training Loss Date 0.2145 Training Loss Amount 0.2831 Training Loss Country 0.2271 Accuracy Date 0.9180 Accuracy Amount 0.5240 Accuracy Country 0.9514\n",
            "Epoch 5 Batch 1100  Training Loss Date 0.2142 Training Loss Amount 0.2821 Training Loss Country 0.2276 Accuracy Date 0.9181 Accuracy Amount 0.5236 Accuracy Country 0.9512\n",
            "Epoch 5 Batch 1200  Training Loss Date 0.2136 Training Loss Amount 0.2805 Training Loss Country 0.2259 Accuracy Date 0.9183 Accuracy Amount 0.5233 Accuracy Country 0.9513\n",
            "Epoch 5 Batch 1300  Training Loss Date 0.2129 Training Loss Amount 0.2800 Training Loss Country 0.2252 Accuracy Date 0.9186 Accuracy Amount 0.5244 Accuracy Country 0.9514\n",
            "Epoch 5 Batch 1400  Training Loss Date 0.2121 Training Loss Amount 0.2787 Training Loss Country 0.2259 Accuracy Date 0.9190 Accuracy Amount 0.5241 Accuracy Country 0.9513\n",
            "Epoch 5 Batch 1500  Training Loss Date 0.2113 Training Loss Amount 0.2778 Training Loss Country 0.2262 Accuracy Date 0.9194 Accuracy Amount 0.5252 Accuracy Country 0.9511\n",
            "Epoch 5 Batch 1600  Training Loss Date 0.2108 Training Loss Amount 0.2775 Training Loss Country 0.2250 Accuracy Date 0.9196 Accuracy Amount 0.5263 Accuracy Country 0.9512\n",
            "Epoch 5 Batch 1700  Training Loss Date 0.2104 Training Loss Amount 0.2767 Training Loss Country 0.2252 Accuracy Date 0.9198 Accuracy Amount 0.5266 Accuracy Country 0.9513\n",
            "Epoch 5 Batch 1800  Training Loss Date 0.2099 Training Loss Amount 0.2760 Training Loss Country 0.2235 Accuracy Date 0.9200 Accuracy Amount 0.5273 Accuracy Country 0.9515\n",
            "Epoch 5 Batch 1900  Training Loss Date 0.2093 Training Loss Amount 0.2750 Training Loss Country 0.2241 Accuracy Date 0.9203 Accuracy Amount 0.5276 Accuracy Country 0.9515\n",
            "Epoch 5 Batch 2000  Training Loss Date 0.2087 Training Loss Amount 0.2739 Training Loss Country 0.2239 Accuracy Date 0.9205 Accuracy Amount 0.5275 Accuracy Country 0.9517\n",
            "Epoch 5 Batch 2100  Training Loss Date 0.2082 Training Loss Amount 0.2731 Training Loss Country 0.2242 Accuracy Date 0.9207 Accuracy Amount 0.5287 Accuracy Country 0.9516\n",
            "Epoch 5 Batch 2200  Training Loss Date 0.2079 Training Loss Amount 0.2721 Training Loss Country 0.2223 Accuracy Date 0.9209 Accuracy Amount 0.5293 Accuracy Country 0.9519\n",
            "Epoch 5 Batch 2300  Training Loss Date 0.2074 Training Loss Amount 0.2716 Training Loss Country 0.2227 Accuracy Date 0.9211 Accuracy Amount 0.5298 Accuracy Country 0.9518\n",
            "Epoch 5 Batch 2400  Training Loss Date 0.2067 Training Loss Amount 0.2705 Training Loss Country 0.2227 Accuracy Date 0.9214 Accuracy Amount 0.5300 Accuracy Country 0.9518\n",
            "Epoch 5 Batch 2500  Training Loss Date 0.2062 Training Loss Amount 0.2699 Training Loss Country 0.2223 Accuracy Date 0.9217 Accuracy Amount 0.5306 Accuracy Country 0.9519\n",
            "Epoch 5 Batch 2600  Training Loss Date 0.2058 Training Loss Amount 0.2690 Training Loss Country 0.2227 Accuracy Date 0.9218 Accuracy Amount 0.5311 Accuracy Country 0.9518\n",
            "Epoch 5 Batch 2700  Training Loss Date 0.2052 Training Loss Amount 0.2680 Training Loss Country 0.2227 Accuracy Date 0.9221 Accuracy Amount 0.5312 Accuracy Country 0.9518\n",
            "Epoch 5 Batch 2800  Training Loss Date 0.2046 Training Loss Amount 0.2671 Training Loss Country 0.2229 Accuracy Date 0.9223 Accuracy Amount 0.5316 Accuracy Country 0.9518\n",
            "Epoch 5 Batch 2900  Training Loss Date 0.2041 Training Loss Amount 0.2661 Training Loss Country 0.2224 Accuracy Date 0.9226 Accuracy Amount 0.5317 Accuracy Country 0.9520\n",
            "Epoch 5 Batch 3000  Training Loss Date 0.2035 Training Loss Amount 0.2654 Training Loss Country 0.2214 Accuracy Date 0.9228 Accuracy Amount 0.5326 Accuracy Country 0.9522\n",
            "Epoch 5 Batch 3100  Training Loss Date 0.2031 Training Loss Amount 0.2646 Training Loss Country 0.2209 Accuracy Date 0.9230 Accuracy Amount 0.5328 Accuracy Country 0.9523\n",
            "Epoch 5 Batch 3200  Training Loss Date 0.2027 Training Loss Amount 0.2639 Training Loss Country 0.2210 Accuracy Date 0.9232 Accuracy Amount 0.5332 Accuracy Country 0.9522\n",
            "Epoch 5 Batch 3300  Training Loss Date 0.2023 Training Loss Amount 0.2630 Training Loss Country 0.2216 Accuracy Date 0.9233 Accuracy Amount 0.5334 Accuracy Country 0.9521\n",
            "Epoch 5 Batch 3400  Training Loss Date 0.2019 Training Loss Amount 0.2620 Training Loss Country 0.2208 Accuracy Date 0.9235 Accuracy Amount 0.5336 Accuracy Country 0.9523\n",
            "Epoch 5 Batch 3500  Training Loss Date 0.2014 Training Loss Amount 0.2609 Training Loss Country 0.2200 Accuracy Date 0.9237 Accuracy Amount 0.5338 Accuracy Country 0.9525\n",
            "Epoch 5 Batch 3600  Training Loss Date 0.2010 Training Loss Amount 0.2602 Training Loss Country 0.2193 Accuracy Date 0.9239 Accuracy Amount 0.5343 Accuracy Country 0.9525\n",
            "Epoch 5 Batch 3700  Training Loss Date 0.2005 Training Loss Amount 0.2595 Training Loss Country 0.2191 Accuracy Date 0.9240 Accuracy Amount 0.5346 Accuracy Country 0.9526\n",
            "Epoch 5 Batch 3800  Training Loss Date 0.2001 Training Loss Amount 0.2586 Training Loss Country 0.2185 Accuracy Date 0.9242 Accuracy Amount 0.5348 Accuracy Country 0.9527\n",
            "Epoch 5 Batch 3900  Training Loss Date 0.1996 Training Loss Amount 0.2578 Training Loss Country 0.2182 Accuracy Date 0.9244 Accuracy Amount 0.5345 Accuracy Country 0.9528\n",
            "Epoch 5 Batch 4000  Training Loss Date 0.1992 Training Loss Amount 0.2572 Training Loss Country 0.2180 Accuracy Date 0.9246 Accuracy Amount 0.5349 Accuracy Country 0.9529\n",
            "Epoch 5 Batch 4100  Training Loss Date 0.1989 Training Loss Amount 0.2567 Training Loss Country 0.2175 Accuracy Date 0.9247 Accuracy Amount 0.5354 Accuracy Country 0.9530\n",
            "Epoch 5 Batch 4200  Training Loss Date 0.1986 Training Loss Amount 0.2561 Training Loss Country 0.2175 Accuracy Date 0.9248 Accuracy Amount 0.5355 Accuracy Country 0.9530\n",
            "Epoch 5 Batch 4300  Training Loss Date 0.1982 Training Loss Amount 0.2554 Training Loss Country 0.2172 Accuracy Date 0.9250 Accuracy Amount 0.5357 Accuracy Country 0.9531\n",
            "Epoch 5 Batch 4400  Training Loss Date 0.1978 Training Loss Amount 0.2547 Training Loss Country 0.2171 Accuracy Date 0.9252 Accuracy Amount 0.5359 Accuracy Country 0.9531\n",
            "Saving checkpoint for epoch 5 at ./checkpoints/train/ckpt-5\n",
            "Epoch 5 Training Loss Date 0.1977 Training Loss Amount 0.2546 Training Loss Country 0.2169 Accuracy Date 0.9252 Accuracy Amount 0.5360 Accuracy Country 0.9532\n",
            "Epoch 5 Validation Loss Date 0.1646 Validation Loss Amount 0.2041 Validation Loss Country 0.3998 Accuracy Date 0.9387 Accuracy Amount 0.5549 Accuracy Country 0.9306\n",
            "Time taken for 1 epoch: 1418.11 secs\n",
            "\n",
            "Epoch 6 Batch 0  Training Loss Date 0.1556 Training Loss Amount 0.1993 Training Loss Country 0.3894 Accuracy Date 0.9404 Accuracy Amount 0.4404 Accuracy Country 0.8906\n",
            "Epoch 6 Batch 100  Training Loss Date 0.1823 Training Loss Amount 0.2240 Training Loss Country 0.2023 Accuracy Date 0.9319 Accuracy Amount 0.5421 Accuracy Country 0.9581\n",
            "Epoch 6 Batch 200  Training Loss Date 0.1814 Training Loss Amount 0.2259 Training Loss Country 0.1980 Accuracy Date 0.9323 Accuracy Amount 0.5500 Accuracy Country 0.9588\n",
            "Epoch 6 Batch 300  Training Loss Date 0.1787 Training Loss Amount 0.2259 Training Loss Country 0.2009 Accuracy Date 0.9332 Accuracy Amount 0.5526 Accuracy Country 0.9583\n",
            "Epoch 6 Batch 400  Training Loss Date 0.1790 Training Loss Amount 0.2248 Training Loss Country 0.2022 Accuracy Date 0.9328 Accuracy Amount 0.5503 Accuracy Country 0.9578\n",
            "Epoch 6 Batch 500  Training Loss Date 0.1780 Training Loss Amount 0.2228 Training Loss Country 0.1987 Accuracy Date 0.9332 Accuracy Amount 0.5498 Accuracy Country 0.9584\n",
            "Epoch 6 Batch 600  Training Loss Date 0.1771 Training Loss Amount 0.2230 Training Loss Country 0.2010 Accuracy Date 0.9335 Accuracy Amount 0.5494 Accuracy Country 0.9581\n",
            "Epoch 6 Batch 700  Training Loss Date 0.1771 Training Loss Amount 0.2229 Training Loss Country 0.2031 Accuracy Date 0.9335 Accuracy Amount 0.5488 Accuracy Country 0.9573\n",
            "Epoch 6 Batch 800  Training Loss Date 0.1770 Training Loss Amount 0.2225 Training Loss Country 0.2023 Accuracy Date 0.9334 Accuracy Amount 0.5505 Accuracy Country 0.9572\n",
            "Epoch 6 Batch 900  Training Loss Date 0.1766 Training Loss Amount 0.2224 Training Loss Country 0.2044 Accuracy Date 0.9336 Accuracy Amount 0.5498 Accuracy Country 0.9565\n",
            "Epoch 6 Batch 1000  Training Loss Date 0.1761 Training Loss Amount 0.2212 Training Loss Country 0.2053 Accuracy Date 0.9337 Accuracy Amount 0.5497 Accuracy Country 0.9562\n",
            "Epoch 6 Batch 1100  Training Loss Date 0.1757 Training Loss Amount 0.2199 Training Loss Country 0.2059 Accuracy Date 0.9339 Accuracy Amount 0.5490 Accuracy Country 0.9562\n",
            "Epoch 6 Batch 1200  Training Loss Date 0.1757 Training Loss Amount 0.2199 Training Loss Country 0.2043 Accuracy Date 0.9339 Accuracy Amount 0.5494 Accuracy Country 0.9566\n",
            "Epoch 6 Batch 1300  Training Loss Date 0.1752 Training Loss Amount 0.2192 Training Loss Country 0.2053 Accuracy Date 0.9341 Accuracy Amount 0.5498 Accuracy Country 0.9564\n",
            "Epoch 6 Batch 1400  Training Loss Date 0.1750 Training Loss Amount 0.2192 Training Loss Country 0.2071 Accuracy Date 0.9342 Accuracy Amount 0.5504 Accuracy Country 0.9560\n",
            "Epoch 6 Batch 1500  Training Loss Date 0.1745 Training Loss Amount 0.2189 Training Loss Country 0.2076 Accuracy Date 0.9343 Accuracy Amount 0.5507 Accuracy Country 0.9558\n",
            "Epoch 6 Batch 1600  Training Loss Date 0.1743 Training Loss Amount 0.2181 Training Loss Country 0.2086 Accuracy Date 0.9344 Accuracy Amount 0.5503 Accuracy Country 0.9557\n",
            "Epoch 6 Batch 1700  Training Loss Date 0.1741 Training Loss Amount 0.2181 Training Loss Country 0.2078 Accuracy Date 0.9344 Accuracy Amount 0.5511 Accuracy Country 0.9557\n",
            "Epoch 6 Batch 1800  Training Loss Date 0.1740 Training Loss Amount 0.2179 Training Loss Country 0.2071 Accuracy Date 0.9345 Accuracy Amount 0.5511 Accuracy Country 0.9558\n",
            "Epoch 6 Batch 1900  Training Loss Date 0.1738 Training Loss Amount 0.2173 Training Loss Country 0.2063 Accuracy Date 0.9346 Accuracy Amount 0.5507 Accuracy Country 0.9557\n",
            "Epoch 6 Batch 2000  Training Loss Date 0.1737 Training Loss Amount 0.2169 Training Loss Country 0.2053 Accuracy Date 0.9346 Accuracy Amount 0.5506 Accuracy Country 0.9558\n",
            "Epoch 6 Batch 2100  Training Loss Date 0.1735 Training Loss Amount 0.2167 Training Loss Country 0.2050 Accuracy Date 0.9347 Accuracy Amount 0.5509 Accuracy Country 0.9559\n",
            "Epoch 6 Batch 2200  Training Loss Date 0.1733 Training Loss Amount 0.2163 Training Loss Country 0.2048 Accuracy Date 0.9347 Accuracy Amount 0.5514 Accuracy Country 0.9557\n",
            "Epoch 6 Batch 2300  Training Loss Date 0.1731 Training Loss Amount 0.2159 Training Loss Country 0.2045 Accuracy Date 0.9348 Accuracy Amount 0.5515 Accuracy Country 0.9557\n",
            "Epoch 6 Batch 2400  Training Loss Date 0.1728 Training Loss Amount 0.2155 Training Loss Country 0.2032 Accuracy Date 0.9350 Accuracy Amount 0.5519 Accuracy Country 0.9560\n",
            "Epoch 6 Batch 2500  Training Loss Date 0.1725 Training Loss Amount 0.2152 Training Loss Country 0.2033 Accuracy Date 0.9351 Accuracy Amount 0.5531 Accuracy Country 0.9560\n",
            "Epoch 6 Batch 2600  Training Loss Date 0.1722 Training Loss Amount 0.2148 Training Loss Country 0.2034 Accuracy Date 0.9352 Accuracy Amount 0.5531 Accuracy Country 0.9561\n",
            "Epoch 6 Batch 2700  Training Loss Date 0.1722 Training Loss Amount 0.2145 Training Loss Country 0.2031 Accuracy Date 0.9352 Accuracy Amount 0.5533 Accuracy Country 0.9561\n",
            "Epoch 6 Batch 2800  Training Loss Date 0.1721 Training Loss Amount 0.2142 Training Loss Country 0.2032 Accuracy Date 0.9352 Accuracy Amount 0.5534 Accuracy Country 0.9562\n",
            "Epoch 6 Batch 2900  Training Loss Date 0.1718 Training Loss Amount 0.2136 Training Loss Country 0.2025 Accuracy Date 0.9354 Accuracy Amount 0.5534 Accuracy Country 0.9563\n",
            "Epoch 6 Batch 3000  Training Loss Date 0.1715 Training Loss Amount 0.2132 Training Loss Country 0.2018 Accuracy Date 0.9355 Accuracy Amount 0.5534 Accuracy Country 0.9564\n",
            "Epoch 6 Batch 3100  Training Loss Date 0.1713 Training Loss Amount 0.2127 Training Loss Country 0.2016 Accuracy Date 0.9356 Accuracy Amount 0.5533 Accuracy Country 0.9563\n",
            "Epoch 6 Batch 3200  Training Loss Date 0.1710 Training Loss Amount 0.2125 Training Loss Country 0.2011 Accuracy Date 0.9357 Accuracy Amount 0.5534 Accuracy Country 0.9564\n",
            "Epoch 6 Batch 3300  Training Loss Date 0.1707 Training Loss Amount 0.2120 Training Loss Country 0.2008 Accuracy Date 0.9358 Accuracy Amount 0.5531 Accuracy Country 0.9564\n",
            "Epoch 6 Batch 3400  Training Loss Date 0.1704 Training Loss Amount 0.2115 Training Loss Country 0.2005 Accuracy Date 0.9359 Accuracy Amount 0.5535 Accuracy Country 0.9565\n",
            "Epoch 6 Batch 3500  Training Loss Date 0.1704 Training Loss Amount 0.2111 Training Loss Country 0.2002 Accuracy Date 0.9359 Accuracy Amount 0.5535 Accuracy Country 0.9565\n",
            "Epoch 6 Batch 3600  Training Loss Date 0.1702 Training Loss Amount 0.2108 Training Loss Country 0.1994 Accuracy Date 0.9360 Accuracy Amount 0.5534 Accuracy Country 0.9567\n",
            "Epoch 6 Batch 3700  Training Loss Date 0.1701 Training Loss Amount 0.2106 Training Loss Country 0.1992 Accuracy Date 0.9361 Accuracy Amount 0.5534 Accuracy Country 0.9567\n",
            "Epoch 6 Batch 3800  Training Loss Date 0.1699 Training Loss Amount 0.2101 Training Loss Country 0.1986 Accuracy Date 0.9362 Accuracy Amount 0.5530 Accuracy Country 0.9568\n",
            "Epoch 6 Batch 3900  Training Loss Date 0.1696 Training Loss Amount 0.2098 Training Loss Country 0.1988 Accuracy Date 0.9363 Accuracy Amount 0.5527 Accuracy Country 0.9568\n",
            "Epoch 6 Batch 4000  Training Loss Date 0.1693 Training Loss Amount 0.2095 Training Loss Country 0.1985 Accuracy Date 0.9364 Accuracy Amount 0.5527 Accuracy Country 0.9569\n",
            "Epoch 6 Batch 4100  Training Loss Date 0.1692 Training Loss Amount 0.2093 Training Loss Country 0.1980 Accuracy Date 0.9364 Accuracy Amount 0.5529 Accuracy Country 0.9569\n",
            "Epoch 6 Batch 4200  Training Loss Date 0.1691 Training Loss Amount 0.2092 Training Loss Country 0.1976 Accuracy Date 0.9365 Accuracy Amount 0.5531 Accuracy Country 0.9570\n",
            "Epoch 6 Batch 4300  Training Loss Date 0.1689 Training Loss Amount 0.2090 Training Loss Country 0.1977 Accuracy Date 0.9365 Accuracy Amount 0.5532 Accuracy Country 0.9570\n",
            "Epoch 6 Batch 4400  Training Loss Date 0.1688 Training Loss Amount 0.2089 Training Loss Country 0.1977 Accuracy Date 0.9366 Accuracy Amount 0.5533 Accuracy Country 0.9570\n",
            "Saving checkpoint for epoch 6 at ./checkpoints/train/ckpt-6\n",
            "Epoch 6 Training Loss Date 0.1687 Training Loss Amount 0.2088 Training Loss Country 0.1976 Accuracy Date 0.9366 Accuracy Amount 0.5533 Accuracy Country 0.9570\n",
            "Epoch 6 Validation Loss Date 0.1525 Validation Loss Amount 0.1849 Validation Loss Country 0.3812 Accuracy Date 0.9440 Accuracy Amount 0.5613 Accuracy Country 0.9328\n",
            "Time taken for 1 epoch: 1426.96 secs\n",
            "\n",
            "Epoch 7 Batch 0  Training Loss Date 0.1558 Training Loss Amount 0.2178 Training Loss Country 0.1653 Accuracy Date 0.9355 Accuracy Amount 0.6766 Accuracy Country 0.9531\n",
            "Epoch 7 Batch 100  Training Loss Date 0.1622 Training Loss Amount 0.1982 Training Loss Country 0.1964 Accuracy Date 0.9395 Accuracy Amount 0.5563 Accuracy Country 0.9578\n",
            "Epoch 7 Batch 200  Training Loss Date 0.1613 Training Loss Amount 0.1987 Training Loss Country 0.1905 Accuracy Date 0.9400 Accuracy Amount 0.5555 Accuracy Country 0.9593\n",
            "Epoch 7 Batch 300  Training Loss Date 0.1598 Training Loss Amount 0.1978 Training Loss Country 0.1887 Accuracy Date 0.9402 Accuracy Amount 0.5557 Accuracy Country 0.9599\n",
            "Epoch 7 Batch 400  Training Loss Date 0.1597 Training Loss Amount 0.1981 Training Loss Country 0.1852 Accuracy Date 0.9403 Accuracy Amount 0.5578 Accuracy Country 0.9607\n",
            "Epoch 7 Batch 500  Training Loss Date 0.1591 Training Loss Amount 0.1972 Training Loss Country 0.1861 Accuracy Date 0.9406 Accuracy Amount 0.5576 Accuracy Country 0.9605\n",
            "Epoch 7 Batch 600  Training Loss Date 0.1590 Training Loss Amount 0.1973 Training Loss Country 0.1868 Accuracy Date 0.9406 Accuracy Amount 0.5546 Accuracy Country 0.9599\n",
            "Epoch 7 Batch 700  Training Loss Date 0.1591 Training Loss Amount 0.1979 Training Loss Country 0.1854 Accuracy Date 0.9405 Accuracy Amount 0.5573 Accuracy Country 0.9602\n",
            "Epoch 7 Batch 800  Training Loss Date 0.1593 Training Loss Amount 0.1982 Training Loss Country 0.1871 Accuracy Date 0.9404 Accuracy Amount 0.5564 Accuracy Country 0.9601\n",
            "Epoch 7 Batch 900  Training Loss Date 0.1593 Training Loss Amount 0.1982 Training Loss Country 0.1860 Accuracy Date 0.9403 Accuracy Amount 0.5573 Accuracy Country 0.9602\n",
            "Epoch 7 Batch 1000  Training Loss Date 0.1592 Training Loss Amount 0.1974 Training Loss Country 0.1872 Accuracy Date 0.9403 Accuracy Amount 0.5572 Accuracy Country 0.9598\n",
            "Epoch 7 Batch 1100  Training Loss Date 0.1590 Training Loss Amount 0.1978 Training Loss Country 0.1873 Accuracy Date 0.9403 Accuracy Amount 0.5575 Accuracy Country 0.9598\n",
            "Epoch 7 Batch 1200  Training Loss Date 0.1591 Training Loss Amount 0.1973 Training Loss Country 0.1864 Accuracy Date 0.9403 Accuracy Amount 0.5587 Accuracy Country 0.9598\n",
            "Epoch 7 Batch 1300  Training Loss Date 0.1588 Training Loss Amount 0.1973 Training Loss Country 0.1866 Accuracy Date 0.9403 Accuracy Amount 0.5580 Accuracy Country 0.9597\n",
            "Epoch 7 Batch 1400  Training Loss Date 0.1584 Training Loss Amount 0.1967 Training Loss Country 0.1876 Accuracy Date 0.9405 Accuracy Amount 0.5578 Accuracy Country 0.9597\n",
            "Epoch 7 Batch 1500  Training Loss Date 0.1585 Training Loss Amount 0.1968 Training Loss Country 0.1886 Accuracy Date 0.9405 Accuracy Amount 0.5583 Accuracy Country 0.9595\n",
            "Epoch 7 Batch 1600  Training Loss Date 0.1584 Training Loss Amount 0.1963 Training Loss Country 0.1891 Accuracy Date 0.9405 Accuracy Amount 0.5579 Accuracy Country 0.9593\n",
            "Epoch 7 Batch 1700  Training Loss Date 0.1582 Training Loss Amount 0.1959 Training Loss Country 0.1885 Accuracy Date 0.9406 Accuracy Amount 0.5580 Accuracy Country 0.9593\n",
            "Epoch 7 Batch 1800  Training Loss Date 0.1580 Training Loss Amount 0.1958 Training Loss Country 0.1881 Accuracy Date 0.9406 Accuracy Amount 0.5580 Accuracy Country 0.9594\n",
            "Epoch 7 Batch 1900  Training Loss Date 0.1577 Training Loss Amount 0.1955 Training Loss Country 0.1878 Accuracy Date 0.9408 Accuracy Amount 0.5587 Accuracy Country 0.9593\n",
            "Epoch 7 Batch 2000  Training Loss Date 0.1575 Training Loss Amount 0.1952 Training Loss Country 0.1878 Accuracy Date 0.9408 Accuracy Amount 0.5585 Accuracy Country 0.9592\n",
            "Epoch 7 Batch 2100  Training Loss Date 0.1575 Training Loss Amount 0.1950 Training Loss Country 0.1862 Accuracy Date 0.9408 Accuracy Amount 0.5587 Accuracy Country 0.9595\n",
            "Epoch 7 Batch 2200  Training Loss Date 0.1576 Training Loss Amount 0.1950 Training Loss Country 0.1851 Accuracy Date 0.9408 Accuracy Amount 0.5588 Accuracy Country 0.9598\n",
            "Epoch 7 Batch 2300  Training Loss Date 0.1576 Training Loss Amount 0.1948 Training Loss Country 0.1850 Accuracy Date 0.9408 Accuracy Amount 0.5588 Accuracy Country 0.9598\n",
            "Epoch 7 Batch 2400  Training Loss Date 0.1572 Training Loss Amount 0.1947 Training Loss Country 0.1838 Accuracy Date 0.9409 Accuracy Amount 0.5599 Accuracy Country 0.9599\n",
            "Epoch 7 Batch 2500  Training Loss Date 0.1570 Training Loss Amount 0.1944 Training Loss Country 0.1833 Accuracy Date 0.9410 Accuracy Amount 0.5606 Accuracy Country 0.9600\n",
            "Epoch 7 Batch 2600  Training Loss Date 0.1571 Training Loss Amount 0.1943 Training Loss Country 0.1838 Accuracy Date 0.9410 Accuracy Amount 0.5603 Accuracy Country 0.9599\n",
            "Epoch 7 Batch 2700  Training Loss Date 0.1571 Training Loss Amount 0.1938 Training Loss Country 0.1837 Accuracy Date 0.9410 Accuracy Amount 0.5604 Accuracy Country 0.9597\n",
            "Epoch 7 Batch 2800  Training Loss Date 0.1570 Training Loss Amount 0.1937 Training Loss Country 0.1843 Accuracy Date 0.9411 Accuracy Amount 0.5606 Accuracy Country 0.9597\n",
            "Epoch 7 Batch 2900  Training Loss Date 0.1567 Training Loss Amount 0.1936 Training Loss Country 0.1842 Accuracy Date 0.9412 Accuracy Amount 0.5608 Accuracy Country 0.9597\n",
            "Epoch 7 Batch 3000  Training Loss Date 0.1566 Training Loss Amount 0.1937 Training Loss Country 0.1835 Accuracy Date 0.9412 Accuracy Amount 0.5610 Accuracy Country 0.9598\n",
            "Epoch 7 Batch 3100  Training Loss Date 0.1565 Training Loss Amount 0.1933 Training Loss Country 0.1835 Accuracy Date 0.9412 Accuracy Amount 0.5605 Accuracy Country 0.9598\n",
            "Epoch 7 Batch 3200  Training Loss Date 0.1564 Training Loss Amount 0.1932 Training Loss Country 0.1831 Accuracy Date 0.9413 Accuracy Amount 0.5608 Accuracy Country 0.9599\n",
            "Epoch 7 Batch 3300  Training Loss Date 0.1562 Training Loss Amount 0.1931 Training Loss Country 0.1827 Accuracy Date 0.9414 Accuracy Amount 0.5611 Accuracy Country 0.9600\n",
            "Epoch 7 Batch 3400  Training Loss Date 0.1562 Training Loss Amount 0.1931 Training Loss Country 0.1821 Accuracy Date 0.9414 Accuracy Amount 0.5611 Accuracy Country 0.9601\n",
            "Epoch 7 Batch 3500  Training Loss Date 0.1561 Training Loss Amount 0.1928 Training Loss Country 0.1816 Accuracy Date 0.9414 Accuracy Amount 0.5610 Accuracy Country 0.9601\n",
            "Epoch 7 Batch 3600  Training Loss Date 0.1560 Training Loss Amount 0.1925 Training Loss Country 0.1813 Accuracy Date 0.9415 Accuracy Amount 0.5607 Accuracy Country 0.9601\n",
            "Epoch 7 Batch 3700  Training Loss Date 0.1559 Training Loss Amount 0.1924 Training Loss Country 0.1807 Accuracy Date 0.9415 Accuracy Amount 0.5607 Accuracy Country 0.9602\n",
            "Epoch 7 Batch 3800  Training Loss Date 0.1559 Training Loss Amount 0.1922 Training Loss Country 0.1808 Accuracy Date 0.9415 Accuracy Amount 0.5607 Accuracy Country 0.9603\n",
            "Epoch 7 Batch 3900  Training Loss Date 0.1559 Training Loss Amount 0.1920 Training Loss Country 0.1809 Accuracy Date 0.9415 Accuracy Amount 0.5601 Accuracy Country 0.9602\n",
            "Epoch 7 Batch 4000  Training Loss Date 0.1558 Training Loss Amount 0.1918 Training Loss Country 0.1807 Accuracy Date 0.9415 Accuracy Amount 0.5600 Accuracy Country 0.9602\n",
            "Epoch 7 Batch 4100  Training Loss Date 0.1556 Training Loss Amount 0.1917 Training Loss Country 0.1806 Accuracy Date 0.9416 Accuracy Amount 0.5601 Accuracy Country 0.9603\n",
            "Epoch 7 Batch 4200  Training Loss Date 0.1555 Training Loss Amount 0.1914 Training Loss Country 0.1801 Accuracy Date 0.9416 Accuracy Amount 0.5599 Accuracy Country 0.9603\n",
            "Epoch 7 Batch 4300  Training Loss Date 0.1555 Training Loss Amount 0.1913 Training Loss Country 0.1801 Accuracy Date 0.9416 Accuracy Amount 0.5599 Accuracy Country 0.9603\n",
            "Epoch 7 Batch 4400  Training Loss Date 0.1554 Training Loss Amount 0.1914 Training Loss Country 0.1799 Accuracy Date 0.9417 Accuracy Amount 0.5602 Accuracy Country 0.9603\n",
            "Saving checkpoint for epoch 7 at ./checkpoints/train/ckpt-7\n",
            "Epoch 7 Training Loss Date 0.1554 Training Loss Amount 0.1914 Training Loss Country 0.1800 Accuracy Date 0.9417 Accuracy Amount 0.5603 Accuracy Country 0.9603\n",
            "Epoch 7 Validation Loss Date 0.1430 Validation Loss Amount 0.1822 Validation Loss Country 0.4131 Accuracy Date 0.9470 Accuracy Amount 0.5636 Accuracy Country 0.9307\n",
            "Time taken for 1 epoch: 1415.14 secs\n",
            "\n",
            "Epoch 8 Batch 0  Training Loss Date 0.1378 Training Loss Amount 0.1404 Training Loss Country 0.0949 Accuracy Date 0.9443 Accuracy Amount 0.5898 Accuracy Country 0.9688\n",
            "Epoch 8 Batch 100  Training Loss Date 0.1516 Training Loss Amount 0.1849 Training Loss Country 0.1891 Accuracy Date 0.9434 Accuracy Amount 0.5417 Accuracy Country 0.9573\n",
            "Epoch 8 Batch 200  Training Loss Date 0.1514 Training Loss Amount 0.1863 Training Loss Country 0.1887 Accuracy Date 0.9436 Accuracy Amount 0.5465 Accuracy Country 0.9597\n",
            "Epoch 8 Batch 300  Training Loss Date 0.1507 Training Loss Amount 0.1858 Training Loss Country 0.1836 Accuracy Date 0.9438 Accuracy Amount 0.5520 Accuracy Country 0.9604\n",
            "Epoch 8 Batch 400  Training Loss Date 0.1500 Training Loss Amount 0.1857 Training Loss Country 0.1741 Accuracy Date 0.9441 Accuracy Amount 0.5555 Accuracy Country 0.9625\n",
            "Epoch 8 Batch 500  Training Loss Date 0.1497 Training Loss Amount 0.1858 Training Loss Country 0.1755 Accuracy Date 0.9441 Accuracy Amount 0.5582 Accuracy Country 0.9625\n",
            "Epoch 8 Batch 600  Training Loss Date 0.1504 Training Loss Amount 0.1861 Training Loss Country 0.1758 Accuracy Date 0.9438 Accuracy Amount 0.5604 Accuracy Country 0.9620\n",
            "Epoch 8 Batch 700  Training Loss Date 0.1503 Training Loss Amount 0.1859 Training Loss Country 0.1730 Accuracy Date 0.9438 Accuracy Amount 0.5605 Accuracy Country 0.9624\n",
            "Epoch 8 Batch 800  Training Loss Date 0.1499 Training Loss Amount 0.1855 Training Loss Country 0.1741 Accuracy Date 0.9440 Accuracy Amount 0.5610 Accuracy Country 0.9620\n",
            "Epoch 8 Batch 900  Training Loss Date 0.1497 Training Loss Amount 0.1857 Training Loss Country 0.1742 Accuracy Date 0.9439 Accuracy Amount 0.5614 Accuracy Country 0.9617\n",
            "Epoch 8 Batch 1000  Training Loss Date 0.1497 Training Loss Amount 0.1851 Training Loss Country 0.1742 Accuracy Date 0.9439 Accuracy Amount 0.5599 Accuracy Country 0.9617\n",
            "Epoch 8 Batch 1100  Training Loss Date 0.1493 Training Loss Amount 0.1849 Training Loss Country 0.1733 Accuracy Date 0.9440 Accuracy Amount 0.5604 Accuracy Country 0.9621\n",
            "Epoch 8 Batch 1200  Training Loss Date 0.1494 Training Loss Amount 0.1850 Training Loss Country 0.1732 Accuracy Date 0.9439 Accuracy Amount 0.5609 Accuracy Country 0.9620\n",
            "Epoch 8 Batch 1300  Training Loss Date 0.1492 Training Loss Amount 0.1858 Training Loss Country 0.1740 Accuracy Date 0.9440 Accuracy Amount 0.5612 Accuracy Country 0.9619\n",
            "Epoch 8 Batch 1400  Training Loss Date 0.1490 Training Loss Amount 0.1854 Training Loss Country 0.1731 Accuracy Date 0.9440 Accuracy Amount 0.5622 Accuracy Country 0.9620\n",
            "Epoch 8 Batch 1500  Training Loss Date 0.1495 Training Loss Amount 0.1853 Training Loss Country 0.1731 Accuracy Date 0.9439 Accuracy Amount 0.5624 Accuracy Country 0.9619\n",
            "Epoch 8 Batch 1600  Training Loss Date 0.1495 Training Loss Amount 0.1853 Training Loss Country 0.1735 Accuracy Date 0.9439 Accuracy Amount 0.5624 Accuracy Country 0.9618\n",
            "Epoch 8 Batch 1700  Training Loss Date 0.1493 Training Loss Amount 0.1849 Training Loss Country 0.1730 Accuracy Date 0.9440 Accuracy Amount 0.5622 Accuracy Country 0.9618\n",
            "Epoch 8 Batch 1800  Training Loss Date 0.1490 Training Loss Amount 0.1846 Training Loss Country 0.1717 Accuracy Date 0.9441 Accuracy Amount 0.5619 Accuracy Country 0.9621\n",
            "Epoch 8 Batch 1900  Training Loss Date 0.1491 Training Loss Amount 0.1845 Training Loss Country 0.1710 Accuracy Date 0.9440 Accuracy Amount 0.5622 Accuracy Country 0.9622\n",
            "Epoch 8 Batch 2000  Training Loss Date 0.1488 Training Loss Amount 0.1845 Training Loss Country 0.1706 Accuracy Date 0.9441 Accuracy Amount 0.5618 Accuracy Country 0.9622\n",
            "Epoch 8 Batch 2100  Training Loss Date 0.1488 Training Loss Amount 0.1844 Training Loss Country 0.1701 Accuracy Date 0.9441 Accuracy Amount 0.5623 Accuracy Country 0.9623\n",
            "Epoch 8 Batch 2200  Training Loss Date 0.1489 Training Loss Amount 0.1841 Training Loss Country 0.1707 Accuracy Date 0.9441 Accuracy Amount 0.5622 Accuracy Country 0.9622\n",
            "Epoch 8 Batch 2300  Training Loss Date 0.1487 Training Loss Amount 0.1840 Training Loss Country 0.1709 Accuracy Date 0.9442 Accuracy Amount 0.5628 Accuracy Country 0.9622\n",
            "Epoch 8 Batch 2400  Training Loss Date 0.1485 Training Loss Amount 0.1837 Training Loss Country 0.1705 Accuracy Date 0.9443 Accuracy Amount 0.5627 Accuracy Country 0.9622\n",
            "Epoch 8 Batch 2500  Training Loss Date 0.1485 Training Loss Amount 0.1836 Training Loss Country 0.1699 Accuracy Date 0.9443 Accuracy Amount 0.5632 Accuracy Country 0.9623\n",
            "Epoch 8 Batch 2600  Training Loss Date 0.1486 Training Loss Amount 0.1831 Training Loss Country 0.1707 Accuracy Date 0.9442 Accuracy Amount 0.5631 Accuracy Country 0.9621\n",
            "Epoch 8 Batch 2700  Training Loss Date 0.1487 Training Loss Amount 0.1830 Training Loss Country 0.1698 Accuracy Date 0.9442 Accuracy Amount 0.5635 Accuracy Country 0.9623\n",
            "Epoch 8 Batch 2800  Training Loss Date 0.1488 Training Loss Amount 0.1830 Training Loss Country 0.1706 Accuracy Date 0.9442 Accuracy Amount 0.5636 Accuracy Country 0.9621\n",
            "Epoch 8 Batch 2900  Training Loss Date 0.1486 Training Loss Amount 0.1829 Training Loss Country 0.1701 Accuracy Date 0.9443 Accuracy Amount 0.5639 Accuracy Country 0.9622\n",
            "Epoch 8 Batch 3000  Training Loss Date 0.1485 Training Loss Amount 0.1826 Training Loss Country 0.1701 Accuracy Date 0.9443 Accuracy Amount 0.5636 Accuracy Country 0.9623\n",
            "Epoch 8 Batch 3100  Training Loss Date 0.1484 Training Loss Amount 0.1826 Training Loss Country 0.1701 Accuracy Date 0.9443 Accuracy Amount 0.5635 Accuracy Country 0.9623\n",
            "Epoch 8 Batch 3200  Training Loss Date 0.1484 Training Loss Amount 0.1824 Training Loss Country 0.1702 Accuracy Date 0.9443 Accuracy Amount 0.5633 Accuracy Country 0.9622\n",
            "Epoch 8 Batch 3300  Training Loss Date 0.1483 Training Loss Amount 0.1823 Training Loss Country 0.1702 Accuracy Date 0.9444 Accuracy Amount 0.5637 Accuracy Country 0.9623\n",
            "Epoch 8 Batch 3400  Training Loss Date 0.1483 Training Loss Amount 0.1821 Training Loss Country 0.1700 Accuracy Date 0.9444 Accuracy Amount 0.5638 Accuracy Country 0.9623\n",
            "Epoch 8 Batch 3500  Training Loss Date 0.1481 Training Loss Amount 0.1819 Training Loss Country 0.1699 Accuracy Date 0.9444 Accuracy Amount 0.5636 Accuracy Country 0.9622\n",
            "Epoch 8 Batch 3600  Training Loss Date 0.1481 Training Loss Amount 0.1818 Training Loss Country 0.1695 Accuracy Date 0.9445 Accuracy Amount 0.5634 Accuracy Country 0.9623\n",
            "Epoch 8 Batch 3700  Training Loss Date 0.1479 Training Loss Amount 0.1818 Training Loss Country 0.1691 Accuracy Date 0.9445 Accuracy Amount 0.5636 Accuracy Country 0.9624\n",
            "Epoch 8 Batch 3800  Training Loss Date 0.1479 Training Loss Amount 0.1817 Training Loss Country 0.1688 Accuracy Date 0.9445 Accuracy Amount 0.5631 Accuracy Country 0.9625\n",
            "Epoch 8 Batch 3900  Training Loss Date 0.1479 Training Loss Amount 0.1816 Training Loss Country 0.1684 Accuracy Date 0.9445 Accuracy Amount 0.5629 Accuracy Country 0.9626\n",
            "Epoch 8 Batch 4000  Training Loss Date 0.1479 Training Loss Amount 0.1815 Training Loss Country 0.1687 Accuracy Date 0.9445 Accuracy Amount 0.5627 Accuracy Country 0.9626\n",
            "Epoch 8 Batch 4100  Training Loss Date 0.1479 Training Loss Amount 0.1814 Training Loss Country 0.1681 Accuracy Date 0.9445 Accuracy Amount 0.5627 Accuracy Country 0.9627\n",
            "Epoch 8 Batch 4200  Training Loss Date 0.1478 Training Loss Amount 0.1813 Training Loss Country 0.1679 Accuracy Date 0.9445 Accuracy Amount 0.5626 Accuracy Country 0.9628\n",
            "Epoch 8 Batch 4300  Training Loss Date 0.1478 Training Loss Amount 0.1812 Training Loss Country 0.1675 Accuracy Date 0.9445 Accuracy Amount 0.5627 Accuracy Country 0.9628\n",
            "Epoch 8 Batch 4400  Training Loss Date 0.1478 Training Loss Amount 0.1811 Training Loss Country 0.1673 Accuracy Date 0.9445 Accuracy Amount 0.5627 Accuracy Country 0.9629\n",
            "Saving checkpoint for epoch 8 at ./checkpoints/train/ckpt-8\n",
            "Epoch 8 Training Loss Date 0.1478 Training Loss Amount 0.1811 Training Loss Country 0.1675 Accuracy Date 0.9446 Accuracy Amount 0.5627 Accuracy Country 0.9629\n",
            "Epoch 8 Validation Loss Date 0.1420 Validation Loss Amount 0.1752 Validation Loss Country 0.4179 Accuracy Date 0.9476 Accuracy Amount 0.5644 Accuracy Country 0.9328\n",
            "Time taken for 1 epoch: 1412.46 secs\n",
            "\n",
            "Epoch 9 Batch 0  Training Loss Date 0.1178 Training Loss Amount 0.1544 Training Loss Country 0.1461 Accuracy Date 0.9551 Accuracy Amount 0.5100 Accuracy Country 0.9688\n",
            "Epoch 9 Batch 100  Training Loss Date 0.1443 Training Loss Amount 0.1714 Training Loss Country 0.1736 Accuracy Date 0.9460 Accuracy Amount 0.5469 Accuracy Country 0.9612\n",
            "Epoch 9 Batch 200  Training Loss Date 0.1447 Training Loss Amount 0.1782 Training Loss Country 0.1833 Accuracy Date 0.9455 Accuracy Amount 0.5518 Accuracy Country 0.9592\n",
            "Epoch 9 Batch 300  Training Loss Date 0.1442 Training Loss Amount 0.1792 Training Loss Country 0.1743 Accuracy Date 0.9457 Accuracy Amount 0.5616 Accuracy Country 0.9612\n",
            "Epoch 9 Batch 400  Training Loss Date 0.1441 Training Loss Amount 0.1784 Training Loss Country 0.1710 Accuracy Date 0.9457 Accuracy Amount 0.5598 Accuracy Country 0.9622\n",
            "Epoch 9 Batch 500  Training Loss Date 0.1441 Training Loss Amount 0.1778 Training Loss Country 0.1662 Accuracy Date 0.9455 Accuracy Amount 0.5619 Accuracy Country 0.9632\n",
            "Epoch 9 Batch 600  Training Loss Date 0.1444 Training Loss Amount 0.1775 Training Loss Country 0.1643 Accuracy Date 0.9455 Accuracy Amount 0.5608 Accuracy Country 0.9636\n",
            "Epoch 9 Batch 700  Training Loss Date 0.1446 Training Loss Amount 0.1784 Training Loss Country 0.1644 Accuracy Date 0.9455 Accuracy Amount 0.5617 Accuracy Country 0.9633\n",
            "Epoch 9 Batch 800  Training Loss Date 0.1441 Training Loss Amount 0.1783 Training Loss Country 0.1626 Accuracy Date 0.9457 Accuracy Amount 0.5640 Accuracy Country 0.9636\n",
            "Epoch 9 Batch 900  Training Loss Date 0.1437 Training Loss Amount 0.1778 Training Loss Country 0.1629 Accuracy Date 0.9459 Accuracy Amount 0.5660 Accuracy Country 0.9638\n",
            "Epoch 9 Batch 1000  Training Loss Date 0.1439 Training Loss Amount 0.1775 Training Loss Country 0.1628 Accuracy Date 0.9458 Accuracy Amount 0.5656 Accuracy Country 0.9638\n",
            "Epoch 9 Batch 1100  Training Loss Date 0.1436 Training Loss Amount 0.1772 Training Loss Country 0.1613 Accuracy Date 0.9459 Accuracy Amount 0.5654 Accuracy Country 0.9642\n",
            "Epoch 9 Batch 1200  Training Loss Date 0.1432 Training Loss Amount 0.1772 Training Loss Country 0.1629 Accuracy Date 0.9460 Accuracy Amount 0.5645 Accuracy Country 0.9636\n",
            "Epoch 9 Batch 1300  Training Loss Date 0.1434 Training Loss Amount 0.1769 Training Loss Country 0.1623 Accuracy Date 0.9460 Accuracy Amount 0.5641 Accuracy Country 0.9635\n",
            "Epoch 9 Batch 1400  Training Loss Date 0.1435 Training Loss Amount 0.1770 Training Loss Country 0.1610 Accuracy Date 0.9460 Accuracy Amount 0.5643 Accuracy Country 0.9638\n",
            "Epoch 9 Batch 1500  Training Loss Date 0.1436 Training Loss Amount 0.1766 Training Loss Country 0.1611 Accuracy Date 0.9459 Accuracy Amount 0.5643 Accuracy Country 0.9638\n",
            "Epoch 9 Batch 1600  Training Loss Date 0.1436 Training Loss Amount 0.1767 Training Loss Country 0.1603 Accuracy Date 0.9459 Accuracy Amount 0.5643 Accuracy Country 0.9639\n",
            "Epoch 9 Batch 1700  Training Loss Date 0.1434 Training Loss Amount 0.1767 Training Loss Country 0.1602 Accuracy Date 0.9460 Accuracy Amount 0.5648 Accuracy Country 0.9640\n",
            "Epoch 9 Batch 1800  Training Loss Date 0.1433 Training Loss Amount 0.1766 Training Loss Country 0.1606 Accuracy Date 0.9460 Accuracy Amount 0.5646 Accuracy Country 0.9639\n",
            "Epoch 9 Batch 1900  Training Loss Date 0.1432 Training Loss Amount 0.1767 Training Loss Country 0.1599 Accuracy Date 0.9460 Accuracy Amount 0.5644 Accuracy Country 0.9640\n",
            "Epoch 9 Batch 2000  Training Loss Date 0.1431 Training Loss Amount 0.1765 Training Loss Country 0.1605 Accuracy Date 0.9460 Accuracy Amount 0.5642 Accuracy Country 0.9639\n",
            "Epoch 9 Batch 2100  Training Loss Date 0.1432 Training Loss Amount 0.1765 Training Loss Country 0.1597 Accuracy Date 0.9460 Accuracy Amount 0.5642 Accuracy Country 0.9642\n",
            "Epoch 9 Batch 2200  Training Loss Date 0.1430 Training Loss Amount 0.1759 Training Loss Country 0.1587 Accuracy Date 0.9461 Accuracy Amount 0.5638 Accuracy Country 0.9645\n",
            "Epoch 9 Batch 2300  Training Loss Date 0.1431 Training Loss Amount 0.1760 Training Loss Country 0.1588 Accuracy Date 0.9460 Accuracy Amount 0.5638 Accuracy Country 0.9645\n",
            "Epoch 9 Batch 2400  Training Loss Date 0.1432 Training Loss Amount 0.1760 Training Loss Country 0.1586 Accuracy Date 0.9461 Accuracy Amount 0.5637 Accuracy Country 0.9646\n",
            "Epoch 9 Batch 2500  Training Loss Date 0.1432 Training Loss Amount 0.1759 Training Loss Country 0.1583 Accuracy Date 0.9461 Accuracy Amount 0.5642 Accuracy Country 0.9646\n",
            "Epoch 9 Batch 2600  Training Loss Date 0.1431 Training Loss Amount 0.1756 Training Loss Country 0.1586 Accuracy Date 0.9461 Accuracy Amount 0.5644 Accuracy Country 0.9646\n",
            "Epoch 9 Batch 2700  Training Loss Date 0.1429 Training Loss Amount 0.1756 Training Loss Country 0.1588 Accuracy Date 0.9462 Accuracy Amount 0.5650 Accuracy Country 0.9646\n",
            "Epoch 9 Batch 2800  Training Loss Date 0.1429 Training Loss Amount 0.1757 Training Loss Country 0.1591 Accuracy Date 0.9462 Accuracy Amount 0.5652 Accuracy Country 0.9646\n",
            "Epoch 9 Batch 2900  Training Loss Date 0.1428 Training Loss Amount 0.1755 Training Loss Country 0.1588 Accuracy Date 0.9462 Accuracy Amount 0.5649 Accuracy Country 0.9647\n",
            "Epoch 9 Batch 3000  Training Loss Date 0.1427 Training Loss Amount 0.1753 Training Loss Country 0.1583 Accuracy Date 0.9463 Accuracy Amount 0.5655 Accuracy Country 0.9647\n",
            "Epoch 9 Batch 3100  Training Loss Date 0.1426 Training Loss Amount 0.1752 Training Loss Country 0.1583 Accuracy Date 0.9463 Accuracy Amount 0.5654 Accuracy Country 0.9647\n",
            "Epoch 9 Batch 3200  Training Loss Date 0.1426 Training Loss Amount 0.1752 Training Loss Country 0.1577 Accuracy Date 0.9463 Accuracy Amount 0.5655 Accuracy Country 0.9649\n",
            "Epoch 9 Batch 3300  Training Loss Date 0.1425 Training Loss Amount 0.1751 Training Loss Country 0.1573 Accuracy Date 0.9464 Accuracy Amount 0.5657 Accuracy Country 0.9650\n",
            "Epoch 9 Batch 3400  Training Loss Date 0.1424 Training Loss Amount 0.1750 Training Loss Country 0.1576 Accuracy Date 0.9464 Accuracy Amount 0.5657 Accuracy Country 0.9650\n",
            "Epoch 9 Batch 3500  Training Loss Date 0.1424 Training Loss Amount 0.1749 Training Loss Country 0.1573 Accuracy Date 0.9464 Accuracy Amount 0.5654 Accuracy Country 0.9650\n",
            "Epoch 9 Batch 3600  Training Loss Date 0.1425 Training Loss Amount 0.1749 Training Loss Country 0.1569 Accuracy Date 0.9464 Accuracy Amount 0.5652 Accuracy Country 0.9650\n",
            "Epoch 9 Batch 3700  Training Loss Date 0.1424 Training Loss Amount 0.1750 Training Loss Country 0.1568 Accuracy Date 0.9464 Accuracy Amount 0.5654 Accuracy Country 0.9651\n",
            "Epoch 9 Batch 3800  Training Loss Date 0.1424 Training Loss Amount 0.1750 Training Loss Country 0.1568 Accuracy Date 0.9464 Accuracy Amount 0.5651 Accuracy Country 0.9652\n",
            "Epoch 9 Batch 3900  Training Loss Date 0.1424 Training Loss Amount 0.1749 Training Loss Country 0.1568 Accuracy Date 0.9464 Accuracy Amount 0.5648 Accuracy Country 0.9652\n",
            "Epoch 9 Batch 4000  Training Loss Date 0.1424 Training Loss Amount 0.1748 Training Loss Country 0.1563 Accuracy Date 0.9464 Accuracy Amount 0.5646 Accuracy Country 0.9653\n",
            "Epoch 9 Batch 4100  Training Loss Date 0.1425 Training Loss Amount 0.1748 Training Loss Country 0.1566 Accuracy Date 0.9464 Accuracy Amount 0.5645 Accuracy Country 0.9653\n",
            "Epoch 9 Batch 4200  Training Loss Date 0.1425 Training Loss Amount 0.1748 Training Loss Country 0.1566 Accuracy Date 0.9464 Accuracy Amount 0.5645 Accuracy Country 0.9653\n",
            "Epoch 9 Batch 4300  Training Loss Date 0.1425 Training Loss Amount 0.1747 Training Loss Country 0.1564 Accuracy Date 0.9463 Accuracy Amount 0.5644 Accuracy Country 0.9653\n",
            "Epoch 9 Batch 4400  Training Loss Date 0.1424 Training Loss Amount 0.1746 Training Loss Country 0.1560 Accuracy Date 0.9464 Accuracy Amount 0.5649 Accuracy Country 0.9654\n",
            "Saving checkpoint for epoch 9 at ./checkpoints/train/ckpt-9\n",
            "Epoch 9 Training Loss Date 0.1424 Training Loss Amount 0.1747 Training Loss Country 0.1560 Accuracy Date 0.9464 Accuracy Amount 0.5649 Accuracy Country 0.9654\n",
            "Epoch 9 Validation Loss Date 0.1381 Validation Loss Amount 0.1762 Validation Loss Country 0.4577 Accuracy Date 0.9491 Accuracy Amount 0.5655 Accuracy Country 0.9309\n",
            "Time taken for 1 epoch: 1411.15 secs\n",
            "\n",
            "Epoch 10 Batch 0  Training Loss Date 0.1563 Training Loss Amount 0.2611 Training Loss Country 0.0248 Accuracy Date 0.9434 Accuracy Amount 0.7188 Accuracy Country 1.0000\n",
            "Epoch 10 Batch 100  Training Loss Date 0.1417 Training Loss Amount 0.1769 Training Loss Country 0.1532 Accuracy Date 0.9457 Accuracy Amount 0.5835 Accuracy Country 0.9650\n",
            "Epoch 10 Batch 200  Training Loss Date 0.1392 Training Loss Amount 0.1738 Training Loss Country 0.1488 Accuracy Date 0.9471 Accuracy Amount 0.5753 Accuracy Country 0.9670\n",
            "Epoch 10 Batch 300  Training Loss Date 0.1387 Training Loss Amount 0.1734 Training Loss Country 0.1542 Accuracy Date 0.9478 Accuracy Amount 0.5722 Accuracy Country 0.9661\n",
            "Epoch 10 Batch 400  Training Loss Date 0.1393 Training Loss Amount 0.1735 Training Loss Country 0.1525 Accuracy Date 0.9477 Accuracy Amount 0.5693 Accuracy Country 0.9663\n",
            "Epoch 10 Batch 500  Training Loss Date 0.1391 Training Loss Amount 0.1731 Training Loss Country 0.1515 Accuracy Date 0.9478 Accuracy Amount 0.5655 Accuracy Country 0.9664\n",
            "Epoch 10 Batch 600  Training Loss Date 0.1391 Training Loss Amount 0.1737 Training Loss Country 0.1540 Accuracy Date 0.9477 Accuracy Amount 0.5646 Accuracy Country 0.9664\n",
            "Epoch 10 Batch 700  Training Loss Date 0.1392 Training Loss Amount 0.1726 Training Loss Country 0.1533 Accuracy Date 0.9478 Accuracy Amount 0.5640 Accuracy Country 0.9660\n",
            "Epoch 10 Batch 800  Training Loss Date 0.1391 Training Loss Amount 0.1727 Training Loss Country 0.1522 Accuracy Date 0.9477 Accuracy Amount 0.5646 Accuracy Country 0.9662\n",
            "Epoch 10 Batch 900  Training Loss Date 0.1394 Training Loss Amount 0.1727 Training Loss Country 0.1523 Accuracy Date 0.9477 Accuracy Amount 0.5634 Accuracy Country 0.9663\n",
            "Epoch 10 Batch 1000  Training Loss Date 0.1389 Training Loss Amount 0.1724 Training Loss Country 0.1519 Accuracy Date 0.9478 Accuracy Amount 0.5644 Accuracy Country 0.9662\n",
            "Epoch 10 Batch 1100  Training Loss Date 0.1392 Training Loss Amount 0.1725 Training Loss Country 0.1524 Accuracy Date 0.9476 Accuracy Amount 0.5652 Accuracy Country 0.9663\n",
            "Epoch 10 Batch 1200  Training Loss Date 0.1392 Training Loss Amount 0.1728 Training Loss Country 0.1521 Accuracy Date 0.9476 Accuracy Amount 0.5653 Accuracy Country 0.9662\n",
            "Epoch 10 Batch 1300  Training Loss Date 0.1392 Training Loss Amount 0.1720 Training Loss Country 0.1517 Accuracy Date 0.9476 Accuracy Amount 0.5654 Accuracy Country 0.9663\n",
            "Epoch 10 Batch 1400  Training Loss Date 0.1389 Training Loss Amount 0.1716 Training Loss Country 0.1529 Accuracy Date 0.9477 Accuracy Amount 0.5652 Accuracy Country 0.9662\n",
            "Epoch 10 Batch 1500  Training Loss Date 0.1392 Training Loss Amount 0.1714 Training Loss Country 0.1527 Accuracy Date 0.9475 Accuracy Amount 0.5651 Accuracy Country 0.9662\n",
            "Epoch 10 Batch 1600  Training Loss Date 0.1390 Training Loss Amount 0.1712 Training Loss Country 0.1523 Accuracy Date 0.9476 Accuracy Amount 0.5653 Accuracy Country 0.9663\n",
            "Epoch 10 Batch 1700  Training Loss Date 0.1390 Training Loss Amount 0.1710 Training Loss Country 0.1518 Accuracy Date 0.9476 Accuracy Amount 0.5648 Accuracy Country 0.9663\n",
            "Epoch 10 Batch 1800  Training Loss Date 0.1389 Training Loss Amount 0.1711 Training Loss Country 0.1503 Accuracy Date 0.9476 Accuracy Amount 0.5655 Accuracy Country 0.9666\n",
            "Epoch 10 Batch 1900  Training Loss Date 0.1388 Training Loss Amount 0.1711 Training Loss Country 0.1503 Accuracy Date 0.9476 Accuracy Amount 0.5653 Accuracy Country 0.9666\n",
            "Epoch 10 Batch 2000  Training Loss Date 0.1388 Training Loss Amount 0.1707 Training Loss Country 0.1502 Accuracy Date 0.9477 Accuracy Amount 0.5649 Accuracy Country 0.9667\n",
            "Epoch 10 Batch 2100  Training Loss Date 0.1389 Training Loss Amount 0.1708 Training Loss Country 0.1496 Accuracy Date 0.9477 Accuracy Amount 0.5654 Accuracy Country 0.9668\n",
            "Epoch 10 Batch 2200  Training Loss Date 0.1390 Training Loss Amount 0.1708 Training Loss Country 0.1499 Accuracy Date 0.9476 Accuracy Amount 0.5654 Accuracy Country 0.9669\n",
            "Epoch 10 Batch 2300  Training Loss Date 0.1390 Training Loss Amount 0.1710 Training Loss Country 0.1499 Accuracy Date 0.9476 Accuracy Amount 0.5653 Accuracy Country 0.9668\n",
            "Epoch 10 Batch 2400  Training Loss Date 0.1390 Training Loss Amount 0.1710 Training Loss Country 0.1497 Accuracy Date 0.9476 Accuracy Amount 0.5654 Accuracy Country 0.9668\n",
            "Epoch 10 Batch 2500  Training Loss Date 0.1389 Training Loss Amount 0.1709 Training Loss Country 0.1489 Accuracy Date 0.9476 Accuracy Amount 0.5660 Accuracy Country 0.9670\n",
            "Epoch 10 Batch 2600  Training Loss Date 0.1388 Training Loss Amount 0.1708 Training Loss Country 0.1486 Accuracy Date 0.9477 Accuracy Amount 0.5666 Accuracy Country 0.9671\n",
            "Epoch 10 Batch 2700  Training Loss Date 0.1388 Training Loss Amount 0.1708 Training Loss Country 0.1486 Accuracy Date 0.9477 Accuracy Amount 0.5661 Accuracy Country 0.9670\n",
            "Epoch 10 Batch 2800  Training Loss Date 0.1389 Training Loss Amount 0.1708 Training Loss Country 0.1483 Accuracy Date 0.9476 Accuracy Amount 0.5665 Accuracy Country 0.9669\n",
            "Epoch 10 Batch 2900  Training Loss Date 0.1388 Training Loss Amount 0.1707 Training Loss Country 0.1482 Accuracy Date 0.9477 Accuracy Amount 0.5666 Accuracy Country 0.9670\n",
            "Epoch 10 Batch 3000  Training Loss Date 0.1388 Training Loss Amount 0.1706 Training Loss Country 0.1481 Accuracy Date 0.9477 Accuracy Amount 0.5666 Accuracy Country 0.9671\n",
            "Epoch 10 Batch 3100  Training Loss Date 0.1388 Training Loss Amount 0.1705 Training Loss Country 0.1489 Accuracy Date 0.9477 Accuracy Amount 0.5665 Accuracy Country 0.9670\n",
            "Epoch 10 Batch 3200  Training Loss Date 0.1387 Training Loss Amount 0.1704 Training Loss Country 0.1482 Accuracy Date 0.9477 Accuracy Amount 0.5667 Accuracy Country 0.9671\n",
            "Epoch 10 Batch 3300  Training Loss Date 0.1387 Training Loss Amount 0.1702 Training Loss Country 0.1481 Accuracy Date 0.9477 Accuracy Amount 0.5667 Accuracy Country 0.9671\n",
            "Epoch 10 Batch 3400  Training Loss Date 0.1385 Training Loss Amount 0.1702 Training Loss Country 0.1483 Accuracy Date 0.9478 Accuracy Amount 0.5668 Accuracy Country 0.9671\n",
            "Epoch 10 Batch 3500  Training Loss Date 0.1386 Training Loss Amount 0.1701 Training Loss Country 0.1480 Accuracy Date 0.9478 Accuracy Amount 0.5665 Accuracy Country 0.9672\n",
            "Epoch 10 Batch 3600  Training Loss Date 0.1386 Training Loss Amount 0.1699 Training Loss Country 0.1475 Accuracy Date 0.9478 Accuracy Amount 0.5659 Accuracy Country 0.9672\n",
            "Epoch 10 Batch 3700  Training Loss Date 0.1386 Training Loss Amount 0.1700 Training Loss Country 0.1474 Accuracy Date 0.9477 Accuracy Amount 0.5660 Accuracy Country 0.9673\n",
            "Epoch 10 Batch 3800  Training Loss Date 0.1386 Training Loss Amount 0.1698 Training Loss Country 0.1477 Accuracy Date 0.9477 Accuracy Amount 0.5655 Accuracy Country 0.9673\n",
            "Epoch 10 Batch 3900  Training Loss Date 0.1386 Training Loss Amount 0.1697 Training Loss Country 0.1477 Accuracy Date 0.9477 Accuracy Amount 0.5653 Accuracy Country 0.9673\n",
            "Epoch 10 Batch 4000  Training Loss Date 0.1384 Training Loss Amount 0.1695 Training Loss Country 0.1472 Accuracy Date 0.9478 Accuracy Amount 0.5656 Accuracy Country 0.9674\n",
            "Epoch 10 Batch 4100  Training Loss Date 0.1385 Training Loss Amount 0.1695 Training Loss Country 0.1469 Accuracy Date 0.9478 Accuracy Amount 0.5654 Accuracy Country 0.9674\n",
            "Epoch 10 Batch 4200  Training Loss Date 0.1384 Training Loss Amount 0.1693 Training Loss Country 0.1463 Accuracy Date 0.9478 Accuracy Amount 0.5652 Accuracy Country 0.9675\n",
            "Epoch 10 Batch 4300  Training Loss Date 0.1384 Training Loss Amount 0.1694 Training Loss Country 0.1464 Accuracy Date 0.9478 Accuracy Amount 0.5652 Accuracy Country 0.9675\n",
            "Epoch 10 Batch 4400  Training Loss Date 0.1385 Training Loss Amount 0.1694 Training Loss Country 0.1468 Accuracy Date 0.9478 Accuracy Amount 0.5652 Accuracy Country 0.9674\n",
            "Saving checkpoint for epoch 10 at ./checkpoints/train/ckpt-10\n",
            "Epoch 10 Training Loss Date 0.1385 Training Loss Amount 0.1694 Training Loss Country 0.1469 Accuracy Date 0.9478 Accuracy Amount 0.5652 Accuracy Country 0.9674\n",
            "Epoch 10 Validation Loss Date 0.1335 Validation Loss Amount 0.1741 Validation Loss Country 0.4930 Accuracy Date 0.9496 Accuracy Amount 0.5659 Accuracy Country 0.9291\n",
            "Time taken for 1 epoch: 1418.99 secs\n",
            "\n"
          ],
          "name": "stdout"
        }
      ]
    },
    {
      "cell_type": "markdown",
      "metadata": {
        "colab_type": "text",
        "id": "QfcsSWswSdGV"
      },
      "source": [
        "## Evaluate"
      ]
    },
    {
      "cell_type": "markdown",
      "metadata": {
        "colab_type": "text",
        "id": "y6APsFrgImLW"
      },
      "source": [
        "The following steps are used for evaluation:\n",
        "\n",
        "* Encode the input sentence using the ocr tokenizer (`tokenizer_ocr`). Moreover, add the start and end token so the input is equivalent to what the model is trained with. This is the encoder input.\n",
        "* The decoder input is the `start token == tokenizer_en.vocab_size`.\n",
        "* Calculate the padding masks and the look ahead masks.\n",
        "* The `decoder` then outputs the predictions by looking at the `encoder output` and its own output (self-attention).\n",
        "* Select the last word and calculate the argmax of that.\n",
        "* Concatentate the predicted word to the decoder input as pass it to the decoder.\n",
        "* In this approach, the decoder predicts the next word based on the previous words it predicted.\n",
        "\n",
        "Note: The model used here has less capacity to keep the example relatively faster so the predictions maybe less right. To reproduce the results in the paper, use the entire dataset and base transformer model or transformer XL, by changing the hyperparameters above."
      ]
    },
    {
      "cell_type": "code",
      "metadata": {
        "ExecuteTime": {
          "start_time": "2019-11-10T06:32:19.586Z"
        },
        "colab_type": "code",
        "id": "5buvMlnvyrFm",
        "pycharm": {
          "is_executing": false
        },
        "colab": {}
      },
      "source": [
        "def inference_fast(inp_sentence):\n",
        "  training = False\n",
        "\n",
        "  start_token = [tokenizer_ocr.vocab_size]\n",
        "  end_token = [tokenizer_ocr.vocab_size + 1]\n",
        "  \n",
        "  # inp sentence is portuguese, hence adding the start and end token\n",
        "  inp_sentence = start_token + tokenizer_ocr.encode(inp_sentence) + end_token\n",
        "  encoder_input = tf.expand_dims(inp_sentence, 0)\n",
        "  \n",
        "  # as the target is english, the first word to the transformer should be the\n",
        "  # english start token.\n",
        "  decoder_input_dt = [tokenizer_date.vocab_size]\n",
        "  output_dt = tf.expand_dims(decoder_input_dt, 0)\n",
        "    \n",
        "  decoder_input_amt = [tokenizer_amount.vocab_size]\n",
        "  output_amt = tf.expand_dims(decoder_input_amt, 0)\n",
        "  \n",
        "  enc_padding_mask, combined_mask_dt, dec_padding_mask, combined_mask_amt = create_masks(\n",
        "        encoder_input, output_dt, output_amt)\n",
        "\n",
        "  encoder_out = transformer.encoder(encoder_input, training, enc_padding_mask)\n",
        "\n",
        "  for i in range(MAX_LENGTH):\n",
        "    enc_padding_mask, combined_mask_dt, dec_padding_mask, combined_mask_amt = create_masks(\n",
        "        encoder_input, output_dt, output_amt)\n",
        "    \n",
        "    dec_output_dt, attention_weights_dt = transformer.decoder_dt(\n",
        "        output_dt, encoder_out, training, combined_mask_dt, dec_padding_mask)\n",
        "    \n",
        "    predictions_dt = transformer.final_layer_dt(dec_output_dt)\n",
        "    predictions_dt = predictions_dt[: ,-1:, :]  # (batch_size, 1, vocab_size)\n",
        "    predicted_id_dt = tf.cast(tf.argmax(predictions_dt, axis=-1), tf.int32)\n",
        "    \n",
        "    if predicted_id_dt == tokenizer_date.vocab_size+1:\n",
        "        break\n",
        "    \n",
        "    output_dt = tf.concat([output_dt, predicted_id_dt], axis=-1)\n",
        "    \n",
        "  for i in range(MAX_LENGTH):\n",
        "    enc_padding_mask, combined_mask_dt, dec_padding_mask, combined_mask_amt = create_masks(\n",
        "        encoder_input, output_dt, output_amt)\n",
        "    \n",
        "    dec_output_amt, attention_weights_amt = transformer.decoder_amt(\n",
        "        output_amt, encoder_out, training, combined_mask_amt, dec_padding_mask)\n",
        "    \n",
        "    predictions_amt = transformer.final_layer_amt(dec_output_amt)\n",
        "    predictions_amt = predictions_amt[: ,-1:, :]  # (batch_size, 1, vocab_size)\n",
        "    predicted_id_amt = tf.cast(tf.argmax(predictions_amt, axis=-1), tf.int32)\n",
        "    \n",
        "    if predicted_id_amt == tokenizer_amount.vocab_size+1:\n",
        "        break\n",
        "    \n",
        "    output_amt = tf.concat([output_amt, predicted_id_amt], axis=-1)\n",
        "    \n",
        "  predictions_country = transformer.country_classifier(encoder_out, training)\n",
        "  output_country = tf.squeeze(tf.math.argmax(predictions_country, 1), 0)\n",
        "    \n",
        "  return tf.squeeze(output_dt, axis=0), \\\n",
        "         attention_weights_dt, \\\n",
        "         tf.squeeze(output_amt, axis=0), \\\n",
        "         attention_weights_amt, \\\n",
        "         output_country\n",
        "\n",
        "def inference(inp_sentence):\n",
        "  start_token = [tokenizer_ocr.vocab_size]\n",
        "  end_token = [tokenizer_ocr.vocab_size + 1]\n",
        "  \n",
        "  # inp sentence is portuguese, hence adding the start and end token\n",
        "  inp_sentence = start_token + tokenizer_ocr.encode(inp_sentence) + end_token\n",
        "  encoder_input = tf.expand_dims(inp_sentence, 0)\n",
        "  \n",
        "  # as the target is english, the first word to the transformer should be the\n",
        "  # english start token.\n",
        "  decoder_input_dt = [tokenizer_date.vocab_size]\n",
        "  output_dt = tf.expand_dims(decoder_input_dt, 0)\n",
        "  decoder_input_amt = [tokenizer_amount.vocab_size]\n",
        "  output_amt = tf.expand_dims(decoder_input_amt, 0)\n",
        "  is_decoded_dt = False\n",
        "  is_decoded_amt = False\n",
        "    \n",
        "  for i in range(MAX_LENGTH):\n",
        "    enc_padding_mask, combined_mask_dt, dec_padding_mask, combined_mask_amt = create_masks(\n",
        "        encoder_input, output_dt, output_amt)\n",
        "  \n",
        "    # predictions.shape == (batch_size, seq_len, vocab_size)\n",
        "    predictions_dt, \\\n",
        "    attention_weights_dt, \\\n",
        "    predictions_amt, \\\n",
        "    attention_weights_amt, \\\n",
        "    predictions_country = transformer(encoder_input, \n",
        "                                      output_dt,\n",
        "                                      output_amt,\n",
        "                                      False,\n",
        "                                      enc_padding_mask,\n",
        "                                      combined_mask_dt,\n",
        "                                      combined_mask_amt,\n",
        "                                      dec_padding_mask)\n",
        "    \n",
        "    # select the last word from the seq_len dimension\n",
        "    if not is_decoded_dt:\n",
        "      predictions_dt = predictions_dt[: ,-1:, :]  # (batch_size, 1, vocab_size)\n",
        "      predicted_id_dt = tf.cast(tf.argmax(predictions_dt, axis=-1), tf.int32)\n",
        "\n",
        "    if not is_decoded_amt:\n",
        "      predictions_amt = predictions_amt[: ,-1:, :]\n",
        "      predicted_id_amt = tf.cast(tf.argmax(predictions_amt, axis=-1), tf.int32)\n",
        "    \n",
        "    # return the result if the predicted_id is equal to the end token\n",
        "    if predicted_id_dt == tokenizer_date.vocab_size+1:\n",
        "      is_decoded_dt = True\n",
        "    \n",
        "    if predicted_id_amt == tokenizer_amount.vocab_size+1:\n",
        "      is_decoded_amt = True\n",
        "\n",
        "    if is_decoded_dt and is_decoded_amt:\n",
        "      return tf.squeeze(output_dt, axis=0), \\\n",
        "       attention_weights_dt, \\\n",
        "       tf.squeeze(output_amt, axis=0), \\\n",
        "       attention_weights_amt, \\\n",
        "       tf.squeeze(tf.math.argmax(predictions_country, 1), 0)\n",
        "      \n",
        "    # concatentate the predicted_id to the output which is given to the decoder\n",
        "    # as its input.\n",
        "    if not is_decoded_dt:\n",
        "      output_dt = tf.concat([output_dt, predicted_id_dt], axis=-1)\n",
        "\n",
        "    if not is_decoded_amt:\n",
        "      output_amt = tf.concat([output_amt, predicted_id_amt], axis=-1)\n",
        "\n",
        "  return tf.squeeze(output_dt, axis=0), attention_weights_dt, tf.squeeze(output_amt, axis=0), attention_weights_amt, tf.math.argmax(predictions_country, 1)"
      ],
      "execution_count": 0,
      "outputs": []
    },
    {
      "cell_type": "code",
      "metadata": {
        "ExecuteTime": {
          "start_time": "2019-11-10T06:32:19.589Z"
        },
        "colab_type": "code",
        "id": "CN-BV43FMBej",
        "pycharm": {
          "is_executing": false
        },
        "colab": {}
      },
      "source": [
        "def plot_attention_weights(attention, sentence, result, result_tokenizer, layer):\n",
        "  fig = plt.figure(figsize=(16, 8))\n",
        "  \n",
        "  sentence = tokenizer_ocr.encode(sentence)\n",
        "  \n",
        "  attention = tf.squeeze(attention[layer], axis=0)\n",
        "  \n",
        "  for head in range(attention.shape[0]):\n",
        "    ax = fig.add_subplot(2, 4, head+1)\n",
        "    \n",
        "    # plot the attention weights\n",
        "    ax.matshow(attention[head][:-1, :], cmap='viridis')\n",
        "\n",
        "    fontdict = {'fontsize': 10}\n",
        "    \n",
        "    ax.set_xticks(range(len(sentence)+2))\n",
        "    ax.set_yticks(range(len(result)))\n",
        "    \n",
        "    ax.set_ylim(len(result)-1.5, -0.5)\n",
        "        \n",
        "    ax.set_xticklabels(\n",
        "        ['<start>']+[tokenizer_ocr.decode([i]) for i in sentence]+['<end>'], \n",
        "        fontdict=fontdict, rotation=90)\n",
        "    \n",
        "    ax.set_yticklabels([result_tokenizer.decode([i]) for i in result \n",
        "                        if i < result_tokenizer.vocab_size], \n",
        "                       fontdict=fontdict)\n",
        "    \n",
        "    ax.set_xlabel('Head {}'.format(head+1))\n",
        "  \n",
        "  plt.tight_layout()\n",
        "  plt.show()"
      ],
      "execution_count": 0,
      "outputs": []
    },
    {
      "cell_type": "code",
      "metadata": {
        "ExecuteTime": {
          "start_time": "2019-11-10T06:32:19.591Z"
        },
        "colab_type": "code",
        "id": "lU2_yG_vBGza",
        "pycharm": {
          "is_executing": false
        },
        "colab": {}
      },
      "source": [
        "def translate(ocr, plot='', log=True):\n",
        "  enc_result_dt, attention_weights_dt, enc_result_amt, attention_weights_amt, enc_result_country = inference_fast(ocr)\n",
        "  \n",
        "  result_dt = tokenizer_date.decode([i for i in enc_result_dt \n",
        "                                            if i < tokenizer_date.vocab_size])  \n",
        "  result_amt = tokenizer_amount.decode([i for i in enc_result_amt \n",
        "                                            if i < tokenizer_amount.vocab_size])\n",
        "  result_country = country_classes[enc_result_country]\n",
        "\n",
        "  if plot:\n",
        "    plot_attention_weights(attention_weights_dt, ocr, enc_result_dt,tokenizer_date, plot)\n",
        "    plot_attention_weights(attention_weights_amt, ocr, enc_result_amt,tokenizer_amount, plot)\n",
        "\n",
        "  if log:\n",
        "    print('Input: {}'.format(ocr))\n",
        "    print('Predicted date: {}'.format(result_dt))\n",
        "    print('Predicted amount: {}'.format(result_amt))\n",
        "    print('Predicted country: {}'.format(result_country))\n",
        "  else:\n",
        "    return result_dt, result_amt, result_country"
      ],
      "execution_count": 0,
      "outputs": []
    },
    {
      "cell_type": "code",
      "metadata": {
        "ExecuteTime": {
          "start_time": "2019-11-10T06:32:19.593Z"
        },
        "colab_type": "code",
        "id": "YsxrAlvFG8SZ",
        "outputId": "881b4522-2423-4b14-e1e3-72494a14cb9a",
        "pycharm": {
          "is_executing": false
        },
        "scrolled": false,
        "colab": {
          "base_uri": "https://localhost:8080/",
          "height": 105
        }
      },
      "source": [
        "translate(\"* 0KQ8 OK DETALJHANDEL AB ORG NR: 556029-4588 37548 Servogatan 12 SE-19560 TEL NR: 08-59113055  Arlandastad  Belopp 18,00 19,00 37.00 kr 37,00 kr BRUTTO 37,00  Antal  Beskrivning #w#m #W# ■** Aria Kvarg Mild 0,2% 250g Varm Dryck Li ten  1  1  EuroCard:  NETTO MOMS 33,04 3,96  MOMS %  12%  20:30 SEK 37,00  2017-12-18  KOP  EuroCard Butiksnr: 134890 Cal 7 000 SWE 746784 REF.NR :  Termid: 37548122  Personlig kod 375481223988 A0000000041010 0000001000  AID  TVR  6800  TSI  KASSÖRENS NAMN: F, Erik DATUM: 2017-12-18 TRAN: 245569  110:20:30:36 KASSA NR:  2  TACK FOR BESOKET VAEKOMMEN ATER\")"
      ],
      "execution_count": 76,
      "outputs": [
        {
          "output_type": "stream",
          "text": [
            "Input: * 0KQ8 OK DETALJHANDEL AB ORG NR: 556029-4588 37548 Servogatan 12 SE-19560 TEL NR: 08-59113055  Arlandastad  Belopp 18,00 19,00 37.00 kr 37,00 kr BRUTTO 37,00  Antal  Beskrivning #w#m #W# ■** Aria Kvarg Mild 0,2% 250g Varm Dryck Li ten  1  1  EuroCard:  NETTO MOMS 33,04 3,96  MOMS %  12%  20:30 SEK 37,00  2017-12-18  KOP  EuroCard Butiksnr: 134890 Cal 7 000 SWE 746784 REF.NR :  Termid: 37548122  Personlig kod 375481223988 A0000000041010 0000001000  AID  TVR  6800  TSI  KASSÖRENS NAMN: F, Erik DATUM: 2017-12-18 TRAN: 245569  110:20:30:36 KASSA NR:  2  TACK FOR BESOKET VAEKOMMEN ATER\n",
            "Predicted date: 2￭ 0￭ 1￭ 8 ￭-￭ 0￭ 7 ￭-￭ 1￭ 2\n",
            "Predicted amount: 1￭ 0￭ 0 ￭.￭ 0￭ 0\n",
            "Predicted country: ESP\n"
          ],
          "name": "stdout"
        }
      ]
    },
    {
      "cell_type": "markdown",
      "metadata": {
        "colab_type": "text",
        "id": "_1MxkSZvz0jX"
      },
      "source": [
        "You can pass different layers and attention blocks of the decoder to the `plot` parameter."
      ]
    },
    {
      "cell_type": "code",
      "metadata": {
        "colab_type": "code",
        "id": "ubyeeQ-sOMXw",
        "outputId": "1d33dfea-65f1-44f0-bf9f-8ba7ecea2e67",
        "colab": {
          "base_uri": "https://localhost:8080/",
          "height": 438
        }
      },
      "source": [
        "translate(\"EURMWST 19,00% A9,04 EUR 1,99 EUR# 29/02/2021\", plot='decoder_layer2_block2')"
      ],
      "execution_count": 77,
      "outputs": [
        {
          "output_type": "stream",
          "text": [
            "/usr/local/lib/python3.6/dist-packages/matplotlib/backends/backend_agg.py:214: RuntimeWarning: Glyph 65517 missing from current font.\n",
            "  font.set_text(s, 0.0, flags=flags)\n",
            "/usr/local/lib/python3.6/dist-packages/matplotlib/backends/backend_agg.py:183: RuntimeWarning: Glyph 65517 missing from current font.\n",
            "  font.set_text(s, 0, flags=flags)\n"
          ],
          "name": "stderr"
        },
        {
          "output_type": "display_data",
          "data": {
            "image/png": "[encoded data removed]",
            "text/plain": [
              "<Figure size 1152x576 with 4 Axes>"
            ]
          },
          "metadata": {
            "tags": [],
            "needs_background": "light"
          }
        },
        {
          "output_type": "display_data",
          "data": {
            "image/png": "[encoded data removed]",
            "text/plain": [
              "<Figure size 1152x576 with 4 Axes>"
            ]
          },
          "metadata": {
            "tags": [],
            "needs_background": "light"
          }
        },
        {
          "output_type": "stream",
          "text": [
            "Input: EURMWST 19,00% A9,04 EUR 1,99 EUR# 29/02/2021\n",
            "Predicted date: 2￭ 0￭ 1￭ 9 ￭-￭ 0￭ 9 ￭-￭ 1￭ 9\n",
            "Predicted amount: 1￭ 0￭ 0 ￭.￭ 0￭ 0\n",
            "Predicted country: ESP\n"
          ],
          "name": "stdout"
        }
      ]
    },
    {
      "cell_type": "code",
      "metadata": {
        "id": "hQvCvGQSxA97",
        "colab_type": "code",
        "colab": {}
      },
      "source": [
        "transformer.save_weights(\"weights.combo.h5\")"
      ],
      "execution_count": 0,
      "outputs": []
    },
    {
      "cell_type": "code",
      "metadata": {
        "ExecuteTime": {
          "start_time": "2019-11-10T06:32:19.596Z"
        },
        "colab_type": "code",
        "id": "t-kFyiOLH0xg",
        "pycharm": {
          "is_executing": false
        },
        "colab": {
          "base_uri": "https://localhost:8080/",
          "height": 340
        },
        "outputId": "f74be712-f70c-4130-bd56-8cdb7ff91fb0"
      },
      "source": [
        "!tar -czvf checkpoints.tar.gz checkpoints"
      ],
      "execution_count": 79,
      "outputs": [
        {
          "output_type": "stream",
          "text": [
            "checkpoints/\n",
            "checkpoints/train/\n",
            "checkpoints/train/ckpt-8.index\n",
            "checkpoints/train/ckpt-7.index\n",
            "checkpoints/train/ckpt-6.data-00001-of-00002\n",
            "checkpoints/train/ckpt-7.data-00001-of-00002\n",
            "checkpoints/train/ckpt-10.index\n",
            "checkpoints/train/ckpt-10.data-00000-of-00002\n",
            "checkpoints/train/ckpt-9.data-00001-of-00002\n",
            "checkpoints/train/checkpoint\n",
            "checkpoints/train/ckpt-9.data-00000-of-00002\n",
            "checkpoints/train/ckpt-8.data-00000-of-00002\n",
            "checkpoints/train/ckpt-7.data-00000-of-00002\n",
            "checkpoints/train/ckpt-6.data-00000-of-00002\n",
            "checkpoints/train/ckpt-6.index\n",
            "checkpoints/train/ckpt-9.index\n",
            "checkpoints/train/.DS_Store\n",
            "checkpoints/train/ckpt-8.data-00001-of-00002\n",
            "checkpoints/train/ckpt-10.data-00001-of-00002\n"
          ],
          "name": "stdout"
        }
      ]
    },
    {
      "cell_type": "code",
      "metadata": {
        "colab_type": "code",
        "id": "FsKGQ8277SXg",
        "colab": {}
      },
      "source": [
        "from tqdm.notebook import tqdm\n",
        "\n",
        "def eval_dataset(df):\n",
        "    date_pred = []\n",
        "    date_gt = []\n",
        "    amount_pred = []\n",
        "    amount_gt = []\n",
        "    country_pred = []\n",
        "    country_gt = []\n",
        "    ocr_text = []\n",
        "    pbar = tqdm(total=df.shape[0])\n",
        "\n",
        "    for index, row in df.iterrows():\n",
        "      try:\n",
        "        date, amount, country = translate(row[\"ocr_text\"], log=False)\n",
        "      except Exception:\n",
        "        continue\n",
        "\n",
        "      date_pred.append(date)\n",
        "      amount_pred.append(amount)\n",
        "      country_pred.append(country)\n",
        "      date_gt.append(row[\"date\"])\n",
        "      amount_gt.append(row[\"amount\"])\n",
        "      country_gt.append(row[\"country\"])\n",
        "      ocr_text.append(row[\"ocr_text\"])\n",
        "\n",
        "      pbar.update()\n",
        "        \n",
        "    df_result = pd.DataFrame()\n",
        "    df_result[\"dt_pred\"] = date_pred\n",
        "    df_result[\"dt_gt\"] = date_gt\n",
        "    df_result[\"ocr_text\"] = ocr_text\n",
        "    df_result[\"amt_pred\"] = amount_pred\n",
        "    df_result[\"amt_gt\"] = amount_gt\n",
        "    df_result[\"country_gt\"] = country_gt\n",
        "    df_result[\"country_pred\"] = country_pred\n",
        "    \n",
        "    df_result[\"country_correct\"] = df_result[\"country_pred\"] == df_result[\"country_gt\"]\n",
        "    df_result[\"amt_correct\"] = df_result[\"amt_pred\"] == df_result[\"amt_gt\"]\n",
        "    df_result[\"dt_correct\"] = df_result[\"dt_pred\"] == df_result[\"dt_gt\"]\n",
        "    df_result[\"dt_correct_mnt_day\"] = df_result.apply(lambda x: \"-\".join(x[\"dt_pred\"].split(\"-\")[1:3]) == \"-\".join(x[\"dt_gt\"].split(\"-\")[1:3]), axis=1)\n",
        "    df_result[\"dt_correct_day\"] = df_result.apply(lambda x: \"-\".join(x[\"dt_pred\"].split(\"-\")[2:3]) == \"-\".join(x[\"dt_gt\"].split(\"-\")[2:3]), axis=1)\n",
        "    df_result[\"dt_correct_month\"] = df_result.apply(lambda x: \"-\".join(x[\"dt_pred\"].split(\"-\")[1:2]) == \"-\".join(x[\"dt_gt\"].split(\"-\")[1:2]), axis=1)\n",
        "    df_result[\"dt_correct_year\"] = df_result.apply(lambda x: \"-\".join(x[\"dt_pred\"].split(\"-\")[0:1]) == \"-\".join(x[\"dt_gt\"].split(\"-\")[0:1]), axis=1)\n",
        "    \n",
        "    print(\"Country Accuracy {0:.2%}\".format(df_result['country_correct'].mean()))\n",
        "    print(\"Amount Accuracy {0:.2%}\".format(df_result['amt_correct'].mean()))\n",
        "    print(\"Date Accuracy {0:.2%}\".format(df_result['dt_correct'].mean()))\n",
        "    print(\"Month-Day Accuracy {0:.2%}\".format(df_result['dt_correct_mnt_day'].mean()))\n",
        "    print(\"Day Accuracy {0:.2%}\".format(df_result['dt_correct_day'].mean()))\n",
        "    print(\"Month Accuracy {0:.2%}\".format(df_result['dt_correct_month'].mean()))\n",
        "    print(\"Year Accuracy {0:.2%}\".format(df_result['dt_correct_year'].mean()))\n",
        "    \n",
        "    return df_result"
      ],
      "execution_count": 0,
      "outputs": []
    },
    {
      "cell_type": "code",
      "metadata": {
        "colab_type": "code",
        "id": "TOVY-GVzu7Y3",
        "colab": {}
      },
      "source": [
        "transformer.save_weights(\"combo.weights.14.h5\")"
      ],
      "execution_count": 0,
      "outputs": []
    },
    {
      "cell_type": "code",
      "metadata": {
        "id": "QjJxKjTftP1x",
        "colab_type": "code",
        "colab": {
          "base_uri": "https://localhost:8080/",
          "height": 168,
          "referenced_widgets": [
            "303799afa5e449008b0cee8aaf4f594d",
            "3db39f9896674cccaf8e887ed86429a7",
            "1be5f6ff8d614fccb0d0852e4b98937b",
            "48f38c0c4a4a40f59e2bb666ac60b260",
            "bf518af2ff5b49dcab27b6c22afc0225",
            "af8d9a20fa464a6dbf716582957ffc8e",
            "edf7928d9c1e42a1b17f895a43fe8aac",
            "2db29f5a3f43416299ccbc8362d70959"
          ]
        },
        "outputId": "c0e3ee79-2207-4086-af2a-f52c94a888b3"
      },
      "source": [
        "eval_result_df = eval_dataset(testing_df.sample(n=2000, random_state=0))"
      ],
      "execution_count": 83,
      "outputs": [
        {
          "output_type": "display_data",
          "data": {
            "application/vnd.jupyter.widget-view+json": {
              "model_id": "303799afa5e449008b0cee8aaf4f594d",
              "version_minor": 0,
              "version_major": 2
            },
            "text/plain": [
              "HBox(children=(FloatProgress(value=0.0, max=2000.0), HTML(value='')))"
            ]
          },
          "metadata": {
            "tags": []
          }
        },
        {
          "output_type": "stream",
          "text": [
            "Country Accuracy 91.30%\n",
            "Amount Accuracy 64.45%\n",
            "Date Accuracy 63.00%\n",
            "Month-Day Accuracy 64.40%\n",
            "Day Accuracy 68.10%\n",
            "Month Accuracy 76.35%\n",
            "Year Accuracy 88.20%\n"
          ],
          "name": "stdout"
        }
      ]
    },
    {
      "cell_type": "code",
      "metadata": {
        "id": "95-GkuvIQXP9",
        "colab_type": "code",
        "colab": {}
      },
      "source": [
        "N=2000\n",
        "eval_df = pd.read_csv(\"eval.tsv\",\n",
        "                          sep='\\t',\n",
        "                          float_precision='round_trip',\n",
        "                          dtype={'amount': str,\n",
        "                                 'date': str,\n",
        "                                 'country': str,\n",
        "                                 'currency': str,\n",
        "                                 'ocr_text': object})\n",
        "\n",
        "eval_df[\"ocr_text\"] = eval_df[\"ocr_text\"].apply(lambda x: x.lower())\n",
        "eval_df = eval_df.sample(n=N, random_state=0)\n",
        "eval_result_df = eval_dataset(eval_df)"
      ],
      "execution_count": 0,
      "outputs": []
    },
    {
      "cell_type": "code",
      "metadata": {
        "id": "1_HSBTh9R83i",
        "colab_type": "code",
        "colab": {}
      },
      "source": [
        ""
      ],
      "execution_count": 0,
      "outputs": []
    }
  ]
}