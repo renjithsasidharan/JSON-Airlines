{
  "nbformat": 4,
  "nbformat_minor": 0,
  "metadata": {
    "accelerator": "GPU",
    "colab": {
      "name": "transformer_dates_amounts.ipynb",
      "provenance": [],
      "collapsed_sections": [],
      "toc_visible": true,
      "include_colab_link": true
    },
    "kernelspec": {
      "display_name": "Python 3",
      "language": "python",
      "name": "python3"
    },
    "language_info": {
      "codemirror_mode": {
        "name": "ipython",
        "version": 3
      },
      "file_extension": ".py",
      "mimetype": "text/x-python",
      "name": "python",
      "nbconvert_exporter": "python",
      "pygments_lexer": "ipython3",
      "version": "3.6.10"
    },
    "pycharm": {
      "stem_cell": {
        "cell_type": "raw",
        "metadata": {
          "collapsed": false
        },
        "source": []
      }
    },
    "toc": {
      "base_numbering": 1,
      "nav_menu": {
        "height": "359px",
        "width": "160px"
      },
      "number_sections": true,
      "sideBar": true,
      "skip_h1_title": false,
      "title_cell": "Table of Contents",
      "title_sidebar": "Contents",
      "toc_cell": false,
      "toc_position": {},
      "toc_section_display": true,
      "toc_window_display": true
    }
  },
  "cells": [
    {
      "cell_type": "markdown",
      "metadata": {
        "id": "view-in-github",
        "colab_type": "text"
      },
      "source": [
        "<a href=\"https://colab.research.google.com/github/renjithsasidharan/JSON-Airlines/blob/master/transformer_dates_amounts.ipynb\" target=\"_parent\"><img src=\"https://colab.research.google.com/assets/colab-badge.svg\" alt=\"Open In Colab\"/></a>"
      ]
    },
    {
      "cell_type": "code",
      "metadata": {
        "id": "bWfG3BLaOcjN",
        "colab_type": "code",
        "colab": {
          "base_uri": "https://localhost:8080/",
          "height": 122
        },
        "outputId": "a3c7502a-abbd-46a2-af0d-941687ae1660"
      },
      "source": [
        "from google.colab import drive\n",
        "drive.mount('/content/drive')"
      ],
      "execution_count": 1,
      "outputs": [
        {
          "output_type": "stream",
          "text": [
            "Go to this URL in a browser: https://accounts.google.com/o/oauth2/auth?client_id=947318989803-6bn6qk8qdgf4n4g3pfee6491hc0brc4i.apps.googleusercontent.com&redirect_uri=urn%3aietf%3awg%3aoauth%3a2.0%3aoob&response_type=code&scope=email%20https%3a%2f%2fwww.googleapis.com%2fauth%2fdocs.test%20https%3a%2f%2fwww.googleapis.com%2fauth%2fdrive%20https%3a%2f%2fwww.googleapis.com%2fauth%2fdrive.photos.readonly%20https%3a%2f%2fwww.googleapis.com%2fauth%2fpeopleapi.readonly\n",
            "\n",
            "Enter your authorization code:\n",
            "··········\n",
            "Mounted at /content/drive\n"
          ],
          "name": "stdout"
        }
      ]
    },
    {
      "cell_type": "code",
      "metadata": {
        "id": "0zJjX6ljOYHW",
        "colab_type": "code",
        "colab": {
          "base_uri": "https://localhost:8080/",
          "height": 612
        },
        "outputId": "630779aa-565c-4773-f8de-6e7f6abdcc99"
      },
      "source": [
        "!unzip ./drive/My\\ Drive/training_data/er_transformer/training_8_with_dates__amt.zip\n",
        "!cp -r ./training_8_with_dates__amt/* ./"
      ],
      "execution_count": 2,
      "outputs": [
        {
          "output_type": "stream",
          "text": [
            "Archive:  ./drive/My Drive/training_data/er_transformer/training_8_with_dates__amt.zip\n",
            "   creating: training_8_with_dates__amt/\n",
            "  inflating: training_8_with_dates__amt/transformer_dates.py  \n",
            "  inflating: training_8_with_dates__amt/train.tsv.amount.subwords  \n",
            "  inflating: training_8_with_dates__amt/ocr_text.py  \n",
            "  inflating: training_8_with_dates__amt/training_helper.py  \n",
            "  inflating: training_8_with_dates__amt/.DS_Store  \n",
            "   creating: __MACOSX/\n",
            "   creating: __MACOSX/training_8_with_dates__amt/\n",
            "  inflating: __MACOSX/training_8_with_dates__amt/._.DS_Store  \n",
            "  inflating: training_8_with_dates__amt/train.tsv.ocr.subwords  \n",
            "  inflating: training_8_with_dates__amt/transformer_dates.ipynb  \n",
            "  inflating: training_8_with_dates__amt/train.tsv  \n",
            "  inflating: training_8_with_dates__amt/checkpoints.tar.gz  \n",
            "  inflating: __MACOSX/training_8_with_dates__amt/._checkpoints.tar.gz  \n",
            "  inflating: training_8_with_dates__amt/create_training_data_test.py  \n",
            "  inflating: training_8_with_dates__amt/training_log.txt  \n",
            "  inflating: training_8_with_dates__amt/config.json  \n",
            "  inflating: training_8_with_dates__amt/training_loss.png  \n",
            "   creating: training_8_with_dates__amt/__pycache__/\n",
            "  inflating: training_8_with_dates__amt/__pycache__/training_helper.cpython-36.pyc  \n",
            "  inflating: training_8_with_dates__amt/__pycache__/ocr_text.cpython-36.pyc  \n",
            "  inflating: training_8_with_dates__amt/currency_classes.json  \n",
            "  inflating: training_8_with_dates__amt/data.json  \n",
            "  inflating: training_8_with_dates__amt/train.tsv.date.subwords  \n",
            "  inflating: training_8_with_dates__amt/.rsyncignore  \n",
            "  inflating: training_8_with_dates__amt/test.tsv  \n",
            "  inflating: training_8_with_dates__amt/transformer_dates_amounts.ipynb  \n",
            "  inflating: training_8_with_dates__amt/country_classes.json  \n",
            "   creating: training_8_with_dates__amt/.ipynb_checkpoints/\n",
            "  inflating: training_8_with_dates__amt/.ipynb_checkpoints/transformer_dates-checkpoint.ipynb  \n",
            "  inflating: training_8_with_dates__amt/.ipynb_checkpoints/transformer_dates_amounts-checkpoint.ipynb  \n",
            "  inflating: training_8_with_dates__amt/training_accuracy.png  \n",
            "  inflating: training_8_with_dates__amt/create_training_data.py  \n",
            "  inflating: training_8_with_dates__amt/analyze_logs.py  \n"
          ],
          "name": "stdout"
        }
      ]
    },
    {
      "cell_type": "code",
      "metadata": {
        "id": "bJieQZPgCrdG",
        "colab_type": "code",
        "colab": {}
      },
      "source": [
        "!rm -rf ./checkpoints/train/*"
      ],
      "execution_count": 0,
      "outputs": []
    },
    {
      "cell_type": "markdown",
      "metadata": {
        "colab_type": "text",
        "id": "J0Qjg6vuaHNt"
      },
      "source": [
        "# Transformer model for language understanding"
      ]
    },
    {
      "cell_type": "code",
      "metadata": {
        "ExecuteTime": {
          "end_time": "2019-11-10T06:32:21.831641Z",
          "start_time": "2019-11-10T06:32:19.420135Z"
        },
        "colab_type": "code",
        "id": "JjJJyJTZYebt",
        "pycharm": {
          "is_executing": false
        },
        "colab": {}
      },
      "source": [
        "from __future__ import absolute_import, division, print_function, unicode_literals\n",
        "\n",
        "try:\n",
        "  %tensorflow_version 2.x\n",
        "except Exception:\n",
        "  pass\n",
        "import tensorflow_datasets as tfds\n",
        "import tensorflow as tf\n",
        "\n",
        "import time\n",
        "import os\n",
        "import re\n",
        "import numpy as np\n",
        "import matplotlib.pyplot as plt"
      ],
      "execution_count": 0,
      "outputs": []
    },
    {
      "cell_type": "code",
      "metadata": {
        "ExecuteTime": {
          "end_time": "2019-11-10T06:32:21.837459Z",
          "start_time": "2019-11-10T06:32:21.833884Z"
        },
        "colab_type": "code",
        "id": "y7hAaZD7uYZa",
        "outputId": "91b57222-ddd6-4f24-b426-abb25e7c1bc4",
        "pycharm": {
          "is_executing": false
        },
        "colab": {
          "base_uri": "https://localhost:8080/",
          "height": 34
        }
      },
      "source": [
        "print(tf.__version__)"
      ],
      "execution_count": 7,
      "outputs": [
        {
          "output_type": "stream",
          "text": [
            "2.2.0-rc4\n"
          ],
          "name": "stdout"
        }
      ]
    },
    {
      "cell_type": "markdown",
      "metadata": {
        "colab_type": "text",
        "id": "fd1NWMxjfsDd"
      },
      "source": [
        "## Setup input pipeline"
      ]
    },
    {
      "cell_type": "code",
      "metadata": {
        "ExecuteTime": {
          "end_time": "2019-11-10T06:32:21.842399Z",
          "start_time": "2019-11-10T06:32:21.839958Z"
        },
        "colab_type": "code",
        "id": "w4cXX4eKuYZh",
        "pycharm": {
          "is_executing": false
        },
        "colab": {}
      },
      "source": [
        "train_file_path='./train.tsv'\n",
        "test_file_path='./test.tsv'"
      ],
      "execution_count": 0,
      "outputs": []
    },
    {
      "cell_type": "code",
      "metadata": {
        "ExecuteTime": {
          "end_time": "2019-11-10T06:32:23.718935Z",
          "start_time": "2019-11-10T06:32:21.844334Z"
        },
        "colab_type": "code",
        "id": "89PSUjtfuYZj",
        "pycharm": {
          "is_executing": false
        },
        "colab": {}
      },
      "source": [
        "import pandas as pd\n",
        "\n",
        "training_df = pd.read_csv(train_file_path,\n",
        "                          sep='\\t',\n",
        "                          float_precision='round_trip',\n",
        "                          dtype={'amount': str, 'date': str, 'ocr_text': object})\n",
        "\n",
        "testing_df = pd.read_csv(test_file_path,\n",
        "                          sep='\\t',\n",
        "                          dtype={'amount': str, 'date': str, 'ocr_text': object})\n",
        "\n",
        "\n",
        "training_examples = (\n",
        "    tf.data.Dataset.from_tensor_slices(\n",
        "        (\n",
        "            tf.cast(training_df['ocr_text'].values, tf.string),\n",
        "            tf.cast(training_df['amount'].values, tf.string),\n",
        "            tf.cast(training_df['date'].values, tf.string)\n",
        "        )\n",
        "    )\n",
        ")\n",
        "\n",
        "\n",
        "val_examples = (\n",
        "    tf.data.Dataset.from_tensor_slices(\n",
        "        (\n",
        "            tf.cast(testing_df['ocr_text'].values, tf.string),\n",
        "            tf.cast(testing_df['amount'].values, tf.string),\n",
        "            tf.cast(testing_df['date'].values, tf.string)\n",
        "        )\n",
        "    )\n",
        ")\n"
      ],
      "execution_count": 0,
      "outputs": []
    },
    {
      "cell_type": "markdown",
      "metadata": {
        "colab_type": "text",
        "id": "RCEKotqosGfq"
      },
      "source": [
        "Create a custom subwords tokenizer from the training dataset. "
      ]
    },
    {
      "cell_type": "code",
      "metadata": {
        "ExecuteTime": {
          "end_time": "2019-11-10T06:32:23.812888Z",
          "start_time": "2019-11-10T06:32:23.720666Z"
        },
        "colab_type": "code",
        "id": "KVBg5Q8tBk5z",
        "pycharm": {
          "is_executing": false
        },
        "colab": {
          "base_uri": "https://localhost:8080/",
          "height": 51
        },
        "outputId": "06cbd087-d630-45b9-8477-37e43cf9029c"
      },
      "source": [
        "print(\"{}.ocr.subwords\".format(train_file_path))\n",
        "if os.path.isfile(\"{}.ocr.subwords\".format(train_file_path)):\n",
        "  print('Loading input tokenizer from disk')\n",
        "  tokenizer_ocr = tfds.features.text.SubwordTextEncoder.load_from_file(train_file_path + \".ocr\")\n",
        "else:\n",
        "  print('Creating new tokenizer from training set')\n",
        "  tokenizer_ocr = tfds.features.text.SubwordTextEncoder.build_from_corpus(\n",
        "      (ocr.numpy() for ocr, _, _ in training_examples), target_vocab_size=2**13)\n",
        "  tokenizer_ocr.save_to_file(train_file_path + \".ocr\")"
      ],
      "execution_count": 10,
      "outputs": [
        {
          "output_type": "stream",
          "text": [
            "./train.tsv.ocr.subwords\n",
            "Loading input tokenizer from disk\n"
          ],
          "name": "stdout"
        }
      ]
    },
    {
      "cell_type": "code",
      "metadata": {
        "ExecuteTime": {
          "end_time": "2019-11-10T06:32:42.021201Z",
          "start_time": "2019-11-10T06:32:23.814923Z"
        },
        "colab_type": "code",
        "id": "-jxOS89-uYZp",
        "pycharm": {
          "is_executing": false
        },
        "colab": {}
      },
      "source": [
        "tokenizer_date = tfds.features.text.SubwordTextEncoder.build_from_corpus(\n",
        "    (date.numpy() for _, _, date in training_examples), target_vocab_size=2**9)\n",
        "tokenizer_date.save_to_file(train_file_path + \".date\")"
      ],
      "execution_count": 0,
      "outputs": []
    },
    {
      "cell_type": "code",
      "metadata": {
        "id": "u0mYFVU5OMVe",
        "colab_type": "code",
        "colab": {}
      },
      "source": [
        "tokenizer_amount = tfds.features.text.SubwordTextEncoder.build_from_corpus(\n",
        "    (amount.numpy() for _, amount, _ in training_examples), target_vocab_size=2**9)\n",
        "tokenizer_amount.save_to_file(train_file_path + \".amount\")"
      ],
      "execution_count": 0,
      "outputs": []
    },
    {
      "cell_type": "code",
      "metadata": {
        "id": "YlV1E42iCVzg",
        "colab_type": "code",
        "colab": {}
      },
      "source": [
        "tokenizer_amount = tokenizer_ocr"
      ],
      "execution_count": 0,
      "outputs": []
    },
    {
      "cell_type": "code",
      "metadata": {
        "ExecuteTime": {
          "end_time": "2019-11-10T06:32:42.026527Z",
          "start_time": "2019-11-10T06:32:42.023029Z"
        },
        "pycharm": {
          "is_executing": false
        },
        "id": "VTiBw2AsOMVg",
        "colab_type": "code",
        "colab": {
          "base_uri": "https://localhost:8080/",
          "height": 68
        },
        "outputId": "657f5eda-eb7e-4802-b0d8-d8e222efeaa8"
      },
      "source": [
        "date_str = \"13/11/2019\"\n",
        "print('Original date {}'.format(date_str))\n",
        "print('Tokenized date {}'.format(tokenizer_date.encode(date_str)))\n",
        "print('Tokens {}'.format([tokenizer_date.decode([x]) for x in tokenizer_date.encode(date_str)]))"
      ],
      "execution_count": 14,
      "outputs": [
        {
          "output_type": "stream",
          "text": [
            "Original date 13/11/2019\n",
            "Tokenized date [21, 89, 5, 89, 1]\n",
            "Tokens ['13', '/', '11', '/', '2019']\n"
          ],
          "name": "stdout"
        }
      ]
    },
    {
      "cell_type": "code",
      "metadata": {
        "id": "MxO2Zpl8OMVj",
        "colab_type": "code",
        "colab": {
          "base_uri": "https://localhost:8080/",
          "height": 68
        },
        "outputId": "c44f9238-ead2-490e-f554-88fe19ec9bd3"
      },
      "source": [
        "amount_str = \"2185.90\"\n",
        "print('Original amount {}'.format(amount_str))\n",
        "print('Tokenized amount {}'.format(tokenizer_amount.encode(amount_str)))\n",
        "print('Tokens {}'.format([tokenizer_amount.decode([x]) for x in tokenizer_amount.encode(amount_str)]))"
      ],
      "execution_count": 15,
      "outputs": [
        {
          "output_type": "stream",
          "text": [
            "Original amount 2185.90\n",
            "Tokenized amount [2011, 7727, 6346, 55]\n",
            "Tokens ['218', '5', '.', '90']\n"
          ],
          "name": "stdout"
        }
      ]
    },
    {
      "cell_type": "code",
      "metadata": {
        "ExecuteTime": {
          "end_time": "2019-11-10T06:32:42.035344Z",
          "start_time": "2019-11-10T06:32:42.029953Z"
        },
        "colab_type": "code",
        "id": "4DYWukNFkGQN",
        "outputId": "6925cc3f-8cec-4409-a87c-efcb20905f82",
        "pycharm": {
          "is_executing": false
        },
        "colab": {
          "base_uri": "https://localhost:8080/",
          "height": 68
        }
      },
      "source": [
        "sample_string = 'The target date is 13.11.2019 and amount is 199.55'\n",
        "\n",
        "tokenized_string = tokenizer_ocr.encode(sample_string)\n",
        "print ('Tokenized string is {}'.format(tokenized_string))\n",
        "\n",
        "original_string = tokenizer_ocr.decode(tokenized_string)\n",
        "print ('The original string: {}'.format(original_string))\n",
        "\n",
        "print('Tokens {}'.format([tokenizer_ocr.decode([x]) for x in tokenizer_ocr.encode(original_string)]))\n",
        "\n",
        "assert original_string == sample_string"
      ],
      "execution_count": 16,
      "outputs": [
        {
          "output_type": "stream",
          "text": [
            "Tokenized string is [2733, 1306, 3562, 7706, 1891, 574, 25, 6346, 17, 6346, 237, 401, 3354, 574, 1872, 6346, 127]\n",
            "The original string: The target date is 13.11.2019 and amount is 199.55\n",
            "Tokens ['The ', 'tar', 'get', ' ', 'date ', 'is ', '13', '.', '11', '.', '2019 ', 'and ', 'amount ', 'is ', '199', '.', '55']\n"
          ],
          "name": "stdout"
        }
      ]
    },
    {
      "cell_type": "code",
      "metadata": {
        "ExecuteTime": {
          "end_time": "2019-11-10T06:32:42.042778Z",
          "start_time": "2019-11-10T06:32:42.038651Z"
        },
        "colab_type": "code",
        "id": "sfY5_rr-CnVF",
        "outputId": "2c08fb7a-7344-46fa-aadf-1b7300e82012",
        "pycharm": {
          "is_executing": false
        },
        "colab": {
          "base_uri": "https://localhost:8080/",
          "height": 68
        }
      },
      "source": [
        "print(tokenizer_amount.vocab_size)\n",
        "print(tokenizer_date.vocab_size)\n",
        "print(tokenizer_ocr.vocab_size)"
      ],
      "execution_count": 17,
      "outputs": [
        {
          "output_type": "stream",
          "text": [
            "7930\n",
            "298\n",
            "7930\n"
          ],
          "name": "stdout"
        }
      ]
    },
    {
      "cell_type": "markdown",
      "metadata": {
        "colab_type": "text",
        "id": "o9KJWJjrsZ4Y"
      },
      "source": [
        "The tokenizer encodes the string by breaking it into subwords if the word is not in its dictionary."
      ]
    },
    {
      "cell_type": "code",
      "metadata": {
        "ExecuteTime": {
          "end_time": "2019-11-10T06:32:42.051074Z",
          "start_time": "2019-11-10T06:32:42.045507Z"
        },
        "colab_type": "code",
        "id": "bf2ntBxjkqK6",
        "outputId": "d4a668b1-beb5-4ddf-ec1b-9e40131f1088",
        "pycharm": {
          "is_executing": false
        },
        "colab": {
          "base_uri": "https://localhost:8080/",
          "height": 306
        }
      },
      "source": [
        "for ts in tokenized_string:\n",
        "  print ('{} ----> {}'.format(ts, tokenizer_ocr.decode([ts])))"
      ],
      "execution_count": 18,
      "outputs": [
        {
          "output_type": "stream",
          "text": [
            "2733 ----> The \n",
            "1306 ----> tar\n",
            "3562 ----> get\n",
            "7706 ---->  \n",
            "1891 ----> date \n",
            "574 ----> is \n",
            "25 ----> 13\n",
            "6346 ----> .\n",
            "17 ----> 11\n",
            "6346 ----> .\n",
            "237 ----> 2019 \n",
            "401 ----> and \n",
            "3354 ----> amount \n",
            "574 ----> is \n",
            "1872 ----> 199\n",
            "6346 ----> .\n",
            "127 ----> 55\n"
          ],
          "name": "stdout"
        }
      ]
    },
    {
      "cell_type": "code",
      "metadata": {
        "ExecuteTime": {
          "end_time": "2019-11-10T06:32:42.056061Z",
          "start_time": "2019-11-10T06:32:42.053148Z"
        },
        "colab_type": "code",
        "id": "bcRp7VcQ5m6g",
        "pycharm": {
          "is_executing": false
        },
        "colab": {}
      },
      "source": [
        "BUFFER_SIZE = 20000\n",
        "BATCH_SIZE = 64"
      ],
      "execution_count": 0,
      "outputs": []
    },
    {
      "cell_type": "markdown",
      "metadata": {
        "colab_type": "text",
        "id": "kGi4PoVakxdc"
      },
      "source": [
        "Add a start and end token to the input and target. "
      ]
    },
    {
      "cell_type": "code",
      "metadata": {
        "ExecuteTime": {
          "end_time": "2019-11-10T06:32:42.062005Z",
          "start_time": "2019-11-10T06:32:42.057738Z"
        },
        "colab_type": "code",
        "id": "UZwnPr4R055s",
        "pycharm": {
          "is_executing": false
        },
        "colab": {}
      },
      "source": [
        "def encode(ocr_param, amount_param, date_param):\n",
        "  ocr = [tokenizer_ocr.vocab_size] + tokenizer_ocr.encode(\n",
        "      ocr_param.numpy()) + [tokenizer_ocr.vocab_size+1]\n",
        "\n",
        "  date = [tokenizer_date.vocab_size] + tokenizer_date.encode(\n",
        "      date_param.numpy()) + [tokenizer_date.vocab_size+1]\n",
        "    \n",
        "  amount = [tokenizer_amount.vocab_size] + tokenizer_amount.encode(\n",
        "      amount_param.numpy()) + [tokenizer_amount.vocab_size+1]\n",
        "  \n",
        "  return ocr, amount, date"
      ],
      "execution_count": 0,
      "outputs": []
    },
    {
      "cell_type": "markdown",
      "metadata": {
        "colab_type": "text",
        "id": "6JrGp5Gek6Ql"
      },
      "source": [
        "Note: To keep this example small and relatively fast, drop examples with a length of over 40 tokens."
      ]
    },
    {
      "cell_type": "code",
      "metadata": {
        "ExecuteTime": {
          "end_time": "2019-11-10T06:32:42.067042Z",
          "start_time": "2019-11-10T06:32:42.064342Z"
        },
        "colab_type": "code",
        "id": "2QEgbjntk6Yf",
        "pycharm": {
          "is_executing": false
        },
        "colab": {}
      },
      "source": [
        "MAX_LENGTH = 800"
      ],
      "execution_count": 0,
      "outputs": []
    },
    {
      "cell_type": "code",
      "metadata": {
        "ExecuteTime": {
          "end_time": "2019-11-10T06:32:42.072228Z",
          "start_time": "2019-11-10T06:32:42.069216Z"
        },
        "colab_type": "code",
        "id": "c081xPGv1CPI",
        "pycharm": {
          "is_executing": false
        },
        "colab": {}
      },
      "source": [
        "def filter_max_length(x, y1, y2, max_length=MAX_LENGTH):\n",
        "  return tf.logical_and(tf.logical_and(tf.size(x) <= max_length,\n",
        "                        tf.size(y1) <= max_length), tf.size(y2) <= max_length)"
      ],
      "execution_count": 0,
      "outputs": []
    },
    {
      "cell_type": "markdown",
      "metadata": {
        "colab_type": "text",
        "id": "Tx1sFbR-9fRs"
      },
      "source": [
        "Operations inside `.map()` run in graph mode and receive a graph tensor that do not have a numpy attribute. The `tokenizer` expects a string or Unicode symbol to encode it into integers. Hence, you need to run the encoding inside a `tf.py_function`, which receives an eager tensor having a numpy attribute that contains the string value."
      ]
    },
    {
      "cell_type": "code",
      "metadata": {
        "ExecuteTime": {
          "end_time": "2019-11-10T06:32:42.077875Z",
          "start_time": "2019-11-10T06:32:42.074724Z"
        },
        "colab_type": "code",
        "id": "Mah1cS-P70Iz",
        "pycharm": {
          "is_executing": false
        },
        "colab": {}
      },
      "source": [
        "def tf_encode(ocr, amount, date):\n",
        "  return tf.py_function(encode, [ocr, amount, date], [tf.int64, tf.int64, tf.int64])"
      ],
      "execution_count": 0,
      "outputs": []
    },
    {
      "cell_type": "code",
      "metadata": {
        "ExecuteTime": {
          "end_time": "2019-11-10T06:32:42.088195Z",
          "start_time": "2019-11-10T06:32:42.079882Z"
        },
        "colab_type": "code",
        "id": "8iWeIrANuYZ9",
        "outputId": "033a8d5a-e9cc-4adf-93b8-d578e9fd927b",
        "pycharm": {
          "is_executing": false
        },
        "colab": {
          "base_uri": "https://localhost:8080/",
          "height": 34
        }
      },
      "source": [
        "training_examples"
      ],
      "execution_count": 24,
      "outputs": [
        {
          "output_type": "execute_result",
          "data": {
            "text/plain": [
              "<TensorSliceDataset shapes: ((), (), ()), types: (tf.string, tf.string, tf.string)>"
            ]
          },
          "metadata": {
            "tags": []
          },
          "execution_count": 24
        }
      ]
    },
    {
      "cell_type": "code",
      "metadata": {
        "ExecuteTime": {
          "end_time": "2019-11-10T06:32:42.368141Z",
          "start_time": "2019-11-10T06:32:42.089872Z"
        },
        "colab_type": "code",
        "id": "9mk9AZdZ5bcS",
        "pycharm": {
          "is_executing": false
        },
        "colab": {}
      },
      "source": [
        "train_dataset = training_examples \\\n",
        "                .map(tf_encode) \\\n",
        "                .filter(filter_max_length) \\\n",
        "                .cache() \\\n",
        "                .shuffle(BUFFER_SIZE).padded_batch(BATCH_SIZE, padded_shapes=([-1], [-1], [-1])) \\\n",
        "                .prefetch(tf.data.experimental.AUTOTUNE) \\\n",
        "\n",
        "valid_dataset = val_examples.map(tf_encode) \\\n",
        "                .filter(filter_max_length).padded_batch(BATCH_SIZE, padded_shapes=([-1], [-1], [-1]))"
      ],
      "execution_count": 0,
      "outputs": []
    },
    {
      "cell_type": "markdown",
      "metadata": {
        "colab_type": "text",
        "id": "nBQuibYA4n0n"
      },
      "source": [
        "## Positional encoding\n",
        "\n",
        "Since this model doesn't contain any recurrence or convolution, positional encoding is added to give the model some information about the relative position of the words in the sentence. \n",
        "\n",
        "The positional encoding vector is added to the embedding vector. Embeddings represent a token in a d-dimensional space where tokens with similar meaning will be closer to each other. But the embeddings do not encode the relative position of words in a sentence. So after adding the positional encoding, words will be closer to each other based on the *similarity of their meaning and their position in the sentence*, in the d-dimensional space.\n",
        "\n",
        "See the notebook on [positional encoding](https://github.com/tensorflow/examples/blob/master/community/en/position_encoding.ipynb) to learn more about it. The formula for calculating the positional encoding is as follows:\n",
        "\n",
        "$$\\Large{PE_{(pos, 2i)} = sin(pos / 10000^{2i / d_{model}})} $$\n",
        "$$\\Large{PE_{(pos, 2i+1)} = cos(pos / 10000^{2i / d_{model}})} $$"
      ]
    },
    {
      "cell_type": "code",
      "metadata": {
        "ExecuteTime": {
          "end_time": "2019-11-10T06:32:42.372964Z",
          "start_time": "2019-11-10T06:32:42.369990Z"
        },
        "colab_type": "code",
        "id": "WhIOZjMNKujn",
        "pycharm": {
          "is_executing": false
        },
        "colab": {}
      },
      "source": [
        "def get_angles(pos, i, d_model):\n",
        "  angle_rates = 1 / np.power(10000, (2 * (i//2)) / np.float32(d_model))\n",
        "  return pos * angle_rates"
      ],
      "execution_count": 0,
      "outputs": []
    },
    {
      "cell_type": "code",
      "metadata": {
        "ExecuteTime": {
          "end_time": "2019-11-10T06:32:42.379237Z",
          "start_time": "2019-11-10T06:32:42.374655Z"
        },
        "colab_type": "code",
        "id": "1Rz82wEs5biZ",
        "pycharm": {
          "is_executing": false
        },
        "colab": {}
      },
      "source": [
        "def positional_encoding(position, d_model):\n",
        "  angle_rads = get_angles(np.arange(position)[:, np.newaxis],\n",
        "                          np.arange(d_model)[np.newaxis, :],\n",
        "                          d_model)\n",
        "  \n",
        "  # apply sin to even indices in the array; 2i\n",
        "  angle_rads[:, 0::2] = np.sin(angle_rads[:, 0::2])\n",
        "  \n",
        "  # apply cos to odd indices in the array; 2i+1\n",
        "  angle_rads[:, 1::2] = np.cos(angle_rads[:, 1::2])\n",
        "    \n",
        "  pos_encoding = angle_rads[np.newaxis, ...]\n",
        "    \n",
        "  return tf.cast(pos_encoding, dtype=tf.float32)"
      ],
      "execution_count": 0,
      "outputs": []
    },
    {
      "cell_type": "code",
      "metadata": {
        "ExecuteTime": {
          "end_time": "2019-11-10T06:32:42.622473Z",
          "start_time": "2019-11-10T06:32:42.381024Z"
        },
        "colab_type": "code",
        "id": "1kLCla68EloE",
        "outputId": "8157b257-2f06-4b82-94aa-5e616e653d52",
        "pycharm": {
          "is_executing": false
        },
        "colab": {
          "base_uri": "https://localhost:8080/",
          "height": 300
        }
      },
      "source": [
        "pos_encoding = positional_encoding(50, 512)\n",
        "print (pos_encoding.shape)\n",
        "\n",
        "plt.pcolormesh(pos_encoding[0], cmap='RdBu')\n",
        "plt.xlabel('Depth')\n",
        "plt.xlim((0, 512))\n",
        "plt.ylabel('Position')\n",
        "plt.colorbar()\n",
        "plt.show()"
      ],
      "execution_count": 28,
      "outputs": [
        {
          "output_type": "stream",
          "text": [
            "(1, 50, 512)\n"
          ],
          "name": "stdout"
        },
        {
          "output_type": "display_data",
          "data": {
            "image/png": "[encoded data removed]",
            "text/plain": [
              "<Figure size 432x288 with 2 Axes>"
            ]
          },
          "metadata": {
            "tags": [],
            "needs_background": "light"
          }
        }
      ]
    },
    {
      "cell_type": "markdown",
      "metadata": {
        "colab_type": "text",
        "id": "a_b4ou4TYqUN"
      },
      "source": [
        "## Masking"
      ]
    },
    {
      "cell_type": "markdown",
      "metadata": {
        "colab_type": "text",
        "id": "s42Uydjkv0hF"
      },
      "source": [
        "Mask all the pad tokens in the batch of sequence. It ensures that the model does not treat padding as the input. The mask indicates where pad value `0` is present: it outputs a `1` at those locations, and a `0` otherwise."
      ]
    },
    {
      "cell_type": "code",
      "metadata": {
        "ExecuteTime": {
          "end_time": "2019-11-10T06:32:42.627869Z",
          "start_time": "2019-11-10T06:32:42.624456Z"
        },
        "colab_type": "code",
        "id": "U2i8-e1s8ti9",
        "pycharm": {
          "is_executing": false
        },
        "colab": {}
      },
      "source": [
        "def create_padding_mask(seq):\n",
        "  seq = tf.cast(tf.math.equal(seq, 0), tf.float32)\n",
        "  \n",
        "  # add extra dimensions to add the padding\n",
        "  # to the attention logits.\n",
        "  return seq[:, tf.newaxis, tf.newaxis, :]  # (batch_size, 1, 1, seq_len)"
      ],
      "execution_count": 0,
      "outputs": []
    },
    {
      "cell_type": "code",
      "metadata": {
        "ExecuteTime": {
          "end_time": "2019-11-10T06:32:42.635845Z",
          "start_time": "2019-11-10T06:32:42.629584Z"
        },
        "colab_type": "code",
        "id": "A7BYeBCNvi7n",
        "outputId": "cf8de804-73f8-4f02-a41c-651ec87bb024",
        "pycharm": {
          "is_executing": false
        },
        "colab": {
          "base_uri": "https://localhost:8080/",
          "height": 153
        }
      },
      "source": [
        "x = tf.constant([[7, 6, 0, 0, 1], [1, 2, 3, 0, 0], [0, 0, 0, 4, 5]])\n",
        "create_padding_mask(x)"
      ],
      "execution_count": 30,
      "outputs": [
        {
          "output_type": "execute_result",
          "data": {
            "text/plain": [
              "<tf.Tensor: shape=(3, 1, 1, 5), dtype=float32, numpy=\n",
              "array([[[[0., 0., 1., 1., 0.]]],\n",
              "\n",
              "\n",
              "       [[[0., 0., 0., 1., 1.]]],\n",
              "\n",
              "\n",
              "       [[[1., 1., 1., 0., 0.]]]], dtype=float32)>"
            ]
          },
          "metadata": {
            "tags": []
          },
          "execution_count": 30
        }
      ]
    },
    {
      "cell_type": "markdown",
      "metadata": {
        "colab_type": "text",
        "id": "Z0hzukDBgVom"
      },
      "source": [
        "The look-ahead mask is used to mask the future tokens in a sequence. In other words, the mask indicates which entries should not be used.\n",
        "\n",
        "This means that to predict the third word, only the first and second word will be used. Similarly to predict the fourth word, only the first, second and the third word will be used and so on."
      ]
    },
    {
      "cell_type": "code",
      "metadata": {
        "ExecuteTime": {
          "end_time": "2019-11-10T06:32:42.643086Z",
          "start_time": "2019-11-10T06:32:42.639838Z"
        },
        "colab_type": "code",
        "id": "dVxS8OPI9uI0",
        "pycharm": {
          "is_executing": false
        },
        "colab": {}
      },
      "source": [
        "def create_look_ahead_mask(size):\n",
        "  mask = 1 - tf.linalg.band_part(tf.ones((size, size)), -1, 0)\n",
        "  return mask  # (seq_len, seq_len)"
      ],
      "execution_count": 0,
      "outputs": []
    },
    {
      "cell_type": "code",
      "metadata": {
        "ExecuteTime": {
          "start_time": "2019-11-10T06:32:19.481Z"
        },
        "colab_type": "code",
        "id": "yxKGuXxaBeeE",
        "outputId": "09df852f-bf7e-433a-b83b-e69518953609",
        "pycharm": {
          "is_executing": false
        },
        "colab": {
          "base_uri": "https://localhost:8080/",
          "height": 85
        }
      },
      "source": [
        "x = tf.random.uniform((1, 3))\n",
        "temp = create_look_ahead_mask(x.shape[1])\n",
        "temp"
      ],
      "execution_count": 32,
      "outputs": [
        {
          "output_type": "execute_result",
          "data": {
            "text/plain": [
              "<tf.Tensor: shape=(3, 3), dtype=float32, numpy=\n",
              "array([[0., 1., 1.],\n",
              "       [0., 0., 1.],\n",
              "       [0., 0., 0.]], dtype=float32)>"
            ]
          },
          "metadata": {
            "tags": []
          },
          "execution_count": 32
        }
      ]
    },
    {
      "cell_type": "markdown",
      "metadata": {
        "colab_type": "text",
        "id": "xluDl5cXYy4y"
      },
      "source": [
        "## Scaled dot product attention"
      ]
    },
    {
      "cell_type": "markdown",
      "metadata": {
        "colab_type": "text",
        "id": "vsxEE_-Wa1gF"
      },
      "source": [
        "<img src=\"https://www.tensorflow.org/images/tutorials/transformer/scaled_attention.png\" width=\"500\" alt=\"scaled_dot_product_attention\">\n",
        "\n",
        "The attention function used by the transformer takes three inputs: Q (query), K (key), V (value). The equation used to calculate the attention weights is:\n",
        "\n",
        "$$\\Large{Attention(Q, K, V) = softmax_k(\\frac{QK^T}{\\sqrt{d_k}}) V} $$\n",
        "\n",
        "The dot-product attention is scaled by a factor of square root of the depth. This is done because for large values of depth, the dot product grows large in magnitude pushing the softmax function where it has small gradients resulting in a very hard softmax. \n",
        "\n",
        "For example, consider that `Q` and `K` have a mean of 0 and variance of 1. Their matrix multiplication will have a mean of 0 and variance of `dk`. Hence, *square root of `dk`* is used for scaling (and not any other number) because the matmul of `Q` and `K` should have a mean of 0 and variance of 1, and you get a gentler softmax.\n",
        "\n",
        "The mask is multiplied with -1e9 (close to negative infinity). This is done because the mask is summed with the scaled matrix multiplication of Q and K and is applied immediately before a softmax. The goal is to zero out these cells, and large negative inputs to softmax are near zero in the output."
      ]
    },
    {
      "cell_type": "code",
      "metadata": {
        "ExecuteTime": {
          "start_time": "2019-11-10T06:32:19.485Z"
        },
        "colab_type": "code",
        "id": "LazzUq3bJ5SH",
        "pycharm": {
          "is_executing": false
        },
        "colab": {}
      },
      "source": [
        "def scaled_dot_product_attention(q, k, v, mask):\n",
        "  \"\"\"Calculate the attention weights.\n",
        "  q, k, v must have matching leading dimensions.\n",
        "  k, v must have matching penultimate dimension, i.e.: seq_len_k = seq_len_v.\n",
        "  The mask has different shapes depending on its type(padding or look ahead) \n",
        "  but it must be broadcastable for addition.\n",
        "  \n",
        "  Args:\n",
        "    q: query shape == (..., seq_len_q, depth)\n",
        "    k: key shape == (..., seq_len_k, depth)\n",
        "    v: value shape == (..., seq_len_v, depth_v)\n",
        "    mask: Float tensor with shape broadcastable \n",
        "          to (..., seq_len_q, seq_len_k). Defaults to None.\n",
        "    \n",
        "  Returns:\n",
        "    output, attention_weights\n",
        "  \"\"\"\n",
        "\n",
        "  matmul_qk = tf.matmul(q, k, transpose_b=True)  # (..., seq_len_q, seq_len_k)\n",
        "  \n",
        "  # scale matmul_qk\n",
        "  dk = tf.cast(tf.shape(k)[-1], tf.float32)\n",
        "  scaled_attention_logits = matmul_qk / tf.math.sqrt(dk)\n",
        "\n",
        "  # add the mask to the scaled tensor.\n",
        "  if mask is not None:\n",
        "    scaled_attention_logits += (mask * -1e9)  \n",
        "\n",
        "  # softmax is normalized on the last axis (seq_len_k) so that the scores\n",
        "  # add up to 1.\n",
        "  attention_weights = tf.nn.softmax(scaled_attention_logits, axis=-1)  # (..., seq_len_q, seq_len_k)\n",
        "\n",
        "  output = tf.matmul(attention_weights, v)  # (..., seq_len_q, depth_v)\n",
        "\n",
        "  return output, attention_weights"
      ],
      "execution_count": 0,
      "outputs": []
    },
    {
      "cell_type": "markdown",
      "metadata": {
        "colab_type": "text",
        "id": "FiqETnhCkoXh"
      },
      "source": [
        "As the softmax normalization is done on K, its values decide the amount of importance given to Q.\n",
        "\n",
        "The output represents the multiplication of the attention weights and the V (value) vector. This ensures that the words you want to focus on are kept as-is and the irrelevant words are flushed out."
      ]
    },
    {
      "cell_type": "code",
      "metadata": {
        "ExecuteTime": {
          "start_time": "2019-11-10T06:32:19.488Z"
        },
        "colab_type": "code",
        "id": "n90YjClyInFy",
        "pycharm": {
          "is_executing": false
        },
        "colab": {}
      },
      "source": [
        "def print_out(q, k, v):\n",
        "  temp_out, temp_attn = scaled_dot_product_attention(\n",
        "      q, k, v, None)\n",
        "  print ('Attention weights are:')\n",
        "  print (temp_attn)\n",
        "  print ('Output is:')\n",
        "  print (temp_out)"
      ],
      "execution_count": 0,
      "outputs": []
    },
    {
      "cell_type": "code",
      "metadata": {
        "ExecuteTime": {
          "start_time": "2019-11-10T06:32:19.491Z"
        },
        "colab_type": "code",
        "id": "yAzUAf2DPlNt",
        "outputId": "48e7e929-852d-4431-ba53-55453688b51b",
        "pycharm": {
          "is_executing": false
        },
        "colab": {
          "base_uri": "https://localhost:8080/",
          "height": 85
        }
      },
      "source": [
        "np.set_printoptions(suppress=True)\n",
        "\n",
        "temp_k = tf.constant([[10,0,0],\n",
        "                      [0,10,0],\n",
        "                      [0,0,10],\n",
        "                      [0,0,10]], dtype=tf.float32)  # (4, 3)\n",
        "\n",
        "temp_v = tf.constant([[   1,0],\n",
        "                      [  10,0],\n",
        "                      [ 100,5],\n",
        "                      [1000,6]], dtype=tf.float32)  # (4, 2)\n",
        "\n",
        "# This `query` aligns with the second `key`,\n",
        "# so the second `value` is returned.\n",
        "temp_q = tf.constant([[0, 10, 0]], dtype=tf.float32)  # (1, 3)\n",
        "print_out(temp_q, temp_k, temp_v)"
      ],
      "execution_count": 35,
      "outputs": [
        {
          "output_type": "stream",
          "text": [
            "Attention weights are:\n",
            "tf.Tensor([[0. 1. 0. 0.]], shape=(1, 4), dtype=float32)\n",
            "Output is:\n",
            "tf.Tensor([[10.  0.]], shape=(1, 2), dtype=float32)\n"
          ],
          "name": "stdout"
        }
      ]
    },
    {
      "cell_type": "code",
      "metadata": {
        "ExecuteTime": {
          "start_time": "2019-11-10T06:32:19.494Z"
        },
        "colab_type": "code",
        "id": "zg6k-fGhgXra",
        "outputId": "d226715b-f3d1-4309-c473-f512ef9109fa",
        "pycharm": {
          "is_executing": false
        },
        "colab": {
          "base_uri": "https://localhost:8080/",
          "height": 85
        }
      },
      "source": [
        "# This query aligns with a repeated key (third and fourth), \n",
        "# so all associated values get averaged.\n",
        "temp_q = tf.constant([[0, 0, 10]], dtype=tf.float32)  # (1, 3)\n",
        "print_out(temp_q, temp_k, temp_v)"
      ],
      "execution_count": 36,
      "outputs": [
        {
          "output_type": "stream",
          "text": [
            "Attention weights are:\n",
            "tf.Tensor([[0.  0.  0.5 0.5]], shape=(1, 4), dtype=float32)\n",
            "Output is:\n",
            "tf.Tensor([[550.    5.5]], shape=(1, 2), dtype=float32)\n"
          ],
          "name": "stdout"
        }
      ]
    },
    {
      "cell_type": "code",
      "metadata": {
        "ExecuteTime": {
          "start_time": "2019-11-10T06:32:19.496Z"
        },
        "colab_type": "code",
        "id": "UAq3YOzUgXhb",
        "outputId": "90b29a0b-ff0a-4620-99b3-73e8a87ad19e",
        "pycharm": {
          "is_executing": false
        },
        "colab": {
          "base_uri": "https://localhost:8080/",
          "height": 85
        }
      },
      "source": [
        "# This query aligns equally with the first and second key, \n",
        "# so their values get averaged.\n",
        "temp_q = tf.constant([[10, 10, 0]], dtype=tf.float32)  # (1, 3)\n",
        "print_out(temp_q, temp_k, temp_v)"
      ],
      "execution_count": 37,
      "outputs": [
        {
          "output_type": "stream",
          "text": [
            "Attention weights are:\n",
            "tf.Tensor([[0.5 0.5 0.  0. ]], shape=(1, 4), dtype=float32)\n",
            "Output is:\n",
            "tf.Tensor([[5.5 0. ]], shape=(1, 2), dtype=float32)\n"
          ],
          "name": "stdout"
        }
      ]
    },
    {
      "cell_type": "markdown",
      "metadata": {
        "colab_type": "text",
        "id": "aOz-4_XIhaTP"
      },
      "source": [
        "Pass all the queries together."
      ]
    },
    {
      "cell_type": "code",
      "metadata": {
        "ExecuteTime": {
          "start_time": "2019-11-10T06:32:19.499Z"
        },
        "colab_type": "code",
        "id": "6dlU8Tm-hYrF",
        "outputId": "dd507b2f-c628-4991-f9fa-e3bb8c594511",
        "pycharm": {
          "is_executing": false
        },
        "colab": {
          "base_uri": "https://localhost:8080/",
          "height": 187
        }
      },
      "source": [
        "temp_q = tf.constant([[0, 0, 10], [0, 10, 0], [10, 10, 0]], dtype=tf.float32)  # (3, 3)\n",
        "print_out(temp_q, temp_k, temp_v)"
      ],
      "execution_count": 38,
      "outputs": [
        {
          "output_type": "stream",
          "text": [
            "Attention weights are:\n",
            "tf.Tensor(\n",
            "[[0.  0.  0.5 0.5]\n",
            " [0.  1.  0.  0. ]\n",
            " [0.5 0.5 0.  0. ]], shape=(3, 4), dtype=float32)\n",
            "Output is:\n",
            "tf.Tensor(\n",
            "[[550.    5.5]\n",
            " [ 10.    0. ]\n",
            " [  5.5   0. ]], shape=(3, 2), dtype=float32)\n"
          ],
          "name": "stdout"
        }
      ]
    },
    {
      "cell_type": "markdown",
      "metadata": {
        "colab_type": "text",
        "id": "kmzGPEy64qmA"
      },
      "source": [
        "## Multi-head attention"
      ]
    },
    {
      "cell_type": "markdown",
      "metadata": {
        "colab_type": "text",
        "id": "fz5BMC8Kaoqo"
      },
      "source": [
        "<img src=\"https://www.tensorflow.org/images/tutorials/transformer/multi_head_attention.png\" width=\"500\" alt=\"multi-head attention\">\n",
        "\n",
        "\n",
        "Multi-head attention consists of four parts:\n",
        "*    Linear layers and split into heads.\n",
        "*    Scaled dot-product attention.\n",
        "*    Concatenation of heads.\n",
        "*    Final linear layer."
      ]
    },
    {
      "cell_type": "markdown",
      "metadata": {
        "colab_type": "text",
        "id": "JPmbr6F1C-v_"
      },
      "source": [
        "Each multi-head attention block gets three inputs; Q (query), K (key), V (value). These are put through linear (Dense) layers and split up into multiple heads. \n",
        "\n",
        "The `scaled_dot_product_attention` defined above is applied to each head (broadcasted for efficiency). An appropriate mask must be used in the attention step.  The attention output for each head is then concatenated (using `tf.transpose`, and `tf.reshape`) and put through a final `Dense` layer.\n",
        "\n",
        "Instead of one single attention head, Q, K, and V are split into multiple heads because it allows the model to jointly attend to information at different positions from different representational spaces. After the split each head has a reduced dimensionality, so the total computation cost is the same as a single head attention with full dimensionality."
      ]
    },
    {
      "cell_type": "code",
      "metadata": {
        "ExecuteTime": {
          "start_time": "2019-11-10T06:32:19.503Z"
        },
        "colab_type": "code",
        "id": "BSV3PPKsYecw",
        "pycharm": {
          "is_executing": false
        },
        "colab": {}
      },
      "source": [
        "class MultiHeadAttention(tf.keras.layers.Layer):\n",
        "  def __init__(self, d_model, num_heads):\n",
        "    super(MultiHeadAttention, self).__init__()\n",
        "    self.num_heads = num_heads\n",
        "    self.d_model = d_model\n",
        "    \n",
        "    assert d_model % self.num_heads == 0\n",
        "    \n",
        "    self.depth = d_model // self.num_heads\n",
        "    \n",
        "    self.wq = tf.keras.layers.Dense(d_model)\n",
        "    self.wk = tf.keras.layers.Dense(d_model)\n",
        "    self.wv = tf.keras.layers.Dense(d_model)\n",
        "    \n",
        "    self.dense = tf.keras.layers.Dense(d_model)\n",
        "        \n",
        "  def split_heads(self, x, batch_size):\n",
        "    \"\"\"Split the last dimension into (num_heads, depth).\n",
        "    Transpose the result such that the shape is (batch_size, num_heads, seq_len, depth)\n",
        "    \"\"\"\n",
        "    x = tf.reshape(x, (batch_size, -1, self.num_heads, self.depth))\n",
        "    return tf.transpose(x, perm=[0, 2, 1, 3])\n",
        "    \n",
        "  def call(self, v, k, q, mask):\n",
        "    batch_size = tf.shape(q)[0]\n",
        "    \n",
        "    q = self.wq(q)  # (batch_size, seq_len, d_model)\n",
        "    k = self.wk(k)  # (batch_size, seq_len, d_model)\n",
        "    v = self.wv(v)  # (batch_size, seq_len, d_model)\n",
        "    \n",
        "    q = self.split_heads(q, batch_size)  # (batch_size, num_heads, seq_len_q, depth)\n",
        "    k = self.split_heads(k, batch_size)  # (batch_size, num_heads, seq_len_k, depth)\n",
        "    v = self.split_heads(v, batch_size)  # (batch_size, num_heads, seq_len_v, depth)\n",
        "    \n",
        "    # scaled_attention.shape == (batch_size, num_heads, seq_len_q, depth)\n",
        "    # attention_weights.shape == (batch_size, num_heads, seq_len_q, seq_len_k)\n",
        "    scaled_attention, attention_weights = scaled_dot_product_attention(\n",
        "        q, k, v, mask)\n",
        "    \n",
        "    scaled_attention = tf.transpose(scaled_attention, perm=[0, 2, 1, 3])  # (batch_size, seq_len_q, num_heads, depth)\n",
        "\n",
        "    concat_attention = tf.reshape(scaled_attention, \n",
        "                                  (batch_size, -1, self.d_model))  # (batch_size, seq_len_q, d_model)\n",
        "\n",
        "    output = self.dense(concat_attention)  # (batch_size, seq_len_q, d_model)\n",
        "        \n",
        "    return output, attention_weights"
      ],
      "execution_count": 0,
      "outputs": []
    },
    {
      "cell_type": "markdown",
      "metadata": {
        "colab_type": "text",
        "id": "0D8FJue5lDyZ"
      },
      "source": [
        "Create a `MultiHeadAttention` layer to try out. At each location in the sequence, `y`, the `MultiHeadAttention` runs all 8 attention heads across all other locations in the sequence, returning a new vector of the same length at each location."
      ]
    },
    {
      "cell_type": "code",
      "metadata": {
        "ExecuteTime": {
          "start_time": "2019-11-10T06:32:19.507Z"
        },
        "colab_type": "code",
        "id": "Hu94p-_-2_BX",
        "outputId": "25039d79-a026-4673-a426-45457e2195d4",
        "pycharm": {
          "is_executing": false
        },
        "colab": {
          "base_uri": "https://localhost:8080/",
          "height": 34
        }
      },
      "source": [
        "temp_mha = MultiHeadAttention(d_model=512, num_heads=8)\n",
        "y = tf.random.uniform((1, 60, 512))  # (batch_size, encoder_sequence, d_model)\n",
        "out, attn = temp_mha(y, k=y, q=y, mask=None)\n",
        "out.shape, attn.shape"
      ],
      "execution_count": 40,
      "outputs": [
        {
          "output_type": "execute_result",
          "data": {
            "text/plain": [
              "(TensorShape([1, 60, 512]), TensorShape([1, 8, 60, 60]))"
            ]
          },
          "metadata": {
            "tags": []
          },
          "execution_count": 40
        }
      ]
    },
    {
      "cell_type": "markdown",
      "metadata": {
        "colab_type": "text",
        "id": "RdDqGayx67vv"
      },
      "source": [
        "## Point wise feed forward network"
      ]
    },
    {
      "cell_type": "markdown",
      "metadata": {
        "colab_type": "text",
        "id": "gBqzJXGfHK3X"
      },
      "source": [
        "Point wise feed forward network consists of two fully-connected layers with a ReLU activation in between."
      ]
    },
    {
      "cell_type": "code",
      "metadata": {
        "ExecuteTime": {
          "start_time": "2019-11-10T06:32:19.511Z"
        },
        "colab_type": "code",
        "id": "ET7xLt0yCT6Z",
        "pycharm": {
          "is_executing": false
        },
        "colab": {}
      },
      "source": [
        "def point_wise_feed_forward_network(d_model, dff):\n",
        "  return tf.keras.Sequential([\n",
        "      tf.keras.layers.Dense(dff, activation='relu'),  # (batch_size, seq_len, dff)\n",
        "      tf.keras.layers.Dense(d_model)  # (batch_size, seq_len, d_model)\n",
        "  ])"
      ],
      "execution_count": 0,
      "outputs": []
    },
    {
      "cell_type": "code",
      "metadata": {
        "ExecuteTime": {
          "start_time": "2019-11-10T06:32:19.514Z"
        },
        "colab_type": "code",
        "id": "mytb1lPyOHLB",
        "outputId": "2a70cc35-012d-48a2-d582-478d843a7576",
        "pycharm": {
          "is_executing": false
        },
        "colab": {
          "base_uri": "https://localhost:8080/",
          "height": 34
        }
      },
      "source": [
        "sample_ffn = point_wise_feed_forward_network(512, 2048)\n",
        "sample_ffn(tf.random.uniform((64, 50, 512))).shape"
      ],
      "execution_count": 42,
      "outputs": [
        {
          "output_type": "execute_result",
          "data": {
            "text/plain": [
              "TensorShape([64, 50, 512])"
            ]
          },
          "metadata": {
            "tags": []
          },
          "execution_count": 42
        }
      ]
    },
    {
      "cell_type": "markdown",
      "metadata": {
        "colab_type": "text",
        "id": "7e7hKcxn6-zd"
      },
      "source": [
        "## Encoder and decoder"
      ]
    },
    {
      "cell_type": "markdown",
      "metadata": {
        "colab_type": "text",
        "id": "yScbC0MUH8dS"
      },
      "source": [
        "<img src=\"https://www.tensorflow.org/images/tutorials/transformer/transformer.png\" width=\"600\" alt=\"transformer\">"
      ]
    },
    {
      "cell_type": "markdown",
      "metadata": {
        "colab_type": "text",
        "id": "MfYJG-Kvgwy2"
      },
      "source": [
        "The transformer model follows the same general pattern as a standard [sequence to sequence with attention model](nmt_with_attention.ipynb). \n",
        "\n",
        "* The input sentence is passed through `N` encoder layers that generates an output for each word/token in the sequence.\n",
        "* The decoder attends on the encoder's output and its own input (self-attention) to predict the next word. "
      ]
    },
    {
      "cell_type": "markdown",
      "metadata": {
        "colab_type": "text",
        "id": "QFv-FNYUmvpn"
      },
      "source": [
        "### Encoder layer\n",
        "\n",
        "Each encoder layer consists of sublayers:\n",
        "\n",
        "1.   Multi-head attention (with padding mask) \n",
        "2.    Point wise feed forward networks. \n",
        "\n",
        "Each of these sublayers has a residual connection around it followed by a layer normalization. Residual connections help in avoiding the vanishing gradient problem in deep networks.\n",
        "\n",
        "The output of each sublayer is `LayerNorm(x + Sublayer(x))`. The normalization is done on the `d_model` (last) axis. There are N encoder layers in the transformer."
      ]
    },
    {
      "cell_type": "code",
      "metadata": {
        "ExecuteTime": {
          "start_time": "2019-11-10T06:32:19.519Z"
        },
        "colab_type": "code",
        "id": "ncyS-Ms3i2x_",
        "pycharm": {
          "is_executing": false
        },
        "colab": {}
      },
      "source": [
        "class EncoderLayer(tf.keras.layers.Layer):\n",
        "  def __init__(self, d_model, num_heads, dff, rate=0.1):\n",
        "    super(EncoderLayer, self).__init__()\n",
        "\n",
        "    self.mha = MultiHeadAttention(d_model, num_heads)\n",
        "    self.ffn = point_wise_feed_forward_network(d_model, dff)\n",
        "\n",
        "    self.layernorm1 = tf.keras.layers.LayerNormalization(epsilon=1e-6)\n",
        "    self.layernorm2 = tf.keras.layers.LayerNormalization(epsilon=1e-6)\n",
        "    \n",
        "    self.dropout1 = tf.keras.layers.Dropout(rate)\n",
        "    self.dropout2 = tf.keras.layers.Dropout(rate)\n",
        "    \n",
        "  def call(self, x, training, mask):\n",
        "\n",
        "    attn_output, _ = self.mha(x, x, x, mask)  # (batch_size, input_seq_len, d_model)\n",
        "    attn_output = self.dropout1(attn_output, training=training)\n",
        "    out1 = self.layernorm1(x + attn_output)  # (batch_size, input_seq_len, d_model)\n",
        "    \n",
        "    ffn_output = self.ffn(out1)  # (batch_size, input_seq_len, d_model)\n",
        "    ffn_output = self.dropout2(ffn_output, training=training)\n",
        "    out2 = self.layernorm2(out1 + ffn_output)  # (batch_size, input_seq_len, d_model)\n",
        "    \n",
        "    return out2"
      ],
      "execution_count": 0,
      "outputs": []
    },
    {
      "cell_type": "code",
      "metadata": {
        "ExecuteTime": {
          "start_time": "2019-11-10T06:32:19.521Z"
        },
        "colab_type": "code",
        "id": "AzZRXdO0mI48",
        "outputId": "e54ae69e-64cc-420c-8878-1019df391ae1",
        "pycharm": {
          "is_executing": false
        },
        "colab": {
          "base_uri": "https://localhost:8080/",
          "height": 34
        }
      },
      "source": [
        "sample_encoder_layer = EncoderLayer(512, 8, 2048)\n",
        "\n",
        "sample_encoder_layer_output = sample_encoder_layer(\n",
        "    tf.random.uniform((64, 43, 512)), False, None)\n",
        "\n",
        "sample_encoder_layer_output.shape  # (batch_size, input_seq_len, d_model)"
      ],
      "execution_count": 44,
      "outputs": [
        {
          "output_type": "execute_result",
          "data": {
            "text/plain": [
              "TensorShape([64, 43, 512])"
            ]
          },
          "metadata": {
            "tags": []
          },
          "execution_count": 44
        }
      ]
    },
    {
      "cell_type": "markdown",
      "metadata": {
        "colab_type": "text",
        "id": "6LO_48Owmx_o"
      },
      "source": [
        "### Decoder layer\n",
        "\n",
        "Each decoder layer consists of sublayers:\n",
        "\n",
        "1.   Masked multi-head attention (with look ahead mask and padding mask)\n",
        "2.   Multi-head attention (with padding mask). V (value) and K (key) receive the *encoder output* as inputs. Q (query) receives the *output from the masked multi-head attention sublayer.*\n",
        "3.   Point wise feed forward networks\n",
        "\n",
        "Each of these sublayers has a residual connection around it followed by a layer normalization. The output of each sublayer is `LayerNorm(x + Sublayer(x))`. The normalization is done on the `d_model` (last) axis.\n",
        "\n",
        "There are N decoder layers in the transformer.\n",
        "\n",
        "As Q receives the output from decoder's first attention block, and K receives the encoder output, the attention weights represent the importance given to the decoder's input based on the encoder's output. In other words, the decoder predicts the next word by looking at the encoder output and self-attending to its own output. See the demonstration above in the scaled dot product attention section."
      ]
    },
    {
      "cell_type": "code",
      "metadata": {
        "ExecuteTime": {
          "start_time": "2019-11-10T06:32:19.524Z"
        },
        "colab_type": "code",
        "id": "9SoX0-vd1hue",
        "pycharm": {
          "is_executing": false
        },
        "colab": {}
      },
      "source": [
        "class DecoderLayer(tf.keras.layers.Layer):\n",
        "  def __init__(self, d_model, num_heads, dff, rate=0.1):\n",
        "    super(DecoderLayer, self).__init__()\n",
        "\n",
        "    self.mha1 = MultiHeadAttention(d_model, num_heads)\n",
        "    self.mha2 = MultiHeadAttention(d_model, num_heads)\n",
        "\n",
        "    self.ffn = point_wise_feed_forward_network(d_model, dff)\n",
        " \n",
        "    self.layernorm1 = tf.keras.layers.LayerNormalization(epsilon=1e-6)\n",
        "    self.layernorm2 = tf.keras.layers.LayerNormalization(epsilon=1e-6)\n",
        "    self.layernorm3 = tf.keras.layers.LayerNormalization(epsilon=1e-6)\n",
        "    \n",
        "    self.dropout1 = tf.keras.layers.Dropout(rate)\n",
        "    self.dropout2 = tf.keras.layers.Dropout(rate)\n",
        "    self.dropout3 = tf.keras.layers.Dropout(rate)\n",
        "    \n",
        "    \n",
        "  def call(self, x, enc_output, training, \n",
        "           look_ahead_mask, padding_mask):\n",
        "    # enc_output.shape == (batch_size, input_seq_len, d_model)\n",
        "\n",
        "    attn1, attn_weights_block1 = self.mha1(x, x, x, look_ahead_mask)  # (batch_size, target_seq_len, d_model)\n",
        "    attn1 = self.dropout1(attn1, training=training)\n",
        "    out1 = self.layernorm1(attn1 + x)\n",
        "    \n",
        "    attn2, attn_weights_block2 = self.mha2(\n",
        "        enc_output, enc_output, out1, padding_mask)  # (batch_size, target_seq_len, d_model)\n",
        "    attn2 = self.dropout2(attn2, training=training)\n",
        "    out2 = self.layernorm2(attn2 + out1)  # (batch_size, target_seq_len, d_model)\n",
        "    \n",
        "    ffn_output = self.ffn(out2)  # (batch_size, target_seq_len, d_model)\n",
        "    ffn_output = self.dropout3(ffn_output, training=training)\n",
        "    out3 = self.layernorm3(ffn_output + out2)  # (batch_size, target_seq_len, d_model)\n",
        "    \n",
        "    return out3, attn_weights_block1, attn_weights_block2"
      ],
      "execution_count": 0,
      "outputs": []
    },
    {
      "cell_type": "code",
      "metadata": {
        "ExecuteTime": {
          "start_time": "2019-11-10T06:32:19.527Z"
        },
        "colab_type": "code",
        "id": "Ne2Bqx8k71l0",
        "outputId": "5eb0135a-e669-4008-8aaa-4ee41e9b88dd",
        "pycharm": {
          "is_executing": false
        },
        "colab": {
          "base_uri": "https://localhost:8080/",
          "height": 34
        }
      },
      "source": [
        "sample_decoder_layer = DecoderLayer(512, 8, 2048)\n",
        "\n",
        "sample_decoder_layer_output, _, _ = sample_decoder_layer(\n",
        "    tf.random.uniform((64, 50, 512)), sample_encoder_layer_output, \n",
        "    False, None, None)\n",
        "\n",
        "sample_decoder_layer_output.shape  # (batch_size, target_seq_len, d_model)"
      ],
      "execution_count": 46,
      "outputs": [
        {
          "output_type": "execute_result",
          "data": {
            "text/plain": [
              "TensorShape([64, 50, 512])"
            ]
          },
          "metadata": {
            "tags": []
          },
          "execution_count": 46
        }
      ]
    },
    {
      "cell_type": "markdown",
      "metadata": {
        "colab_type": "text",
        "id": "SE1H51Ajm0q1"
      },
      "source": [
        "### Encoder\n",
        "\n",
        "The `Encoder` consists of:\n",
        "1.   Input Embedding\n",
        "2.   Positional Encoding\n",
        "3.   N encoder layers\n",
        "\n",
        "The input is put through an embedding which is summed with the positional encoding. The output of this summation is the input to the encoder layers. The output of the encoder is the input to the decoder."
      ]
    },
    {
      "cell_type": "code",
      "metadata": {
        "ExecuteTime": {
          "start_time": "2019-11-10T06:32:19.530Z"
        },
        "colab_type": "code",
        "id": "jpEox7gJ8FCI",
        "pycharm": {
          "is_executing": false
        },
        "colab": {}
      },
      "source": [
        "class Encoder(tf.keras.layers.Layer):\n",
        "  def __init__(self, num_layers, d_model, num_heads, dff, input_vocab_size,\n",
        "               maximum_position_encoding, rate=0.1):\n",
        "    super(Encoder, self).__init__()\n",
        "\n",
        "    self.d_model = d_model\n",
        "    self.num_layers = num_layers\n",
        "    \n",
        "    self.embedding = tf.keras.layers.Embedding(input_vocab_size, d_model)\n",
        "    self.pos_encoding = positional_encoding(maximum_position_encoding, \n",
        "                                            self.d_model)\n",
        "    \n",
        "    \n",
        "    self.enc_layers = [EncoderLayer(d_model, num_heads, dff, rate) \n",
        "                       for _ in range(num_layers)]\n",
        "  \n",
        "    self.dropout = tf.keras.layers.Dropout(rate)\n",
        "        \n",
        "  def call(self, x, training, mask):\n",
        "\n",
        "    seq_len = tf.shape(x)[1]\n",
        "    \n",
        "    # adding embedding and position encoding.\n",
        "    x = self.embedding(x)  # (batch_size, input_seq_len, d_model)\n",
        "    x *= tf.math.sqrt(tf.cast(self.d_model, tf.float32))\n",
        "    x += self.pos_encoding[:, :seq_len, :]\n",
        "\n",
        "    x = self.dropout(x, training=training)\n",
        "    \n",
        "    for i in range(self.num_layers):\n",
        "      x = self.enc_layers[i](x, training, mask)\n",
        "    \n",
        "    return x  # (batch_size, input_seq_len, d_model)"
      ],
      "execution_count": 0,
      "outputs": []
    },
    {
      "cell_type": "code",
      "metadata": {
        "ExecuteTime": {
          "start_time": "2019-11-10T06:32:19.533Z"
        },
        "colab_type": "code",
        "id": "8QG9nueFQKXx",
        "outputId": "ed5f4408-2a53-4846-9710-1130d053e30c",
        "pycharm": {
          "is_executing": false
        },
        "colab": {
          "base_uri": "https://localhost:8080/",
          "height": 34
        }
      },
      "source": [
        "sample_encoder = Encoder(num_layers=2, d_model=512, num_heads=8, \n",
        "                         dff=2048, input_vocab_size=8500,\n",
        "                         maximum_position_encoding=10000)\n",
        "\n",
        "sample_encoder_output = sample_encoder(tf.random.uniform((64, 62)), \n",
        "                                       training=False, mask=None)\n",
        "\n",
        "print (sample_encoder_output.shape)  # (batch_size, input_seq_len, d_model)"
      ],
      "execution_count": 48,
      "outputs": [
        {
          "output_type": "stream",
          "text": [
            "(64, 62, 512)\n"
          ],
          "name": "stdout"
        }
      ]
    },
    {
      "cell_type": "markdown",
      "metadata": {
        "colab_type": "text",
        "id": "p-uO6ls8m2O5"
      },
      "source": [
        "### Decoder"
      ]
    },
    {
      "cell_type": "markdown",
      "metadata": {
        "colab_type": "text",
        "id": "ZtT7PKzrXkNr"
      },
      "source": [
        " The `Decoder` consists of:\n",
        "1.   Output Embedding\n",
        "2.   Positional Encoding\n",
        "3.   N decoder layers\n",
        "\n",
        "The target is put through an embedding which is summed with the positional encoding. The output of this summation is the input to the decoder layers. The output of the decoder is the input to the final linear layer."
      ]
    },
    {
      "cell_type": "code",
      "metadata": {
        "ExecuteTime": {
          "start_time": "2019-11-10T06:32:19.537Z"
        },
        "colab_type": "code",
        "id": "d5_d5-PLQXwY",
        "pycharm": {
          "is_executing": false
        },
        "colab": {}
      },
      "source": [
        "class Decoder(tf.keras.layers.Layer):\n",
        "  def __init__(self, num_layers, d_model, num_heads, dff, target_vocab_size,\n",
        "               maximum_position_encoding, rate=0.1):\n",
        "    super(Decoder, self).__init__()\n",
        "\n",
        "    self.d_model = d_model\n",
        "    self.num_layers = num_layers\n",
        "    \n",
        "    self.embedding = tf.keras.layers.Embedding(target_vocab_size, d_model)\n",
        "    self.pos_encoding = positional_encoding(maximum_position_encoding, d_model)\n",
        "    \n",
        "    self.dec_layers = [DecoderLayer(d_model, num_heads, dff, rate) \n",
        "                       for _ in range(num_layers)]\n",
        "    self.dropout = tf.keras.layers.Dropout(rate)\n",
        "    \n",
        "  def call(self, x, enc_output, training, \n",
        "           look_ahead_mask, padding_mask):\n",
        "\n",
        "    seq_len = tf.shape(x)[1]\n",
        "    attention_weights = {}\n",
        "    \n",
        "    x = self.embedding(x)  # (batch_size, target_seq_len, d_model)\n",
        "    x *= tf.math.sqrt(tf.cast(self.d_model, tf.float32))\n",
        "    x += self.pos_encoding[:, :seq_len, :]\n",
        "    \n",
        "    x = self.dropout(x, training=training)\n",
        "\n",
        "    for i in range(self.num_layers):\n",
        "      x, block1, block2 = self.dec_layers[i](x, enc_output, training,\n",
        "                                             look_ahead_mask, padding_mask)\n",
        "      \n",
        "      attention_weights['decoder_layer{}_block1'.format(i+1)] = block1\n",
        "      attention_weights['decoder_layer{}_block2'.format(i+1)] = block2\n",
        "    \n",
        "    # x.shape == (batch_size, target_seq_len, d_model)\n",
        "    return x, attention_weights"
      ],
      "execution_count": 0,
      "outputs": []
    },
    {
      "cell_type": "code",
      "metadata": {
        "ExecuteTime": {
          "start_time": "2019-11-10T06:32:19.540Z"
        },
        "colab_type": "code",
        "id": "a1jXoAMRZyvu",
        "outputId": "3a27ff3e-2e8a-4ca8-a354-86f69596d3ef",
        "pycharm": {
          "is_executing": false
        },
        "colab": {
          "base_uri": "https://localhost:8080/",
          "height": 34
        }
      },
      "source": [
        "sample_decoder = Decoder(num_layers=2, d_model=512, num_heads=8, \n",
        "                         dff=2048, target_vocab_size=8000,\n",
        "                         maximum_position_encoding=5000)\n",
        "\n",
        "output, attn = sample_decoder(tf.random.uniform((64, 26)), \n",
        "                              enc_output=sample_encoder_output, \n",
        "                              training=False, look_ahead_mask=None, \n",
        "                              padding_mask=None)\n",
        "\n",
        "output.shape, attn['decoder_layer2_block2'].shape"
      ],
      "execution_count": 50,
      "outputs": [
        {
          "output_type": "execute_result",
          "data": {
            "text/plain": [
              "(TensorShape([64, 26, 512]), TensorShape([64, 8, 26, 62]))"
            ]
          },
          "metadata": {
            "tags": []
          },
          "execution_count": 50
        }
      ]
    },
    {
      "cell_type": "markdown",
      "metadata": {
        "colab_type": "text",
        "id": "y54xnJnuYgJ7"
      },
      "source": [
        "## Create the Transformer"
      ]
    },
    {
      "cell_type": "markdown",
      "metadata": {
        "colab_type": "text",
        "id": "uERO1y54cOKq"
      },
      "source": [
        "Transformer consists of the encoder, decoder and a final linear layer. The output of the decoder is the input to the linear layer and its output is returned."
      ]
    },
    {
      "cell_type": "code",
      "metadata": {
        "ExecuteTime": {
          "start_time": "2019-11-10T06:32:19.543Z"
        },
        "colab_type": "code",
        "id": "PED3bIpOYkBu",
        "pycharm": {
          "is_executing": false
        },
        "colab": {}
      },
      "source": [
        "class Transformer(tf.keras.Model):\n",
        "  def __init__(self,\n",
        "               num_layers,\n",
        "               d_model,\n",
        "               num_heads,\n",
        "               dff,\n",
        "               input_vocab_size, \n",
        "               target_vocab_size_dt,\n",
        "               target_vocab_size_amt,\n",
        "               pe_input,\n",
        "               pe_target_dt,\n",
        "               pe_target_amt,\n",
        "               rate=0.1):\n",
        "    super(Transformer, self).__init__()\n",
        "\n",
        "    self.encoder = Encoder(num_layers, d_model, num_heads, dff, \n",
        "                           input_vocab_size, pe_input, rate)\n",
        "\n",
        "    self.decoder_dt = Decoder(num_layers, d_model, num_heads, dff, \n",
        "                           target_vocab_size_dt, pe_target_dt, rate)\n",
        "    \n",
        "    self.decoder_amt = Decoder(num_layers, d_model, num_heads, dff, \n",
        "                           target_vocab_size_amt, pe_target_amt, rate)\n",
        "\n",
        "    self.final_layer_dt = tf.keras.layers.Dense(target_vocab_size_dt)\n",
        "    self.final_layer_amt = tf.keras.layers.Dense(target_vocab_size_amt)\n",
        "    \n",
        "  def call(self,\n",
        "           inp,\n",
        "           tar_dt,\n",
        "           tar_amt,\n",
        "           training,\n",
        "           enc_padding_mask, \n",
        "           look_ahead_mask_dt,\n",
        "           look_ahead_mask_amt,\n",
        "           dec_padding_mask):\n",
        "\n",
        "    enc_output = self.encoder(inp, training, enc_padding_mask)  # (batch_size, inp_seq_len, d_model)\n",
        "    \n",
        "    # dec_output.shape == (batch_size, tar_seq_len, d_model)\n",
        "    dec_output_dt, attention_weights_dt = self.decoder_dt(\n",
        "        tar_dt, enc_output, training, look_ahead_mask_dt, dec_padding_mask)\n",
        "    \n",
        "    dec_output_amt, attention_weights_amt = self.decoder_amt(\n",
        "        tar_amt, enc_output, training, look_ahead_mask_amt, dec_padding_mask)\n",
        "    \n",
        "    final_output_dt = self.final_layer_dt(dec_output_dt)  # (batch_size, tar_seq_len, target_vocab_size)\n",
        "    final_output_amt = self.final_layer_amt(dec_output_amt)\n",
        "    \n",
        "    return final_output_dt, attention_weights_dt, final_output_amt, attention_weights_amt"
      ],
      "execution_count": 0,
      "outputs": []
    },
    {
      "cell_type": "code",
      "metadata": {
        "ExecuteTime": {
          "start_time": "2019-11-10T06:32:19.546Z"
        },
        "colab_type": "code",
        "id": "tJ4fbQcIkHW1",
        "outputId": "73466dbe-a4b8-4e82-c964-9feb58d2a346",
        "pycharm": {
          "is_executing": false
        },
        "colab": {
          "base_uri": "https://localhost:8080/",
          "height": 51
        }
      },
      "source": [
        "sample_transformer = Transformer(\n",
        "    num_layers=2, d_model=512, num_heads=8, dff=2048, \n",
        "    input_vocab_size=8500,\n",
        "    target_vocab_size_dt=2000,\n",
        "    target_vocab_size_amt=1000, \n",
        "    pe_input=10000,\n",
        "    pe_target_dt=6000,\n",
        "    pe_target_amt=6000)\n",
        "\n",
        "temp_input = tf.random.uniform((64, 62))\n",
        "temp_target_dt = tf.random.uniform((64, 26))\n",
        "temp_target_amt = tf.random.uniform((64, 32))\n",
        "\n",
        "fn_out_dt, _, fn_out_amt, _ = sample_transformer(temp_input,\n",
        "                               temp_target_dt,\n",
        "                               temp_target_amt,\n",
        "                               training=False, \n",
        "                               enc_padding_mask=None, \n",
        "                               look_ahead_mask_dt=None,\n",
        "                               look_ahead_mask_amt=None,\n",
        "                               dec_padding_mask=None)\n",
        "\n",
        "print(fn_out_dt.shape)  # (batch_size, tar_seq_len, target_vocab_size)\n",
        "print(fn_out_amt.shape)"
      ],
      "execution_count": 52,
      "outputs": [
        {
          "output_type": "stream",
          "text": [
            "(64, 26, 2000)\n",
            "(64, 32, 1000)\n"
          ],
          "name": "stdout"
        }
      ]
    },
    {
      "cell_type": "markdown",
      "metadata": {
        "colab_type": "text",
        "id": "wsINyf1VEQLC"
      },
      "source": [
        "## Set hyperparameters"
      ]
    },
    {
      "cell_type": "markdown",
      "metadata": {
        "colab_type": "text",
        "id": "zVjWCxFNcgbt"
      },
      "source": [
        "To keep this example small and relatively fast, the values for *num_layers, d_model, and dff* have been reduced. \n",
        "\n",
        "The values used in the base model of transformer were; *num_layers=6*, *d_model = 512*, *dff = 2048*. See the [paper](https://arxiv.org/abs/1706.03762) for all the other versions of the transformer.\n",
        "\n",
        "Note: By changing the values below, you can get the model that achieved state of the art on many tasks."
      ]
    },
    {
      "cell_type": "code",
      "metadata": {
        "ExecuteTime": {
          "start_time": "2019-11-10T06:32:19.549Z"
        },
        "colab_type": "code",
        "id": "lnJn5SLA2ahP",
        "pycharm": {
          "is_executing": false
        },
        "colab": {}
      },
      "source": [
        "num_layers = 2\n",
        "d_model = 64\n",
        "dff = 256\n",
        "num_heads = 4\n",
        "\n",
        "input_vocab_size = tokenizer_ocr.vocab_size + 2\n",
        "target_vocab_size_dt = tokenizer_date.vocab_size + 2\n",
        "target_vocab_size_amt = tokenizer_amount.vocab_size + 2\n",
        "dropout_rate = 0.1"
      ],
      "execution_count": 0,
      "outputs": []
    },
    {
      "cell_type": "markdown",
      "metadata": {
        "colab_type": "text",
        "id": "xYEGhEOtzn5W"
      },
      "source": [
        "## Optimizer"
      ]
    },
    {
      "cell_type": "markdown",
      "metadata": {
        "colab_type": "text",
        "id": "GOmWW--yP3zx"
      },
      "source": [
        "Use the Adam optimizer with a custom learning rate scheduler according to the formula in the [paper](https://arxiv.org/abs/1706.03762).\n",
        "\n",
        "$$\\Large{lrate = d_{model}^{-0.5} * min(step{\\_}num^{-0.5}, step{\\_}num * warmup{\\_}steps^{-1.5})}$$\n"
      ]
    },
    {
      "cell_type": "code",
      "metadata": {
        "ExecuteTime": {
          "start_time": "2019-11-10T06:32:19.553Z"
        },
        "colab_type": "code",
        "id": "iYQdOO1axwEI",
        "pycharm": {
          "is_executing": false
        },
        "colab": {}
      },
      "source": [
        "class CustomSchedule(tf.keras.optimizers.schedules.LearningRateSchedule):\n",
        "  def __init__(self, d_model, warmup_steps=4000):\n",
        "    super(CustomSchedule, self).__init__()\n",
        "    \n",
        "    self.d_model = d_model\n",
        "    self.d_model = tf.cast(self.d_model, tf.float32)\n",
        "\n",
        "    self.warmup_steps = warmup_steps\n",
        "    \n",
        "  def __call__(self, step):\n",
        "    arg1 = tf.math.rsqrt(step)\n",
        "    arg2 = step * (self.warmup_steps ** -1.5)\n",
        "    \n",
        "    return tf.math.rsqrt(self.d_model) * tf.math.minimum(arg1, arg2)"
      ],
      "execution_count": 0,
      "outputs": []
    },
    {
      "cell_type": "code",
      "metadata": {
        "ExecuteTime": {
          "start_time": "2019-11-10T06:32:19.555Z"
        },
        "colab_type": "code",
        "id": "7r4scdulztRx",
        "pycharm": {
          "is_executing": false
        },
        "colab": {}
      },
      "source": [
        "learning_rate = CustomSchedule(d_model)\n",
        "\n",
        "optimizer = tf.keras.optimizers.Adam(learning_rate, beta_1=0.9, beta_2=0.98, \n",
        "                                     epsilon=1e-9)"
      ],
      "execution_count": 0,
      "outputs": []
    },
    {
      "cell_type": "code",
      "metadata": {
        "ExecuteTime": {
          "start_time": "2019-11-10T06:32:19.558Z"
        },
        "colab_type": "code",
        "id": "f33ZCgvHpPdG",
        "outputId": "ff0d2f04-a499-441c-cfae-abb1a08b797f",
        "pycharm": {
          "is_executing": false
        },
        "colab": {
          "base_uri": "https://localhost:8080/",
          "height": 296
        }
      },
      "source": [
        "temp_learning_rate_schedule = CustomSchedule(d_model)\n",
        "\n",
        "plt.plot(temp_learning_rate_schedule(tf.range(40000, dtype=tf.float32)))\n",
        "plt.ylabel(\"Learning Rate\")\n",
        "plt.xlabel(\"Train Step\")"
      ],
      "execution_count": 56,
      "outputs": [
        {
          "output_type": "execute_result",
          "data": {
            "text/plain": [
              "Text(0.5, 0, 'Train Step')"
            ]
          },
          "metadata": {
            "tags": []
          },
          "execution_count": 56
        },
        {
          "output_type": "display_data",
          "data": {
            "image/png": "[encoded data removed]",
            "text/plain": [
              "<Figure size 432x288 with 1 Axes>"
            ]
          },
          "metadata": {
            "tags": [],
            "needs_background": "light"
          }
        }
      ]
    },
    {
      "cell_type": "markdown",
      "metadata": {
        "colab_type": "text",
        "id": "YgkDE7hzo8r5"
      },
      "source": [
        "## Loss and metrics"
      ]
    },
    {
      "cell_type": "markdown",
      "metadata": {
        "colab_type": "text",
        "id": "oxGJtoDuYIHL"
      },
      "source": [
        "Since the target sequences are padded, it is important to apply a padding mask when calculating the loss."
      ]
    },
    {
      "cell_type": "code",
      "metadata": {
        "ExecuteTime": {
          "start_time": "2019-11-10T06:32:19.561Z"
        },
        "colab_type": "code",
        "id": "MlhsJMm0TW_B",
        "pycharm": {
          "is_executing": false
        },
        "colab": {}
      },
      "source": [
        "loss_object = tf.keras.losses.SparseCategoricalCrossentropy(\n",
        "    from_logits=True, reduction='none')"
      ],
      "execution_count": 0,
      "outputs": []
    },
    {
      "cell_type": "code",
      "metadata": {
        "ExecuteTime": {
          "start_time": "2019-11-10T06:32:19.564Z"
        },
        "colab_type": "code",
        "id": "67oqVHiT0Eiu",
        "pycharm": {
          "is_executing": false
        },
        "colab": {}
      },
      "source": [
        "def loss_function(real, pred):\n",
        "  mask = tf.math.logical_not(tf.math.equal(real, 0))\n",
        "  loss_ = loss_object(real, pred)\n",
        "\n",
        "  mask = tf.cast(mask, dtype=loss_.dtype)\n",
        "  loss_ *= mask\n",
        "  \n",
        "  return tf.reduce_mean(loss_)"
      ],
      "execution_count": 0,
      "outputs": []
    },
    {
      "cell_type": "code",
      "metadata": {
        "ExecuteTime": {
          "start_time": "2019-11-10T06:32:19.566Z"
        },
        "colab_type": "code",
        "id": "phlyxMnm-Tpx",
        "pycharm": {
          "is_executing": false
        },
        "colab": {}
      },
      "source": [
        "train_loss_dt = tf.keras.metrics.Mean(name='train_loss_dt')\n",
        "train_loss_amt = tf.keras.metrics.Mean(name='train_loss_amt')\n",
        "train_accuracy_dt = tf.keras.metrics.SparseCategoricalAccuracy(\n",
        "    name='train_accuracy_dt')\n",
        "train_accuracy_amt = tf.keras.metrics.SparseCategoricalAccuracy(\n",
        "    name='train_accuracy_amt')\n",
        "\n",
        "valid_loss_dt = tf.keras.metrics.Mean(name='valid_loss_dt')\n",
        "valid_loss_amt = tf.keras.metrics.Mean(name='valid_loss_amt')\n",
        "valid_accuracy_dt = tf.keras.metrics.SparseCategoricalAccuracy(\n",
        "    name='valid_accuracy_dt')\n",
        "valid_accuracy_amt = tf.keras.metrics.SparseCategoricalAccuracy(\n",
        "    name='valid_accuracy_amt')"
      ],
      "execution_count": 0,
      "outputs": []
    },
    {
      "cell_type": "markdown",
      "metadata": {
        "colab_type": "text",
        "id": "aeHumfr7zmMa"
      },
      "source": [
        "## Training and checkpointing"
      ]
    },
    {
      "cell_type": "code",
      "metadata": {
        "ExecuteTime": {
          "start_time": "2019-11-10T06:32:19.569Z"
        },
        "colab_type": "code",
        "id": "UiysUa--4tOU",
        "pycharm": {
          "is_executing": false
        },
        "colab": {}
      },
      "source": [
        "transformer = Transformer(num_layers, d_model, num_heads, dff,\n",
        "                          input_vocab_size,\n",
        "                          target_vocab_size_dt,\n",
        "                          target_vocab_size_amt,\n",
        "                          pe_input=input_vocab_size, \n",
        "                          pe_target_dt=target_vocab_size_dt,\n",
        "                          pe_target_amt=target_vocab_size_amt,\n",
        "                          rate=dropout_rate)"
      ],
      "execution_count": 0,
      "outputs": []
    },
    {
      "cell_type": "code",
      "metadata": {
        "ExecuteTime": {
          "start_time": "2019-11-10T06:32:19.571Z"
        },
        "colab_type": "code",
        "id": "ZOJUSB1T8GjM",
        "pycharm": {
          "is_executing": false
        },
        "colab": {}
      },
      "source": [
        "def create_masks(inp, tar_dt, tar_amt):\n",
        "  # Encoder padding mask\n",
        "  enc_padding_mask = create_padding_mask(inp)\n",
        "  \n",
        "  # Used in the 2nd attention block in the decoder.\n",
        "  # This padding mask is used to mask the encoder outputs.\n",
        "  dec_padding_mask = create_padding_mask(inp)\n",
        "  \n",
        "  # Used in the 1st attention block in the decoder.\n",
        "  # It is used to pad and mask future tokens in the input received by \n",
        "  # the decoder.\n",
        "  look_ahead_mask_dt = create_look_ahead_mask(tf.shape(tar_dt)[1])\n",
        "  dec_target_padding_mask_dt = create_padding_mask(tar_dt)\n",
        "  combined_mask_dt = tf.maximum(dec_target_padding_mask_dt, look_ahead_mask_dt)\n",
        "\n",
        "  look_ahead_mask_amt = create_look_ahead_mask(tf.shape(tar_amt)[1])\n",
        "  dec_target_padding_mask_amt = create_padding_mask(tar_amt)\n",
        "  combined_mask_amt = tf.maximum(dec_target_padding_mask_amt, look_ahead_mask_amt)\n",
        "  \n",
        "  return enc_padding_mask, combined_mask_dt, dec_padding_mask, combined_mask_amt"
      ],
      "execution_count": 0,
      "outputs": []
    },
    {
      "cell_type": "markdown",
      "metadata": {
        "colab_type": "text",
        "id": "Fzuf06YZp66w"
      },
      "source": [
        "Create the checkpoint path and the checkpoint manager. This will be used to save checkpoints every `n` epochs."
      ]
    },
    {
      "cell_type": "code",
      "metadata": {
        "ExecuteTime": {
          "start_time": "2019-11-10T06:32:19.574Z"
        },
        "colab_type": "code",
        "id": "hNhuYfllndLZ",
        "pycharm": {
          "is_executing": false
        },
        "colab": {}
      },
      "source": [
        "checkpoint_path = \"./checkpoints/train\"\n",
        "\n",
        "ckpt = tf.train.Checkpoint(transformer=transformer,\n",
        "                           optimizer=optimizer)\n",
        "\n",
        "ckpt_manager = tf.train.CheckpointManager(ckpt, checkpoint_path, max_to_keep=5)\n",
        "\n",
        "# if a checkpoint exists, restore the latest checkpoint.\n",
        "if ckpt_manager.latest_checkpoint:\n",
        "  ckpt.restore(ckpt_manager.latest_checkpoint)\n",
        "  print ('Latest checkpoint restored!!')"
      ],
      "execution_count": 0,
      "outputs": []
    },
    {
      "cell_type": "markdown",
      "metadata": {
        "colab_type": "text",
        "id": "0Di_Yaa1gf9r"
      },
      "source": [
        "The target is divided into tar_inp and tar_real. tar_inp is passed as an input to the decoder. `tar_real` is that same input shifted by 1: At each location in `tar_input`, `tar_real` contains the  next token that should be predicted.\n",
        "\n",
        "For example, `sentence` = \"SOS A lion in the jungle is sleeping EOS\"\n",
        "\n",
        "`tar_inp` =  \"SOS A lion in the jungle is sleeping\"\n",
        "\n",
        "`tar_real` = \"A lion in the jungle is sleeping EOS\"\n",
        "\n",
        "The transformer is an auto-regressive model: it makes predictions one part at a time, and uses its output so far to decide what to do next. \n",
        "\n",
        "During training this example uses teacher-forcing (like in the [text generation tutorial](./text_generation.ipynb)). Teacher forcing is passing the true output to the next time step regardless of what the model predicts at the current time step.\n",
        "\n",
        "As the transformer predicts each word, *self-attention* allows it to look at the previous words in the input sequence to better predict the next word.\n",
        "\n",
        "To prevent the model from peaking at the expected output the model uses a look-ahead mask."
      ]
    },
    {
      "cell_type": "code",
      "metadata": {
        "ExecuteTime": {
          "start_time": "2019-11-10T06:32:19.577Z"
        },
        "colab_type": "code",
        "id": "LKpoA6q1sJFj",
        "pycharm": {
          "is_executing": false
        },
        "colab": {}
      },
      "source": [
        "EPOCHS = 10"
      ],
      "execution_count": 0,
      "outputs": []
    },
    {
      "cell_type": "code",
      "metadata": {
        "ExecuteTime": {
          "start_time": "2019-11-10T06:32:19.579Z"
        },
        "colab_type": "code",
        "id": "iJwmp9OE29oj",
        "pycharm": {
          "is_executing": false
        },
        "colab": {}
      },
      "source": [
        "# The @tf.function trace-compiles train_step into a TF graph for faster\n",
        "# execution. The function specializes to the precise shape of the argument\n",
        "# tensors. To avoid re-tracing due to the variable sequence lengths or variable\n",
        "# batch sizes (the last batch is smaller), use input_signature to specify\n",
        "# more generic shapes.\n",
        "\n",
        "train_step_signature = [\n",
        "    tf.TensorSpec(shape=(None, None), dtype=tf.int64),\n",
        "    tf.TensorSpec(shape=(None, None), dtype=tf.int64),\n",
        "    tf.TensorSpec(shape=(None, None), dtype=tf.int64),\n",
        "]\n",
        "\n",
        "@tf.function(input_signature=train_step_signature)\n",
        "def train_step(inp, tar_dt, tar_amt):\n",
        "  tar_inp_dt = tar_dt[:, :-1]\n",
        "  tar_real_dt = tar_dt[:, 1:]\n",
        "  tar_inp_amt = tar_amt[:, :-1]\n",
        "  tar_real_amt = tar_amt[:, 1:]\n",
        "  \n",
        "  enc_padding_mask, combined_mask_dt, dec_padding_mask, combined_mask_amt = create_masks(inp, tar_inp_dt, tar_inp_amt)\n",
        "\n",
        "  with tf.GradientTape() as tape:\n",
        "    predictions_dt, _, predictions_amt, _ = transformer(inp,\n",
        "                                 tar_inp_dt,\n",
        "                                 tar_inp_amt,\n",
        "                                 True, \n",
        "                                 enc_padding_mask, \n",
        "                                 combined_mask_dt,\n",
        "                                 combined_mask_amt,\n",
        "                                 dec_padding_mask)\n",
        "    loss_dt = loss_function(tar_real_dt, predictions_dt)\n",
        "    loss_amt = loss_function(tar_real_amt, predictions_amt)\n",
        "    loss = loss_dt + loss_amt\n",
        "\n",
        "  gradients = tape.gradient(loss, transformer.trainable_variables)    \n",
        "  optimizer.apply_gradients(zip(gradients, transformer.trainable_variables))\n",
        "  \n",
        "  train_loss_dt(loss_dt)\n",
        "  train_loss_amt(loss_amt)\n",
        "  train_accuracy_dt(tar_real_dt, predictions_dt)\n",
        "  train_accuracy_amt(tar_real_amt, predictions_amt)\n",
        "\n",
        "@tf.function(input_signature=train_step_signature)\n",
        "def valid_epoch(inp, tar_dt, tar_amt):\n",
        "  tar_inp_dt = tar_dt[:, :-1]\n",
        "  tar_real_dt = tar_dt[:, 1:]\n",
        "  tar_inp_amt = tar_amt[:, :-1]\n",
        "  tar_real_amt = tar_amt[:, 1:]\n",
        "  \n",
        "  enc_padding_mask, combined_mask_dt, dec_padding_mask, combined_mask_amt = create_masks(inp, tar_inp_dt, tar_inp_amt)\n",
        "  \n",
        "  predictions_dt, _, predictions_amt, _ = transformer(inp, \n",
        "                               tar_inp_dt,\n",
        "                               tar_inp_amt, \n",
        "                               False, \n",
        "                               enc_padding_mask, \n",
        "                               combined_mask_dt,\n",
        "                               combined_mask_amt, \n",
        "                               dec_padding_mask)\n",
        "  loss_dt = loss_function(tar_real_dt, predictions_dt)\n",
        "  loss_amt = loss_function(tar_real_amt, predictions_amt)\n",
        "  \n",
        "  valid_loss_dt(loss_dt)\n",
        "  valid_loss_amt(loss_amt)\n",
        "  valid_accuracy_dt(tar_real_dt, predictions_dt)\n",
        "  valid_accuracy_amt(tar_real_amt, predictions_amt)"
      ],
      "execution_count": 0,
      "outputs": []
    },
    {
      "cell_type": "markdown",
      "metadata": {
        "colab_type": "text",
        "id": "qM2PDWGDJ_8V"
      },
      "source": [
        "Ocr text is used as the input language and amount is the target language."
      ]
    },
    {
      "cell_type": "code",
      "metadata": {
        "ExecuteTime": {
          "start_time": "2019-11-10T06:32:19.582Z"
        },
        "colab_type": "code",
        "id": "bbvmaKNiznHZ",
        "outputId": "48517999-4257-4d88-8db0-1d017388c163",
        "pycharm": {
          "is_executing": false
        },
        "colab": {
          "base_uri": "https://localhost:8080/",
          "height": 1000
        }
      },
      "source": [
        "for epoch in range(EPOCHS):\n",
        "  start = time.time()\n",
        "  \n",
        "  train_loss_dt.reset_states()\n",
        "  train_accuracy_dt.reset_states()\n",
        "  train_loss_amt.reset_states()\n",
        "  train_accuracy_amt.reset_states()\n",
        "\n",
        "  valid_loss_dt.reset_states()\n",
        "  valid_accuracy_dt.reset_states()\n",
        "  valid_loss_amt.reset_states()\n",
        "  valid_accuracy_amt.reset_states()\n",
        "  \n",
        "  # inp -> ocr, tar -> amount\n",
        "  for (batch, (inp, tar_amt , tar_dt)) in enumerate(train_dataset):\n",
        "    train_step(inp, tar_dt, tar_amt)\n",
        "    \n",
        "    if batch % 50 == 0:\n",
        "      print ('Epoch {} Batch {} Training Loss Date {:.4f} Training Loss Amount {:.4f} Accuracy Date {:.4f} Accuracy Amount {:.4f}'.format(\n",
        "          epoch + 1, batch, train_loss_dt.result(), train_loss_amt.result(), train_accuracy_dt.result(), train_accuracy_amt.result()))\n",
        "      \n",
        "  if (epoch + 1) % 5 == 0:\n",
        "    ckpt_save_path = ckpt_manager.save()\n",
        "    print ('Saving checkpoint for epoch {} at {}'.format(epoch+1,\n",
        "                                                         ckpt_save_path))\n",
        "    \n",
        "  print ('Epoch {} Training Loss Date {:.4f} Training Loss Amount {:.4f} Accuracy Date {:.4f} Accuracy Amount {:.4f}'.format(epoch + 1, \n",
        "                                                train_loss_dt.result(), \n",
        "                                                train_loss_amt.result(), \n",
        "                                                train_accuracy_dt.result(),\n",
        "                                                train_accuracy_amt.result()))\n",
        "  \n",
        "  for (batch, (inp, tar_amt, tar_dt)) in enumerate(valid_dataset):\n",
        "    valid_epoch(inp, tar_dt, tar_amt)\n",
        "\n",
        "  print ('Epoch {} Validation Loss Date {:.4f} Validation Loss Amount {:.4f} Accuracy Date {:.4f} Accuracy Amount {:.4f}'.format(epoch + 1, \n",
        "                                                valid_loss_dt.result(), \n",
        "                                                valid_loss_amt.result(), \n",
        "                                                valid_accuracy_dt.result(),\n",
        "                                                valid_accuracy_amt.result()))\n",
        "\n",
        "  print ('Time taken for 1 epoch: {:.2f} secs\\n'.format(time.time() - start))"
      ],
      "execution_count": 65,
      "outputs": [
        {
          "output_type": "stream",
          "text": [
            "Epoch 1 Batch 0 Training Loss Date 5.9205 Training Loss Amount 7.1656 Accuracy Date 0.0000 Accuracy Amount 0.0000\n",
            "Epoch 1 Batch 50 Training Loss Date 5.6994 Training Loss Amount 7.9923 Accuracy Date 0.0074 Accuracy Amount 0.0007\n",
            "Epoch 1 Batch 100 Training Loss Date 5.2314 Training Loss Amount 7.7749 Accuracy Date 0.1561 Accuracy Amount 0.0948\n",
            "Epoch 1 Batch 150 Training Loss Date 4.8610 Training Loss Amount 7.6078 Accuracy Date 0.2161 Accuracy Amount 0.1411\n",
            "Epoch 1 Batch 200 Training Loss Date 4.5512 Training Loss Amount 7.4072 Accuracy Date 0.2768 Accuracy Amount 0.1633\n",
            "Epoch 1 Batch 250 Training Loss Date 4.2457 Training Loss Amount 7.2142 Accuracy Date 0.3224 Accuracy Amount 0.1892\n",
            "Epoch 1 Batch 300 Training Loss Date 3.9524 Training Loss Amount 6.9405 Accuracy Date 0.3593 Accuracy Amount 0.2179\n",
            "Epoch 1 Batch 350 Training Loss Date 3.6819 Training Loss Amount 6.6893 Accuracy Date 0.3875 Accuracy Amount 0.2434\n",
            "Epoch 1 Batch 400 Training Loss Date 3.4472 Training Loss Amount 6.3868 Accuracy Date 0.4096 Accuracy Amount 0.2645\n",
            "Epoch 1 Batch 450 Training Loss Date 3.2457 Training Loss Amount 6.0669 Accuracy Date 0.4269 Accuracy Amount 0.2819\n",
            "Epoch 1 Batch 500 Training Loss Date 3.0729 Training Loss Amount 5.7627 Accuracy Date 0.4406 Accuracy Amount 0.2968\n",
            "Epoch 1 Batch 550 Training Loss Date 2.9242 Training Loss Amount 5.4850 Accuracy Date 0.4526 Accuracy Amount 0.3095\n",
            "Epoch 1 Batch 600 Training Loss Date 2.7969 Training Loss Amount 5.2211 Accuracy Date 0.4624 Accuracy Amount 0.3223\n",
            "Epoch 1 Batch 650 Training Loss Date 2.6863 Training Loss Amount 4.9781 Accuracy Date 0.4708 Accuracy Amount 0.3359\n",
            "Epoch 1 Batch 700 Training Loss Date 2.5900 Training Loss Amount 4.7589 Accuracy Date 0.4785 Accuracy Amount 0.3481\n",
            "Epoch 1 Batch 750 Training Loss Date 2.5043 Training Loss Amount 4.5601 Accuracy Date 0.4859 Accuracy Amount 0.3590\n",
            "Epoch 1 Batch 800 Training Loss Date 2.4250 Training Loss Amount 4.3795 Accuracy Date 0.4950 Accuracy Amount 0.3680\n",
            "Epoch 1 Batch 850 Training Loss Date 2.3504 Training Loss Amount 4.2209 Accuracy Date 0.5054 Accuracy Amount 0.3768\n",
            "Epoch 1 Batch 900 Training Loss Date 2.2803 Training Loss Amount 4.0773 Accuracy Date 0.5156 Accuracy Amount 0.3843\n",
            "Epoch 1 Batch 950 Training Loss Date 2.2151 Training Loss Amount 3.9499 Accuracy Date 0.5253 Accuracy Amount 0.3910\n",
            "Epoch 1 Batch 1000 Training Loss Date 2.1548 Training Loss Amount 3.8328 Accuracy Date 0.5346 Accuracy Amount 0.3966\n",
            "Epoch 1 Batch 1050 Training Loss Date 2.0992 Training Loss Amount 3.7284 Accuracy Date 0.5430 Accuracy Amount 0.4024\n",
            "Epoch 1 Batch 1100 Training Loss Date 2.0477 Training Loss Amount 3.6338 Accuracy Date 0.5510 Accuracy Amount 0.4081\n",
            "Epoch 1 Batch 1150 Training Loss Date 2.0001 Training Loss Amount 3.5455 Accuracy Date 0.5585 Accuracy Amount 0.4131\n",
            "Epoch 1 Batch 1200 Training Loss Date 1.9558 Training Loss Amount 3.4640 Accuracy Date 0.5654 Accuracy Amount 0.4176\n",
            "Epoch 1 Batch 1250 Training Loss Date 1.9149 Training Loss Amount 3.3895 Accuracy Date 0.5718 Accuracy Amount 0.4220\n",
            "Epoch 1 Batch 1300 Training Loss Date 1.8769 Training Loss Amount 3.3180 Accuracy Date 0.5778 Accuracy Amount 0.4255\n",
            "Epoch 1 Batch 1350 Training Loss Date 1.8408 Training Loss Amount 3.2516 Accuracy Date 0.5837 Accuracy Amount 0.4290\n",
            "Epoch 1 Batch 1400 Training Loss Date 1.8073 Training Loss Amount 3.1912 Accuracy Date 0.5890 Accuracy Amount 0.4327\n",
            "Epoch 1 Batch 1450 Training Loss Date 1.7759 Training Loss Amount 3.1345 Accuracy Date 0.5940 Accuracy Amount 0.4362\n",
            "Epoch 1 Batch 1500 Training Loss Date 1.7468 Training Loss Amount 3.0798 Accuracy Date 0.5988 Accuracy Amount 0.4395\n",
            "Epoch 1 Batch 1550 Training Loss Date 1.7192 Training Loss Amount 3.0284 Accuracy Date 0.6032 Accuracy Amount 0.4428\n",
            "Epoch 1 Batch 1600 Training Loss Date 1.6927 Training Loss Amount 2.9801 Accuracy Date 0.6075 Accuracy Amount 0.4459\n",
            "Epoch 1 Batch 1650 Training Loss Date 1.6682 Training Loss Amount 2.9334 Accuracy Date 0.6115 Accuracy Amount 0.4491\n",
            "Epoch 1 Batch 1700 Training Loss Date 1.6441 Training Loss Amount 2.8883 Accuracy Date 0.6154 Accuracy Amount 0.4523\n",
            "Epoch 1 Batch 1750 Training Loss Date 1.6217 Training Loss Amount 2.8461 Accuracy Date 0.6191 Accuracy Amount 0.4554\n",
            "Epoch 1 Batch 1800 Training Loss Date 1.5999 Training Loss Amount 2.8053 Accuracy Date 0.6228 Accuracy Amount 0.4583\n",
            "Epoch 1 Batch 1850 Training Loss Date 1.5795 Training Loss Amount 2.7661 Accuracy Date 0.6262 Accuracy Amount 0.4612\n",
            "Epoch 1 Batch 1900 Training Loss Date 1.5594 Training Loss Amount 2.7284 Accuracy Date 0.6296 Accuracy Amount 0.4640\n",
            "Epoch 1 Batch 1950 Training Loss Date 1.5406 Training Loss Amount 2.6916 Accuracy Date 0.6328 Accuracy Amount 0.4671\n",
            "Epoch 1 Batch 2000 Training Loss Date 1.5227 Training Loss Amount 2.6559 Accuracy Date 0.6358 Accuracy Amount 0.4700\n",
            "Epoch 1 Batch 2050 Training Loss Date 1.5052 Training Loss Amount 2.6228 Accuracy Date 0.6388 Accuracy Amount 0.4729\n",
            "Epoch 1 Batch 2100 Training Loss Date 1.4885 Training Loss Amount 2.5902 Accuracy Date 0.6417 Accuracy Amount 0.4761\n",
            "Epoch 1 Batch 2150 Training Loss Date 1.4723 Training Loss Amount 2.5583 Accuracy Date 0.6445 Accuracy Amount 0.4790\n",
            "Epoch 1 Batch 2200 Training Loss Date 1.4567 Training Loss Amount 2.5285 Accuracy Date 0.6472 Accuracy Amount 0.4822\n",
            "Epoch 1 Batch 2250 Training Loss Date 1.4417 Training Loss Amount 2.4982 Accuracy Date 0.6500 Accuracy Amount 0.4848\n",
            "Epoch 1 Batch 2300 Training Loss Date 1.4271 Training Loss Amount 2.4688 Accuracy Date 0.6526 Accuracy Amount 0.4876\n",
            "Epoch 1 Batch 2350 Training Loss Date 1.4130 Training Loss Amount 2.4416 Accuracy Date 0.6552 Accuracy Amount 0.4905\n",
            "Epoch 1 Batch 2400 Training Loss Date 1.3991 Training Loss Amount 2.4145 Accuracy Date 0.6577 Accuracy Amount 0.4933\n",
            "Epoch 1 Batch 2450 Training Loss Date 1.3859 Training Loss Amount 2.3885 Accuracy Date 0.6601 Accuracy Amount 0.4959\n",
            "Epoch 1 Batch 2500 Training Loss Date 1.3728 Training Loss Amount 2.3635 Accuracy Date 0.6625 Accuracy Amount 0.4989\n",
            "Epoch 1 Batch 2550 Training Loss Date 1.3598 Training Loss Amount 2.3381 Accuracy Date 0.6650 Accuracy Amount 0.5016\n",
            "Epoch 1 Batch 2600 Training Loss Date 1.3474 Training Loss Amount 2.3143 Accuracy Date 0.6673 Accuracy Amount 0.5044\n",
            "Epoch 1 Batch 2650 Training Loss Date 1.3351 Training Loss Amount 2.2900 Accuracy Date 0.6696 Accuracy Amount 0.5070\n",
            "Epoch 1 Batch 2700 Training Loss Date 1.3230 Training Loss Amount 2.2669 Accuracy Date 0.6719 Accuracy Amount 0.5096\n",
            "Epoch 1 Batch 2750 Training Loss Date 1.3114 Training Loss Amount 2.2436 Accuracy Date 0.6741 Accuracy Amount 0.5121\n",
            "Epoch 1 Batch 2800 Training Loss Date 1.2999 Training Loss Amount 2.2213 Accuracy Date 0.6763 Accuracy Amount 0.5148\n",
            "Epoch 1 Batch 2850 Training Loss Date 1.2888 Training Loss Amount 2.1996 Accuracy Date 0.6784 Accuracy Amount 0.5171\n",
            "Epoch 1 Batch 2900 Training Loss Date 1.2778 Training Loss Amount 2.1784 Accuracy Date 0.6806 Accuracy Amount 0.5195\n",
            "Epoch 1 Batch 2950 Training Loss Date 1.2669 Training Loss Amount 2.1571 Accuracy Date 0.6827 Accuracy Amount 0.5218\n",
            "Epoch 1 Batch 3000 Training Loss Date 1.2561 Training Loss Amount 2.1371 Accuracy Date 0.6849 Accuracy Amount 0.5245\n",
            "Epoch 1 Batch 3050 Training Loss Date 1.2459 Training Loss Amount 2.1178 Accuracy Date 0.6869 Accuracy Amount 0.5269\n",
            "Epoch 1 Training Loss Date 1.2395 Training Loss Amount 2.1055 Accuracy Date 0.6882 Accuracy Amount 0.5285\n",
            "Epoch 1 Validation Loss Date 0.5713 Validation Loss Amount 0.8574 Accuracy Date 0.8249 Accuracy Amount 0.6870\n",
            "Time taken for 1 epoch: 791.54 secs\n",
            "\n",
            "Epoch 2 Batch 0 Training Loss Date 0.6045 Training Loss Amount 1.0649 Accuracy Date 0.8125 Accuracy Amount 0.7695\n",
            "Epoch 2 Batch 50 Training Loss Date 0.6162 Training Loss Amount 0.8923 Accuracy Date 0.8120 Accuracy Amount 0.6894\n",
            "Epoch 2 Batch 100 Training Loss Date 0.6166 Training Loss Amount 0.9063 Accuracy Date 0.8127 Accuracy Amount 0.6776\n",
            "Epoch 2 Batch 150 Training Loss Date 0.6127 Training Loss Amount 0.9030 Accuracy Date 0.8137 Accuracy Amount 0.6775\n",
            "Epoch 2 Batch 200 Training Loss Date 0.6097 Training Loss Amount 0.8973 Accuracy Date 0.8151 Accuracy Amount 0.6798\n",
            "Epoch 2 Batch 250 Training Loss Date 0.6082 Training Loss Amount 0.8906 Accuracy Date 0.8156 Accuracy Amount 0.6747\n",
            "Epoch 2 Batch 300 Training Loss Date 0.6052 Training Loss Amount 0.8875 Accuracy Date 0.8163 Accuracy Amount 0.6789\n",
            "Epoch 2 Batch 350 Training Loss Date 0.6012 Training Loss Amount 0.8830 Accuracy Date 0.8172 Accuracy Amount 0.6821\n",
            "Epoch 2 Batch 400 Training Loss Date 0.6003 Training Loss Amount 0.8804 Accuracy Date 0.8175 Accuracy Amount 0.6841\n",
            "Epoch 2 Batch 450 Training Loss Date 0.5971 Training Loss Amount 0.8742 Accuracy Date 0.8184 Accuracy Amount 0.6857\n",
            "Epoch 2 Batch 500 Training Loss Date 0.5953 Training Loss Amount 0.8684 Accuracy Date 0.8188 Accuracy Amount 0.6895\n",
            "Epoch 2 Batch 550 Training Loss Date 0.5927 Training Loss Amount 0.8634 Accuracy Date 0.8195 Accuracy Amount 0.6912\n",
            "Epoch 2 Batch 600 Training Loss Date 0.5898 Training Loss Amount 0.8577 Accuracy Date 0.8203 Accuracy Amount 0.6925\n",
            "Epoch 2 Batch 650 Training Loss Date 0.5878 Training Loss Amount 0.8547 Accuracy Date 0.8209 Accuracy Amount 0.6922\n",
            "Epoch 2 Batch 700 Training Loss Date 0.5859 Training Loss Amount 0.8511 Accuracy Date 0.8216 Accuracy Amount 0.6937\n",
            "Epoch 2 Batch 750 Training Loss Date 0.5831 Training Loss Amount 0.8466 Accuracy Date 0.8225 Accuracy Amount 0.6943\n",
            "Epoch 2 Batch 800 Training Loss Date 0.5806 Training Loss Amount 0.8418 Accuracy Date 0.8233 Accuracy Amount 0.6947\n",
            "Epoch 2 Batch 850 Training Loss Date 0.5784 Training Loss Amount 0.8396 Accuracy Date 0.8239 Accuracy Amount 0.6955\n",
            "Epoch 2 Batch 900 Training Loss Date 0.5771 Training Loss Amount 0.8367 Accuracy Date 0.8244 Accuracy Amount 0.6965\n",
            "Epoch 2 Batch 950 Training Loss Date 0.5753 Training Loss Amount 0.8332 Accuracy Date 0.8251 Accuracy Amount 0.6969\n",
            "Epoch 2 Batch 1000 Training Loss Date 0.5727 Training Loss Amount 0.8284 Accuracy Date 0.8259 Accuracy Amount 0.6970\n",
            "Epoch 2 Batch 1050 Training Loss Date 0.5710 Training Loss Amount 0.8256 Accuracy Date 0.8263 Accuracy Amount 0.6974\n",
            "Epoch 2 Batch 1100 Training Loss Date 0.5691 Training Loss Amount 0.8231 Accuracy Date 0.8269 Accuracy Amount 0.6979\n",
            "Epoch 2 Batch 1150 Training Loss Date 0.5669 Training Loss Amount 0.8180 Accuracy Date 0.8277 Accuracy Amount 0.6989\n",
            "Epoch 2 Batch 1200 Training Loss Date 0.5654 Training Loss Amount 0.8157 Accuracy Date 0.8281 Accuracy Amount 0.7000\n",
            "Epoch 2 Batch 1250 Training Loss Date 0.5634 Training Loss Amount 0.8117 Accuracy Date 0.8287 Accuracy Amount 0.7008\n",
            "Epoch 2 Batch 1300 Training Loss Date 0.5619 Training Loss Amount 0.8085 Accuracy Date 0.8292 Accuracy Amount 0.7018\n",
            "Epoch 2 Batch 1350 Training Loss Date 0.5602 Training Loss Amount 0.8051 Accuracy Date 0.8296 Accuracy Amount 0.7028\n",
            "Epoch 2 Batch 1400 Training Loss Date 0.5585 Training Loss Amount 0.8012 Accuracy Date 0.8301 Accuracy Amount 0.7028\n",
            "Epoch 2 Batch 1450 Training Loss Date 0.5561 Training Loss Amount 0.7982 Accuracy Date 0.8308 Accuracy Amount 0.7044\n",
            "Epoch 2 Batch 1500 Training Loss Date 0.5543 Training Loss Amount 0.7958 Accuracy Date 0.8314 Accuracy Amount 0.7048\n",
            "Epoch 2 Batch 1550 Training Loss Date 0.5521 Training Loss Amount 0.7927 Accuracy Date 0.8322 Accuracy Amount 0.7058\n",
            "Epoch 2 Batch 1600 Training Loss Date 0.5501 Training Loss Amount 0.7888 Accuracy Date 0.8327 Accuracy Amount 0.7065\n",
            "Epoch 2 Batch 1650 Training Loss Date 0.5484 Training Loss Amount 0.7864 Accuracy Date 0.8332 Accuracy Amount 0.7072\n",
            "Epoch 2 Batch 1700 Training Loss Date 0.5466 Training Loss Amount 0.7834 Accuracy Date 0.8338 Accuracy Amount 0.7078\n",
            "Epoch 2 Batch 1750 Training Loss Date 0.5448 Training Loss Amount 0.7813 Accuracy Date 0.8344 Accuracy Amount 0.7088\n",
            "Epoch 2 Batch 1800 Training Loss Date 0.5430 Training Loss Amount 0.7781 Accuracy Date 0.8350 Accuracy Amount 0.7089\n",
            "Epoch 2 Batch 1850 Training Loss Date 0.5411 Training Loss Amount 0.7756 Accuracy Date 0.8356 Accuracy Amount 0.7101\n",
            "Epoch 2 Batch 1900 Training Loss Date 0.5393 Training Loss Amount 0.7734 Accuracy Date 0.8361 Accuracy Amount 0.7105\n",
            "Epoch 2 Batch 1950 Training Loss Date 0.5376 Training Loss Amount 0.7710 Accuracy Date 0.8366 Accuracy Amount 0.7111\n",
            "Epoch 2 Batch 2000 Training Loss Date 0.5358 Training Loss Amount 0.7693 Accuracy Date 0.8372 Accuracy Amount 0.7121\n",
            "Epoch 2 Batch 2050 Training Loss Date 0.5340 Training Loss Amount 0.7666 Accuracy Date 0.8378 Accuracy Amount 0.7125\n",
            "Epoch 2 Batch 2100 Training Loss Date 0.5324 Training Loss Amount 0.7644 Accuracy Date 0.8383 Accuracy Amount 0.7130\n",
            "Epoch 2 Batch 2150 Training Loss Date 0.5305 Training Loss Amount 0.7618 Accuracy Date 0.8389 Accuracy Amount 0.7139\n",
            "Epoch 2 Batch 2200 Training Loss Date 0.5290 Training Loss Amount 0.7599 Accuracy Date 0.8394 Accuracy Amount 0.7149\n",
            "Epoch 2 Batch 2250 Training Loss Date 0.5274 Training Loss Amount 0.7578 Accuracy Date 0.8399 Accuracy Amount 0.7155\n",
            "Epoch 2 Batch 2300 Training Loss Date 0.5256 Training Loss Amount 0.7553 Accuracy Date 0.8405 Accuracy Amount 0.7158\n",
            "Epoch 2 Batch 2350 Training Loss Date 0.5240 Training Loss Amount 0.7532 Accuracy Date 0.8410 Accuracy Amount 0.7160\n",
            "Epoch 2 Batch 2400 Training Loss Date 0.5222 Training Loss Amount 0.7511 Accuracy Date 0.8415 Accuracy Amount 0.7165\n",
            "Epoch 2 Batch 2450 Training Loss Date 0.5206 Training Loss Amount 0.7489 Accuracy Date 0.8420 Accuracy Amount 0.7172\n",
            "Epoch 2 Batch 2500 Training Loss Date 0.5191 Training Loss Amount 0.7465 Accuracy Date 0.8425 Accuracy Amount 0.7178\n",
            "Epoch 2 Batch 2550 Training Loss Date 0.5178 Training Loss Amount 0.7444 Accuracy Date 0.8429 Accuracy Amount 0.7184\n",
            "Epoch 2 Batch 2600 Training Loss Date 0.5166 Training Loss Amount 0.7425 Accuracy Date 0.8433 Accuracy Amount 0.7191\n",
            "Epoch 2 Batch 2650 Training Loss Date 0.5148 Training Loss Amount 0.7403 Accuracy Date 0.8439 Accuracy Amount 0.7197\n",
            "Epoch 2 Batch 2700 Training Loss Date 0.5131 Training Loss Amount 0.7384 Accuracy Date 0.8445 Accuracy Amount 0.7200\n",
            "Epoch 2 Batch 2750 Training Loss Date 0.5116 Training Loss Amount 0.7363 Accuracy Date 0.8449 Accuracy Amount 0.7204\n",
            "Epoch 2 Batch 2800 Training Loss Date 0.5101 Training Loss Amount 0.7345 Accuracy Date 0.8454 Accuracy Amount 0.7207\n",
            "Epoch 2 Batch 2850 Training Loss Date 0.5087 Training Loss Amount 0.7322 Accuracy Date 0.8459 Accuracy Amount 0.7208\n",
            "Epoch 2 Batch 2900 Training Loss Date 0.5074 Training Loss Amount 0.7300 Accuracy Date 0.8463 Accuracy Amount 0.7211\n",
            "Epoch 2 Batch 2950 Training Loss Date 0.5063 Training Loss Amount 0.7282 Accuracy Date 0.8466 Accuracy Amount 0.7213\n",
            "Epoch 2 Batch 3000 Training Loss Date 0.5051 Training Loss Amount 0.7265 Accuracy Date 0.8471 Accuracy Amount 0.7219\n",
            "Epoch 2 Batch 3050 Training Loss Date 0.5037 Training Loss Amount 0.7251 Accuracy Date 0.8475 Accuracy Amount 0.7226\n",
            "Epoch 2 Training Loss Date 0.5029 Training Loss Amount 0.7239 Accuracy Date 0.8478 Accuracy Amount 0.7228\n",
            "Epoch 2 Validation Loss Date 0.3839 Validation Loss Amount 0.5738 Accuracy Date 0.8874 Accuracy Amount 0.7478\n",
            "Time taken for 1 epoch: 566.54 secs\n",
            "\n",
            "Epoch 3 Batch 0 Training Loss Date 0.4468 Training Loss Amount 0.6217 Accuracy Date 0.8750 Accuracy Amount 0.6594\n",
            "Epoch 3 Batch 50 Training Loss Date 0.4350 Training Loss Amount 0.6193 Accuracy Date 0.8687 Accuracy Amount 0.7213\n",
            "Epoch 3 Batch 100 Training Loss Date 0.4288 Training Loss Amount 0.6133 Accuracy Date 0.8715 Accuracy Amount 0.7366\n",
            "Epoch 3 Batch 150 Training Loss Date 0.4252 Training Loss Amount 0.6112 Accuracy Date 0.8725 Accuracy Amount 0.7413\n",
            "Epoch 3 Batch 200 Training Loss Date 0.4247 Training Loss Amount 0.6159 Accuracy Date 0.8729 Accuracy Amount 0.7447\n",
            "Epoch 3 Batch 250 Training Loss Date 0.4249 Training Loss Amount 0.6116 Accuracy Date 0.8731 Accuracy Amount 0.7471\n",
            "Epoch 3 Batch 300 Training Loss Date 0.4252 Training Loss Amount 0.6116 Accuracy Date 0.8732 Accuracy Amount 0.7487\n",
            "Epoch 3 Batch 350 Training Loss Date 0.4238 Training Loss Amount 0.6102 Accuracy Date 0.8735 Accuracy Amount 0.7508\n",
            "Epoch 3 Batch 400 Training Loss Date 0.4237 Training Loss Amount 0.6114 Accuracy Date 0.8736 Accuracy Amount 0.7508\n",
            "Epoch 3 Batch 450 Training Loss Date 0.4238 Training Loss Amount 0.6123 Accuracy Date 0.8734 Accuracy Amount 0.7499\n",
            "Epoch 3 Batch 500 Training Loss Date 0.4233 Training Loss Amount 0.6131 Accuracy Date 0.8735 Accuracy Amount 0.7497\n",
            "Epoch 3 Batch 550 Training Loss Date 0.4222 Training Loss Amount 0.6131 Accuracy Date 0.8739 Accuracy Amount 0.7498\n",
            "Epoch 3 Batch 600 Training Loss Date 0.4216 Training Loss Amount 0.6115 Accuracy Date 0.8740 Accuracy Amount 0.7496\n",
            "Epoch 3 Batch 650 Training Loss Date 0.4217 Training Loss Amount 0.6109 Accuracy Date 0.8739 Accuracy Amount 0.7474\n",
            "Epoch 3 Batch 700 Training Loss Date 0.4212 Training Loss Amount 0.6095 Accuracy Date 0.8740 Accuracy Amount 0.7487\n",
            "Epoch 3 Batch 750 Training Loss Date 0.4206 Training Loss Amount 0.6087 Accuracy Date 0.8744 Accuracy Amount 0.7476\n",
            "Epoch 3 Batch 800 Training Loss Date 0.4206 Training Loss Amount 0.6074 Accuracy Date 0.8744 Accuracy Amount 0.7464\n",
            "Epoch 3 Batch 850 Training Loss Date 0.4195 Training Loss Amount 0.6080 Accuracy Date 0.8748 Accuracy Amount 0.7472\n",
            "Epoch 3 Batch 900 Training Loss Date 0.4198 Training Loss Amount 0.6062 Accuracy Date 0.8747 Accuracy Amount 0.7471\n",
            "Epoch 3 Batch 950 Training Loss Date 0.4193 Training Loss Amount 0.6054 Accuracy Date 0.8749 Accuracy Amount 0.7469\n",
            "Epoch 3 Batch 1000 Training Loss Date 0.4183 Training Loss Amount 0.6040 Accuracy Date 0.8753 Accuracy Amount 0.7471\n",
            "Epoch 3 Batch 1050 Training Loss Date 0.4172 Training Loss Amount 0.6031 Accuracy Date 0.8755 Accuracy Amount 0.7471\n",
            "Epoch 3 Batch 1100 Training Loss Date 0.4163 Training Loss Amount 0.6016 Accuracy Date 0.8758 Accuracy Amount 0.7476\n",
            "Epoch 3 Batch 1150 Training Loss Date 0.4168 Training Loss Amount 0.5996 Accuracy Date 0.8756 Accuracy Amount 0.7476\n",
            "Epoch 3 Batch 1200 Training Loss Date 0.4163 Training Loss Amount 0.5987 Accuracy Date 0.8757 Accuracy Amount 0.7476\n",
            "Epoch 3 Batch 1250 Training Loss Date 0.4153 Training Loss Amount 0.5982 Accuracy Date 0.8761 Accuracy Amount 0.7475\n",
            "Epoch 3 Batch 1300 Training Loss Date 0.4152 Training Loss Amount 0.5979 Accuracy Date 0.8760 Accuracy Amount 0.7475\n",
            "Epoch 3 Batch 1350 Training Loss Date 0.4143 Training Loss Amount 0.5971 Accuracy Date 0.8763 Accuracy Amount 0.7486\n",
            "Epoch 3 Batch 1400 Training Loss Date 0.4138 Training Loss Amount 0.5959 Accuracy Date 0.8765 Accuracy Amount 0.7486\n",
            "Epoch 3 Batch 1450 Training Loss Date 0.4133 Training Loss Amount 0.5946 Accuracy Date 0.8766 Accuracy Amount 0.7484\n",
            "Epoch 3 Batch 1500 Training Loss Date 0.4131 Training Loss Amount 0.5931 Accuracy Date 0.8768 Accuracy Amount 0.7480\n",
            "Epoch 3 Batch 1550 Training Loss Date 0.4127 Training Loss Amount 0.5924 Accuracy Date 0.8769 Accuracy Amount 0.7483\n",
            "Epoch 3 Batch 1600 Training Loss Date 0.4119 Training Loss Amount 0.5918 Accuracy Date 0.8773 Accuracy Amount 0.7486\n",
            "Epoch 3 Batch 1650 Training Loss Date 0.4115 Training Loss Amount 0.5908 Accuracy Date 0.8774 Accuracy Amount 0.7489\n",
            "Epoch 3 Batch 1700 Training Loss Date 0.4110 Training Loss Amount 0.5906 Accuracy Date 0.8776 Accuracy Amount 0.7486\n",
            "Epoch 3 Batch 1750 Training Loss Date 0.4105 Training Loss Amount 0.5905 Accuracy Date 0.8778 Accuracy Amount 0.7492\n",
            "Epoch 3 Batch 1800 Training Loss Date 0.4098 Training Loss Amount 0.5892 Accuracy Date 0.8779 Accuracy Amount 0.7502\n",
            "Epoch 3 Batch 1850 Training Loss Date 0.4099 Training Loss Amount 0.5898 Accuracy Date 0.8779 Accuracy Amount 0.7501\n",
            "Epoch 3 Batch 1900 Training Loss Date 0.4096 Training Loss Amount 0.5894 Accuracy Date 0.8779 Accuracy Amount 0.7505\n",
            "Epoch 3 Batch 1950 Training Loss Date 0.4093 Training Loss Amount 0.5889 Accuracy Date 0.8780 Accuracy Amount 0.7510\n",
            "Epoch 3 Batch 2000 Training Loss Date 0.4089 Training Loss Amount 0.5885 Accuracy Date 0.8781 Accuracy Amount 0.7513\n",
            "Epoch 3 Batch 2050 Training Loss Date 0.4084 Training Loss Amount 0.5881 Accuracy Date 0.8783 Accuracy Amount 0.7515\n",
            "Epoch 3 Batch 2100 Training Loss Date 0.4080 Training Loss Amount 0.5878 Accuracy Date 0.8784 Accuracy Amount 0.7515\n",
            "Epoch 3 Batch 2150 Training Loss Date 0.4073 Training Loss Amount 0.5873 Accuracy Date 0.8786 Accuracy Amount 0.7516\n",
            "Epoch 3 Batch 2200 Training Loss Date 0.4070 Training Loss Amount 0.5869 Accuracy Date 0.8787 Accuracy Amount 0.7520\n",
            "Epoch 3 Batch 2250 Training Loss Date 0.4064 Training Loss Amount 0.5861 Accuracy Date 0.8789 Accuracy Amount 0.7519\n",
            "Epoch 3 Batch 2300 Training Loss Date 0.4059 Training Loss Amount 0.5851 Accuracy Date 0.8790 Accuracy Amount 0.7519\n",
            "Epoch 3 Batch 2350 Training Loss Date 0.4052 Training Loss Amount 0.5848 Accuracy Date 0.8791 Accuracy Amount 0.7519\n",
            "Epoch 3 Batch 2400 Training Loss Date 0.4048 Training Loss Amount 0.5837 Accuracy Date 0.8793 Accuracy Amount 0.7522\n",
            "Epoch 3 Batch 2450 Training Loss Date 0.4045 Training Loss Amount 0.5826 Accuracy Date 0.8794 Accuracy Amount 0.7518\n",
            "Epoch 3 Batch 2500 Training Loss Date 0.4039 Training Loss Amount 0.5819 Accuracy Date 0.8795 Accuracy Amount 0.7518\n",
            "Epoch 3 Batch 2550 Training Loss Date 0.4038 Training Loss Amount 0.5810 Accuracy Date 0.8796 Accuracy Amount 0.7518\n",
            "Epoch 3 Batch 2600 Training Loss Date 0.4033 Training Loss Amount 0.5806 Accuracy Date 0.8798 Accuracy Amount 0.7519\n",
            "Epoch 3 Batch 2650 Training Loss Date 0.4032 Training Loss Amount 0.5801 Accuracy Date 0.8799 Accuracy Amount 0.7519\n",
            "Epoch 3 Batch 2700 Training Loss Date 0.4028 Training Loss Amount 0.5793 Accuracy Date 0.8800 Accuracy Amount 0.7519\n",
            "Epoch 3 Batch 2750 Training Loss Date 0.4023 Training Loss Amount 0.5787 Accuracy Date 0.8801 Accuracy Amount 0.7519\n",
            "Epoch 3 Batch 2800 Training Loss Date 0.4018 Training Loss Amount 0.5778 Accuracy Date 0.8803 Accuracy Amount 0.7520\n",
            "Epoch 3 Batch 2850 Training Loss Date 0.4014 Training Loss Amount 0.5773 Accuracy Date 0.8804 Accuracy Amount 0.7520\n",
            "Epoch 3 Batch 2900 Training Loss Date 0.4008 Training Loss Amount 0.5768 Accuracy Date 0.8806 Accuracy Amount 0.7520\n",
            "Epoch 3 Batch 2950 Training Loss Date 0.4006 Training Loss Amount 0.5766 Accuracy Date 0.8807 Accuracy Amount 0.7523\n",
            "Epoch 3 Batch 3000 Training Loss Date 0.4006 Training Loss Amount 0.5764 Accuracy Date 0.8807 Accuracy Amount 0.7525\n",
            "Epoch 3 Batch 3050 Training Loss Date 0.4002 Training Loss Amount 0.5757 Accuracy Date 0.8808 Accuracy Amount 0.7526\n",
            "Epoch 3 Training Loss Date 0.3999 Training Loss Amount 0.5755 Accuracy Date 0.8809 Accuracy Amount 0.7528\n",
            "Epoch 3 Validation Loss Date 0.3481 Validation Loss Amount 0.5111 Accuracy Date 0.8980 Accuracy Amount 0.7600\n",
            "Time taken for 1 epoch: 562.89 secs\n",
            "\n",
            "Epoch 4 Batch 0 Training Loss Date 0.4399 Training Loss Amount 0.5116 Accuracy Date 0.8620 Accuracy Amount 0.8789\n",
            "Epoch 4 Batch 50 Training Loss Date 0.3812 Training Loss Amount 0.5639 Accuracy Date 0.8879 Accuracy Amount 0.7639\n",
            "Epoch 4 Batch 100 Training Loss Date 0.3766 Training Loss Amount 0.5421 Accuracy Date 0.8893 Accuracy Amount 0.7577\n",
            "Epoch 4 Batch 150 Training Loss Date 0.3837 Training Loss Amount 0.5480 Accuracy Date 0.8862 Accuracy Amount 0.7613\n",
            "Epoch 4 Batch 200 Training Loss Date 0.3849 Training Loss Amount 0.5433 Accuracy Date 0.8859 Accuracy Amount 0.7620\n",
            "Epoch 4 Batch 250 Training Loss Date 0.3815 Training Loss Amount 0.5398 Accuracy Date 0.8868 Accuracy Amount 0.7649\n",
            "Epoch 4 Batch 300 Training Loss Date 0.3793 Training Loss Amount 0.5407 Accuracy Date 0.8875 Accuracy Amount 0.7661\n",
            "Epoch 4 Batch 350 Training Loss Date 0.3762 Training Loss Amount 0.5397 Accuracy Date 0.8883 Accuracy Amount 0.7659\n",
            "Epoch 4 Batch 400 Training Loss Date 0.3790 Training Loss Amount 0.5410 Accuracy Date 0.8876 Accuracy Amount 0.7645\n",
            "Epoch 4 Batch 450 Training Loss Date 0.3811 Training Loss Amount 0.5431 Accuracy Date 0.8868 Accuracy Amount 0.7637\n",
            "Epoch 4 Batch 500 Training Loss Date 0.3815 Training Loss Amount 0.5425 Accuracy Date 0.8865 Accuracy Amount 0.7600\n",
            "Epoch 4 Batch 550 Training Loss Date 0.3808 Training Loss Amount 0.5432 Accuracy Date 0.8868 Accuracy Amount 0.7618\n",
            "Epoch 4 Batch 600 Training Loss Date 0.3802 Training Loss Amount 0.5443 Accuracy Date 0.8869 Accuracy Amount 0.7617\n",
            "Epoch 4 Batch 650 Training Loss Date 0.3802 Training Loss Amount 0.5446 Accuracy Date 0.8869 Accuracy Amount 0.7620\n",
            "Epoch 4 Batch 700 Training Loss Date 0.3792 Training Loss Amount 0.5429 Accuracy Date 0.8873 Accuracy Amount 0.7613\n",
            "Epoch 4 Batch 750 Training Loss Date 0.3786 Training Loss Amount 0.5426 Accuracy Date 0.8875 Accuracy Amount 0.7607\n",
            "Epoch 4 Batch 800 Training Loss Date 0.3781 Training Loss Amount 0.5423 Accuracy Date 0.8876 Accuracy Amount 0.7607\n",
            "Epoch 4 Batch 850 Training Loss Date 0.3775 Training Loss Amount 0.5415 Accuracy Date 0.8879 Accuracy Amount 0.7600\n",
            "Epoch 4 Batch 900 Training Loss Date 0.3778 Training Loss Amount 0.5405 Accuracy Date 0.8878 Accuracy Amount 0.7602\n",
            "Epoch 4 Batch 950 Training Loss Date 0.3782 Training Loss Amount 0.5403 Accuracy Date 0.8877 Accuracy Amount 0.7599\n",
            "Epoch 4 Batch 1000 Training Loss Date 0.3781 Training Loss Amount 0.5396 Accuracy Date 0.8877 Accuracy Amount 0.7597\n",
            "Epoch 4 Batch 1050 Training Loss Date 0.3773 Training Loss Amount 0.5392 Accuracy Date 0.8879 Accuracy Amount 0.7592\n",
            "Epoch 4 Batch 1100 Training Loss Date 0.3761 Training Loss Amount 0.5380 Accuracy Date 0.8882 Accuracy Amount 0.7588\n",
            "Epoch 4 Batch 1150 Training Loss Date 0.3763 Training Loss Amount 0.5376 Accuracy Date 0.8881 Accuracy Amount 0.7589\n",
            "Epoch 4 Batch 1200 Training Loss Date 0.3758 Training Loss Amount 0.5373 Accuracy Date 0.8882 Accuracy Amount 0.7603\n",
            "Epoch 4 Batch 1250 Training Loss Date 0.3754 Training Loss Amount 0.5365 Accuracy Date 0.8883 Accuracy Amount 0.7604\n",
            "Epoch 4 Batch 1300 Training Loss Date 0.3756 Training Loss Amount 0.5366 Accuracy Date 0.8882 Accuracy Amount 0.7599\n",
            "Epoch 4 Batch 1350 Training Loss Date 0.3755 Training Loss Amount 0.5359 Accuracy Date 0.8883 Accuracy Amount 0.7607\n",
            "Epoch 4 Batch 1400 Training Loss Date 0.3753 Training Loss Amount 0.5357 Accuracy Date 0.8884 Accuracy Amount 0.7603\n",
            "Epoch 4 Batch 1450 Training Loss Date 0.3752 Training Loss Amount 0.5359 Accuracy Date 0.8884 Accuracy Amount 0.7602\n",
            "Epoch 4 Batch 1500 Training Loss Date 0.3748 Training Loss Amount 0.5359 Accuracy Date 0.8884 Accuracy Amount 0.7607\n",
            "Epoch 4 Batch 1550 Training Loss Date 0.3746 Training Loss Amount 0.5351 Accuracy Date 0.8885 Accuracy Amount 0.7609\n",
            "Epoch 4 Batch 1600 Training Loss Date 0.3741 Training Loss Amount 0.5345 Accuracy Date 0.8887 Accuracy Amount 0.7609\n",
            "Epoch 4 Batch 1650 Training Loss Date 0.3740 Training Loss Amount 0.5342 Accuracy Date 0.8887 Accuracy Amount 0.7604\n",
            "Epoch 4 Batch 1700 Training Loss Date 0.3741 Training Loss Amount 0.5339 Accuracy Date 0.8887 Accuracy Amount 0.7606\n",
            "Epoch 4 Batch 1750 Training Loss Date 0.3740 Training Loss Amount 0.5339 Accuracy Date 0.8886 Accuracy Amount 0.7601\n",
            "Epoch 4 Batch 1800 Training Loss Date 0.3739 Training Loss Amount 0.5337 Accuracy Date 0.8887 Accuracy Amount 0.7601\n",
            "Epoch 4 Batch 1850 Training Loss Date 0.3734 Training Loss Amount 0.5330 Accuracy Date 0.8888 Accuracy Amount 0.7604\n",
            "Epoch 4 Batch 1900 Training Loss Date 0.3732 Training Loss Amount 0.5327 Accuracy Date 0.8889 Accuracy Amount 0.7601\n",
            "Epoch 4 Batch 1950 Training Loss Date 0.3728 Training Loss Amount 0.5322 Accuracy Date 0.8890 Accuracy Amount 0.7606\n",
            "Epoch 4 Batch 2000 Training Loss Date 0.3724 Training Loss Amount 0.5316 Accuracy Date 0.8892 Accuracy Amount 0.7605\n",
            "Epoch 4 Batch 2050 Training Loss Date 0.3722 Training Loss Amount 0.5313 Accuracy Date 0.8892 Accuracy Amount 0.7610\n",
            "Epoch 4 Batch 2100 Training Loss Date 0.3721 Training Loss Amount 0.5310 Accuracy Date 0.8892 Accuracy Amount 0.7615\n",
            "Epoch 4 Batch 2150 Training Loss Date 0.3717 Training Loss Amount 0.5308 Accuracy Date 0.8893 Accuracy Amount 0.7617\n",
            "Epoch 4 Batch 2200 Training Loss Date 0.3715 Training Loss Amount 0.5305 Accuracy Date 0.8893 Accuracy Amount 0.7615\n",
            "Epoch 4 Batch 2250 Training Loss Date 0.3712 Training Loss Amount 0.5306 Accuracy Date 0.8895 Accuracy Amount 0.7616\n",
            "Epoch 4 Batch 2300 Training Loss Date 0.3713 Training Loss Amount 0.5305 Accuracy Date 0.8895 Accuracy Amount 0.7618\n",
            "Epoch 4 Batch 2350 Training Loss Date 0.3707 Training Loss Amount 0.5299 Accuracy Date 0.8897 Accuracy Amount 0.7620\n",
            "Epoch 4 Batch 2400 Training Loss Date 0.3708 Training Loss Amount 0.5302 Accuracy Date 0.8896 Accuracy Amount 0.7623\n",
            "Epoch 4 Batch 2450 Training Loss Date 0.3710 Training Loss Amount 0.5299 Accuracy Date 0.8896 Accuracy Amount 0.7622\n",
            "Epoch 4 Batch 2500 Training Loss Date 0.3709 Training Loss Amount 0.5295 Accuracy Date 0.8897 Accuracy Amount 0.7624\n",
            "Epoch 4 Batch 2550 Training Loss Date 0.3705 Training Loss Amount 0.5292 Accuracy Date 0.8898 Accuracy Amount 0.7627\n",
            "Epoch 4 Batch 2600 Training Loss Date 0.3701 Training Loss Amount 0.5285 Accuracy Date 0.8899 Accuracy Amount 0.7628\n",
            "Epoch 4 Batch 2650 Training Loss Date 0.3697 Training Loss Amount 0.5283 Accuracy Date 0.8900 Accuracy Amount 0.7630\n",
            "Epoch 4 Batch 2700 Training Loss Date 0.3694 Training Loss Amount 0.5277 Accuracy Date 0.8901 Accuracy Amount 0.7631\n",
            "Epoch 4 Batch 2750 Training Loss Date 0.3694 Training Loss Amount 0.5276 Accuracy Date 0.8901 Accuracy Amount 0.7631\n",
            "Epoch 4 Batch 2800 Training Loss Date 0.3691 Training Loss Amount 0.5274 Accuracy Date 0.8901 Accuracy Amount 0.7632\n",
            "Epoch 4 Batch 2850 Training Loss Date 0.3691 Training Loss Amount 0.5270 Accuracy Date 0.8901 Accuracy Amount 0.7631\n",
            "Epoch 4 Batch 2900 Training Loss Date 0.3689 Training Loss Amount 0.5267 Accuracy Date 0.8902 Accuracy Amount 0.7632\n",
            "Epoch 4 Batch 2950 Training Loss Date 0.3687 Training Loss Amount 0.5260 Accuracy Date 0.8903 Accuracy Amount 0.7634\n",
            "Epoch 4 Batch 3000 Training Loss Date 0.3682 Training Loss Amount 0.5256 Accuracy Date 0.8904 Accuracy Amount 0.7631\n",
            "Epoch 4 Batch 3050 Training Loss Date 0.3680 Training Loss Amount 0.5253 Accuracy Date 0.8905 Accuracy Amount 0.7630\n",
            "Epoch 4 Training Loss Date 0.3678 Training Loss Amount 0.5252 Accuracy Date 0.8906 Accuracy Amount 0.7629\n",
            "Epoch 4 Validation Loss Date 0.3386 Validation Loss Amount 0.4930 Accuracy Date 0.9023 Accuracy Amount 0.7651\n",
            "Time taken for 1 epoch: 560.53 secs\n",
            "\n",
            "Epoch 5 Batch 0 Training Loss Date 0.3841 Training Loss Amount 0.3729 Accuracy Date 0.8750 Accuracy Amount 0.7344\n",
            "Epoch 5 Batch 50 Training Loss Date 0.3655 Training Loss Amount 0.5166 Accuracy Date 0.8927 Accuracy Amount 0.7488\n",
            "Epoch 5 Batch 100 Training Loss Date 0.3609 Training Loss Amount 0.5060 Accuracy Date 0.8922 Accuracy Amount 0.7540\n",
            "Epoch 5 Batch 150 Training Loss Date 0.3541 Training Loss Amount 0.5091 Accuracy Date 0.8947 Accuracy Amount 0.7574\n",
            "Epoch 5 Batch 200 Training Loss Date 0.3550 Training Loss Amount 0.5082 Accuracy Date 0.8939 Accuracy Amount 0.7553\n",
            "Epoch 5 Batch 250 Training Loss Date 0.3572 Training Loss Amount 0.5097 Accuracy Date 0.8932 Accuracy Amount 0.7581\n",
            "Epoch 5 Batch 300 Training Loss Date 0.3572 Training Loss Amount 0.5091 Accuracy Date 0.8934 Accuracy Amount 0.7612\n",
            "Epoch 5 Batch 350 Training Loss Date 0.3577 Training Loss Amount 0.5089 Accuracy Date 0.8933 Accuracy Amount 0.7644\n",
            "Epoch 5 Batch 400 Training Loss Date 0.3574 Training Loss Amount 0.5101 Accuracy Date 0.8933 Accuracy Amount 0.7660\n",
            "Epoch 5 Batch 450 Training Loss Date 0.3577 Training Loss Amount 0.5083 Accuracy Date 0.8932 Accuracy Amount 0.7665\n",
            "Epoch 5 Batch 500 Training Loss Date 0.3588 Training Loss Amount 0.5108 Accuracy Date 0.8928 Accuracy Amount 0.7679\n",
            "Epoch 5 Batch 550 Training Loss Date 0.3588 Training Loss Amount 0.5099 Accuracy Date 0.8928 Accuracy Amount 0.7675\n",
            "Epoch 5 Batch 600 Training Loss Date 0.3584 Training Loss Amount 0.5109 Accuracy Date 0.8929 Accuracy Amount 0.7678\n",
            "Epoch 5 Batch 650 Training Loss Date 0.3572 Training Loss Amount 0.5092 Accuracy Date 0.8934 Accuracy Amount 0.7678\n",
            "Epoch 5 Batch 700 Training Loss Date 0.3578 Training Loss Amount 0.5083 Accuracy Date 0.8932 Accuracy Amount 0.7677\n",
            "Epoch 5 Batch 750 Training Loss Date 0.3579 Training Loss Amount 0.5085 Accuracy Date 0.8932 Accuracy Amount 0.7678\n",
            "Epoch 5 Batch 800 Training Loss Date 0.3581 Training Loss Amount 0.5103 Accuracy Date 0.8931 Accuracy Amount 0.7687\n",
            "Epoch 5 Batch 850 Training Loss Date 0.3577 Training Loss Amount 0.5109 Accuracy Date 0.8933 Accuracy Amount 0.7682\n",
            "Epoch 5 Batch 900 Training Loss Date 0.3567 Training Loss Amount 0.5105 Accuracy Date 0.8936 Accuracy Amount 0.7682\n",
            "Epoch 5 Batch 950 Training Loss Date 0.3562 Training Loss Amount 0.5099 Accuracy Date 0.8936 Accuracy Amount 0.7679\n",
            "Epoch 5 Batch 1000 Training Loss Date 0.3561 Training Loss Amount 0.5099 Accuracy Date 0.8937 Accuracy Amount 0.7675\n",
            "Epoch 5 Batch 1050 Training Loss Date 0.3560 Training Loss Amount 0.5090 Accuracy Date 0.8938 Accuracy Amount 0.7671\n",
            "Epoch 5 Batch 1100 Training Loss Date 0.3559 Training Loss Amount 0.5091 Accuracy Date 0.8938 Accuracy Amount 0.7668\n",
            "Epoch 5 Batch 1150 Training Loss Date 0.3557 Training Loss Amount 0.5094 Accuracy Date 0.8939 Accuracy Amount 0.7665\n",
            "Epoch 5 Batch 1200 Training Loss Date 0.3562 Training Loss Amount 0.5092 Accuracy Date 0.8937 Accuracy Amount 0.7653\n",
            "Epoch 5 Batch 1250 Training Loss Date 0.3559 Training Loss Amount 0.5088 Accuracy Date 0.8939 Accuracy Amount 0.7660\n",
            "Epoch 5 Batch 1300 Training Loss Date 0.3557 Training Loss Amount 0.5078 Accuracy Date 0.8940 Accuracy Amount 0.7662\n",
            "Epoch 5 Batch 1350 Training Loss Date 0.3558 Training Loss Amount 0.5076 Accuracy Date 0.8939 Accuracy Amount 0.7662\n",
            "Epoch 5 Batch 1400 Training Loss Date 0.3565 Training Loss Amount 0.5083 Accuracy Date 0.8937 Accuracy Amount 0.7671\n",
            "Epoch 5 Batch 1450 Training Loss Date 0.3564 Training Loss Amount 0.5081 Accuracy Date 0.8938 Accuracy Amount 0.7672\n",
            "Epoch 5 Batch 1500 Training Loss Date 0.3562 Training Loss Amount 0.5078 Accuracy Date 0.8939 Accuracy Amount 0.7672\n",
            "Epoch 5 Batch 1550 Training Loss Date 0.3563 Training Loss Amount 0.5078 Accuracy Date 0.8939 Accuracy Amount 0.7668\n",
            "Epoch 5 Batch 1600 Training Loss Date 0.3559 Training Loss Amount 0.5073 Accuracy Date 0.8939 Accuracy Amount 0.7661\n",
            "Epoch 5 Batch 1650 Training Loss Date 0.3556 Training Loss Amount 0.5071 Accuracy Date 0.8940 Accuracy Amount 0.7659\n",
            "Epoch 5 Batch 1700 Training Loss Date 0.3554 Training Loss Amount 0.5068 Accuracy Date 0.8940 Accuracy Amount 0.7660\n",
            "Epoch 5 Batch 1750 Training Loss Date 0.3553 Training Loss Amount 0.5064 Accuracy Date 0.8941 Accuracy Amount 0.7661\n",
            "Epoch 5 Batch 1800 Training Loss Date 0.3551 Training Loss Amount 0.5063 Accuracy Date 0.8941 Accuracy Amount 0.7664\n",
            "Epoch 5 Batch 1850 Training Loss Date 0.3546 Training Loss Amount 0.5051 Accuracy Date 0.8942 Accuracy Amount 0.7665\n",
            "Epoch 5 Batch 1900 Training Loss Date 0.3544 Training Loss Amount 0.5054 Accuracy Date 0.8943 Accuracy Amount 0.7667\n",
            "Epoch 5 Batch 1950 Training Loss Date 0.3550 Training Loss Amount 0.5052 Accuracy Date 0.8941 Accuracy Amount 0.7670\n",
            "Epoch 5 Batch 2000 Training Loss Date 0.3551 Training Loss Amount 0.5055 Accuracy Date 0.8940 Accuracy Amount 0.7671\n",
            "Epoch 5 Batch 2050 Training Loss Date 0.3547 Training Loss Amount 0.5049 Accuracy Date 0.8942 Accuracy Amount 0.7675\n",
            "Epoch 5 Batch 2100 Training Loss Date 0.3549 Training Loss Amount 0.5046 Accuracy Date 0.8941 Accuracy Amount 0.7671\n",
            "Epoch 5 Batch 2150 Training Loss Date 0.3547 Training Loss Amount 0.5050 Accuracy Date 0.8941 Accuracy Amount 0.7675\n",
            "Epoch 5 Batch 2200 Training Loss Date 0.3545 Training Loss Amount 0.5046 Accuracy Date 0.8942 Accuracy Amount 0.7672\n",
            "Epoch 5 Batch 2250 Training Loss Date 0.3542 Training Loss Amount 0.5046 Accuracy Date 0.8943 Accuracy Amount 0.7670\n",
            "Epoch 5 Batch 2300 Training Loss Date 0.3540 Training Loss Amount 0.5045 Accuracy Date 0.8943 Accuracy Amount 0.7674\n",
            "Epoch 5 Batch 2350 Training Loss Date 0.3535 Training Loss Amount 0.5040 Accuracy Date 0.8945 Accuracy Amount 0.7676\n",
            "Epoch 5 Batch 2400 Training Loss Date 0.3531 Training Loss Amount 0.5034 Accuracy Date 0.8946 Accuracy Amount 0.7678\n",
            "Epoch 5 Batch 2450 Training Loss Date 0.3529 Training Loss Amount 0.5026 Accuracy Date 0.8947 Accuracy Amount 0.7675\n",
            "Epoch 5 Batch 2500 Training Loss Date 0.3527 Training Loss Amount 0.5022 Accuracy Date 0.8948 Accuracy Amount 0.7676\n",
            "Epoch 5 Batch 2550 Training Loss Date 0.3523 Training Loss Amount 0.5022 Accuracy Date 0.8949 Accuracy Amount 0.7678\n",
            "Epoch 5 Batch 2600 Training Loss Date 0.3524 Training Loss Amount 0.5022 Accuracy Date 0.8949 Accuracy Amount 0.7680\n",
            "Epoch 5 Batch 2650 Training Loss Date 0.3520 Training Loss Amount 0.5021 Accuracy Date 0.8950 Accuracy Amount 0.7678\n",
            "Epoch 5 Batch 2700 Training Loss Date 0.3520 Training Loss Amount 0.5019 Accuracy Date 0.8949 Accuracy Amount 0.7679\n",
            "Epoch 5 Batch 2750 Training Loss Date 0.3521 Training Loss Amount 0.5014 Accuracy Date 0.8949 Accuracy Amount 0.7678\n",
            "Epoch 5 Batch 2800 Training Loss Date 0.3520 Training Loss Amount 0.5011 Accuracy Date 0.8950 Accuracy Amount 0.7683\n",
            "Epoch 5 Batch 2850 Training Loss Date 0.3520 Training Loss Amount 0.5008 Accuracy Date 0.8950 Accuracy Amount 0.7682\n",
            "Epoch 5 Batch 2900 Training Loss Date 0.3519 Training Loss Amount 0.5008 Accuracy Date 0.8950 Accuracy Amount 0.7677\n",
            "Epoch 5 Batch 2950 Training Loss Date 0.3522 Training Loss Amount 0.5006 Accuracy Date 0.8949 Accuracy Amount 0.7676\n",
            "Epoch 5 Batch 3000 Training Loss Date 0.3520 Training Loss Amount 0.5008 Accuracy Date 0.8950 Accuracy Amount 0.7675\n",
            "Epoch 5 Batch 3050 Training Loss Date 0.3519 Training Loss Amount 0.5003 Accuracy Date 0.8950 Accuracy Amount 0.7676\n",
            "Saving checkpoint for epoch 5 at ./checkpoints/train/ckpt-1\n",
            "Epoch 5 Training Loss Date 0.3516 Training Loss Amount 0.5002 Accuracy Date 0.8951 Accuracy Amount 0.7677\n",
            "Epoch 5 Validation Loss Date 0.3221 Validation Loss Amount 0.4851 Accuracy Date 0.9044 Accuracy Amount 0.7692\n",
            "Time taken for 1 epoch: 560.67 secs\n",
            "\n",
            "Epoch 6 Batch 0 Training Loss Date 0.3901 Training Loss Amount 0.5159 Accuracy Date 0.8802 Accuracy Amount 0.8906\n",
            "Epoch 6 Batch 50 Training Loss Date 0.3485 Training Loss Amount 0.4918 Accuracy Date 0.8948 Accuracy Amount 0.7627\n",
            "Epoch 6 Batch 100 Training Loss Date 0.3476 Training Loss Amount 0.4921 Accuracy Date 0.8949 Accuracy Amount 0.7776\n",
            "Epoch 6 Batch 150 Training Loss Date 0.3495 Training Loss Amount 0.4865 Accuracy Date 0.8945 Accuracy Amount 0.7686\n",
            "Epoch 6 Batch 200 Training Loss Date 0.3478 Training Loss Amount 0.4872 Accuracy Date 0.8952 Accuracy Amount 0.7799\n"
          ],
          "name": "stdout"
        },
        {
          "output_type": "error",
          "ename": "KeyboardInterrupt",
          "evalue": "ignored",
          "traceback": [
            "\u001b[0;31m---------------------------------------------------------------------------\u001b[0m",
            "\u001b[0;31mKeyboardInterrupt\u001b[0m                         Traceback (most recent call last)",
            "\u001b[0;32m<ipython-input-65-d019644633c8>\u001b[0m in \u001b[0;36m<module>\u001b[0;34m()\u001b[0m\n\u001b[1;32m     14\u001b[0m   \u001b[0;31m# inp -> ocr, tar -> amount\u001b[0m\u001b[0;34m\u001b[0m\u001b[0;34m\u001b[0m\u001b[0;34m\u001b[0m\u001b[0m\n\u001b[1;32m     15\u001b[0m   \u001b[0;32mfor\u001b[0m \u001b[0;34m(\u001b[0m\u001b[0mbatch\u001b[0m\u001b[0;34m,\u001b[0m \u001b[0;34m(\u001b[0m\u001b[0minp\u001b[0m\u001b[0;34m,\u001b[0m \u001b[0mtar_amt\u001b[0m \u001b[0;34m,\u001b[0m \u001b[0mtar_dt\u001b[0m\u001b[0;34m)\u001b[0m\u001b[0;34m)\u001b[0m \u001b[0;32min\u001b[0m \u001b[0menumerate\u001b[0m\u001b[0;34m(\u001b[0m\u001b[0mtrain_dataset\u001b[0m\u001b[0;34m)\u001b[0m\u001b[0;34m:\u001b[0m\u001b[0;34m\u001b[0m\u001b[0;34m\u001b[0m\u001b[0m\n\u001b[0;32m---> 16\u001b[0;31m     \u001b[0mtrain_step\u001b[0m\u001b[0;34m(\u001b[0m\u001b[0minp\u001b[0m\u001b[0;34m,\u001b[0m \u001b[0mtar_dt\u001b[0m\u001b[0;34m,\u001b[0m \u001b[0mtar_amt\u001b[0m\u001b[0;34m)\u001b[0m\u001b[0;34m\u001b[0m\u001b[0;34m\u001b[0m\u001b[0m\n\u001b[0m\u001b[1;32m     17\u001b[0m \u001b[0;34m\u001b[0m\u001b[0m\n\u001b[1;32m     18\u001b[0m     \u001b[0;32mif\u001b[0m \u001b[0mbatch\u001b[0m \u001b[0;34m%\u001b[0m \u001b[0;36m50\u001b[0m \u001b[0;34m==\u001b[0m \u001b[0;36m0\u001b[0m\u001b[0;34m:\u001b[0m\u001b[0;34m\u001b[0m\u001b[0;34m\u001b[0m\u001b[0m\n",
            "\u001b[0;32m/usr/local/lib/python3.6/dist-packages/tensorflow/python/eager/def_function.py\u001b[0m in \u001b[0;36m__call__\u001b[0;34m(self, *args, **kwds)\u001b[0m\n\u001b[1;32m    578\u001b[0m         \u001b[0mxla_context\u001b[0m\u001b[0;34m.\u001b[0m\u001b[0mExit\u001b[0m\u001b[0;34m(\u001b[0m\u001b[0;34m)\u001b[0m\u001b[0;34m\u001b[0m\u001b[0;34m\u001b[0m\u001b[0m\n\u001b[1;32m    579\u001b[0m     \u001b[0;32melse\u001b[0m\u001b[0;34m:\u001b[0m\u001b[0;34m\u001b[0m\u001b[0;34m\u001b[0m\u001b[0m\n\u001b[0;32m--> 580\u001b[0;31m       \u001b[0mresult\u001b[0m \u001b[0;34m=\u001b[0m \u001b[0mself\u001b[0m\u001b[0;34m.\u001b[0m\u001b[0m_call\u001b[0m\u001b[0;34m(\u001b[0m\u001b[0;34m*\u001b[0m\u001b[0margs\u001b[0m\u001b[0;34m,\u001b[0m \u001b[0;34m**\u001b[0m\u001b[0mkwds\u001b[0m\u001b[0;34m)\u001b[0m\u001b[0;34m\u001b[0m\u001b[0;34m\u001b[0m\u001b[0m\n\u001b[0m\u001b[1;32m    581\u001b[0m \u001b[0;34m\u001b[0m\u001b[0m\n\u001b[1;32m    582\u001b[0m     \u001b[0;32mif\u001b[0m \u001b[0mtracing_count\u001b[0m \u001b[0;34m==\u001b[0m \u001b[0mself\u001b[0m\u001b[0;34m.\u001b[0m\u001b[0m_get_tracing_count\u001b[0m\u001b[0;34m(\u001b[0m\u001b[0;34m)\u001b[0m\u001b[0;34m:\u001b[0m\u001b[0;34m\u001b[0m\u001b[0;34m\u001b[0m\u001b[0m\n",
            "\u001b[0;32m/usr/local/lib/python3.6/dist-packages/tensorflow/python/eager/def_function.py\u001b[0m in \u001b[0;36m_call\u001b[0;34m(self, *args, **kwds)\u001b[0m\n\u001b[1;32m    609\u001b[0m       \u001b[0;31m# In this case we have created variables on the first call, so we run the\u001b[0m\u001b[0;34m\u001b[0m\u001b[0;34m\u001b[0m\u001b[0;34m\u001b[0m\u001b[0m\n\u001b[1;32m    610\u001b[0m       \u001b[0;31m# defunned version which is guaranteed to never create variables.\u001b[0m\u001b[0;34m\u001b[0m\u001b[0;34m\u001b[0m\u001b[0;34m\u001b[0m\u001b[0m\n\u001b[0;32m--> 611\u001b[0;31m       \u001b[0;32mreturn\u001b[0m \u001b[0mself\u001b[0m\u001b[0;34m.\u001b[0m\u001b[0m_stateless_fn\u001b[0m\u001b[0;34m(\u001b[0m\u001b[0;34m*\u001b[0m\u001b[0margs\u001b[0m\u001b[0;34m,\u001b[0m \u001b[0;34m**\u001b[0m\u001b[0mkwds\u001b[0m\u001b[0;34m)\u001b[0m  \u001b[0;31m# pylint: disable=not-callable\u001b[0m\u001b[0;34m\u001b[0m\u001b[0;34m\u001b[0m\u001b[0m\n\u001b[0m\u001b[1;32m    612\u001b[0m     \u001b[0;32melif\u001b[0m \u001b[0mself\u001b[0m\u001b[0;34m.\u001b[0m\u001b[0m_stateful_fn\u001b[0m \u001b[0;32mis\u001b[0m \u001b[0;32mnot\u001b[0m \u001b[0;32mNone\u001b[0m\u001b[0;34m:\u001b[0m\u001b[0;34m\u001b[0m\u001b[0;34m\u001b[0m\u001b[0m\n\u001b[1;32m    613\u001b[0m       \u001b[0;31m# Release the lock early so that multiple threads can perform the call\u001b[0m\u001b[0;34m\u001b[0m\u001b[0;34m\u001b[0m\u001b[0;34m\u001b[0m\u001b[0m\n",
            "\u001b[0;32m/usr/local/lib/python3.6/dist-packages/tensorflow/python/eager/function.py\u001b[0m in \u001b[0;36m__call__\u001b[0;34m(self, *args, **kwargs)\u001b[0m\n\u001b[1;32m   2418\u001b[0m     \u001b[0;32mwith\u001b[0m \u001b[0mself\u001b[0m\u001b[0;34m.\u001b[0m\u001b[0m_lock\u001b[0m\u001b[0;34m:\u001b[0m\u001b[0;34m\u001b[0m\u001b[0;34m\u001b[0m\u001b[0m\n\u001b[1;32m   2419\u001b[0m       \u001b[0mgraph_function\u001b[0m\u001b[0;34m,\u001b[0m \u001b[0margs\u001b[0m\u001b[0;34m,\u001b[0m \u001b[0mkwargs\u001b[0m \u001b[0;34m=\u001b[0m \u001b[0mself\u001b[0m\u001b[0;34m.\u001b[0m\u001b[0m_maybe_define_function\u001b[0m\u001b[0;34m(\u001b[0m\u001b[0margs\u001b[0m\u001b[0;34m,\u001b[0m \u001b[0mkwargs\u001b[0m\u001b[0;34m)\u001b[0m\u001b[0;34m\u001b[0m\u001b[0;34m\u001b[0m\u001b[0m\n\u001b[0;32m-> 2420\u001b[0;31m     \u001b[0;32mreturn\u001b[0m \u001b[0mgraph_function\u001b[0m\u001b[0;34m.\u001b[0m\u001b[0m_filtered_call\u001b[0m\u001b[0;34m(\u001b[0m\u001b[0margs\u001b[0m\u001b[0;34m,\u001b[0m \u001b[0mkwargs\u001b[0m\u001b[0;34m)\u001b[0m  \u001b[0;31m# pylint: disable=protected-access\u001b[0m\u001b[0;34m\u001b[0m\u001b[0;34m\u001b[0m\u001b[0m\n\u001b[0m\u001b[1;32m   2421\u001b[0m \u001b[0;34m\u001b[0m\u001b[0m\n\u001b[1;32m   2422\u001b[0m   \u001b[0;34m@\u001b[0m\u001b[0mproperty\u001b[0m\u001b[0;34m\u001b[0m\u001b[0;34m\u001b[0m\u001b[0m\n",
            "\u001b[0;32m/usr/local/lib/python3.6/dist-packages/tensorflow/python/eager/function.py\u001b[0m in \u001b[0;36m_filtered_call\u001b[0;34m(self, args, kwargs)\u001b[0m\n\u001b[1;32m   1663\u001b[0m          if isinstance(t, (ops.Tensor,\n\u001b[1;32m   1664\u001b[0m                            resource_variable_ops.BaseResourceVariable))),\n\u001b[0;32m-> 1665\u001b[0;31m         self.captured_inputs)\n\u001b[0m\u001b[1;32m   1666\u001b[0m \u001b[0;34m\u001b[0m\u001b[0m\n\u001b[1;32m   1667\u001b[0m   \u001b[0;32mdef\u001b[0m \u001b[0m_call_flat\u001b[0m\u001b[0;34m(\u001b[0m\u001b[0mself\u001b[0m\u001b[0;34m,\u001b[0m \u001b[0margs\u001b[0m\u001b[0;34m,\u001b[0m \u001b[0mcaptured_inputs\u001b[0m\u001b[0;34m,\u001b[0m \u001b[0mcancellation_manager\u001b[0m\u001b[0;34m=\u001b[0m\u001b[0;32mNone\u001b[0m\u001b[0;34m)\u001b[0m\u001b[0;34m:\u001b[0m\u001b[0;34m\u001b[0m\u001b[0;34m\u001b[0m\u001b[0m\n",
            "\u001b[0;32m/usr/local/lib/python3.6/dist-packages/tensorflow/python/eager/function.py\u001b[0m in \u001b[0;36m_call_flat\u001b[0;34m(self, args, captured_inputs, cancellation_manager)\u001b[0m\n\u001b[1;32m   1744\u001b[0m       \u001b[0;31m# No tape is watching; skip to running the function.\u001b[0m\u001b[0;34m\u001b[0m\u001b[0;34m\u001b[0m\u001b[0;34m\u001b[0m\u001b[0m\n\u001b[1;32m   1745\u001b[0m       return self._build_call_outputs(self._inference_function.call(\n\u001b[0;32m-> 1746\u001b[0;31m           ctx, args, cancellation_manager=cancellation_manager))\n\u001b[0m\u001b[1;32m   1747\u001b[0m     forward_backward = self._select_forward_and_backward_functions(\n\u001b[1;32m   1748\u001b[0m         \u001b[0margs\u001b[0m\u001b[0;34m,\u001b[0m\u001b[0;34m\u001b[0m\u001b[0;34m\u001b[0m\u001b[0m\n",
            "\u001b[0;32m/usr/local/lib/python3.6/dist-packages/tensorflow/python/eager/function.py\u001b[0m in \u001b[0;36mcall\u001b[0;34m(self, ctx, args, cancellation_manager)\u001b[0m\n\u001b[1;32m    596\u001b[0m               \u001b[0minputs\u001b[0m\u001b[0;34m=\u001b[0m\u001b[0margs\u001b[0m\u001b[0;34m,\u001b[0m\u001b[0;34m\u001b[0m\u001b[0;34m\u001b[0m\u001b[0m\n\u001b[1;32m    597\u001b[0m               \u001b[0mattrs\u001b[0m\u001b[0;34m=\u001b[0m\u001b[0mattrs\u001b[0m\u001b[0;34m,\u001b[0m\u001b[0;34m\u001b[0m\u001b[0;34m\u001b[0m\u001b[0m\n\u001b[0;32m--> 598\u001b[0;31m               ctx=ctx)\n\u001b[0m\u001b[1;32m    599\u001b[0m         \u001b[0;32melse\u001b[0m\u001b[0;34m:\u001b[0m\u001b[0;34m\u001b[0m\u001b[0;34m\u001b[0m\u001b[0m\n\u001b[1;32m    600\u001b[0m           outputs = execute.execute_with_cancellation(\n",
            "\u001b[0;32m/usr/local/lib/python3.6/dist-packages/tensorflow/python/eager/execute.py\u001b[0m in \u001b[0;36mquick_execute\u001b[0;34m(op_name, num_outputs, inputs, attrs, ctx, name)\u001b[0m\n\u001b[1;32m     58\u001b[0m     \u001b[0mctx\u001b[0m\u001b[0;34m.\u001b[0m\u001b[0mensure_initialized\u001b[0m\u001b[0;34m(\u001b[0m\u001b[0;34m)\u001b[0m\u001b[0;34m\u001b[0m\u001b[0;34m\u001b[0m\u001b[0m\n\u001b[1;32m     59\u001b[0m     tensors = pywrap_tfe.TFE_Py_Execute(ctx._handle, device_name, op_name,\n\u001b[0;32m---> 60\u001b[0;31m                                         inputs, attrs, num_outputs)\n\u001b[0m\u001b[1;32m     61\u001b[0m   \u001b[0;32mexcept\u001b[0m \u001b[0mcore\u001b[0m\u001b[0;34m.\u001b[0m\u001b[0m_NotOkStatusException\u001b[0m \u001b[0;32mas\u001b[0m \u001b[0me\u001b[0m\u001b[0;34m:\u001b[0m\u001b[0;34m\u001b[0m\u001b[0;34m\u001b[0m\u001b[0m\n\u001b[1;32m     62\u001b[0m     \u001b[0;32mif\u001b[0m \u001b[0mname\u001b[0m \u001b[0;32mis\u001b[0m \u001b[0;32mnot\u001b[0m \u001b[0;32mNone\u001b[0m\u001b[0;34m:\u001b[0m\u001b[0;34m\u001b[0m\u001b[0;34m\u001b[0m\u001b[0m\n",
            "\u001b[0;31mKeyboardInterrupt\u001b[0m: "
          ]
        }
      ]
    },
    {
      "cell_type": "markdown",
      "metadata": {
        "colab_type": "text",
        "id": "QfcsSWswSdGV"
      },
      "source": [
        "## Evaluate"
      ]
    },
    {
      "cell_type": "markdown",
      "metadata": {
        "colab_type": "text",
        "id": "y6APsFrgImLW"
      },
      "source": [
        "The following steps are used for evaluation:\n",
        "\n",
        "* Encode the input sentence using the ocr tokenizer (`tokenizer_ocr`). Moreover, add the start and end token so the input is equivalent to what the model is trained with. This is the encoder input.\n",
        "* The decoder input is the `start token == tokenizer_en.vocab_size`.\n",
        "* Calculate the padding masks and the look ahead masks.\n",
        "* The `decoder` then outputs the predictions by looking at the `encoder output` and its own output (self-attention).\n",
        "* Select the last word and calculate the argmax of that.\n",
        "* Concatentate the predicted word to the decoder input as pass it to the decoder.\n",
        "* In this approach, the decoder predicts the next word based on the previous words it predicted.\n",
        "\n",
        "Note: The model used here has less capacity to keep the example relatively faster so the predictions maybe less right. To reproduce the results in the paper, use the entire dataset and base transformer model or transformer XL, by changing the hyperparameters above."
      ]
    },
    {
      "cell_type": "code",
      "metadata": {
        "ExecuteTime": {
          "start_time": "2019-11-10T06:32:19.586Z"
        },
        "colab_type": "code",
        "id": "5buvMlnvyrFm",
        "pycharm": {
          "is_executing": false
        },
        "colab": {}
      },
      "source": [
        "def evaluate(inp_sentence):\n",
        "  start_token = [tokenizer_ocr.vocab_size]\n",
        "  end_token = [tokenizer_ocr.vocab_size + 1]\n",
        "  \n",
        "  # inp sentence is portuguese, hence adding the start and end token\n",
        "  inp_sentence = start_token + tokenizer_ocr.encode(inp_sentence) + end_token\n",
        "  encoder_input = tf.expand_dims(inp_sentence, 0)\n",
        "  \n",
        "  # as the target is english, the first word to the transformer should be the\n",
        "  # english start token.\n",
        "  decoder_input_dt = [tokenizer_date.vocab_size]\n",
        "  output_dt = tf.expand_dims(decoder_input_dt, 0)\n",
        "  decoder_input_amt = [tokenizer_amount.vocab_size]\n",
        "  output_amt = tf.expand_dims(decoder_input_amt, 0)\n",
        "    \n",
        "  for i in range(MAX_LENGTH):\n",
        "    enc_padding_mask, combined_mask_dt, dec_padding_mask, combined_mask_amt = create_masks(\n",
        "        encoder_input, output_dt, output_amt)\n",
        "  \n",
        "    # predictions.shape == (batch_size, seq_len, vocab_size)\n",
        "    predictions_dt, attention_weights_dt, predictions_amt, attention_weights_amt = transformer(encoder_input, \n",
        "                                                 output_dt,\n",
        "                                                 output_amt,\n",
        "                                                 False,\n",
        "                                                 enc_padding_mask,\n",
        "                                                 combined_mask_dt,\n",
        "                                                 combined_mask_amt,\n",
        "                                                 dec_padding_mask)\n",
        "    \n",
        "    # select the last word from the seq_len dimension\n",
        "    predictions_dt = predictions_dt[: ,-1:, :]  # (batch_size, 1, vocab_size)\n",
        "    predictions_amt = predictions_amt[: ,-1:, :]\n",
        "\n",
        "    predicted_id_dt = tf.cast(tf.argmax(predictions_dt, axis=-1), tf.int32)\n",
        "    predicted_id_amt = tf.cast(tf.argmax(predictions_amt, axis=-1), tf.int32)\n",
        "    \n",
        "    # return the result if the predicted_id is equal to the end token\n",
        "    if predicted_id_dt == tokenizer_date.vocab_size+1:\n",
        "      return tf.squeeze(output_dt, axis=0), attention_weights_dt\n",
        "    \n",
        "    # concatentate the predicted_id to the output which is given to the decoder\n",
        "    # as its input.\n",
        "    output_dt = tf.concat([output_dt, predicted_id_dt], axis=-1)\n",
        "\n",
        "  return tf.squeeze(output_dt, axis=0), attention_weights_dt"
      ],
      "execution_count": 0,
      "outputs": []
    },
    {
      "cell_type": "code",
      "metadata": {
        "ExecuteTime": {
          "start_time": "2019-11-10T06:32:19.589Z"
        },
        "colab_type": "code",
        "id": "CN-BV43FMBej",
        "pycharm": {
          "is_executing": false
        },
        "colab": {}
      },
      "source": [
        "def plot_attention_weights(attention, sentence, result, layer):\n",
        "  fig = plt.figure(figsize=(16, 8))\n",
        "  \n",
        "  sentence = tokenizer_ocr.encode(sentence)\n",
        "  \n",
        "  attention = tf.squeeze(attention[layer], axis=0)\n",
        "  \n",
        "  for head in range(attention.shape[0]):\n",
        "    ax = fig.add_subplot(2, 4, head+1)\n",
        "    \n",
        "    # plot the attention weights\n",
        "    ax.matshow(attention[head][:-1, :], cmap='viridis')\n",
        "\n",
        "    fontdict = {'fontsize': 10}\n",
        "    \n",
        "    ax.set_xticks(range(len(sentence)+2))\n",
        "    ax.set_yticks(range(len(result)))\n",
        "    \n",
        "    ax.set_ylim(len(result)-1.5, -0.5)\n",
        "        \n",
        "    ax.set_xticklabels(\n",
        "        ['<start>']+[tokenizer_ocr.decode([i]) for i in sentence]+['<end>'], \n",
        "        fontdict=fontdict, rotation=90)\n",
        "    \n",
        "    ax.set_yticklabels([tokenizer_date.decode([i]) for i in result \n",
        "                        if i < tokenizer_date.vocab_size], \n",
        "                       fontdict=fontdict)\n",
        "    \n",
        "    ax.set_xlabel('Head {}'.format(head+1))\n",
        "  \n",
        "  plt.tight_layout()\n",
        "  plt.show()"
      ],
      "execution_count": 0,
      "outputs": []
    },
    {
      "cell_type": "code",
      "metadata": {
        "ExecuteTime": {
          "start_time": "2019-11-10T06:32:19.591Z"
        },
        "colab_type": "code",
        "id": "lU2_yG_vBGza",
        "pycharm": {
          "is_executing": false
        },
        "colab": {}
      },
      "source": [
        "def translate(ocr, plot='', log=True):\n",
        "  enc_result, attention_weights = evaluate(ocr)\n",
        "  \n",
        "  result = tokenizer_date.decode([i for i in enc_result \n",
        "                                            if i < tokenizer_date.vocab_size])  \n",
        "  \n",
        "  if plot:\n",
        "    plot_attention_weights(attention_weights, ocr, enc_result, plot)\n",
        "\n",
        "  if log:\n",
        "    print('Input: {}'.format(ocr))\n",
        "    print('Predicted date: {}'.format(result))\n",
        "  else:\n",
        "    return result"
      ],
      "execution_count": 0,
      "outputs": []
    },
    {
      "cell_type": "code",
      "metadata": {
        "ExecuteTime": {
          "start_time": "2019-11-10T06:32:19.593Z"
        },
        "colab_type": "code",
        "id": "YsxrAlvFG8SZ",
        "pycharm": {
          "is_executing": false
        },
        "scrolled": false,
        "colab": {}
      },
      "source": [
        "translate(\"* 0KQ8 OK DETALJHANDEL AB ORG NR: 556029-4588 37548 Servogatan 12 SE-19560 TEL NR: 08-59113055  Arlandastad  Belopp 18,00 19,00 37.00 kr 37,00 kr BRUTTO 37,00  Antal  Beskrivning #w#m #W# ■** Aria Kvarg Mild 0,2% 250g Varm Dryck Li ten  1  1  EuroCard:  NETTO MOMS 33,04 3,96  MOMS %  12%  20:30 SEK 37,00  2017-12-18  KOP  EuroCard Butiksnr: 134890 Cal 7 000 SWE 746784 REF.NR :  Termid: 37548122  Personlig kod 375481223988 A0000000041010 0000001000  AID  TVR  6800  TSI  KASSÖRENS NAMN: F, Erik DATUM: 2017-12-18 TRAN: 245569  110:20:30:36 KASSA NR:  2  TACK FOR BESOKET VAEKOMMEN ATER\")"
      ],
      "execution_count": 0,
      "outputs": []
    },
    {
      "cell_type": "markdown",
      "metadata": {
        "colab_type": "text",
        "id": "_1MxkSZvz0jX"
      },
      "source": [
        "You can pass different layers and attention blocks of the decoder to the `plot` parameter."
      ]
    },
    {
      "cell_type": "code",
      "metadata": {
        "id": "ubyeeQ-sOMXw",
        "colab_type": "code",
        "colab": {}
      },
      "source": [
        "translate(\"EURMWST 19,00% A9,04 EUR 56,60 EUR# 29/02/2021\", plot='decoder_layer2_block2')"
      ],
      "execution_count": 0,
      "outputs": []
    },
    {
      "cell_type": "code",
      "metadata": {
        "ExecuteTime": {
          "start_time": "2019-11-10T06:32:19.596Z"
        },
        "colab_type": "code",
        "id": "t-kFyiOLH0xg",
        "pycharm": {
          "is_executing": false
        },
        "colab": {}
      },
      "source": [
        "#!tar -czvf checkpoints.tar.gz checkpoints"
      ],
      "execution_count": 0,
      "outputs": []
    },
    {
      "cell_type": "code",
      "metadata": {
        "id": "FsKGQ8277SXg",
        "colab_type": "code",
        "colab": {}
      },
      "source": [
        "from tqdm.notebook import tqdm\n",
        "\n",
        "validation_set_num = 1500\n",
        "date_pred = []\n",
        "date_gt = []\n",
        "ocr_text = []\n",
        "pbar = tqdm(total=validation_set_num)\n",
        "\n",
        "for index, row in testing_df[:validation_set_num].iterrows():\n",
        "  try:\n",
        "    date_pred.append(translate(row[\"ocr_text\"], log=False))\n",
        "    date_gt.append(row[\"date\"])\n",
        "    ocr_text.append(row[\"ocr_text\"])\n",
        "  except Exception:\n",
        "    continue\n",
        "\n",
        "  pbar.update()"
      ],
      "execution_count": 0,
      "outputs": []
    },
    {
      "cell_type": "code",
      "metadata": {
        "id": "Fyni3wxy7xqz",
        "colab_type": "code",
        "colab": {}
      },
      "source": [
        "df_result = pd.DataFrame()\n",
        "df_result[\"dt_pred\"] = date_pred\n",
        "df_result[\"dt_gt\"] = date_gt\n",
        "df_result[\"ocr_text\"] = ocr_text"
      ],
      "execution_count": 0,
      "outputs": []
    },
    {
      "cell_type": "code",
      "metadata": {
        "id": "1PiFAM1Q8Unj",
        "colab_type": "code",
        "colab": {}
      },
      "source": [
        "df_result[\"dt_correct\"] = df_result[\"dt_pred\"] == df_result[\"dt_gt\"]\n",
        "df_result[\"dt_correct_mnt_day\"] = df_result.apply(lambda x: \"-\".join(x[\"dt_pred\"].split(\"-\")[1:3]) == \"-\".join(x[\"dt_gt\"].split(\"-\")[1:3]), axis=1)\n",
        "df_result[\"dt_correct_day\"] = df_result.apply(lambda x: \"-\".join(x[\"dt_pred\"].split(\"-\")[2:3]) == \"-\".join(x[\"dt_gt\"].split(\"-\")[2:3]), axis=1)\n",
        "df_result[\"dt_correct_month\"] = df_result.apply(lambda x: \"-\".join(x[\"dt_pred\"].split(\"-\")[1:2]) == \"-\".join(x[\"dt_gt\"].split(\"-\")[1:2]), axis=1)\n",
        "df_result[\"dt_correct_year\"] = df_result.apply(lambda x: \"-\".join(x[\"dt_pred\"].split(\"-\")[0:1]) == \"-\".join(x[\"dt_gt\"].split(\"-\")[0:1]), axis=1)"
      ],
      "execution_count": 0,
      "outputs": []
    },
    {
      "cell_type": "code",
      "metadata": {
        "id": "uoh2fNKS8XKi",
        "colab_type": "code",
        "colab": {}
      },
      "source": [
        "print(f\"Date Accuracy  {df_result['dt_correct'].mean()}\")\n",
        "print(f\"Month-Day Accuracy {df_result['dt_correct_mnt_day'].mean()}\")\n",
        "print(f\"Day Accuracy {df_result['dt_correct_day'].mean()}\")\n",
        "print(f\"Month Accuracy {df_result['dt_correct_month'].mean()}\")\n",
        "print(f\"Year Accuracy {df_result['dt_correct_year'].mean()}\")"
      ],
      "execution_count": 0,
      "outputs": []
    },
    {
      "cell_type": "code",
      "metadata": {
        "id": "RCnJ1Cqi8ZZp",
        "colab_type": "code",
        "colab": {}
      },
      "source": [
        "pd.set_option('display.max_colwidth', -1)\n",
        "\n",
        "df_result[df_result[\"dt_correct\"] == False].tail(20)"
      ],
      "execution_count": 0,
      "outputs": []
    }
  ]
}